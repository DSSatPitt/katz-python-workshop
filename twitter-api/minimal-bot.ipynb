{
 "cells": [
  {
   "cell_type": "code",
   "execution_count": null,
   "metadata": {
    "collapsed": true
   },
   "outputs": [],
   "source": [
    "#!/usr/bin/env python\n",
    "# -*- coding: utf-8 -*-\n",
    "\n",
    "#\n",
    "\n",
    "# Import the python libraries we need to \n",
    "import time\n",
    "import tweepy\n",
    "\n",
    "\n",
    "\n",
    "## Authentication Boilerplate\n",
    "\n",
    "# Be sure to paste your keys and tokens in here because it won't work otherwise!\n",
    "CONSUMER_KEY = \"INSERT KEY HERE\"\n",
    "CONSUMER_SECRET = \"INSERT SECRET HERE\"\n",
    "ACCESS_KEY = \"INSERT ACCESS KEY\"\n",
    "ACCESS_SECRET = \"INSERT SECRET HERE\"\n",
    "\n",
    "\n",
    "# Send our keys and tokens to Twitter\n",
    "credentials = tweepy.OAuthHandler(CONSUMER_KEY, CONSUMER_SECRET)\n",
    "credentials.set_access_token(ACCESS_KEY, ACCESS_SECRET)\n",
    "\n",
    "# Authenticate with Twitter to get access\n",
    "the_twitter_api = tweepy.API(credentials)\n",
    "\n",
    "\n",
    "## Put the code that defines the bot's behavior below\n",
    "\n",
    "something = \"Text to be automatically tweeted.\"\n",
    "\n",
    "\n",
    "\n",
    "# Tweet something \n",
    "# Note: this design means the bot quits after tweeting instead of running continuously\n",
    "the_twitter_api.update_status(status=something)\n",
    "\n"
   ]
  }
 ],
 "metadata": {
  "kernelspec": {
   "display_name": "Python 3",
   "language": "python",
   "name": "python3"
  },
  "language_info": {
   "codemirror_mode": {
    "name": "ipython",
    "version": 3
   },
   "file_extension": ".py",
   "mimetype": "text/x-python",
   "name": "python",
   "nbconvert_exporter": "python",
   "pygments_lexer": "ipython3",
   "version": "3.4.2"
  }
 },
 "nbformat": 4,
 "nbformat_minor": 0
}
