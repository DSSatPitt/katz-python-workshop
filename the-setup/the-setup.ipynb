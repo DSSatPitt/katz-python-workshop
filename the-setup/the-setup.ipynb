{
 "metadata": {
  "name": "",
  "signature": "sha256:759442bbe10577674a5b5c8526ee08539bc024f6c682292dde0aa0fae0a9b02d"
 },
 "nbformat": 3,
 "nbformat_minor": 0,
 "worksheets": [
  {
   "cells": [
    {
     "cell_type": "heading",
     "level": 1,
     "metadata": {},
     "source": [
      "The Setup"
     ]
    },
    {
     "cell_type": "markdown",
     "metadata": {},
     "source": [
      "Author: Matt Burton"
     ]
    },
    {
     "cell_type": "heading",
     "level": 3,
     "metadata": {},
     "source": [
      "Welcome to the ICOS Big Data Summer Camp! "
     ]
    },
    {
     "cell_type": "markdown",
     "metadata": {},
     "source": [
      "This session is going to be dedicated to getting your computer ready for the week. We will be installing two tools:\n",
      "\n",
      "* [Anaconda CE](https://store.continuum.io/cshop/anaconda/) - a python distribution specially made for scientific computing and analysis\n",
      "* [SQLite Manager](https://addons.mozilla.org/en-US/firefox/addon/sqlite-manager/) - a Firefox plugin that adds a GUI to a SQLite database\n"
     ]
    },
    {
     "cell_type": "markdown",
     "metadata": {},
     "source": [
      "***"
     ]
    },
    {
     "cell_type": "heading",
     "level": 1,
     "metadata": {},
     "source": [
      "Installing SQLite Manager"
     ]
    },
    {
     "cell_type": "markdown",
     "metadata": {},
     "source": [
      "Do you have the Firefox browser installed? If not, [go here and download it](http://www.mozilla.org/en-US/firefox/new/)."
     ]
    },
    {
     "cell_type": "markdown",
     "metadata": {},
     "source": [
      "Once you've downloaded Firefox, launch it and visit the [SQLite Manager install page](https://addons.mozilla.org/en-US/firefox/addon/sqlite-manager/) and click the \"Add to Firefox\" button."
     ]
    },
    {
     "cell_type": "markdown",
     "metadata": {},
     "source": [
      "![SQLite Manager plugin install page](sqlite-manager-install.png)"
     ]
    },
    {
     "cell_type": "markdown",
     "metadata": {},
     "source": [
      "Once you have installed the plugin you will be asked to restart Firefox. Once you've restarted you'll have the SQLite Manager plugin installed!"
     ]
    },
    {
     "cell_type": "markdown",
     "metadata": {},
     "source": [
      "To launch SQLite Manger go to the **Tools** menu and select **SQLite Manager**. A new window should pop open which is a graphical interface for interacting with an SQLite database file on your machine."
     ]
    },
    {
     "cell_type": "markdown",
     "metadata": {},
     "source": [
      "![SQLite Manager interface](sqlite-manager.png)"
     ]
    },
    {
     "cell_type": "heading",
     "level": 3,
     "metadata": {},
     "source": [
      "It worked!"
     ]
    },
    {
     "cell_type": "markdown",
     "metadata": {},
     "source": [
      "***"
     ]
    },
    {
     "cell_type": "heading",
     "level": 1,
     "metadata": {},
     "source": [
      "Installing Anaconda"
     ]
    },
    {
     "cell_type": "markdown",
     "metadata": {},
     "source": [
      "First, visit the Anaconda CE Download page and download the distribution for your operating system."
     ]
    },
    {
     "cell_type": "markdown",
     "metadata": {},
     "source": [
      "http://continuum.io/downloads"
     ]
    },
    {
     "cell_type": "markdown",
     "metadata": {},
     "source": [
      "If you are running Windows you need to know if you are running the 32bit or 64bit version.\n",
      "\n",
      "### If you are using Windows 7, Vista or XP\n",
      "\n",
      "* [Is my PC running the 32-bit or 64-bit version of Windows 7?](http://windows.microsoft.com/en-us/windows7/find-out-32-or-64-bit)\n",
      "\n",
      "### If you are running Windows 8 or 8.1\n",
      "\n",
      "* [How to tell if you are running the 32-bit or 64-bit version of Windows 8](http://pcsupport.about.com/od/windows-8/a/windows-8-64-bit-32-bit.htm)\n"
     ]
    },
    {
     "cell_type": "heading",
     "level": 2,
     "metadata": {},
     "source": [
      "Using Anaconda"
     ]
    },
    {
     "cell_type": "markdown",
     "metadata": {},
     "source": [
      "Anaconda installs its own Python distribution with libraries and executables. It will **not** interfer with any existing Python stuff you've already installed. However, it will put the Anaconda stuff on your local PATH (if you don't know what that means, don't worry). "
     ]
    },
    {
     "cell_type": "markdown",
     "metadata": {},
     "source": [
      "The first thing we want to do after installing Anaconda is run the Anaconda Launcher app and install the IPython Notebook. \n",
      "- On Mac, double click the Launcher.app, found in your ~/anaconda directory (or wherever you installed Anaconda).\n",
      "![OSX Screen shot](OSX-anaconda-launcher.png)\n",
      "- On Windows, you\u2019ll \ufb01nd Launcher in your Start Menu.\n",
      "![Windows Screen shot](windows-8-anaconda-launcher.png)\n",
      "\n",
      "\n"
     ]
    },
    {
     "cell_type": "markdown",
     "metadata": {},
     "source": [
      "For the first time (when you want to install the IPython notebook), Right-Click and 'Run as Administrator. Otherwise, the installation may hang without an error. (Props to Dan Rush)"
     ]
    },
    {
     "cell_type": "markdown",
     "metadata": {},
     "source": [
      "![Starting Anaconda with administrator](windows-admin.png)"
     ]
    },
    {
     "cell_type": "markdown",
     "metadata": {},
     "source": [
      "![Anaconda Launcher](anaconda-launcher.png)"
     ]
    },
    {
     "cell_type": "markdown",
     "metadata": {},
     "source": [
      "Now *click* the \"install\" button for the IPython Notebook. This will automatically download the latest version of the IPython library and install it within your Anaconda distribution. Once it is installed, the button will change to \"launch.\" Clicking this button will start up the IPython Notebook!"
     ]
    },
    {
     "cell_type": "markdown",
     "metadata": {},
     "source": [
      "![launching the IPython Notebook from the Anaconda Launcher](anaconda-launcher-launch.png)"
     ]
    },
    {
     "cell_type": "heading",
     "level": 1,
     "metadata": {},
     "source": [
      "Installing a Text Editor"
     ]
    },
    {
     "cell_type": "markdown",
     "metadata": {},
     "source": [
      "You will need what is called a \"plain text editor\" for writing code. You can't use a regular word processor like Microsoft Word to write code because that would be insane.\n",
      "\n",
      "Instead we urge you to use a plain text editor. What editor you use is a deeply personal decision:\n",
      "\n",
      "* http://www.sublimetext.com (OSX, Windows, Linux)\n",
      "* https://atom.io/ (OSX Only)\n",
      "* http://notepad-plus-plus.org/ (Windows)\n",
      "* http://www.barebones.com/products/textwrangler/ (OSX)"
     ]
    },
    {
     "cell_type": "markdown",
     "metadata": {},
     "source": [
      "Congratulations, you have got all the necessary software installed to participate in the summer camp!"
     ]
    },
    {
     "cell_type": "markdown",
     "metadata": {},
     "source": [
      "***"
     ]
    },
    {
     "cell_type": "markdown",
     "metadata": {},
     "source": [
      "<a rel=\"license\" href=\"http://creativecommons.org/licenses/by/4.0/\"><img alt=\"Creative Commons License\" style=\"border-width:0\" src=\"http://i.creativecommons.org/l/by/4.0/80x15.png\" /></a><br />This work is licensed under a <a rel=\"license\" href=\"http://creativecommons.org/licenses/by/4.0/\">Creative Commons Attribution 4.0 International License</a>."
     ]
    }
   ],
   "metadata": {}
  }
 ]
}