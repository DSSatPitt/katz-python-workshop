{
 "cells": [
  {
   "cell_type": "markdown",
   "metadata": {},
   "source": [
    "# The Setup"
   ]
  },
  {
   "cell_type": "markdown",
   "metadata": {},
   "source": [
    "Author: Matt Burton, Aaron Brenner"
   ]
  },
  {
   "cell_type": "markdown",
   "metadata": {},
   "source": [
    "# Welcome to the Introduction to Collecting Web Data with Python workhop! "
   ]
  },
  {
   "cell_type": "markdown",
   "metadata": {},
   "source": [
    "This session is dedicated to getting your computer ready for the workshop. \n",
    "\n",
    "We will be using a bundle of tools and technologies that includes the Python language, several third-party code libraries, and an interactive computational notebook platform called Jupyter. All of these components are available in a an freely-available data science package called Anaconda.\n",
    "    \n",
    "If you are using a lab machine, you will already have Anaconda installed. If you are using your own machine now (or later), you can follow these instructions to download and install Anaconda on your personal device.\n"
   ]
  },
  {
   "cell_type": "markdown",
   "metadata": {},
   "source": [
    "## Installing Anaconda"
   ]
  },
  {
   "cell_type": "markdown",
   "metadata": {},
   "source": [
    "First, visit the Anaconda CE Download page and download the distribution for your operating system. We will be using the Python 3.5 distribution."
   ]
  },
  {
   "cell_type": "markdown",
   "metadata": {},
   "source": [
    "http://continuum.io/downloads"
   ]
  },
  {
   "cell_type": "markdown",
   "metadata": {},
   "source": [
    "If you are running Windows you need to know if you are running the 32bit or 64bit version.\n",
    "\n",
    "### If you are using Windows 7, Vista or XP\n",
    "\n",
    "* [Is my PC running the 32-bit or 64-bit version of Windows 7?](http://windows.microsoft.com/en-us/windows7/find-out-32-or-64-bit)\n",
    "\n",
    "### If you are running Windows 8, 8.1, or 10\n",
    "\n",
    "* [How to tell if you are running the 32-bit or 64-bit version of Windows 8](http://pcsupport.about.com/od/windows-8/a/windows-8-64-bit-32-bit.htm)\n"
   ]
  },
  {
   "cell_type": "markdown",
   "metadata": {},
   "source": [
    "## Using Anaconda"
   ]
  },
  {
   "cell_type": "markdown",
   "metadata": {},
   "source": [
    "Anaconda installs its own Python distribution with libraries and executables. It will **not** interfere with any existing Python stuff you've already installed. However, it will put the Anaconda stuff on your local PATH (if you don't know what that means, don't worry). "
   ]
  },
  {
   "cell_type": "markdown",
   "metadata": {},
   "source": [
    "The first thing we want to do after installing Anaconda is run the Anaconda Launcher app and install the IPython Notebook. \n",
    "- On Mac, double click the Launcher.app, found in your ~/anaconda directory (or wherever you installed Anaconda).\n",
    "![OSX Screen shot](OSX-anaconda-launcher.png)\n",
    "- On Windows, you’ll ﬁnd Launcher in your Start Menu.\n",
    "![Windows Screen shot](windows-8-anaconda-launcher.png)\n",
    "\n",
    "\n"
   ]
  },
  {
   "cell_type": "markdown",
   "metadata": {},
   "source": [
    "For the first time (when you want to install the IPython notebook), Right-Click and 'Run as Administrator. Otherwise, the installation may hang without an error. (Props to Dan Rush)"
   ]
  },
  {
   "cell_type": "markdown",
   "metadata": {},
   "source": [
    "![Starting Anaconda with administrator](windows-admin.png)"
   ]
  },
  {
   "cell_type": "markdown",
   "metadata": {},
   "source": [
    "![Anaconda Launcher](anaconda-launcher.png)"
   ]
  },
  {
   "cell_type": "markdown",
   "metadata": {},
   "source": [
    "Now *click* the \"install\" button for the IPython Notebook. This will automatically download the latest version of the IPython library and install it within your Anaconda distribution. Once it is installed, the button will change to \"launch.\" Clicking this button will start up the IPython Notebook!"
   ]
  },
  {
   "cell_type": "markdown",
   "metadata": {},
   "source": [
    "![launching the IPython Notebook from the Anaconda Launcher](anaconda_launcher.png)"
   ]
  },
  {
   "cell_type": "markdown",
   "metadata": {},
   "source": [
    "***"
   ]
  },
  {
   "cell_type": "markdown",
   "metadata": {},
   "source": [
    "<a rel=\"license\" href=\"http://creativecommons.org/licenses/by/4.0/\"><img alt=\"Creative Commons License\" style=\"border-width:0\" src=\"http://i.creativecommons.org/l/by/4.0/80x15.png\" /></a><br />This work is licensed under a <a rel=\"license\" href=\"http://creativecommons.org/licenses/by/4.0/\">Creative Commons Attribution 4.0 International License</a>."
   ]
  }
 ],
 "metadata": {
  "kernelspec": {
   "display_name": "Python 3",
   "language": "python",
   "name": "python3"
  },
  "language_info": {
   "codemirror_mode": {
    "name": "ipython",
    "version": 3
   },
   "file_extension": ".py",
   "mimetype": "text/x-python",
   "name": "python",
   "nbconvert_exporter": "python",
   "pygments_lexer": "ipython3",
   "version": "3.5.1"
  }
 },
 "nbformat": 4,
 "nbformat_minor": 0
}
