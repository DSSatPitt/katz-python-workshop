{
 "metadata": {
  "name": "",
  "signature": "sha256:7227db8ac82d3c46be22c2af2a96d35b4bbfba3b23365382a43f0d2d648cf165"
 },
 "nbformat": 3,
 "nbformat_minor": 0,
 "worksheets": [
  {
   "cells": [
    {
     "cell_type": "heading",
     "level": 1,
     "metadata": {},
     "source": [
      "In the Beginning was the Command Line"
     ]
    },
    {
     "cell_type": "markdown",
     "metadata": {},
     "source": [
      "Author: Matt Burton"
     ]
    },
    {
     "cell_type": "heading",
     "level": 1,
     "metadata": {},
     "source": [
      "Getting to the Command line"
     ]
    },
    {
     "cell_type": "heading",
     "level": 3,
     "metadata": {},
     "source": [
      "On OSX"
     ]
    },
    {
     "cell_type": "markdown",
     "metadata": {},
     "source": [
      "![OSX Terminal Location](terminal-location.png)"
     ]
    },
    {
     "cell_type": "heading",
     "level": 3,
     "metadata": {},
     "source": [
      "On Windows (using Anaconda)"
     ]
    },
    {
     "cell_type": "markdown",
     "metadata": {},
     "source": [
      "![Anaconda Terminal Location](anaconda-command-line.png)"
     ]
    },
    {
     "cell_type": "heading",
     "level": 1,
     "metadata": {},
     "source": [
      "Moving around"
     ]
    },
    {
     "cell_type": "heading",
     "level": 2,
     "metadata": {},
     "source": [
      "The *directory tree*"
     ]
    },
    {
     "cell_type": "markdown",
     "metadata": {},
     "source": [
      "![The Directory Tree](dir-tree.png)"
     ]
    },
    {
     "cell_type": "heading",
     "level": 3,
     "metadata": {},
     "source": [
      "Except *in your head*"
     ]
    },
    {
     "cell_type": "markdown",
     "metadata": {},
     "source": [
      "![terminal](terminal.png)"
     ]
    },
    {
     "cell_type": "heading",
     "level": 1,
     "metadata": {},
     "source": [
      "Four commands to move around a (unix) command line"
     ]
    },
    {
     "cell_type": "heading",
     "level": 3,
     "metadata": {},
     "source": [
      "`pwd` - To print working directory (OSX/Linux only)"
     ]
    },
    {
     "cell_type": "markdown",
     "metadata": {},
     "source": [
      "    pilemian:2014-summer-camp mcburton$ pwd\n",
      "    /Users/mcburton/Dropbox/si/bigdatabootcamp/2014-summer-camp"
     ]
    },
    {
     "cell_type": "heading",
     "level": 3,
     "metadata": {},
     "source": [
      "`ls` (OSX) to `dir` (Windows) - To list directory contents"
     ]
    },
    {
     "cell_type": "markdown",
     "metadata": {},
     "source": [
      "```\n",
      "pilemian:2014-summer-camp mcburton$ ls\n",
      "LICENSE.md\t_config.yml\t_layouts\tcss\t\tindex.html\tsetup\n",
      "README.md\t_includes\t_site\t\timg\t\tjs\t\tslides\n",
      "pilemian:2014-summer-camp mcburton$ \n",
      "```"
     ]
    },
    {
     "cell_type": "heading",
     "level": 4,
     "metadata": {},
     "source": [
      "Use the `-l` parameter to do a long listing"
     ]
    },
    {
     "cell_type": "markdown",
     "metadata": {},
     "source": [
      "```\n",
      "pilemian:2014-summer-camp mcburton$ ls -l\n",
      "total 40\n",
      "-rw-r--r--   1 mcburton  staff  2838 Apr 24 15:14 LICENSE.md\n",
      "-rw-r--r--   1 mcburton  staff   248 Apr 24 22:20 README.md\n",
      "-rw-r--r--   1 mcburton  staff   321 Apr 24 16:06 _config.yml\n",
      "drwxr-xr-x   7 mcburton  staff   238 Apr 24 15:14 _includes\n",
      "drwxr-xr-x   4 mcburton  staff   136 Apr 24 16:57 _layouts\n",
      "drwxr-xr-x  11 mcburton  staff   374 May 19 09:22 _site\n",
      "drwxr-xr-x   6 mcburton  staff   204 Apr 24 17:20 css\n",
      "drwxr-xr-x   9 mcburton  staff   306 May  9 12:10 img\n",
      "-rw-r--r--   1 mcburton  staff  6717 May 18 22:00 index.html\n",
      "drwxr-xr-x   4 mcburton  staff   136 Apr 24 15:14 js\n",
      "drwxr-xr-x  16 mcburton  staff   544 May 18 22:17 setup\n",
      "drwxr-xr-x   5 mcburton  staff   170 May 18 21:48 slides\n",
      "pilemian:2014-summer-camp mcburton$ \n",
      "```"
     ]
    },
    {
     "cell_type": "heading",
     "level": 4,
     "metadata": {},
     "source": [
      "The `dir` command on Windows does a long listing automatically"
     ]
    },
    {
     "cell_type": "markdown",
     "metadata": {},
     "source": [
      "```\n",
      "C:\\Users\\mcburton>dir\n",
      " Volume in drive C has no label.\n",
      " Volume Serial Number is 2E3D-5F00\n",
      "\n",
      " Directory of C:\\Users\\mcburton\n",
      "\n",
      "05/15/2014  01:24 AM    <DIR>          .\n",
      "05/15/2014  01:24 AM    <DIR>          ..\n",
      "05/14/2014  02:17 PM    <DIR>          .continuum\n",
      "05/14/2014  06:59 PM    <DIR>          .ipython\n",
      "05/14/2014  06:56 PM    <DIR>          .matplotlib\n",
      "05/14/2014  07:42 PM    <DIR>          Anaconda\n",
      "05/14/2014  01:56 PM    <DIR>          Contacts\n",
      "05/15/2014  12:31 AM    <DIR>          Desktop\n",
      "05/15/2014  01:24 AM                 0 dir\n",
      "05/14/2014  02:17 PM    <DIR>          Documents\n",
      "05/15/2014  12:31 AM    <DIR>          Downloads\n",
      "05/14/2014  01:56 PM    <DIR>          Favorites\n",
      "05/14/2014  01:56 PM    <DIR>          Links\n",
      "05/14/2014  01:56 PM    <DIR>          Music\n",
      "05/14/2014  01:56 PM    <DIR>          Pictures\n",
      "05/15/2014  01:24 AM                 0 Saved\n",
      "05/14/2014  01:56 PM    <DIR>          Saved Games\n",
      "05/14/2014  01:56 PM    <DIR>          Searches\n",
      "05/14/2014  01:56 PM    <DIR>          Videos\n",
      "               2 File(s)              0 bytes\n",
      "              17 Dir(s)  12,957,863,936 bytes free\n",
      "```"
     ]
    },
    {
     "cell_type": "heading",
     "level": 3,
     "metadata": {},
     "source": [
      "`cd <filepath>` - To change directory"
     ]
    },
    {
     "cell_type": "markdown",
     "metadata": {},
     "source": [
      "```\n",
      "pilemian:2014-summer-camp mcburton$ pwd\n",
      "/Users/mcburton/Dropbox/si/bigdatabootcamp/2014-summer-camp\n",
      "...\n",
      "pilemian:2014-summer-camp mcburton$ cd setup\n",
      "pilemian:setup mcburton$ \n",
      "...\n",
      "pilemian:setup mcburton$ pwd\n",
      "/Users/mcburton/Dropbox/si/bigdatabootcamp/2014-summer-camp/setup\n",
      "```"
     ]
    },
    {
     "cell_type": "heading",
     "level": 3,
     "metadata": {},
     "source": [
      "`mv <existing filepath> <desired filepath>` - To move files (OSX)"
     ]
    },
    {
     "cell_type": "heading",
     "level": 3,
     "metadata": {},
     "source": [
      "`move <existing filepath> <desired filepath>` - To move files (Windows)"
     ]
    },
    {
     "cell_type": "heading",
     "level": 2,
     "metadata": {},
     "source": [
      "File Paths"
     ]
    },
    {
     "cell_type": "heading",
     "level": 3,
     "metadata": {},
     "source": [
      "`/foo/bar` - the *bar* is a subdirectory of *foo*"
     ]
    },
    {
     "cell_type": "markdown",
     "metadata": {},
     "source": [
      "`/Users/mcburton/Dropbox/si/bigdatabootcamp/2014-summer-camp/setup`"
     ]
    },
    {
     "cell_type": "heading",
     "level": 3,
     "metadata": {},
     "source": [
      "\"`..`\" - means up/back one directory"
     ]
    },
    {
     "cell_type": "markdown",
     "metadata": {},
     "source": [
      "```\n",
      "pilemian:setup mcburton$ pwd\n",
      "/Users/mcburton/Dropbox/si/bigdatabootcamp/2014-summer-camp/setup\n",
      "\n",
      "pilemian:setup mcburton$ ls -l\n",
      "total 3280\n",
      "-rw-r--r--@ 1 mcburton  staff  218212 May 16 12:31 OSX-anaconda-launcher.png\n",
      "-rw-r--r--@ 1 mcburton  staff  175418 May 18 22:17 anaconda-command-line.png\n",
      "-rw-r--r--@ 1 mcburton  staff  113444 May 16 12:37 anaconda-launcher-launch.png\n",
      "-rw-r--r--@ 1 mcburton  staff  114809 May 16 12:38 anaconda-launcher.png\n",
      "-rw-r--r--@ 1 mcburton  staff   77454 May 18 22:07 dir-tree.png\n",
      "-rw-r--r--@ 1 mcburton  staff  244584 May 16 14:17 sqlite-manager-install.png\n",
      "-rw-r--r--@ 1 mcburton  staff   79532 May 16 14:25 sqlite-manager.png\n",
      "-rw-r--r--@ 1 mcburton  staff  253725 May 18 22:15 terminal-location.png\n",
      "-rw-r--r--@ 1 mcburton  staff   44467 May 18 22:09 terminal.png\n",
      "-rw-r--r--  1 mcburton  staff    8531 May 19 09:40 the-command-line.ipynb\n",
      "-rw-r--r--  1 mcburton  staff    6787 May 18 13:13 the-setup.ipynb\n",
      "-rw-r--r--@ 1 mcburton  staff  277489 May 16 12:33 windows-8-anaconda-launcher.png\n",
      "-rw-r--r--@ 1 mcburton  staff   41325 May 19 09:33 windows-commands.png\n",
      "\n",
      "pilemian:setup mcburton$ cd ..\n",
      "\n",
      "pilemian:2014-summer-camp mcburton$ pwd\n",
      "/Users/mcburton/Dropbox/si/bigdatabootcamp/2014-summer-camp\n",
      "\n",
      "pilemian:2014-summer-camp mcburton$ ls -l\n",
      "total 40\n",
      "-rw-r--r--   1 mcburton  staff  2838 Apr 24 15:14 LICENSE.md\n",
      "-rw-r--r--   1 mcburton  staff   248 Apr 24 22:20 README.md\n",
      "-rw-r--r--   1 mcburton  staff   321 Apr 24 16:06 _config.yml\n",
      "drwxr-xr-x   7 mcburton  staff   238 Apr 24 15:14 _includes\n",
      "drwxr-xr-x   4 mcburton  staff   136 Apr 24 16:57 _layouts\n",
      "drwxr-xr-x  11 mcburton  staff   374 May 19 09:40 _site\n",
      "drwxr-xr-x   6 mcburton  staff   204 Apr 24 17:20 css\n",
      "drwxr-xr-x   9 mcburton  staff   306 May  9 12:10 img\n",
      "-rw-r--r--   1 mcburton  staff  6717 May 18 22:00 index.html\n",
      "drwxr-xr-x   4 mcburton  staff   136 Apr 24 15:14 js\n",
      "drwxr-xr-x  17 mcburton  staff   578 May 19 09:33 setup\n",
      "drwxr-xr-x   5 mcburton  staff   170 May 18 21:48 slides\n",
      "\n",
      "```"
     ]
    },
    {
     "cell_type": "heading",
     "level": 1,
     "metadata": {},
     "source": [
      "Running the Python Interactive Interpreter"
     ]
    },
    {
     "cell_type": "markdown",
     "metadata": {},
     "source": [
      "```\n",
      "mcburton$ python\n",
      "Python 2.7.5 (default, Mar  9 2014, 22:15:05) \n",
      "[GCC 4.2.1 Compatible Apple LLVM 5.0 (clang-500.0.68)] on darwin\n",
      "Type \"help\", \"copyright\", \"credits\" or \"license\" for more information.\n",
      ">>> print('hello world')\n",
      "hello world\n",
      ">>> \n",
      "```"
     ]
    },
    {
     "cell_type": "code",
     "collapsed": false,
     "input": [],
     "language": "python",
     "metadata": {},
     "outputs": []
    },
    {
     "cell_type": "heading",
     "level": 1,
     "metadata": {},
     "source": [
      "Downloading and Running a Python script from the web"
     ]
    },
    {
     "cell_type": "markdown",
     "metadata": {},
     "source": [
      "Download this *really* simple python script\n",
      "* [http://ibug-um.github.io/2014-summer-camp/slides/hello-world.py](http://ibug-um.github.io/2014-summer-camp/setup/hello-world.py)"
     ]
    },
    {
     "cell_type": "heading",
     "level": 2,
     "metadata": {},
     "source": [
      "`python <filename>` - run the python script called `filename` in the current directory."
     ]
    },
    {
     "cell_type": "heading",
     "level": 3,
     "metadata": {},
     "source": [
      "Move, using the commands introduced above, to the directory where you downloaded `hello-world.py` then execute it with the `python` command.  "
     ]
    },
    {
     "cell_type": "markdown",
     "metadata": {},
     "source": [
      "```\n",
      "mcburton$ python hello-world.py \n",
      "Hello World\n",
      "1\n",
      "2\n",
      "```"
     ]
    },
    {
     "cell_type": "heading",
     "level": 1,
     "metadata": {},
     "source": [
      "Running the IPython Notebook"
     ]
    },
    {
     "cell_type": "markdown",
     "metadata": {},
     "source": [
      "    mcburton$ ipython notebook"
     ]
    },
    {
     "cell_type": "markdown",
     "metadata": {},
     "source": [
      "This spits out a bunch of gobbly gook into the terminal, but also launches a web browser."
     ]
    },
    {
     "cell_type": "markdown",
     "metadata": {},
     "source": [
      "![Ipython Notebook Tree](ipython-notebook-tree.png )"
     ]
    },
    {
     "cell_type": "heading",
     "level": 1,
     "metadata": {},
     "source": [
      "Ipython Notebooks are web-based Python interpreters that let you mix prose and code."
     ]
    },
    {
     "cell_type": "heading",
     "level": 3,
     "metadata": {},
     "source": [
      "Lab Notebooks for computational social science."
     ]
    },
    {
     "cell_type": "markdown",
     "metadata": {},
     "source": [
      "[Analysis of the Gaza-Israel 2012 crisis](http://nbviewer.ipython.org/gist/darribas/4121857)"
     ]
    },
    {
     "cell_type": "heading",
     "level": 2,
     "metadata": {},
     "source": [
      "Downloading and Running a IPython Notebook from the web"
     ]
    },
    {
     "cell_type": "markdown",
     "metadata": {},
     "source": [
      "[Running Code in the IPython Notebook](http://nbviewer.ipython.org/github/ipython/ipython/blob/master/examples/Notebook/Running%20Code.ipynb)"
     ]
    },
    {
     "cell_type": "heading",
     "level": 3,
     "metadata": {},
     "source": [
      "Click the download notebook button"
     ]
    },
    {
     "cell_type": "markdown",
     "metadata": {},
     "source": [
      "![NBviewer example](nbviewer-example.png)"
     ]
    }
   ],
   "metadata": {}
  }
 ]
}