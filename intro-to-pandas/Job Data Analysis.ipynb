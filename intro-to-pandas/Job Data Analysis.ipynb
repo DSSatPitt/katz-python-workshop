{
 "cells": [
  {
   "cell_type": "markdown",
   "metadata": {
    "deletable": true,
    "editable": true
   },
   "source": [
    "# Doing things with Pandas"
   ]
  },
  {
   "cell_type": "code",
   "execution_count": 2,
   "metadata": {
    "collapsed": true,
    "deletable": true,
    "editable": true
   },
   "outputs": [],
   "source": [
    "import pandas as pd\n",
    "%matplotlib inline"
   ]
  },
  {
   "cell_type": "code",
   "execution_count": 4,
   "metadata": {
    "collapsed": false,
    "deletable": true,
    "editable": true
   },
   "outputs": [
    {
     "data": {
      "text/html": [
       "<div>\n",
       "<table border=\"1\" class=\"dataframe\">\n",
       "  <thead>\n",
       "    <tr style=\"text-align: right;\">\n",
       "      <th></th>\n",
       "      <th>company_link</th>\n",
       "      <th>company_name</th>\n",
       "      <th>job_link</th>\n",
       "      <th>job_location</th>\n",
       "      <th>job_summary</th>\n",
       "      <th>job_title</th>\n",
       "    </tr>\n",
       "  </thead>\n",
       "  <tbody>\n",
       "    <tr>\n",
       "      <th>0</th>\n",
       "      <td>http://www.indeed.com/cmp/Allegheny-General-Ho...</td>\n",
       "      <td>Allegheny General Hospital</td>\n",
       "      <td>http://www.indeed.com/rc/clk?jk=805f6ed65b49dd...</td>\n",
       "      <td>Pittsburgh, PA</td>\n",
       "      <td>Allegheny Health Network’s clinical expertise ...</td>\n",
       "      <td>Research Data Analyst - Neurosurgery</td>\n",
       "    </tr>\n",
       "    <tr>\n",
       "      <th>1</th>\n",
       "      <td>http://www.indeed.com/cmp/Marathon-Oil</td>\n",
       "      <td>Marathon Petroleum Corporation</td>\n",
       "      <td>http://www.indeed.com/rc/clk?jk=b28767d68e08b1...</td>\n",
       "      <td>Findlay, OH</td>\n",
       "      <td>The vision for the Advanced Analytics team is ...</td>\n",
       "      <td>Data Scientist</td>\n",
       "    </tr>\n",
       "    <tr>\n",
       "      <th>2</th>\n",
       "      <td>http://www.indeed.com/cmp/Oracle</td>\n",
       "      <td>Oracle</td>\n",
       "      <td>http://www.indeed.com/rc/clk?jk=56e6eae3c307f9...</td>\n",
       "      <td>United States</td>\n",
       "      <td>The Cloud Data Curation team is looking for Sc...</td>\n",
       "      <td>Data Scientist 5</td>\n",
       "    </tr>\n",
       "    <tr>\n",
       "      <th>3</th>\n",
       "      <td>http://www.indeed.com/cmp/Google</td>\n",
       "      <td>Google</td>\n",
       "      <td>http://www.indeed.com/rc/clk?jk=35f4fa4d806cc9...</td>\n",
       "      <td>Mountain View, CA</td>\n",
       "      <td>From creating experiments and prototyping impl...</td>\n",
       "      <td>Research Scientist, Google Brain (United States)</td>\n",
       "    </tr>\n",
       "    <tr>\n",
       "      <th>4</th>\n",
       "      <td>http://www.indeed.com/cmp/Childrens-Hospital-L...</td>\n",
       "      <td>Childrens Hospital Los Angeles</td>\n",
       "      <td>http://www.indeed.com/rc/clk?jk=ff4d4e425d9c76...</td>\n",
       "      <td>Los Angeles, CA</td>\n",
       "      <td>The Data Scientist conducts research in medica...</td>\n",
       "      <td>Data Scientist, VPICU</td>\n",
       "    </tr>\n",
       "  </tbody>\n",
       "</table>\n",
       "</div>"
      ],
      "text/plain": [
       "                                        company_link  \\\n",
       "0  http://www.indeed.com/cmp/Allegheny-General-Ho...   \n",
       "1             http://www.indeed.com/cmp/Marathon-Oil   \n",
       "2                   http://www.indeed.com/cmp/Oracle   \n",
       "3                   http://www.indeed.com/cmp/Google   \n",
       "4  http://www.indeed.com/cmp/Childrens-Hospital-L...   \n",
       "\n",
       "                     company_name  \\\n",
       "0      Allegheny General Hospital   \n",
       "1  Marathon Petroleum Corporation   \n",
       "2                          Oracle   \n",
       "3                          Google   \n",
       "4  Childrens Hospital Los Angeles   \n",
       "\n",
       "                                            job_link       job_location  \\\n",
       "0  http://www.indeed.com/rc/clk?jk=805f6ed65b49dd...     Pittsburgh, PA   \n",
       "1  http://www.indeed.com/rc/clk?jk=b28767d68e08b1...        Findlay, OH   \n",
       "2  http://www.indeed.com/rc/clk?jk=56e6eae3c307f9...      United States   \n",
       "3  http://www.indeed.com/rc/clk?jk=35f4fa4d806cc9...  Mountain View, CA   \n",
       "4  http://www.indeed.com/rc/clk?jk=ff4d4e425d9c76...    Los Angeles, CA   \n",
       "\n",
       "                                         job_summary  \\\n",
       "0  Allegheny Health Network’s clinical expertise ...   \n",
       "1  The vision for the Advanced Analytics team is ...   \n",
       "2  The Cloud Data Curation team is looking for Sc...   \n",
       "3  From creating experiments and prototyping impl...   \n",
       "4  The Data Scientist conducts research in medica...   \n",
       "\n",
       "                                          job_title  \n",
       "0              Research Data Analyst - Neurosurgery  \n",
       "1                                    Data Scientist  \n",
       "2                                  Data Scientist 5  \n",
       "3  Research Scientist, Google Brain (United States)  \n",
       "4                             Data Scientist, VPICU  "
      ]
     },
     "execution_count": 4,
     "metadata": {},
     "output_type": "execute_result"
    }
   ],
   "source": [
    "job_data = pd.read_csv(\"../web-scraping/jobs-data.csv\")\n",
    "job_data.head()"
   ]
  },
  {
   "cell_type": "markdown",
   "metadata": {
    "deletable": true,
    "editable": true
   },
   "source": [
    "Now that the data is loaded, we can do analysis."
   ]
  },
  {
   "cell_type": "code",
   "execution_count": 5,
   "metadata": {
    "collapsed": false,
    "deletable": true,
    "editable": true
   },
   "outputs": [
    {
     "data": {
      "text/plain": [
       "company_link    object\n",
       "company_name    object\n",
       "job_link        object\n",
       "job_location    object\n",
       "job_summary     object\n",
       "job_title       object\n",
       "dtype: object"
      ]
     },
     "execution_count": 5,
     "metadata": {},
     "output_type": "execute_result"
    }
   ],
   "source": [
    "job_data.dtypes"
   ]
  },
  {
   "cell_type": "code",
   "execution_count": null,
   "metadata": {
    "collapsed": false,
    "deletable": true,
    "editable": true
   },
   "outputs": [],
   "source": [
    "job_data.shape\n"
   ]
  },
  {
   "cell_type": "code",
   "execution_count": null,
   "metadata": {
    "collapsed": false,
    "deletable": true,
    "editable": true
   },
   "outputs": [],
   "source": [
    "job_data['job_title'].value_counts(ascending=False)"
   ]
  },
  {
   "cell_type": "code",
   "execution_count": null,
   "metadata": {
    "collapsed": false,
    "deletable": true,
    "editable": true
   },
   "outputs": [],
   "source": [
    "job_data['company_name'].value_counts(ascending=False)"
   ]
  },
  {
   "cell_type": "code",
   "execution_count": null,
   "metadata": {
    "collapsed": false,
    "deletable": true,
    "editable": true
   },
   "outputs": [],
   "source": [
    "job_data['job_location'].value_counts(ascending=False)"
   ]
  },
  {
   "cell_type": "code",
   "execution_count": null,
   "metadata": {
    "collapsed": false,
    "deletable": true,
    "editable": true
   },
   "outputs": [],
   "source": [
    "job_data['state'] = job_data['job_location'].str.extract(', (\\w{2})', expand=False)\n",
    "job_data.head()"
   ]
  },
  {
   "cell_type": "code",
   "execution_count": null,
   "metadata": {
    "collapsed": false,
    "deletable": true,
    "editable": true
   },
   "outputs": [],
   "source": [
    "ax = job_data['state'].value_counts(ascending=True).plot(kind=\"barh\", figsize=(10,10), xlim=(0,450))\n",
    "# add counts as annotations\n",
    "# http://stackoverflow.com/questions/23591254/python-pandas-matplotlib-annotating-labels-above-bar-chart-columns\n",
    "for p in ax.patches:\n",
    "    ax.annotate(\"%d\" % p.get_width(), (p.get_x() + p.get_width(), p.get_y()), xytext=(0, 0), textcoords='offset points')"
   ]
  },
  {
   "cell_type": "code",
   "execution_count": null,
   "metadata": {
    "collapsed": false,
    "deletable": true,
    "editable": true
   },
   "outputs": [],
   "source": [
    "job_data[job_data['job_location'].str.contains(\"Pittsburgh\")]"
   ]
  },
  {
   "cell_type": "markdown",
   "metadata": {
    "deletable": true,
    "editable": true
   },
   "source": [
    "## Analyzing Company Information"
   ]
  },
  {
   "cell_type": "code",
   "execution_count": 7,
   "metadata": {
    "collapsed": false,
    "deletable": true,
    "editable": true
   },
   "outputs": [
    {
     "data": {
      "text/html": [
       "<div>\n",
       "<table border=\"1\" class=\"dataframe\">\n",
       "  <thead>\n",
       "    <tr style=\"text-align: right;\">\n",
       "      <th></th>\n",
       "      <th>compensation_benefits_rating</th>\n",
       "      <th>culture_rating</th>\n",
       "      <th>js_advancement_rating</th>\n",
       "      <th>management_rating</th>\n",
       "      <th>overall_rating</th>\n",
       "      <th>url</th>\n",
       "      <th>wl_balanace_rating</th>\n",
       "    </tr>\n",
       "  </thead>\n",
       "  <tbody>\n",
       "    <tr>\n",
       "      <th>0</th>\n",
       "      <td>3.9</td>\n",
       "      <td>3.5</td>\n",
       "      <td>3.3</td>\n",
       "      <td>3.4</td>\n",
       "      <td>3.9</td>\n",
       "      <td>http://www.indeed.com/cmp/Population-Council</td>\n",
       "      <td>3.8</td>\n",
       "    </tr>\n",
       "    <tr>\n",
       "      <th>1</th>\n",
       "      <td>3.6</td>\n",
       "      <td>3.8</td>\n",
       "      <td>3.2</td>\n",
       "      <td>3.9</td>\n",
       "      <td>4.0</td>\n",
       "      <td>http://www.indeed.com/cmp/Ensco,-Inc.</td>\n",
       "      <td>4.1</td>\n",
       "    </tr>\n",
       "    <tr>\n",
       "      <th>2</th>\n",
       "      <td>3.9</td>\n",
       "      <td>3.6</td>\n",
       "      <td>3.3</td>\n",
       "      <td>3.4</td>\n",
       "      <td>3.8</td>\n",
       "      <td>http://www.indeed.com/cmp/General-Dynamics-Inf...</td>\n",
       "      <td>3.7</td>\n",
       "    </tr>\n",
       "    <tr>\n",
       "      <th>3</th>\n",
       "      <td>3.2</td>\n",
       "      <td>3.8</td>\n",
       "      <td>2.9</td>\n",
       "      <td>3.4</td>\n",
       "      <td>3.5</td>\n",
       "      <td>http://www.indeed.com/cmp/Mintel</td>\n",
       "      <td>3.7</td>\n",
       "    </tr>\n",
       "    <tr>\n",
       "      <th>4</th>\n",
       "      <td>3.8</td>\n",
       "      <td>3.8</td>\n",
       "      <td>3.6</td>\n",
       "      <td>3.5</td>\n",
       "      <td>4.0</td>\n",
       "      <td>http://www.indeed.com/cmp/ADP</td>\n",
       "      <td>3.8</td>\n",
       "    </tr>\n",
       "  </tbody>\n",
       "</table>\n",
       "</div>"
      ],
      "text/plain": [
       "   compensation_benefits_rating  culture_rating  js_advancement_rating  \\\n",
       "0                           3.9             3.5                    3.3   \n",
       "1                           3.6             3.8                    3.2   \n",
       "2                           3.9             3.6                    3.3   \n",
       "3                           3.2             3.8                    2.9   \n",
       "4                           3.8             3.8                    3.6   \n",
       "\n",
       "   management_rating  overall_rating  \\\n",
       "0                3.4             3.9   \n",
       "1                3.9             4.0   \n",
       "2                3.4             3.8   \n",
       "3                3.4             3.5   \n",
       "4                3.5             4.0   \n",
       "\n",
       "                                                 url  wl_balanace_rating  \n",
       "0       http://www.indeed.com/cmp/Population-Council                 3.8  \n",
       "1              http://www.indeed.com/cmp/Ensco,-Inc.                 4.1  \n",
       "2  http://www.indeed.com/cmp/General-Dynamics-Inf...                 3.7  \n",
       "3                   http://www.indeed.com/cmp/Mintel                 3.7  \n",
       "4                      http://www.indeed.com/cmp/ADP                 3.8  "
      ]
     },
     "execution_count": 7,
     "metadata": {},
     "output_type": "execute_result"
    }
   ],
   "source": [
    "company_data = pd.read_csv(\"company-data.csv\")\n",
    "company_data.head()"
   ]
  },
  {
   "cell_type": "code",
   "execution_count": 8,
   "metadata": {
    "collapsed": false,
    "deletable": true,
    "editable": true
   },
   "outputs": [
    {
     "data": {
      "text/plain": [
       "compensation_benefits_rating    float64\n",
       "culture_rating                  float64\n",
       "js_advancement_rating           float64\n",
       "management_rating               float64\n",
       "overall_rating                  float64\n",
       "url                              object\n",
       "wl_balanace_rating              float64\n",
       "dtype: object"
      ]
     },
     "execution_count": 8,
     "metadata": {},
     "output_type": "execute_result"
    }
   ],
   "source": [
    "company_data.dtypes"
   ]
  },
  {
   "cell_type": "code",
   "execution_count": 9,
   "metadata": {
    "collapsed": false,
    "deletable": true,
    "editable": true
   },
   "outputs": [
    {
     "data": {
      "text/plain": [
       "(399, 7)"
      ]
     },
     "execution_count": 9,
     "metadata": {},
     "output_type": "execute_result"
    }
   ],
   "source": [
    "company_data.shape"
   ]
  },
  {
   "cell_type": "code",
   "execution_count": 10,
   "metadata": {
    "collapsed": false,
    "deletable": true,
    "editable": true
   },
   "outputs": [
    {
     "data": {
      "text/html": [
       "<div>\n",
       "<table border=\"1\" class=\"dataframe\">\n",
       "  <thead>\n",
       "    <tr style=\"text-align: right;\">\n",
       "      <th></th>\n",
       "      <th>compensation_benefits_rating</th>\n",
       "      <th>culture_rating</th>\n",
       "      <th>js_advancement_rating</th>\n",
       "      <th>management_rating</th>\n",
       "      <th>overall_rating</th>\n",
       "      <th>wl_balanace_rating</th>\n",
       "    </tr>\n",
       "  </thead>\n",
       "  <tbody>\n",
       "    <tr>\n",
       "      <th>count</th>\n",
       "      <td>399.000000</td>\n",
       "      <td>399.000000</td>\n",
       "      <td>399.000000</td>\n",
       "      <td>399.000000</td>\n",
       "      <td>399.000000</td>\n",
       "      <td>399.000000</td>\n",
       "    </tr>\n",
       "    <tr>\n",
       "      <th>mean</th>\n",
       "      <td>3.701504</td>\n",
       "      <td>3.680201</td>\n",
       "      <td>3.342607</td>\n",
       "      <td>3.421805</td>\n",
       "      <td>3.883208</td>\n",
       "      <td>3.782206</td>\n",
       "    </tr>\n",
       "    <tr>\n",
       "      <th>std</th>\n",
       "      <td>0.480941</td>\n",
       "      <td>0.486898</td>\n",
       "      <td>0.510532</td>\n",
       "      <td>0.502807</td>\n",
       "      <td>0.438297</td>\n",
       "      <td>0.488315</td>\n",
       "    </tr>\n",
       "    <tr>\n",
       "      <th>min</th>\n",
       "      <td>2.000000</td>\n",
       "      <td>1.600000</td>\n",
       "      <td>1.500000</td>\n",
       "      <td>1.500000</td>\n",
       "      <td>1.700000</td>\n",
       "      <td>1.000000</td>\n",
       "    </tr>\n",
       "    <tr>\n",
       "      <th>25%</th>\n",
       "      <td>3.400000</td>\n",
       "      <td>3.400000</td>\n",
       "      <td>3.100000</td>\n",
       "      <td>3.200000</td>\n",
       "      <td>3.700000</td>\n",
       "      <td>3.550000</td>\n",
       "    </tr>\n",
       "    <tr>\n",
       "      <th>50%</th>\n",
       "      <td>3.800000</td>\n",
       "      <td>3.700000</td>\n",
       "      <td>3.400000</td>\n",
       "      <td>3.400000</td>\n",
       "      <td>4.000000</td>\n",
       "      <td>3.800000</td>\n",
       "    </tr>\n",
       "    <tr>\n",
       "      <th>75%</th>\n",
       "      <td>4.000000</td>\n",
       "      <td>4.000000</td>\n",
       "      <td>3.600000</td>\n",
       "      <td>3.700000</td>\n",
       "      <td>4.200000</td>\n",
       "      <td>4.100000</td>\n",
       "    </tr>\n",
       "    <tr>\n",
       "      <th>max</th>\n",
       "      <td>5.000000</td>\n",
       "      <td>5.000000</td>\n",
       "      <td>5.000000</td>\n",
       "      <td>5.000000</td>\n",
       "      <td>5.000000</td>\n",
       "      <td>5.000000</td>\n",
       "    </tr>\n",
       "  </tbody>\n",
       "</table>\n",
       "</div>"
      ],
      "text/plain": [
       "       compensation_benefits_rating  culture_rating  js_advancement_rating  \\\n",
       "count                    399.000000      399.000000             399.000000   \n",
       "mean                       3.701504        3.680201               3.342607   \n",
       "std                        0.480941        0.486898               0.510532   \n",
       "min                        2.000000        1.600000               1.500000   \n",
       "25%                        3.400000        3.400000               3.100000   \n",
       "50%                        3.800000        3.700000               3.400000   \n",
       "75%                        4.000000        4.000000               3.600000   \n",
       "max                        5.000000        5.000000               5.000000   \n",
       "\n",
       "       management_rating  overall_rating  wl_balanace_rating  \n",
       "count         399.000000      399.000000          399.000000  \n",
       "mean            3.421805        3.883208            3.782206  \n",
       "std             0.502807        0.438297            0.488315  \n",
       "min             1.500000        1.700000            1.000000  \n",
       "25%             3.200000        3.700000            3.550000  \n",
       "50%             3.400000        4.000000            3.800000  \n",
       "75%             3.700000        4.200000            4.100000  \n",
       "max             5.000000        5.000000            5.000000  "
      ]
     },
     "execution_count": 10,
     "metadata": {},
     "output_type": "execute_result"
    }
   ],
   "source": [
    "company_data.describe()"
   ]
  },
  {
   "cell_type": "code",
   "execution_count": 11,
   "metadata": {
    "collapsed": false,
    "deletable": true,
    "editable": true
   },
   "outputs": [
    {
     "data": {
      "text/plain": [
       "<matplotlib.axes._subplots.AxesSubplot at 0x107278f28>"
      ]
     },
     "execution_count": 11,
     "metadata": {},
     "output_type": "execute_result"
    },
    {
     "data": {
      "image/png": "[encoded data removed]",
      "text/plain": [
       "<matplotlib.figure.Figure at 0x107278860>"
      ]
     },
     "metadata": {},
     "output_type": "display_data"
    }
   ],
   "source": [
    "company_data['overall_rating'].hist()"
   ]
  },
  {
   "cell_type": "code",
   "execution_count": 12,
   "metadata": {
    "collapsed": false,
    "deletable": true,
    "editable": true
   },
   "outputs": [
    {
     "data": {
      "text/plain": [
       "<matplotlib.axes._subplots.AxesSubplot at 0x10757e668>"
      ]
     },
     "execution_count": 12,
     "metadata": {},
     "output_type": "execute_result"
    },
    {
     "data": {
      "image/png": "[encoded data removed]",
      "text/plain": [
       "<matplotlib.figure.Figure at 0x1045cb198>"
      ]
     },
     "metadata": {},
     "output_type": "display_data"
    }
   ],
   "source": [
    "company_data['culture_rating'].hist()"
   ]
  },
  {
   "cell_type": "code",
   "execution_count": 13,
   "metadata": {
    "collapsed": false,
    "deletable": true,
    "editable": true
   },
   "outputs": [
    {
     "data": {
      "text/plain": [
       "<matplotlib.axes._subplots.AxesSubplot at 0x1076a4128>"
      ]
     },
     "execution_count": 13,
     "metadata": {},
     "output_type": "execute_result"
    },
    {
     "data": {
      "image/png": "[encoded data removed]",
      "text/plain": [
       "<matplotlib.figure.Figure at 0x107663278>"
      ]
     },
     "metadata": {},
     "output_type": "display_data"
    }
   ],
   "source": [
    "company_data['compensation_benefits_rating'].hist()"
   ]
  },
  {
   "cell_type": "code",
   "execution_count": 14,
   "metadata": {
    "collapsed": false,
    "deletable": true,
    "editable": true
   },
   "outputs": [
    {
     "data": {
      "text/plain": [
       "<matplotlib.axes._subplots.AxesSubplot at 0x1076b5438>"
      ]
     },
     "execution_count": 14,
     "metadata": {},
     "output_type": "execute_result"
    },
    {
     "data": {
      "image/png": "[encoded data removed]",
      "text/plain": [
       "<matplotlib.figure.Figure at 0x107769668>"
      ]
     },
     "metadata": {},
     "output_type": "display_data"
    }
   ],
   "source": [
    "company_data['management_rating'].hist()"
   ]
  },
  {
   "cell_type": "code",
   "execution_count": 6,
   "metadata": {
    "collapsed": false,
    "deletable": true,
    "editable": true
   },
   "outputs": [
    {
     "ename": "NameError",
     "evalue": "name 'company_data' is not defined",
     "output_type": "error",
     "traceback": [
      "\u001b[0;31m---------------------------------------------------------------------------\u001b[0m",
      "\u001b[0;31mNameError\u001b[0m                                 Traceback (most recent call last)",
      "\u001b[0;32m<ipython-input-6-b363d602bc9f>\u001b[0m in \u001b[0;36m<module>\u001b[0;34m()\u001b[0m\n\u001b[0;32m----> 1\u001b[0;31m \u001b[0mcompany_data\u001b[0m\u001b[0;34m[\u001b[0m\u001b[0;34m'js_advancement_rating'\u001b[0m\u001b[0;34m]\u001b[0m\u001b[0;34m.\u001b[0m\u001b[0mhist\u001b[0m\u001b[0;34m(\u001b[0m\u001b[0;34m)\u001b[0m\u001b[0;34m\u001b[0m\u001b[0m\n\u001b[0m",
      "\u001b[0;31mNameError\u001b[0m: name 'company_data' is not defined"
     ]
    }
   ],
   "source": [
    "company_data['js_advancement_rating'].hist()"
   ]
  },
  {
   "cell_type": "code",
   "execution_count": null,
   "metadata": {
    "collapsed": true,
    "deletable": true,
    "editable": true
   },
   "outputs": [],
   "source": [
    " "
   ]
  }
 ],
 "metadata": {
  "kernelspec": {
   "display_name": "Jupyter Env",
   "language": "python",
   "name": "jupyter"
  },
  "language_info": {
   "codemirror_mode": {
    "name": "ipython",
    "version": 3
   },
   "file_extension": ".py",
   "mimetype": "text/x-python",
   "name": "python",
   "nbconvert_exporter": "python",
   "pygments_lexer": "ipython3",
   "version": "3.4.2"
  }
 },
 "nbformat": 4,
 "nbformat_minor": 2
}
