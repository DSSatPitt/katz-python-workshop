{
 "cells": [
  {
   "cell_type": "markdown",
   "metadata": {},
   "source": [
    "# A  ten minute tour of Pandas"
   ]
  },
  {
   "cell_type": "code",
   "execution_count": 3,
   "metadata": {
    "collapsed": false,
    "deletable": true,
    "editable": true
   },
   "outputs": [],
   "source": [
    "import numpy as np\n",
    "import pandas as pd\n",
    "import matplotlib.pyplot as plt\n",
    "%matplotlib inline"
   ]
  },
  {
   "cell_type": "markdown",
   "metadata": {},
   "source": [
    "## Two Important Data Structures\n",
    "\n",
    "* Series - a one-dimensional labeled array or list. Like an independant column in a spreadsheet \n",
    "* Dataframe - a two-dimensional labeled table. Like the whole spreadsheet\n",
    "* the Index - Ok, there are THREE important data structures. The index are the labels \n",
    "\n",
    "## Built on top of Numpy\n",
    "\n",
    "* Which is a lower-level library for manipulating numerical data\n",
    "* Implemented in C, which means it is *wicked fast*\n",
    "* Pandas is more flexible and useful than Numpy\n",
    "\n",
    "# Series\n",
    "\n",
    "* `s = pd.Series(data, index=index)`\n",
    "* `data` can be\n",
    "    * A Python Dictionary\n",
    "    * A list\n",
    "    * A single value\n",
    "* `index` is a list that will become item lables (like the keys in a dictionary\n",
    "* Think of a Series as an *ordered* dictionary, which means it is very list-like"
   ]
  },
  {
   "cell_type": "code",
   "execution_count": 6,
   "metadata": {
    "collapsed": false
   },
   "outputs": [
    {
     "data": {
      "text/plain": [
       "[-0.13321098075371843,\n",
       " 1.1805918025675413,\n",
       " 0.6952629518297494,\n",
       " 0.38619173384279104,\n",
       " -0.2162508212191328]"
      ]
     },
     "execution_count": 6,
     "metadata": {},
     "output_type": "execute_result"
    }
   ],
   "source": [
    "# make a list of random numbers\n",
    "a_python_list = list(np.random.randn(5))\n",
    "a_python_list"
   ]
  },
  {
   "cell_type": "code",
   "execution_count": 8,
   "metadata": {
    "collapsed": false
   },
   "outputs": [
    {
     "data": {
      "text/plain": [
       "0   -0.133211\n",
       "1    1.180592\n",
       "2    0.695263\n",
       "3    0.386192\n",
       "4   -0.216251\n",
       "dtype: float64"
      ]
     },
     "execution_count": 8,
     "metadata": {},
     "output_type": "execute_result"
    }
   ],
   "source": [
    "a_pandas_series = pd.Series(data=a_python_list)\n",
    "a_pandas_series"
   ]
  },
  {
   "cell_type": "markdown",
   "metadata": {},
   "source": [
    "* You can see there is the list of random numbers\n",
    "* There is also a list of integers, the *index*\n",
    "* And there is a data type `dype` associated with the items in the list"
   ]
  },
  {
   "cell_type": "code",
   "execution_count": 9,
   "metadata": {
    "collapsed": false
   },
   "outputs": [
    {
     "data": {
      "text/plain": [
       "a   -0.133211\n",
       "b    1.180592\n",
       "c    0.695263\n",
       "d    0.386192\n",
       "e   -0.216251\n",
       "dtype: float64"
      ]
     },
     "execution_count": 9,
     "metadata": {},
     "output_type": "execute_result"
    }
   ],
   "source": [
    "a_simple_index = ['a', 'b', 'c', 'd', 'e']\n",
    "a_pandas_series = pd.Series(data=a_python_list, index=a_simple_index)\n",
    "a_pandas_series"
   ]
  },
  {
   "cell_type": "markdown",
   "metadata": {},
   "source": [
    "* Notice how the index has changed from numbers to letters\n",
    "* we can use the index to extract specific values from the Seres"
   ]
  },
  {
   "cell_type": "code",
   "execution_count": 10,
   "metadata": {
    "collapsed": false
   },
   "outputs": [
    {
     "data": {
      "text/plain": [
       "-0.13321098075371843"
      ]
     },
     "execution_count": 10,
     "metadata": {},
     "output_type": "execute_result"
    }
   ],
   "source": [
    "# index by label\n",
    "a_pandas_series['a']"
   ]
  },
  {
   "cell_type": "code",
   "execution_count": 11,
   "metadata": {
    "collapsed": false
   },
   "outputs": [
    {
     "data": {
      "text/plain": [
       "1.1805918025675413"
      ]
     },
     "execution_count": 11,
     "metadata": {},
     "output_type": "execute_result"
    }
   ],
   "source": [
    "# index by location\n",
    "a_pandas_series[1]"
   ]
  },
  {
   "cell_type": "markdown",
   "metadata": {},
   "source": [
    "* you can also create a Series from a python dictionary"
   ]
  },
  {
   "cell_type": "code",
   "execution_count": 12,
   "metadata": {
    "collapsed": false
   },
   "outputs": [
    {
     "data": {
      "text/plain": [
       "a    0.0\n",
       "b    1.0\n",
       "c    2.0\n",
       "dtype: float64"
      ]
     },
     "execution_count": 12,
     "metadata": {},
     "output_type": "execute_result"
    }
   ],
   "source": [
    "a_python_dictionary = {'a' : 0., 'b' : 1., 'c' : 2.}\n",
    "pd.Series(a_python_dictionary)"
   ]
  },
  {
   "cell_type": "markdown",
   "metadata": {},
   "source": [
    "* Series are useful for doing fast, \"vectorized\" operations \n",
    "* Much faster than doing this with Python data structures"
   ]
  },
  {
   "cell_type": "code",
   "execution_count": 14,
   "metadata": {
    "collapsed": false
   },
   "outputs": [
    {
     "data": {
      "text/plain": [
       "0      0.469852\n",
       "1      0.175082\n",
       "2     -0.018170\n",
       "3      2.781493\n",
       "4     -0.280631\n",
       "5      0.419199\n",
       "6     -0.588726\n",
       "7     -1.689237\n",
       "8     -0.374918\n",
       "9      0.043309\n",
       "10     0.231049\n",
       "11     0.314572\n",
       "12     1.303032\n",
       "13     0.041015\n",
       "14    -0.438821\n",
       "15     0.266051\n",
       "16    -0.481886\n",
       "17    -0.152868\n",
       "18     0.863440\n",
       "19     0.231818\n",
       "20     0.851909\n",
       "21     0.159365\n",
       "22     1.109669\n",
       "23     0.627472\n",
       "24    -0.092200\n",
       "25    -1.385732\n",
       "26     0.188567\n",
       "27     1.939975\n",
       "28     1.685535\n",
       "29     0.344431\n",
       "         ...   \n",
       "970   -0.875709\n",
       "971   -0.461561\n",
       "972   -0.494858\n",
       "973   -0.482895\n",
       "974    0.398280\n",
       "975   -1.197531\n",
       "976    0.246262\n",
       "977   -0.576767\n",
       "978    1.134142\n",
       "979    0.759695\n",
       "980    0.728189\n",
       "981   -1.953974\n",
       "982   -0.326915\n",
       "983   -1.528382\n",
       "984    0.443522\n",
       "985   -0.709981\n",
       "986   -2.630291\n",
       "987   -0.741079\n",
       "988   -0.206771\n",
       "989   -0.739157\n",
       "990   -0.463475\n",
       "991   -0.420967\n",
       "992   -1.907424\n",
       "993   -0.871503\n",
       "994    0.020252\n",
       "995   -0.414407\n",
       "996    0.963306\n",
       "997    0.014267\n",
       "998   -0.603454\n",
       "999    0.926399\n",
       "dtype: float64"
      ]
     },
     "execution_count": 14,
     "metadata": {},
     "output_type": "execute_result"
    }
   ],
   "source": [
    "a_big_series = pd.Series(np.random.randn(1000))\n",
    "a_big_series"
   ]
  },
  {
   "cell_type": "code",
   "execution_count": 15,
   "metadata": {
    "collapsed": false
   },
   "outputs": [
    {
     "data": {
      "text/plain": [
       "0      0.939704\n",
       "1      0.350164\n",
       "2     -0.036341\n",
       "3      5.562987\n",
       "4     -0.561262\n",
       "5      0.838399\n",
       "6     -1.177452\n",
       "7     -3.378473\n",
       "8     -0.749836\n",
       "9      0.086618\n",
       "10     0.462097\n",
       "11     0.629144\n",
       "12     2.606063\n",
       "13     0.082030\n",
       "14    -0.877642\n",
       "15     0.532102\n",
       "16    -0.963771\n",
       "17    -0.305737\n",
       "18     1.726880\n",
       "19     0.463635\n",
       "20     1.703818\n",
       "21     0.318729\n",
       "22     2.219338\n",
       "23     1.254945\n",
       "24    -0.184400\n",
       "25    -2.771465\n",
       "26     0.377133\n",
       "27     3.879950\n",
       "28     3.371071\n",
       "29     0.688863\n",
       "         ...   \n",
       "970   -1.751417\n",
       "971   -0.923122\n",
       "972   -0.989717\n",
       "973   -0.965791\n",
       "974    0.796560\n",
       "975   -2.395063\n",
       "976    0.492523\n",
       "977   -1.153534\n",
       "978    2.268284\n",
       "979    1.519391\n",
       "980    1.456377\n",
       "981   -3.907949\n",
       "982   -0.653830\n",
       "983   -3.056764\n",
       "984    0.887044\n",
       "985   -1.419963\n",
       "986   -5.260581\n",
       "987   -1.482158\n",
       "988   -0.413541\n",
       "989   -1.478315\n",
       "990   -0.926950\n",
       "991   -0.841934\n",
       "992   -3.814849\n",
       "993   -1.743005\n",
       "994    0.040504\n",
       "995   -0.828814\n",
       "996    1.926612\n",
       "997    0.028535\n",
       "998   -1.206909\n",
       "999    1.852799\n",
       "dtype: float64"
      ]
     },
     "execution_count": 15,
     "metadata": {},
     "output_type": "execute_result"
    }
   ],
   "source": [
    "a_big_series * 2"
   ]
  },
  {
   "cell_type": "code",
   "execution_count": 18,
   "metadata": {
    "collapsed": false
   },
   "outputs": [
    {
     "data": {
      "text/plain": [
       "-0.036257500273335394"
      ]
     },
     "execution_count": 18,
     "metadata": {},
     "output_type": "execute_result"
    }
   ],
   "source": [
    "a_big_series.sum() / len(a_big_series)"
   ]
  },
  {
   "cell_type": "code",
   "execution_count": 16,
   "metadata": {
    "collapsed": false
   },
   "outputs": [
    {
     "data": {
      "text/plain": [
       "-0.036257500273335394"
      ]
     },
     "execution_count": 16,
     "metadata": {},
     "output_type": "execute_result"
    }
   ],
   "source": [
    "a_big_series.mean()"
   ]
  },
  {
   "cell_type": "code",
   "execution_count": 17,
   "metadata": {
    "collapsed": false
   },
   "outputs": [
    {
     "data": {
      "text/plain": [
       "count    1000.000000\n",
       "mean       -0.036258\n",
       "std         0.994357\n",
       "min        -3.434910\n",
       "25%        -0.695222\n",
       "50%        -0.018045\n",
       "75%         0.608289\n",
       "max         3.193684\n",
       "dtype: float64"
      ]
     },
     "execution_count": 17,
     "metadata": {},
     "output_type": "execute_result"
    }
   ],
   "source": [
    "a_big_series.describe()"
   ]
  },
  {
   "cell_type": "markdown",
   "metadata": {},
   "source": [
    "# Dictionaries\n",
    "\n",
    "* DataFrame is a 2-dimensional labeled data structure with columns of potentially different types. \n",
    "* You can think of it like a spreadsheet or R dataframe\n",
    "* Most popular data structure"
   ]
  },
  {
   "cell_type": "code",
   "execution_count": 26,
   "metadata": {
    "collapsed": false
   },
   "outputs": [
    {
     "data": {
      "text/html": [
       "<div>\n",
       "<table border=\"1\" class=\"dataframe\">\n",
       "  <thead>\n",
       "    <tr style=\"text-align: right;\">\n",
       "      <th></th>\n",
       "      <th>one</th>\n",
       "      <th>two</th>\n",
       "    </tr>\n",
       "  </thead>\n",
       "  <tbody>\n",
       "    <tr>\n",
       "      <th>0</th>\n",
       "      <td>1.0</td>\n",
       "      <td>4.0</td>\n",
       "    </tr>\n",
       "    <tr>\n",
       "      <th>1</th>\n",
       "      <td>2.0</td>\n",
       "      <td>3.0</td>\n",
       "    </tr>\n",
       "    <tr>\n",
       "      <th>2</th>\n",
       "      <td>3.0</td>\n",
       "      <td>2.0</td>\n",
       "    </tr>\n",
       "    <tr>\n",
       "      <th>3</th>\n",
       "      <td>4.0</td>\n",
       "      <td>1.0</td>\n",
       "    </tr>\n",
       "  </tbody>\n",
       "</table>\n",
       "</div>"
      ],
      "text/plain": [
       "   one  two\n",
       "0  1.0  4.0\n",
       "1  2.0  3.0\n",
       "2  3.0  2.0\n",
       "3  4.0  1.0"
      ]
     },
     "execution_count": 26,
     "metadata": {},
     "output_type": "execute_result"
    }
   ],
   "source": [
    "a_dictionary = {'one' : [1., 2., 3., 4.],\n",
    "                'two' : [4., 3., 2., 1.]}\n",
    "\n",
    "a_dataframe = pd.DataFrame(a_dictionary)\n",
    "a_dataframe    "
   ]
  },
  {
   "cell_type": "code",
   "execution_count": 27,
   "metadata": {
    "collapsed": false
   },
   "outputs": [
    {
     "data": {
      "text/html": [
       "<div>\n",
       "<table border=\"1\" class=\"dataframe\">\n",
       "  <thead>\n",
       "    <tr style=\"text-align: right;\">\n",
       "      <th></th>\n",
       "      <th>one</th>\n",
       "      <th>two</th>\n",
       "    </tr>\n",
       "  </thead>\n",
       "  <tbody>\n",
       "    <tr>\n",
       "      <th>a</th>\n",
       "      <td>1.0</td>\n",
       "      <td>4.0</td>\n",
       "    </tr>\n",
       "    <tr>\n",
       "      <th>b</th>\n",
       "      <td>2.0</td>\n",
       "      <td>3.0</td>\n",
       "    </tr>\n",
       "    <tr>\n",
       "      <th>c</th>\n",
       "      <td>3.0</td>\n",
       "      <td>2.0</td>\n",
       "    </tr>\n",
       "    <tr>\n",
       "      <th>d</th>\n",
       "      <td>4.0</td>\n",
       "      <td>1.0</td>\n",
       "    </tr>\n",
       "  </tbody>\n",
       "</table>\n",
       "</div>"
      ],
      "text/plain": [
       "   one  two\n",
       "a  1.0  4.0\n",
       "b  2.0  3.0\n",
       "c  3.0  2.0\n",
       "d  4.0  1.0"
      ]
     },
     "execution_count": 27,
     "metadata": {},
     "output_type": "execute_result"
    }
   ],
   "source": [
    "a_dataframe = pd.DataFrame(a_dictionary,\n",
    "                           index=['a', 'b', 'c', 'd'])\n",
    "a_dataframe"
   ]
  },
  {
   "cell_type": "markdown",
   "metadata": {},
   "source": [
    "* Very commonly you can create a Dataframe from a list of dictionaries"
   ]
  },
  {
   "cell_type": "code",
   "execution_count": 29,
   "metadata": {
    "collapsed": false
   },
   "outputs": [
    {
     "data": {
      "text/html": [
       "<div>\n",
       "<table border=\"1\" class=\"dataframe\">\n",
       "  <thead>\n",
       "    <tr style=\"text-align: right;\">\n",
       "      <th></th>\n",
       "      <th>a</th>\n",
       "      <th>b</th>\n",
       "      <th>c</th>\n",
       "    </tr>\n",
       "  </thead>\n",
       "  <tbody>\n",
       "    <tr>\n",
       "      <th>0</th>\n",
       "      <td>1</td>\n",
       "      <td>2</td>\n",
       "      <td>NaN</td>\n",
       "    </tr>\n",
       "    <tr>\n",
       "      <th>1</th>\n",
       "      <td>5</td>\n",
       "      <td>10</td>\n",
       "      <td>20.0</td>\n",
       "    </tr>\n",
       "  </tbody>\n",
       "</table>\n",
       "</div>"
      ],
      "text/plain": [
       "   a   b     c\n",
       "0  1   2   NaN\n",
       "1  5  10  20.0"
      ]
     },
     "execution_count": 29,
     "metadata": {},
     "output_type": "execute_result"
    }
   ],
   "source": [
    "a_list_of_dictionaries = [{'a': 1, 'b': 2}, {'a': 5, 'b': 10, 'c': 20}]\n",
    "a_dataframe = pd.DataFrame(a_list_of_dictionaries)\n",
    "a_dataframe"
   ]
  },
  {
   "cell_type": "markdown",
   "metadata": {},
   "source": [
    "* We can select columns by using python slicing"
   ]
  },
  {
   "cell_type": "code",
   "execution_count": 30,
   "metadata": {
    "collapsed": false
   },
   "outputs": [
    {
     "data": {
      "text/plain": [
       "0    1\n",
       "1    5\n",
       "Name: a, dtype: int64"
      ]
     },
     "execution_count": 30,
     "metadata": {},
     "output_type": "execute_result"
    }
   ],
   "source": [
    "a_dataframe['a']"
   ]
  },
  {
   "cell_type": "markdown",
   "metadata": {},
   "source": [
    "* This gives us column 'a' as a Series data structure"
   ]
  },
  {
   "cell_type": "code",
   "execution_count": 33,
   "metadata": {
    "collapsed": false
   },
   "outputs": [
    {
     "data": {
      "text/html": [
       "<div>\n",
       "<table border=\"1\" class=\"dataframe\">\n",
       "  <thead>\n",
       "    <tr style=\"text-align: right;\">\n",
       "      <th></th>\n",
       "      <th>a</th>\n",
       "      <th>b</th>\n",
       "      <th>c</th>\n",
       "      <th>d</th>\n",
       "      <th>e</th>\n",
       "    </tr>\n",
       "  </thead>\n",
       "  <tbody>\n",
       "    <tr>\n",
       "      <th>0</th>\n",
       "      <td>0.195200</td>\n",
       "      <td>1.471513</td>\n",
       "      <td>0.447872</td>\n",
       "      <td>0.742578</td>\n",
       "      <td>hi</td>\n",
       "    </tr>\n",
       "    <tr>\n",
       "      <th>1</th>\n",
       "      <td>-1.467380</td>\n",
       "      <td>1.005069</td>\n",
       "      <td>-0.679448</td>\n",
       "      <td>-1.296169</td>\n",
       "      <td>hi</td>\n",
       "    </tr>\n",
       "    <tr>\n",
       "      <th>2</th>\n",
       "      <td>-0.126771</td>\n",
       "      <td>-0.448476</td>\n",
       "      <td>-0.007398</td>\n",
       "      <td>-1.293716</td>\n",
       "      <td>hi</td>\n",
       "    </tr>\n",
       "    <tr>\n",
       "      <th>3</th>\n",
       "      <td>-0.829169</td>\n",
       "      <td>0.287930</td>\n",
       "      <td>-0.329248</td>\n",
       "      <td>-0.391619</td>\n",
       "      <td>hi</td>\n",
       "    </tr>\n",
       "    <tr>\n",
       "      <th>4</th>\n",
       "      <td>1.894362</td>\n",
       "      <td>0.507544</td>\n",
       "      <td>-2.194929</td>\n",
       "      <td>2.227772</td>\n",
       "      <td>hi</td>\n",
       "    </tr>\n",
       "    <tr>\n",
       "      <th>5</th>\n",
       "      <td>-0.455285</td>\n",
       "      <td>0.721201</td>\n",
       "      <td>-0.024484</td>\n",
       "      <td>-1.249271</td>\n",
       "      <td>hi</td>\n",
       "    </tr>\n",
       "    <tr>\n",
       "      <th>6</th>\n",
       "      <td>-1.868823</td>\n",
       "      <td>-0.023902</td>\n",
       "      <td>-1.070258</td>\n",
       "      <td>-1.057628</td>\n",
       "      <td>hi</td>\n",
       "    </tr>\n",
       "    <tr>\n",
       "      <th>7</th>\n",
       "      <td>0.481177</td>\n",
       "      <td>1.726554</td>\n",
       "      <td>-0.459909</td>\n",
       "      <td>-0.348522</td>\n",
       "      <td>hi</td>\n",
       "    </tr>\n",
       "    <tr>\n",
       "      <th>8</th>\n",
       "      <td>0.461946</td>\n",
       "      <td>-0.272053</td>\n",
       "      <td>0.555865</td>\n",
       "      <td>1.455070</td>\n",
       "      <td>hi</td>\n",
       "    </tr>\n",
       "    <tr>\n",
       "      <th>9</th>\n",
       "      <td>1.469342</td>\n",
       "      <td>0.440828</td>\n",
       "      <td>-1.469929</td>\n",
       "      <td>-1.147367</td>\n",
       "      <td>hi</td>\n",
       "    </tr>\n",
       "    <tr>\n",
       "      <th>10</th>\n",
       "      <td>1.318531</td>\n",
       "      <td>-1.184896</td>\n",
       "      <td>0.108213</td>\n",
       "      <td>-2.652809</td>\n",
       "      <td>hi</td>\n",
       "    </tr>\n",
       "    <tr>\n",
       "      <th>11</th>\n",
       "      <td>-0.715273</td>\n",
       "      <td>-1.771749</td>\n",
       "      <td>-0.476682</td>\n",
       "      <td>1.074689</td>\n",
       "      <td>hi</td>\n",
       "    </tr>\n",
       "    <tr>\n",
       "      <th>12</th>\n",
       "      <td>0.340681</td>\n",
       "      <td>-2.238441</td>\n",
       "      <td>1.723926</td>\n",
       "      <td>-2.261482</td>\n",
       "      <td>hi</td>\n",
       "    </tr>\n",
       "    <tr>\n",
       "      <th>13</th>\n",
       "      <td>0.948599</td>\n",
       "      <td>1.145019</td>\n",
       "      <td>0.642341</td>\n",
       "      <td>-0.192459</td>\n",
       "      <td>hi</td>\n",
       "    </tr>\n",
       "    <tr>\n",
       "      <th>14</th>\n",
       "      <td>-1.725399</td>\n",
       "      <td>0.208998</td>\n",
       "      <td>0.332862</td>\n",
       "      <td>0.277811</td>\n",
       "      <td>hi</td>\n",
       "    </tr>\n",
       "    <tr>\n",
       "      <th>15</th>\n",
       "      <td>1.911594</td>\n",
       "      <td>0.500968</td>\n",
       "      <td>0.386674</td>\n",
       "      <td>-0.680614</td>\n",
       "      <td>hi</td>\n",
       "    </tr>\n",
       "    <tr>\n",
       "      <th>16</th>\n",
       "      <td>0.269013</td>\n",
       "      <td>0.597904</td>\n",
       "      <td>-0.239381</td>\n",
       "      <td>-0.945871</td>\n",
       "      <td>hi</td>\n",
       "    </tr>\n",
       "    <tr>\n",
       "      <th>17</th>\n",
       "      <td>0.609643</td>\n",
       "      <td>1.000152</td>\n",
       "      <td>1.075684</td>\n",
       "      <td>0.789990</td>\n",
       "      <td>hi</td>\n",
       "    </tr>\n",
       "    <tr>\n",
       "      <th>18</th>\n",
       "      <td>0.909984</td>\n",
       "      <td>-0.299750</td>\n",
       "      <td>-1.886791</td>\n",
       "      <td>-0.230973</td>\n",
       "      <td>hi</td>\n",
       "    </tr>\n",
       "    <tr>\n",
       "      <th>19</th>\n",
       "      <td>-0.834842</td>\n",
       "      <td>-0.870673</td>\n",
       "      <td>-0.629568</td>\n",
       "      <td>-0.912954</td>\n",
       "      <td>hi</td>\n",
       "    </tr>\n",
       "    <tr>\n",
       "      <th>20</th>\n",
       "      <td>0.108223</td>\n",
       "      <td>-0.742483</td>\n",
       "      <td>0.870948</td>\n",
       "      <td>0.272827</td>\n",
       "      <td>hi</td>\n",
       "    </tr>\n",
       "    <tr>\n",
       "      <th>21</th>\n",
       "      <td>0.310667</td>\n",
       "      <td>-0.220494</td>\n",
       "      <td>-0.733112</td>\n",
       "      <td>1.008447</td>\n",
       "      <td>hi</td>\n",
       "    </tr>\n",
       "    <tr>\n",
       "      <th>22</th>\n",
       "      <td>-1.334094</td>\n",
       "      <td>-1.455676</td>\n",
       "      <td>0.076898</td>\n",
       "      <td>-1.603281</td>\n",
       "      <td>hi</td>\n",
       "    </tr>\n",
       "    <tr>\n",
       "      <th>23</th>\n",
       "      <td>1.215530</td>\n",
       "      <td>-2.415782</td>\n",
       "      <td>-1.821654</td>\n",
       "      <td>-0.365152</td>\n",
       "      <td>hi</td>\n",
       "    </tr>\n",
       "    <tr>\n",
       "      <th>24</th>\n",
       "      <td>0.708383</td>\n",
       "      <td>0.411112</td>\n",
       "      <td>0.356446</td>\n",
       "      <td>1.447221</td>\n",
       "      <td>hi</td>\n",
       "    </tr>\n",
       "    <tr>\n",
       "      <th>25</th>\n",
       "      <td>-1.024141</td>\n",
       "      <td>-0.440211</td>\n",
       "      <td>0.569519</td>\n",
       "      <td>0.992510</td>\n",
       "      <td>hi</td>\n",
       "    </tr>\n",
       "    <tr>\n",
       "      <th>26</th>\n",
       "      <td>0.547769</td>\n",
       "      <td>0.576499</td>\n",
       "      <td>0.390148</td>\n",
       "      <td>0.023413</td>\n",
       "      <td>hi</td>\n",
       "    </tr>\n",
       "    <tr>\n",
       "      <th>27</th>\n",
       "      <td>-1.776340</td>\n",
       "      <td>0.957517</td>\n",
       "      <td>0.098811</td>\n",
       "      <td>0.259768</td>\n",
       "      <td>hi</td>\n",
       "    </tr>\n",
       "    <tr>\n",
       "      <th>28</th>\n",
       "      <td>-0.837603</td>\n",
       "      <td>-0.254053</td>\n",
       "      <td>-0.090065</td>\n",
       "      <td>-1.251397</td>\n",
       "      <td>hi</td>\n",
       "    </tr>\n",
       "    <tr>\n",
       "      <th>29</th>\n",
       "      <td>-0.078810</td>\n",
       "      <td>0.647083</td>\n",
       "      <td>-0.722462</td>\n",
       "      <td>-0.265362</td>\n",
       "      <td>hi</td>\n",
       "    </tr>\n",
       "    <tr>\n",
       "      <th>...</th>\n",
       "      <td>...</td>\n",
       "      <td>...</td>\n",
       "      <td>...</td>\n",
       "      <td>...</td>\n",
       "      <td>...</td>\n",
       "    </tr>\n",
       "    <tr>\n",
       "      <th>970</th>\n",
       "      <td>-1.687111</td>\n",
       "      <td>1.588347</td>\n",
       "      <td>-1.150845</td>\n",
       "      <td>-0.294375</td>\n",
       "      <td>hi</td>\n",
       "    </tr>\n",
       "    <tr>\n",
       "      <th>971</th>\n",
       "      <td>-0.544362</td>\n",
       "      <td>2.200697</td>\n",
       "      <td>0.827082</td>\n",
       "      <td>-0.345998</td>\n",
       "      <td>hi</td>\n",
       "    </tr>\n",
       "    <tr>\n",
       "      <th>972</th>\n",
       "      <td>0.375467</td>\n",
       "      <td>0.024828</td>\n",
       "      <td>1.132318</td>\n",
       "      <td>0.977846</td>\n",
       "      <td>hi</td>\n",
       "    </tr>\n",
       "    <tr>\n",
       "      <th>973</th>\n",
       "      <td>-0.904338</td>\n",
       "      <td>0.513799</td>\n",
       "      <td>0.052034</td>\n",
       "      <td>-0.030120</td>\n",
       "      <td>hi</td>\n",
       "    </tr>\n",
       "    <tr>\n",
       "      <th>974</th>\n",
       "      <td>-0.520909</td>\n",
       "      <td>-1.277849</td>\n",
       "      <td>-0.641681</td>\n",
       "      <td>-0.939304</td>\n",
       "      <td>hi</td>\n",
       "    </tr>\n",
       "    <tr>\n",
       "      <th>975</th>\n",
       "      <td>0.257926</td>\n",
       "      <td>-0.476056</td>\n",
       "      <td>0.382637</td>\n",
       "      <td>-0.343628</td>\n",
       "      <td>hi</td>\n",
       "    </tr>\n",
       "    <tr>\n",
       "      <th>976</th>\n",
       "      <td>-0.022015</td>\n",
       "      <td>-0.168963</td>\n",
       "      <td>0.948342</td>\n",
       "      <td>-0.193978</td>\n",
       "      <td>hi</td>\n",
       "    </tr>\n",
       "    <tr>\n",
       "      <th>977</th>\n",
       "      <td>-0.115801</td>\n",
       "      <td>-2.135518</td>\n",
       "      <td>0.349617</td>\n",
       "      <td>0.697843</td>\n",
       "      <td>hi</td>\n",
       "    </tr>\n",
       "    <tr>\n",
       "      <th>978</th>\n",
       "      <td>0.668141</td>\n",
       "      <td>-0.967671</td>\n",
       "      <td>0.919919</td>\n",
       "      <td>-0.264464</td>\n",
       "      <td>hi</td>\n",
       "    </tr>\n",
       "    <tr>\n",
       "      <th>979</th>\n",
       "      <td>-0.575074</td>\n",
       "      <td>0.993120</td>\n",
       "      <td>0.339274</td>\n",
       "      <td>-0.418490</td>\n",
       "      <td>hi</td>\n",
       "    </tr>\n",
       "    <tr>\n",
       "      <th>980</th>\n",
       "      <td>-0.525728</td>\n",
       "      <td>-2.021995</td>\n",
       "      <td>-0.933688</td>\n",
       "      <td>-0.690072</td>\n",
       "      <td>hi</td>\n",
       "    </tr>\n",
       "    <tr>\n",
       "      <th>981</th>\n",
       "      <td>-1.704445</td>\n",
       "      <td>-0.369670</td>\n",
       "      <td>-0.938018</td>\n",
       "      <td>0.793153</td>\n",
       "      <td>hi</td>\n",
       "    </tr>\n",
       "    <tr>\n",
       "      <th>982</th>\n",
       "      <td>0.531911</td>\n",
       "      <td>0.167518</td>\n",
       "      <td>-0.423615</td>\n",
       "      <td>-0.096458</td>\n",
       "      <td>hi</td>\n",
       "    </tr>\n",
       "    <tr>\n",
       "      <th>983</th>\n",
       "      <td>-1.242685</td>\n",
       "      <td>0.167854</td>\n",
       "      <td>1.018922</td>\n",
       "      <td>0.896711</td>\n",
       "      <td>hi</td>\n",
       "    </tr>\n",
       "    <tr>\n",
       "      <th>984</th>\n",
       "      <td>-2.674783</td>\n",
       "      <td>-1.203283</td>\n",
       "      <td>0.778616</td>\n",
       "      <td>-0.637059</td>\n",
       "      <td>hi</td>\n",
       "    </tr>\n",
       "    <tr>\n",
       "      <th>985</th>\n",
       "      <td>-1.306915</td>\n",
       "      <td>0.507325</td>\n",
       "      <td>-0.151521</td>\n",
       "      <td>-0.432589</td>\n",
       "      <td>hi</td>\n",
       "    </tr>\n",
       "    <tr>\n",
       "      <th>986</th>\n",
       "      <td>-1.322193</td>\n",
       "      <td>0.298746</td>\n",
       "      <td>0.685674</td>\n",
       "      <td>-0.477047</td>\n",
       "      <td>hi</td>\n",
       "    </tr>\n",
       "    <tr>\n",
       "      <th>987</th>\n",
       "      <td>0.106706</td>\n",
       "      <td>0.419202</td>\n",
       "      <td>0.854542</td>\n",
       "      <td>0.168844</td>\n",
       "      <td>hi</td>\n",
       "    </tr>\n",
       "    <tr>\n",
       "      <th>988</th>\n",
       "      <td>1.090841</td>\n",
       "      <td>2.572600</td>\n",
       "      <td>1.759922</td>\n",
       "      <td>0.846667</td>\n",
       "      <td>hi</td>\n",
       "    </tr>\n",
       "    <tr>\n",
       "      <th>989</th>\n",
       "      <td>-0.271730</td>\n",
       "      <td>0.851365</td>\n",
       "      <td>-0.636409</td>\n",
       "      <td>0.107462</td>\n",
       "      <td>hi</td>\n",
       "    </tr>\n",
       "    <tr>\n",
       "      <th>990</th>\n",
       "      <td>0.836010</td>\n",
       "      <td>0.060212</td>\n",
       "      <td>0.374984</td>\n",
       "      <td>-0.238871</td>\n",
       "      <td>hi</td>\n",
       "    </tr>\n",
       "    <tr>\n",
       "      <th>991</th>\n",
       "      <td>-1.492225</td>\n",
       "      <td>0.102794</td>\n",
       "      <td>0.557444</td>\n",
       "      <td>-0.221696</td>\n",
       "      <td>hi</td>\n",
       "    </tr>\n",
       "    <tr>\n",
       "      <th>992</th>\n",
       "      <td>-0.768700</td>\n",
       "      <td>-1.053390</td>\n",
       "      <td>-0.913775</td>\n",
       "      <td>-0.580076</td>\n",
       "      <td>hi</td>\n",
       "    </tr>\n",
       "    <tr>\n",
       "      <th>993</th>\n",
       "      <td>-0.947071</td>\n",
       "      <td>-2.341502</td>\n",
       "      <td>-1.494057</td>\n",
       "      <td>1.161260</td>\n",
       "      <td>hi</td>\n",
       "    </tr>\n",
       "    <tr>\n",
       "      <th>994</th>\n",
       "      <td>-0.151204</td>\n",
       "      <td>-1.976072</td>\n",
       "      <td>1.908078</td>\n",
       "      <td>-1.330443</td>\n",
       "      <td>hi</td>\n",
       "    </tr>\n",
       "    <tr>\n",
       "      <th>995</th>\n",
       "      <td>-0.201867</td>\n",
       "      <td>1.303376</td>\n",
       "      <td>-0.276134</td>\n",
       "      <td>-0.399333</td>\n",
       "      <td>hi</td>\n",
       "    </tr>\n",
       "    <tr>\n",
       "      <th>996</th>\n",
       "      <td>-0.233172</td>\n",
       "      <td>0.159232</td>\n",
       "      <td>1.398382</td>\n",
       "      <td>0.490431</td>\n",
       "      <td>hi</td>\n",
       "    </tr>\n",
       "    <tr>\n",
       "      <th>997</th>\n",
       "      <td>0.194740</td>\n",
       "      <td>-0.044352</td>\n",
       "      <td>-1.175685</td>\n",
       "      <td>0.610438</td>\n",
       "      <td>hi</td>\n",
       "    </tr>\n",
       "    <tr>\n",
       "      <th>998</th>\n",
       "      <td>1.003858</td>\n",
       "      <td>0.053377</td>\n",
       "      <td>-0.992018</td>\n",
       "      <td>0.300915</td>\n",
       "      <td>hi</td>\n",
       "    </tr>\n",
       "    <tr>\n",
       "      <th>999</th>\n",
       "      <td>0.126112</td>\n",
       "      <td>0.400421</td>\n",
       "      <td>-0.553286</td>\n",
       "      <td>-0.322495</td>\n",
       "      <td>hi</td>\n",
       "    </tr>\n",
       "  </tbody>\n",
       "</table>\n",
       "<p>1000 rows × 5 columns</p>\n",
       "</div>"
      ],
      "text/plain": [
       "            a         b         c         d   e\n",
       "0    0.195200  1.471513  0.447872  0.742578  hi\n",
       "1   -1.467380  1.005069 -0.679448 -1.296169  hi\n",
       "2   -0.126771 -0.448476 -0.007398 -1.293716  hi\n",
       "3   -0.829169  0.287930 -0.329248 -0.391619  hi\n",
       "4    1.894362  0.507544 -2.194929  2.227772  hi\n",
       "5   -0.455285  0.721201 -0.024484 -1.249271  hi\n",
       "6   -1.868823 -0.023902 -1.070258 -1.057628  hi\n",
       "7    0.481177  1.726554 -0.459909 -0.348522  hi\n",
       "8    0.461946 -0.272053  0.555865  1.455070  hi\n",
       "9    1.469342  0.440828 -1.469929 -1.147367  hi\n",
       "10   1.318531 -1.184896  0.108213 -2.652809  hi\n",
       "11  -0.715273 -1.771749 -0.476682  1.074689  hi\n",
       "12   0.340681 -2.238441  1.723926 -2.261482  hi\n",
       "13   0.948599  1.145019  0.642341 -0.192459  hi\n",
       "14  -1.725399  0.208998  0.332862  0.277811  hi\n",
       "15   1.911594  0.500968  0.386674 -0.680614  hi\n",
       "16   0.269013  0.597904 -0.239381 -0.945871  hi\n",
       "17   0.609643  1.000152  1.075684  0.789990  hi\n",
       "18   0.909984 -0.299750 -1.886791 -0.230973  hi\n",
       "19  -0.834842 -0.870673 -0.629568 -0.912954  hi\n",
       "20   0.108223 -0.742483  0.870948  0.272827  hi\n",
       "21   0.310667 -0.220494 -0.733112  1.008447  hi\n",
       "22  -1.334094 -1.455676  0.076898 -1.603281  hi\n",
       "23   1.215530 -2.415782 -1.821654 -0.365152  hi\n",
       "24   0.708383  0.411112  0.356446  1.447221  hi\n",
       "25  -1.024141 -0.440211  0.569519  0.992510  hi\n",
       "26   0.547769  0.576499  0.390148  0.023413  hi\n",
       "27  -1.776340  0.957517  0.098811  0.259768  hi\n",
       "28  -0.837603 -0.254053 -0.090065 -1.251397  hi\n",
       "29  -0.078810  0.647083 -0.722462 -0.265362  hi\n",
       "..        ...       ...       ...       ...  ..\n",
       "970 -1.687111  1.588347 -1.150845 -0.294375  hi\n",
       "971 -0.544362  2.200697  0.827082 -0.345998  hi\n",
       "972  0.375467  0.024828  1.132318  0.977846  hi\n",
       "973 -0.904338  0.513799  0.052034 -0.030120  hi\n",
       "974 -0.520909 -1.277849 -0.641681 -0.939304  hi\n",
       "975  0.257926 -0.476056  0.382637 -0.343628  hi\n",
       "976 -0.022015 -0.168963  0.948342 -0.193978  hi\n",
       "977 -0.115801 -2.135518  0.349617  0.697843  hi\n",
       "978  0.668141 -0.967671  0.919919 -0.264464  hi\n",
       "979 -0.575074  0.993120  0.339274 -0.418490  hi\n",
       "980 -0.525728 -2.021995 -0.933688 -0.690072  hi\n",
       "981 -1.704445 -0.369670 -0.938018  0.793153  hi\n",
       "982  0.531911  0.167518 -0.423615 -0.096458  hi\n",
       "983 -1.242685  0.167854  1.018922  0.896711  hi\n",
       "984 -2.674783 -1.203283  0.778616 -0.637059  hi\n",
       "985 -1.306915  0.507325 -0.151521 -0.432589  hi\n",
       "986 -1.322193  0.298746  0.685674 -0.477047  hi\n",
       "987  0.106706  0.419202  0.854542  0.168844  hi\n",
       "988  1.090841  2.572600  1.759922  0.846667  hi\n",
       "989 -0.271730  0.851365 -0.636409  0.107462  hi\n",
       "990  0.836010  0.060212  0.374984 -0.238871  hi\n",
       "991 -1.492225  0.102794  0.557444 -0.221696  hi\n",
       "992 -0.768700 -1.053390 -0.913775 -0.580076  hi\n",
       "993 -0.947071 -2.341502 -1.494057  1.161260  hi\n",
       "994 -0.151204 -1.976072  1.908078 -1.330443  hi\n",
       "995 -0.201867  1.303376 -0.276134 -0.399333  hi\n",
       "996 -0.233172  0.159232  1.398382  0.490431  hi\n",
       "997  0.194740 -0.044352 -1.175685  0.610438  hi\n",
       "998  1.003858  0.053377 -0.992018  0.300915  hi\n",
       "999  0.126112  0.400421 -0.553286 -0.322495  hi\n",
       "\n",
       "[1000 rows x 5 columns]"
      ]
     },
     "execution_count": 33,
     "metadata": {},
     "output_type": "execute_result"
    }
   ],
   "source": [
    "a_dataframe = pd.DataFrame({'a': np.random.randn(1000),\n",
    "                            'b': np.random.randn(1000),\n",
    "                            'c': np.random.randn(1000),\n",
    "                            'd': np.random.randn(1000),\n",
    "                            'e': 'hi'})\n",
    "a_dataframe"
   ]
  },
  {
   "cell_type": "code",
   "execution_count": 34,
   "metadata": {
    "collapsed": false
   },
   "outputs": [
    {
     "data": {
      "text/plain": [
       "a    float64\n",
       "b    float64\n",
       "c    float64\n",
       "d    float64\n",
       "e     object\n",
       "dtype: object"
      ]
     },
     "execution_count": 34,
     "metadata": {},
     "output_type": "execute_result"
    }
   ],
   "source": [
    "a_dataframe.dtypes"
   ]
  },
  {
   "cell_type": "code",
   "execution_count": 35,
   "metadata": {
    "collapsed": false
   },
   "outputs": [
    {
     "data": {
      "text/html": [
       "<div>\n",
       "<table border=\"1\" class=\"dataframe\">\n",
       "  <thead>\n",
       "    <tr style=\"text-align: right;\">\n",
       "      <th></th>\n",
       "      <th>a</th>\n",
       "      <th>b</th>\n",
       "      <th>c</th>\n",
       "      <th>d</th>\n",
       "    </tr>\n",
       "  </thead>\n",
       "  <tbody>\n",
       "    <tr>\n",
       "      <th>count</th>\n",
       "      <td>1000.000000</td>\n",
       "      <td>1000.000000</td>\n",
       "      <td>1000.000000</td>\n",
       "      <td>1000.000000</td>\n",
       "    </tr>\n",
       "    <tr>\n",
       "      <th>mean</th>\n",
       "      <td>0.015121</td>\n",
       "      <td>0.001493</td>\n",
       "      <td>-0.015727</td>\n",
       "      <td>-0.018310</td>\n",
       "    </tr>\n",
       "    <tr>\n",
       "      <th>std</th>\n",
       "      <td>1.014903</td>\n",
       "      <td>1.025325</td>\n",
       "      <td>0.987438</td>\n",
       "      <td>1.007048</td>\n",
       "    </tr>\n",
       "    <tr>\n",
       "      <th>min</th>\n",
       "      <td>-3.232754</td>\n",
       "      <td>-2.761861</td>\n",
       "      <td>-3.243911</td>\n",
       "      <td>-2.652809</td>\n",
       "    </tr>\n",
       "    <tr>\n",
       "      <th>25%</th>\n",
       "      <td>-0.665784</td>\n",
       "      <td>-0.668076</td>\n",
       "      <td>-0.665368</td>\n",
       "      <td>-0.725810</td>\n",
       "    </tr>\n",
       "    <tr>\n",
       "      <th>50%</th>\n",
       "      <td>0.022373</td>\n",
       "      <td>-0.026524</td>\n",
       "      <td>-0.029161</td>\n",
       "      <td>-0.074956</td>\n",
       "    </tr>\n",
       "    <tr>\n",
       "      <th>75%</th>\n",
       "      <td>0.717300</td>\n",
       "      <td>0.712870</td>\n",
       "      <td>0.646439</td>\n",
       "      <td>0.693972</td>\n",
       "    </tr>\n",
       "    <tr>\n",
       "      <th>max</th>\n",
       "      <td>2.874075</td>\n",
       "      <td>2.959302</td>\n",
       "      <td>2.656383</td>\n",
       "      <td>3.596201</td>\n",
       "    </tr>\n",
       "  </tbody>\n",
       "</table>\n",
       "</div>"
      ],
      "text/plain": [
       "                 a            b            c            d\n",
       "count  1000.000000  1000.000000  1000.000000  1000.000000\n",
       "mean      0.015121     0.001493    -0.015727    -0.018310\n",
       "std       1.014903     1.025325     0.987438     1.007048\n",
       "min      -3.232754    -2.761861    -3.243911    -2.652809\n",
       "25%      -0.665784    -0.668076    -0.665368    -0.725810\n",
       "50%       0.022373    -0.026524    -0.029161    -0.074956\n",
       "75%       0.717300     0.712870     0.646439     0.693972\n",
       "max       2.874075     2.959302     2.656383     3.596201"
      ]
     },
     "execution_count": 35,
     "metadata": {},
     "output_type": "execute_result"
    }
   ],
   "source": [
    "a_dataframe.describe()"
   ]
  },
  {
   "cell_type": "markdown",
   "metadata": {},
   "source": [
    "* Dataframes are very useful for reading and writing tabular data to disk\n",
    "* We can save this dataframe as a CSV or an Excel spreadsheet"
   ]
  },
  {
   "cell_type": "code",
   "execution_count": 36,
   "metadata": {
    "collapsed": true
   },
   "outputs": [],
   "source": [
    "a_dataframe.to_csv(\"random-data.csv\") "
   ]
  },
  {
   "cell_type": "markdown",
   "metadata": {},
   "source": [
    "* Now go back to the [directory tree](/tree/intro-to-pandas)\n",
    "* You should see a new file called \"random-data.csv\""
   ]
  },
  {
   "cell_type": "code",
   "execution_count": 38,
   "metadata": {
    "collapsed": false
   },
   "outputs": [],
   "source": [
    "a_dataframe.to_excel(\"random-data.xls\")"
   ]
  },
  {
   "cell_type": "markdown",
   "metadata": {},
   "source": [
    "* Now you can open your data in excel, how fun!"
   ]
  },
  {
   "cell_type": "code",
   "execution_count": 39,
   "metadata": {
    "collapsed": true
   },
   "outputs": [],
   "source": [
    "a_dataframe.to_excel(\"random-data.xls\", index=False)\n",
    "a_dataframe.to_csv(\"random-data.csv\", index=False) "
   ]
  },
  {
   "cell_type": "markdown",
   "metadata": {},
   "source": [
    "* Reading data is also super easy"
   ]
  },
  {
   "cell_type": "code",
   "execution_count": 41,
   "metadata": {
    "collapsed": false
   },
   "outputs": [
    {
     "data": {
      "text/html": [
       "<div>\n",
       "<table border=\"1\" class=\"dataframe\">\n",
       "  <thead>\n",
       "    <tr style=\"text-align: right;\">\n",
       "      <th></th>\n",
       "      <th>a</th>\n",
       "      <th>b</th>\n",
       "      <th>c</th>\n",
       "      <th>d</th>\n",
       "      <th>e</th>\n",
       "    </tr>\n",
       "  </thead>\n",
       "  <tbody>\n",
       "    <tr>\n",
       "      <th>0</th>\n",
       "      <td>0.195200</td>\n",
       "      <td>1.471513</td>\n",
       "      <td>0.447872</td>\n",
       "      <td>0.742578</td>\n",
       "      <td>hi</td>\n",
       "    </tr>\n",
       "    <tr>\n",
       "      <th>1</th>\n",
       "      <td>-1.467380</td>\n",
       "      <td>1.005069</td>\n",
       "      <td>-0.679448</td>\n",
       "      <td>-1.296169</td>\n",
       "      <td>hi</td>\n",
       "    </tr>\n",
       "    <tr>\n",
       "      <th>2</th>\n",
       "      <td>-0.126771</td>\n",
       "      <td>-0.448476</td>\n",
       "      <td>-0.007398</td>\n",
       "      <td>-1.293716</td>\n",
       "      <td>hi</td>\n",
       "    </tr>\n",
       "    <tr>\n",
       "      <th>3</th>\n",
       "      <td>-0.829169</td>\n",
       "      <td>0.287930</td>\n",
       "      <td>-0.329248</td>\n",
       "      <td>-0.391619</td>\n",
       "      <td>hi</td>\n",
       "    </tr>\n",
       "    <tr>\n",
       "      <th>4</th>\n",
       "      <td>1.894362</td>\n",
       "      <td>0.507544</td>\n",
       "      <td>-2.194929</td>\n",
       "      <td>2.227772</td>\n",
       "      <td>hi</td>\n",
       "    </tr>\n",
       "    <tr>\n",
       "      <th>5</th>\n",
       "      <td>-0.455285</td>\n",
       "      <td>0.721201</td>\n",
       "      <td>-0.024484</td>\n",
       "      <td>-1.249271</td>\n",
       "      <td>hi</td>\n",
       "    </tr>\n",
       "    <tr>\n",
       "      <th>6</th>\n",
       "      <td>-1.868823</td>\n",
       "      <td>-0.023902</td>\n",
       "      <td>-1.070258</td>\n",
       "      <td>-1.057628</td>\n",
       "      <td>hi</td>\n",
       "    </tr>\n",
       "    <tr>\n",
       "      <th>7</th>\n",
       "      <td>0.481177</td>\n",
       "      <td>1.726554</td>\n",
       "      <td>-0.459909</td>\n",
       "      <td>-0.348522</td>\n",
       "      <td>hi</td>\n",
       "    </tr>\n",
       "    <tr>\n",
       "      <th>8</th>\n",
       "      <td>0.461946</td>\n",
       "      <td>-0.272053</td>\n",
       "      <td>0.555865</td>\n",
       "      <td>1.455070</td>\n",
       "      <td>hi</td>\n",
       "    </tr>\n",
       "    <tr>\n",
       "      <th>9</th>\n",
       "      <td>1.469342</td>\n",
       "      <td>0.440828</td>\n",
       "      <td>-1.469929</td>\n",
       "      <td>-1.147367</td>\n",
       "      <td>hi</td>\n",
       "    </tr>\n",
       "    <tr>\n",
       "      <th>10</th>\n",
       "      <td>1.318531</td>\n",
       "      <td>-1.184896</td>\n",
       "      <td>0.108213</td>\n",
       "      <td>-2.652809</td>\n",
       "      <td>hi</td>\n",
       "    </tr>\n",
       "    <tr>\n",
       "      <th>11</th>\n",
       "      <td>-0.715273</td>\n",
       "      <td>-1.771749</td>\n",
       "      <td>-0.476682</td>\n",
       "      <td>1.074689</td>\n",
       "      <td>hi</td>\n",
       "    </tr>\n",
       "    <tr>\n",
       "      <th>12</th>\n",
       "      <td>0.340681</td>\n",
       "      <td>-2.238441</td>\n",
       "      <td>1.723926</td>\n",
       "      <td>-2.261482</td>\n",
       "      <td>hi</td>\n",
       "    </tr>\n",
       "    <tr>\n",
       "      <th>13</th>\n",
       "      <td>0.948599</td>\n",
       "      <td>1.145019</td>\n",
       "      <td>0.642341</td>\n",
       "      <td>-0.192459</td>\n",
       "      <td>hi</td>\n",
       "    </tr>\n",
       "    <tr>\n",
       "      <th>14</th>\n",
       "      <td>-1.725399</td>\n",
       "      <td>0.208998</td>\n",
       "      <td>0.332862</td>\n",
       "      <td>0.277811</td>\n",
       "      <td>hi</td>\n",
       "    </tr>\n",
       "    <tr>\n",
       "      <th>15</th>\n",
       "      <td>1.911594</td>\n",
       "      <td>0.500968</td>\n",
       "      <td>0.386674</td>\n",
       "      <td>-0.680614</td>\n",
       "      <td>hi</td>\n",
       "    </tr>\n",
       "    <tr>\n",
       "      <th>16</th>\n",
       "      <td>0.269013</td>\n",
       "      <td>0.597904</td>\n",
       "      <td>-0.239381</td>\n",
       "      <td>-0.945871</td>\n",
       "      <td>hi</td>\n",
       "    </tr>\n",
       "    <tr>\n",
       "      <th>17</th>\n",
       "      <td>0.609643</td>\n",
       "      <td>1.000152</td>\n",
       "      <td>1.075684</td>\n",
       "      <td>0.789990</td>\n",
       "      <td>hi</td>\n",
       "    </tr>\n",
       "    <tr>\n",
       "      <th>18</th>\n",
       "      <td>0.909984</td>\n",
       "      <td>-0.299750</td>\n",
       "      <td>-1.886791</td>\n",
       "      <td>-0.230973</td>\n",
       "      <td>hi</td>\n",
       "    </tr>\n",
       "    <tr>\n",
       "      <th>19</th>\n",
       "      <td>-0.834842</td>\n",
       "      <td>-0.870673</td>\n",
       "      <td>-0.629568</td>\n",
       "      <td>-0.912954</td>\n",
       "      <td>hi</td>\n",
       "    </tr>\n",
       "    <tr>\n",
       "      <th>20</th>\n",
       "      <td>0.108223</td>\n",
       "      <td>-0.742483</td>\n",
       "      <td>0.870948</td>\n",
       "      <td>0.272827</td>\n",
       "      <td>hi</td>\n",
       "    </tr>\n",
       "    <tr>\n",
       "      <th>21</th>\n",
       "      <td>0.310667</td>\n",
       "      <td>-0.220494</td>\n",
       "      <td>-0.733112</td>\n",
       "      <td>1.008447</td>\n",
       "      <td>hi</td>\n",
       "    </tr>\n",
       "    <tr>\n",
       "      <th>22</th>\n",
       "      <td>-1.334094</td>\n",
       "      <td>-1.455676</td>\n",
       "      <td>0.076898</td>\n",
       "      <td>-1.603281</td>\n",
       "      <td>hi</td>\n",
       "    </tr>\n",
       "    <tr>\n",
       "      <th>23</th>\n",
       "      <td>1.215530</td>\n",
       "      <td>-2.415782</td>\n",
       "      <td>-1.821654</td>\n",
       "      <td>-0.365152</td>\n",
       "      <td>hi</td>\n",
       "    </tr>\n",
       "    <tr>\n",
       "      <th>24</th>\n",
       "      <td>0.708383</td>\n",
       "      <td>0.411112</td>\n",
       "      <td>0.356446</td>\n",
       "      <td>1.447221</td>\n",
       "      <td>hi</td>\n",
       "    </tr>\n",
       "    <tr>\n",
       "      <th>25</th>\n",
       "      <td>-1.024141</td>\n",
       "      <td>-0.440211</td>\n",
       "      <td>0.569519</td>\n",
       "      <td>0.992510</td>\n",
       "      <td>hi</td>\n",
       "    </tr>\n",
       "    <tr>\n",
       "      <th>26</th>\n",
       "      <td>0.547769</td>\n",
       "      <td>0.576499</td>\n",
       "      <td>0.390148</td>\n",
       "      <td>0.023413</td>\n",
       "      <td>hi</td>\n",
       "    </tr>\n",
       "    <tr>\n",
       "      <th>27</th>\n",
       "      <td>-1.776340</td>\n",
       "      <td>0.957517</td>\n",
       "      <td>0.098811</td>\n",
       "      <td>0.259768</td>\n",
       "      <td>hi</td>\n",
       "    </tr>\n",
       "    <tr>\n",
       "      <th>28</th>\n",
       "      <td>-0.837603</td>\n",
       "      <td>-0.254053</td>\n",
       "      <td>-0.090065</td>\n",
       "      <td>-1.251397</td>\n",
       "      <td>hi</td>\n",
       "    </tr>\n",
       "    <tr>\n",
       "      <th>29</th>\n",
       "      <td>-0.078810</td>\n",
       "      <td>0.647083</td>\n",
       "      <td>-0.722462</td>\n",
       "      <td>-0.265362</td>\n",
       "      <td>hi</td>\n",
       "    </tr>\n",
       "    <tr>\n",
       "      <th>...</th>\n",
       "      <td>...</td>\n",
       "      <td>...</td>\n",
       "      <td>...</td>\n",
       "      <td>...</td>\n",
       "      <td>...</td>\n",
       "    </tr>\n",
       "    <tr>\n",
       "      <th>970</th>\n",
       "      <td>-1.687111</td>\n",
       "      <td>1.588347</td>\n",
       "      <td>-1.150845</td>\n",
       "      <td>-0.294375</td>\n",
       "      <td>hi</td>\n",
       "    </tr>\n",
       "    <tr>\n",
       "      <th>971</th>\n",
       "      <td>-0.544362</td>\n",
       "      <td>2.200697</td>\n",
       "      <td>0.827082</td>\n",
       "      <td>-0.345998</td>\n",
       "      <td>hi</td>\n",
       "    </tr>\n",
       "    <tr>\n",
       "      <th>972</th>\n",
       "      <td>0.375467</td>\n",
       "      <td>0.024828</td>\n",
       "      <td>1.132318</td>\n",
       "      <td>0.977846</td>\n",
       "      <td>hi</td>\n",
       "    </tr>\n",
       "    <tr>\n",
       "      <th>973</th>\n",
       "      <td>-0.904338</td>\n",
       "      <td>0.513799</td>\n",
       "      <td>0.052034</td>\n",
       "      <td>-0.030120</td>\n",
       "      <td>hi</td>\n",
       "    </tr>\n",
       "    <tr>\n",
       "      <th>974</th>\n",
       "      <td>-0.520909</td>\n",
       "      <td>-1.277849</td>\n",
       "      <td>-0.641681</td>\n",
       "      <td>-0.939304</td>\n",
       "      <td>hi</td>\n",
       "    </tr>\n",
       "    <tr>\n",
       "      <th>975</th>\n",
       "      <td>0.257926</td>\n",
       "      <td>-0.476056</td>\n",
       "      <td>0.382637</td>\n",
       "      <td>-0.343628</td>\n",
       "      <td>hi</td>\n",
       "    </tr>\n",
       "    <tr>\n",
       "      <th>976</th>\n",
       "      <td>-0.022015</td>\n",
       "      <td>-0.168963</td>\n",
       "      <td>0.948342</td>\n",
       "      <td>-0.193978</td>\n",
       "      <td>hi</td>\n",
       "    </tr>\n",
       "    <tr>\n",
       "      <th>977</th>\n",
       "      <td>-0.115801</td>\n",
       "      <td>-2.135518</td>\n",
       "      <td>0.349617</td>\n",
       "      <td>0.697843</td>\n",
       "      <td>hi</td>\n",
       "    </tr>\n",
       "    <tr>\n",
       "      <th>978</th>\n",
       "      <td>0.668141</td>\n",
       "      <td>-0.967671</td>\n",
       "      <td>0.919919</td>\n",
       "      <td>-0.264464</td>\n",
       "      <td>hi</td>\n",
       "    </tr>\n",
       "    <tr>\n",
       "      <th>979</th>\n",
       "      <td>-0.575074</td>\n",
       "      <td>0.993120</td>\n",
       "      <td>0.339274</td>\n",
       "      <td>-0.418490</td>\n",
       "      <td>hi</td>\n",
       "    </tr>\n",
       "    <tr>\n",
       "      <th>980</th>\n",
       "      <td>-0.525728</td>\n",
       "      <td>-2.021995</td>\n",
       "      <td>-0.933688</td>\n",
       "      <td>-0.690072</td>\n",
       "      <td>hi</td>\n",
       "    </tr>\n",
       "    <tr>\n",
       "      <th>981</th>\n",
       "      <td>-1.704445</td>\n",
       "      <td>-0.369670</td>\n",
       "      <td>-0.938018</td>\n",
       "      <td>0.793153</td>\n",
       "      <td>hi</td>\n",
       "    </tr>\n",
       "    <tr>\n",
       "      <th>982</th>\n",
       "      <td>0.531911</td>\n",
       "      <td>0.167518</td>\n",
       "      <td>-0.423615</td>\n",
       "      <td>-0.096458</td>\n",
       "      <td>hi</td>\n",
       "    </tr>\n",
       "    <tr>\n",
       "      <th>983</th>\n",
       "      <td>-1.242685</td>\n",
       "      <td>0.167854</td>\n",
       "      <td>1.018922</td>\n",
       "      <td>0.896711</td>\n",
       "      <td>hi</td>\n",
       "    </tr>\n",
       "    <tr>\n",
       "      <th>984</th>\n",
       "      <td>-2.674783</td>\n",
       "      <td>-1.203283</td>\n",
       "      <td>0.778616</td>\n",
       "      <td>-0.637059</td>\n",
       "      <td>hi</td>\n",
       "    </tr>\n",
       "    <tr>\n",
       "      <th>985</th>\n",
       "      <td>-1.306915</td>\n",
       "      <td>0.507325</td>\n",
       "      <td>-0.151521</td>\n",
       "      <td>-0.432589</td>\n",
       "      <td>hi</td>\n",
       "    </tr>\n",
       "    <tr>\n",
       "      <th>986</th>\n",
       "      <td>-1.322193</td>\n",
       "      <td>0.298746</td>\n",
       "      <td>0.685674</td>\n",
       "      <td>-0.477047</td>\n",
       "      <td>hi</td>\n",
       "    </tr>\n",
       "    <tr>\n",
       "      <th>987</th>\n",
       "      <td>0.106706</td>\n",
       "      <td>0.419202</td>\n",
       "      <td>0.854542</td>\n",
       "      <td>0.168844</td>\n",
       "      <td>hi</td>\n",
       "    </tr>\n",
       "    <tr>\n",
       "      <th>988</th>\n",
       "      <td>1.090841</td>\n",
       "      <td>2.572600</td>\n",
       "      <td>1.759922</td>\n",
       "      <td>0.846667</td>\n",
       "      <td>hi</td>\n",
       "    </tr>\n",
       "    <tr>\n",
       "      <th>989</th>\n",
       "      <td>-0.271730</td>\n",
       "      <td>0.851365</td>\n",
       "      <td>-0.636409</td>\n",
       "      <td>0.107462</td>\n",
       "      <td>hi</td>\n",
       "    </tr>\n",
       "    <tr>\n",
       "      <th>990</th>\n",
       "      <td>0.836010</td>\n",
       "      <td>0.060212</td>\n",
       "      <td>0.374984</td>\n",
       "      <td>-0.238871</td>\n",
       "      <td>hi</td>\n",
       "    </tr>\n",
       "    <tr>\n",
       "      <th>991</th>\n",
       "      <td>-1.492225</td>\n",
       "      <td>0.102794</td>\n",
       "      <td>0.557444</td>\n",
       "      <td>-0.221696</td>\n",
       "      <td>hi</td>\n",
       "    </tr>\n",
       "    <tr>\n",
       "      <th>992</th>\n",
       "      <td>-0.768700</td>\n",
       "      <td>-1.053390</td>\n",
       "      <td>-0.913775</td>\n",
       "      <td>-0.580076</td>\n",
       "      <td>hi</td>\n",
       "    </tr>\n",
       "    <tr>\n",
       "      <th>993</th>\n",
       "      <td>-0.947071</td>\n",
       "      <td>-2.341502</td>\n",
       "      <td>-1.494057</td>\n",
       "      <td>1.161260</td>\n",
       "      <td>hi</td>\n",
       "    </tr>\n",
       "    <tr>\n",
       "      <th>994</th>\n",
       "      <td>-0.151204</td>\n",
       "      <td>-1.976072</td>\n",
       "      <td>1.908078</td>\n",
       "      <td>-1.330443</td>\n",
       "      <td>hi</td>\n",
       "    </tr>\n",
       "    <tr>\n",
       "      <th>995</th>\n",
       "      <td>-0.201867</td>\n",
       "      <td>1.303376</td>\n",
       "      <td>-0.276134</td>\n",
       "      <td>-0.399333</td>\n",
       "      <td>hi</td>\n",
       "    </tr>\n",
       "    <tr>\n",
       "      <th>996</th>\n",
       "      <td>-0.233172</td>\n",
       "      <td>0.159232</td>\n",
       "      <td>1.398382</td>\n",
       "      <td>0.490431</td>\n",
       "      <td>hi</td>\n",
       "    </tr>\n",
       "    <tr>\n",
       "      <th>997</th>\n",
       "      <td>0.194740</td>\n",
       "      <td>-0.044352</td>\n",
       "      <td>-1.175685</td>\n",
       "      <td>0.610438</td>\n",
       "      <td>hi</td>\n",
       "    </tr>\n",
       "    <tr>\n",
       "      <th>998</th>\n",
       "      <td>1.003858</td>\n",
       "      <td>0.053377</td>\n",
       "      <td>-0.992018</td>\n",
       "      <td>0.300915</td>\n",
       "      <td>hi</td>\n",
       "    </tr>\n",
       "    <tr>\n",
       "      <th>999</th>\n",
       "      <td>0.126112</td>\n",
       "      <td>0.400421</td>\n",
       "      <td>-0.553286</td>\n",
       "      <td>-0.322495</td>\n",
       "      <td>hi</td>\n",
       "    </tr>\n",
       "  </tbody>\n",
       "</table>\n",
       "<p>1000 rows × 5 columns</p>\n",
       "</div>"
      ],
      "text/plain": [
       "            a         b         c         d   e\n",
       "0    0.195200  1.471513  0.447872  0.742578  hi\n",
       "1   -1.467380  1.005069 -0.679448 -1.296169  hi\n",
       "2   -0.126771 -0.448476 -0.007398 -1.293716  hi\n",
       "3   -0.829169  0.287930 -0.329248 -0.391619  hi\n",
       "4    1.894362  0.507544 -2.194929  2.227772  hi\n",
       "5   -0.455285  0.721201 -0.024484 -1.249271  hi\n",
       "6   -1.868823 -0.023902 -1.070258 -1.057628  hi\n",
       "7    0.481177  1.726554 -0.459909 -0.348522  hi\n",
       "8    0.461946 -0.272053  0.555865  1.455070  hi\n",
       "9    1.469342  0.440828 -1.469929 -1.147367  hi\n",
       "10   1.318531 -1.184896  0.108213 -2.652809  hi\n",
       "11  -0.715273 -1.771749 -0.476682  1.074689  hi\n",
       "12   0.340681 -2.238441  1.723926 -2.261482  hi\n",
       "13   0.948599  1.145019  0.642341 -0.192459  hi\n",
       "14  -1.725399  0.208998  0.332862  0.277811  hi\n",
       "15   1.911594  0.500968  0.386674 -0.680614  hi\n",
       "16   0.269013  0.597904 -0.239381 -0.945871  hi\n",
       "17   0.609643  1.000152  1.075684  0.789990  hi\n",
       "18   0.909984 -0.299750 -1.886791 -0.230973  hi\n",
       "19  -0.834842 -0.870673 -0.629568 -0.912954  hi\n",
       "20   0.108223 -0.742483  0.870948  0.272827  hi\n",
       "21   0.310667 -0.220494 -0.733112  1.008447  hi\n",
       "22  -1.334094 -1.455676  0.076898 -1.603281  hi\n",
       "23   1.215530 -2.415782 -1.821654 -0.365152  hi\n",
       "24   0.708383  0.411112  0.356446  1.447221  hi\n",
       "25  -1.024141 -0.440211  0.569519  0.992510  hi\n",
       "26   0.547769  0.576499  0.390148  0.023413  hi\n",
       "27  -1.776340  0.957517  0.098811  0.259768  hi\n",
       "28  -0.837603 -0.254053 -0.090065 -1.251397  hi\n",
       "29  -0.078810  0.647083 -0.722462 -0.265362  hi\n",
       "..        ...       ...       ...       ...  ..\n",
       "970 -1.687111  1.588347 -1.150845 -0.294375  hi\n",
       "971 -0.544362  2.200697  0.827082 -0.345998  hi\n",
       "972  0.375467  0.024828  1.132318  0.977846  hi\n",
       "973 -0.904338  0.513799  0.052034 -0.030120  hi\n",
       "974 -0.520909 -1.277849 -0.641681 -0.939304  hi\n",
       "975  0.257926 -0.476056  0.382637 -0.343628  hi\n",
       "976 -0.022015 -0.168963  0.948342 -0.193978  hi\n",
       "977 -0.115801 -2.135518  0.349617  0.697843  hi\n",
       "978  0.668141 -0.967671  0.919919 -0.264464  hi\n",
       "979 -0.575074  0.993120  0.339274 -0.418490  hi\n",
       "980 -0.525728 -2.021995 -0.933688 -0.690072  hi\n",
       "981 -1.704445 -0.369670 -0.938018  0.793153  hi\n",
       "982  0.531911  0.167518 -0.423615 -0.096458  hi\n",
       "983 -1.242685  0.167854  1.018922  0.896711  hi\n",
       "984 -2.674783 -1.203283  0.778616 -0.637059  hi\n",
       "985 -1.306915  0.507325 -0.151521 -0.432589  hi\n",
       "986 -1.322193  0.298746  0.685674 -0.477047  hi\n",
       "987  0.106706  0.419202  0.854542  0.168844  hi\n",
       "988  1.090841  2.572600  1.759922  0.846667  hi\n",
       "989 -0.271730  0.851365 -0.636409  0.107462  hi\n",
       "990  0.836010  0.060212  0.374984 -0.238871  hi\n",
       "991 -1.492225  0.102794  0.557444 -0.221696  hi\n",
       "992 -0.768700 -1.053390 -0.913775 -0.580076  hi\n",
       "993 -0.947071 -2.341502 -1.494057  1.161260  hi\n",
       "994 -0.151204 -1.976072  1.908078 -1.330443  hi\n",
       "995 -0.201867  1.303376 -0.276134 -0.399333  hi\n",
       "996 -0.233172  0.159232  1.398382  0.490431  hi\n",
       "997  0.194740 -0.044352 -1.175685  0.610438  hi\n",
       "998  1.003858  0.053377 -0.992018  0.300915  hi\n",
       "999  0.126112  0.400421 -0.553286 -0.322495  hi\n",
       "\n",
       "[1000 rows x 5 columns]"
      ]
     },
     "execution_count": 41,
     "metadata": {},
     "output_type": "execute_result"
    }
   ],
   "source": [
    "a_new_dataframe = pd.read_csv(\"random-data.csv\")\n",
    "a_new_dataframe"
   ]
  },
  {
   "cell_type": "code",
   "execution_count": 42,
   "metadata": {
    "collapsed": false
   },
   "outputs": [
    {
     "data": {
      "text/plain": [
       "a    float64\n",
       "b    float64\n",
       "c    float64\n",
       "d    float64\n",
       "e     object\n",
       "dtype: object"
      ]
     },
     "execution_count": 42,
     "metadata": {},
     "output_type": "execute_result"
    }
   ],
   "source": [
    "a_new_dataframe.dtypes"
   ]
  },
  {
   "cell_type": "markdown",
   "metadata": {},
   "source": [
    "## Plotting with Pandas\n",
    "\n",
    "* One of the other nice features of Pandas is how easy it is to create charts and graphs from Series and Dataframes\n",
    "* This is because of tight integration with [Matplotlib](http://matplotlib.org), which is the most popular plotting library for python"
   ]
  },
  {
   "cell_type": "code",
   "execution_count": 43,
   "metadata": {
    "collapsed": false
   },
   "outputs": [
    {
     "data": {
      "text/plain": [
       "<matplotlib.axes._subplots.AxesSubplot at 0x10765f438>"
      ]
     },
     "execution_count": 43,
     "metadata": {},
     "output_type": "execute_result"
    },
    {
     "data": {
      "image/png": "[encoded data removed]",
      "text/plain": [
       "<matplotlib.figure.Figure at 0x10765f908>"
      ]
     },
     "metadata": {},
     "output_type": "display_data"
    }
   ],
   "source": [
    "a_new_dataframe.plot()"
   ]
  },
  {
   "cell_type": "code",
   "execution_count": 45,
   "metadata": {
    "collapsed": false
   },
   "outputs": [
    {
     "data": {
      "text/plain": [
       "<matplotlib.axes._subplots.AxesSubplot at 0x107973c88>"
      ]
     },
     "execution_count": 45,
     "metadata": {},
     "output_type": "execute_result"
    },
    {
     "data": {
      "image/png": "[encoded data removed]",
      "text/plain": [
       "<matplotlib.figure.Figure at 0x107944198>"
      ]
     },
     "metadata": {},
     "output_type": "display_data"
    }
   ],
   "source": [
    "a_new_dataframe['a'].plot()"
   ]
  },
  {
   "cell_type": "markdown",
   "metadata": {},
   "source": [
    "* There are a lot of options for the `plot()` function\n",
    "* [The pandas documentation for `dataframe.plot()`](http://pandas.pydata.org/pandas-docs/stable/generated/pandas.DataFrame.plot.html) has a lot of good information"
   ]
  },
  {
   "cell_type": "code",
   "execution_count": 47,
   "metadata": {
    "collapsed": false
   },
   "outputs": [
    {
     "data": {
      "text/plain": [
       "<matplotlib.axes._subplots.AxesSubplot at 0x10755d240>"
      ]
     },
     "execution_count": 47,
     "metadata": {},
     "output_type": "execute_result"
    },
    {
     "data": {
      "image/png": "[encoded data removed]",
      "text/plain": [
       "<matplotlib.figure.Figure at 0x10752bcc0>"
      ]
     },
     "metadata": {},
     "output_type": "display_data"
    }
   ],
   "source": [
    "a_new_dataframe.plot(kind=\"box\")"
   ]
  },
  {
   "cell_type": "code",
   "execution_count": 49,
   "metadata": {
    "collapsed": false
   },
   "outputs": [
    {
     "data": {
      "text/plain": [
       "<matplotlib.axes._subplots.AxesSubplot at 0x10c6e2e10>"
      ]
     },
     "execution_count": 49,
     "metadata": {},
     "output_type": "execute_result"
    },
    {
     "data": {
      "image/png": "[encoded data removed]",
      "text/plain": [
       "<matplotlib.figure.Figure at 0x10c6dcc18>"
      ]
     },
     "metadata": {},
     "output_type": "display_data"
    }
   ],
   "source": [
    "a_new_dataframe.plot(kind=\"density\")"
   ]
  },
  {
   "cell_type": "code",
   "execution_count": 44,
   "metadata": {
    "collapsed": false
   },
   "outputs": [
    {
     "data": {
      "text/plain": [
       "array([[<matplotlib.axes._subplots.AxesSubplot object at 0x1075d75c0>,\n",
       "        <matplotlib.axes._subplots.AxesSubplot object at 0x103976da0>],\n",
       "       [<matplotlib.axes._subplots.AxesSubplot object at 0x1077062e8>,\n",
       "        <matplotlib.axes._subplots.AxesSubplot object at 0x1078d79e8>]], dtype=object)"
      ]
     },
     "execution_count": 44,
     "metadata": {},
     "output_type": "execute_result"
    },
    {
     "data": {
      "image/png": "[encoded data removed]",
      "text/plain": [
       "<matplotlib.figure.Figure at 0x1075d1048>"
      ]
     },
     "metadata": {},
     "output_type": "display_data"
    }
   ],
   "source": [
    "a_new_dataframe.hist()"
   ]
  },
  {
   "cell_type": "code",
   "execution_count": null,
   "metadata": {
    "collapsed": true
   },
   "outputs": [],
   "source": []
  }
 ],
 "metadata": {
  "kernelspec": {
   "display_name": "Python 3",
   "language": "python",
   "name": "python3"
  },
  "language_info": {
   "codemirror_mode": {
    "name": "ipython",
    "version": 3
   },
   "file_extension": ".py",
   "mimetype": "text/x-python",
   "name": "python",
   "nbconvert_exporter": "python",
   "pygments_lexer": "ipython3",
   "version": "3.4.2"
  }
 },
 "nbformat": 4,
 "nbformat_minor": 0
}
