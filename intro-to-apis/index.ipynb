{
 "cells": [
  {
   "cell_type": "markdown",
   "metadata": {},
   "source": [
    "# Introduction to APIs\n",
    "\n",
    "\n",
    "This tutorial introduces Application Programming Interfaces (APIs) using the Yelp API as an example. \n",
    "\n",
    "\n",
    "\n",
    "## Key Terminology\n",
    "\n",
    "- API: An Application Programming Interface is the mechanism by which computers can talk to other computers and share information.\n",
    "- REST API: This is a type of API that uses standard web protocols to communicate.  \n",
    "- Endpoint: This is a URL, just like you see in a web browser, for requesting specific kinds of data from the API.\n",
    "- Request: A request is how you initiate a conversation with an API in order to \"request\" information. Requests are made to specific endpoints.\n",
    "- Parameters: When you issue a request to an *endpoint*, that is make a web request, you usually include some parameters, like search terms, to refine your query.\n",
    "- Response: When you make an API request\n",
    "- JSON: JavaScript Object Notation is the data format many APIs use to communicate over tehe web.\n",
    "- Credentials/Authentication/Keys: Many APIs require some form of authentication in order to get information. Because APIs are computers talking to computers it is not a good practice to use usernames and passwords (those are for humans!). Instead, APIs often use a system called [OAuth](https://en.wikipedia.org/wiki/OAuth) in which the API service gives you an access token or a key instead of a password. *Don't share your access tokens!* \n",
    "\n",
    "\n",
    "\n",
    "Because every API is different, it is important to become familiar with the various endpoints and parameters by *reading the documentation*. Looking at [Yelp's documentation](https://www.yelp.com/developers/documentation/v2/overview) the API seems to be divided into three main functions:\n",
    "- [Search API](https://www.yelp.com/developers/documentation/v2/search_api): For searching Yelp through text queries, geographic area, or categories.\n",
    "- [Business API](https://www.yelp.com/developers/documentation/v2/business): For getting information about specific businesses.\n",
    "- [Phone Search API](https://www.yelp.com/developers/documentation/v2/phone_search): For finding businesses by their phone number.\n",
    "\n",
    "Before we dive into the Python code, we should play with the [Yelp API Console](https://www.yelp.com/developers/api_console). \n",
    "\n",
    "Note, we are going to cheat a little bit because we are going to use a 3rd party library, [yelp-python](https://github.com/Yelp/yelp-python) to do most of the heavy lifting.\n",
    "\n"
   ]
  },
  {
   "cell_type": "code",
   "execution_count": 2,
   "metadata": {
    "collapsed": false
   },
   "outputs": [
    {
     "name": "stdout",
     "output_type": "stream",
     "text": [
      "Collecting yelp\n",
      "  Downloading yelp-1.0.2.tar.gz\n",
      "Collecting httplib2 (from yelp)\n",
      "  Downloading httplib2-0.9.2.zip (210kB)\n",
      "Collecting oauth2 (from yelp)\n",
      "  Downloading oauth2-1.9.0.post1-py2.py3-none-any.whl\n",
      "Requirement already satisfied (use --upgrade to upgrade): six in c:\\users\\mcburton\\appdata\\local\\continuum\\anaconda3\\lib\\site-packages (from yelp)\n",
      "Building wheels for collected packages: yelp, httplib2\n",
      "  Running setup.py bdist_wheel for yelp: started\n",
      "  Running setup.py bdist_wheel for yelp: finished with status 'done'\n",
      "  Stored in directory: C:\\Users\\mcburton\\AppData\\Local\\pip\\Cache\\wheels\\d3\\1f\\a5\\0f0bb9c0d39a22643813579c9f00af832fea08c370c91e1efa\n",
      "  Running setup.py bdist_wheel for httplib2: started\n",
      "  Running setup.py bdist_wheel for httplib2: finished with status 'done'\n",
      "  Stored in directory: C:\\Users\\mcburton\\AppData\\Local\\pip\\Cache\\wheels\\c7\\67\\60\\e0be8ccfc1e08f8ff1f50d99ea5378e204580ea77b0169fb55\n",
      "Successfully built yelp httplib2\n",
      "Installing collected packages: httplib2, oauth2, yelp\n",
      "Successfully installed httplib2-0.9.2 oauth2-1.9.0.post1 yelp-1.0.2\n"
     ]
    },
    {
     "name": "stderr",
     "output_type": "stream",
     "text": [
      "You are using pip version 8.1.1, however version 8.1.2 is available.\n",
      "You should consider upgrading via the 'python -m pip install --upgrade pip' command.\n"
     ]
    }
   ],
   "source": [
    "# install the yelp library\n",
    "!pip install yelp"
   ]
  },
  {
   "cell_type": "markdown",
   "metadata": {},
   "source": [
    "In order to use the Yelp API we need to obtain API keys. "
   ]
  },
  {
   "cell_type": "code",
   "execution_count": 2,
   "metadata": {
    "collapsed": false
   },
   "outputs": [],
   "source": [
    "from yelp.client import Client\n",
    "from yelp.oauth1_authenticator import Oauth1Authenticator"
   ]
  },
  {
   "cell_type": "code",
   "execution_count": 3,
   "metadata": {
    "collapsed": true
   },
   "outputs": [],
   "source": [
    "credentials = {\n",
    "    \"consumer_key\": \"E0vHGj2yOBTfl_x6cMRiQg\",\n",
    "    \"consumer_secret\": \"0XsSbs3fondPxNKZLt_RvzuLlCg\",\n",
    "    \"token\": \"CQZ4hVAXGfffENIfYbzyG6eXTPtpkGCe\",\n",
    "    \"token_secret\": \"UYuLEkqfSs-bVutkUdsjOLiJgb8\"\n",
    "}"
   ]
  },
  {
   "cell_type": "code",
   "execution_count": 4,
   "metadata": {
    "collapsed": false
   },
   "outputs": [],
   "source": [
    "authenication = Oauth1Authenticator(**credentials)\n",
    "yelp = Client(authenication)"
   ]
  },
  {
   "cell_type": "code",
   "execution_count": 28,
   "metadata": {
    "collapsed": false
   },
   "outputs": [
    {
     "data": {
      "text/plain": [
       "yelp.obj.search_response.SearchResponse"
      ]
     },
     "execution_count": 28,
     "metadata": {},
     "output_type": "execute_result"
    }
   ],
   "source": [
    "results = yelp.search(\"pittsburgh\")\n",
    "type(results)"
   ]
  },
  {
   "cell_type": "code",
   "execution_count": 7,
   "metadata": {
    "collapsed": false
   },
   "outputs": [
    {
     "data": {
      "text/plain": [
       "'Gaucho Parrilla Argentina'"
      ]
     },
     "execution_count": 7,
     "metadata": {},
     "output_type": "execute_result"
    }
   ],
   "source": [
    "results.businesses[0].name"
   ]
  },
  {
   "cell_type": "code",
   "execution_count": 8,
   "metadata": {
    "collapsed": false
   },
   "outputs": [
    {
     "name": "stdout",
     "output_type": "stream",
     "text": [
      "Gaucho Parrilla Argentina 4.5\n",
      "Simpatico Espresso 5.0\n",
      "Amazing Cafe 4.5\n",
      "täkō 4.5\n",
      "Altius 4.5\n",
      "Butcher and the Rye 4.5\n",
      "Cafe Du Jour 4.5\n",
      "Mount Washington 4.5\n",
      "Doce Taqueria 4.5\n",
      "Eleven 4.0\n",
      "Monongahela Incline 4.5\n",
      "Prestogeorge Coffee & Tea 4.5\n",
      "Meat & Potatoes 4.0\n",
      "Phipps Conservatory and Botanical Gardens 4.5\n",
      "Espresso A Mano 4.5\n",
      "Umbrella Cafe 5.0\n",
      "Big Dog Coffee 4.5\n",
      "Las Palmas 4.5\n",
      "P&G's Pamela's Diner 4.0\n",
      "Dish Osteria and Bar 4.5\n"
     ]
    }
   ],
   "source": [
    "for business in results.businesses:\n",
    "    print(business.name, business.rating)"
   ]
  },
  {
   "cell_type": "code",
   "execution_count": 10,
   "metadata": {
    "collapsed": false
   },
   "outputs": [
    {
     "name": "stdout",
     "output_type": "stream",
     "text": [
      "Penn Ave Fish Company 4.5\n",
      "Duquesne Incline 4.5\n",
      "The Pub Chip Shop 4.5\n",
      "Nicky's Thai Kitchen 4.0\n",
      "S&D Polish Deli 4.5\n",
      "Piper's Pub 4.5\n",
      "Bakersfield Penn Ave 4.5\n",
      "Edgar Tacos Stand 5.0\n",
      "La Gourmandine Bakery & Pastry Shop 4.5\n",
      "Proper Brick Oven & Tap Room 4.0\n",
      "La Prima Espresso Co 4.5\n",
      "Alla Famiglia 4.5\n",
      "Madonna's Mediterranean Cuisine 4.5\n",
      "Point State Park 4.5\n",
      "Delanie's Coffee 4.5\n",
      "Nicky's Thai Kitchen 4.0\n",
      "Smallman Galley 4.0\n",
      "Pittsburgh Winery 4.5\n",
      "Carson Street Deli & Craft Beer Bar 4.5\n",
      "The Pretzel Shop 4.5\n"
     ]
    }
   ],
   "source": [
    "results = yelp.search(\"pittsburgh\", offset=20)\n",
    "for business in results.businesses:\n",
    "    print(business.name, business.rating)"
   ]
  },
  {
   "cell_type": "code",
   "execution_count": 14,
   "metadata": {
    "collapsed": false
   },
   "outputs": [
    {
     "name": "stdout",
     "output_type": "stream",
     "text": [
      "Robert Wholey and Co Fish Market 4.0 ['Strip District']\n",
      "Fat Heads Saloon 4.0 ['South Side']\n",
      "Strip District 4.5 ['Strip District']\n",
      "Point State Park Fountain 5.0 ['Downtown']\n",
      "Reyna Foods 4.0 ['Strip District']\n",
      "Winghart's Burger & Whiskey Bar 4.0 ['Downtown']\n",
      "Stone Neapolitan Pizzeria 4.0 ['Downtown']\n",
      "The Capital Grille 4.0 ['Downtown']\n",
      "Monterey Bay Fish Grotto 4.0 ['Duquesne Heights']\n",
      "The Smiling Moose 4.5 ['South Side']\n",
      "Café Raymond 4.5 ['Strip District']\n",
      "Gooski's 4.5 ['Polish Hill']\n",
      "Peppi's 4.5 ['North Side']\n",
      "Arnold's Tea 4.5 ['North Side']\n",
      "La Palapa, Mexican Gourmet Kitchen 4.5 ['South Side']\n",
      "Chicken Latino 4.0 ['Strip District']\n",
      "Kaya 4.0 ['Strip District']\n",
      "The Enrico Biscotti 4.0 ['Strip District']\n",
      "Sienna Mercato 4.0 ['Downtown']\n",
      "Seviche 4.0 ['Downtown']\n"
     ]
    }
   ],
   "source": [
    "results = yelp.search(\"pittsburgh\", offset=40)\n",
    "for business in results.businesses:\n",
    "    print(business.name, business.rating, business.location.neighborhoods)"
   ]
  },
  {
   "cell_type": "code",
   "execution_count": 24,
   "metadata": {
    "collapsed": false
   },
   "outputs": [
    {
     "name": "stdout",
     "output_type": "stream",
     "text": [
      "La Prima Espresso Co 4.5 ['Strip District']\n",
      "Alla Famiglia 4.5 ['Allentown']\n",
      "Madonna's Mediterranean Cuisine 4.5 ['Downtown']\n",
      "Point State Park 4.5 ['Downtown']\n",
      "Delanie's Coffee 4.5 ['South Side']\n",
      "Nicky's Thai Kitchen 4.0 ['North Side']\n",
      "Smallman Galley 4.0 ['Strip District']\n",
      "Pittsburgh Winery 4.5 ['Strip District']\n",
      "Carson Street Deli & Craft Beer Bar 4.5 ['South Side']\n",
      "The Pretzel Shop 4.5 ['South Side']\n",
      "Robert Wholey and Co Fish Market 4.0 ['Strip District']\n",
      "Fat Heads Saloon 4.0 ['South Side']\n",
      "Strip District 4.5 ['Strip District']\n",
      "Point State Park Fountain 5.0 ['Downtown']\n",
      "Reyna Foods 4.0 ['Strip District']\n",
      "Winghart's Burger & Whiskey Bar 4.0 ['Downtown']\n",
      "Stone Neapolitan Pizzeria 4.0 ['Downtown']\n",
      "The Capital Grille 4.0 ['Downtown']\n",
      "Monterey Bay Fish Grotto 4.0 ['Duquesne Heights']\n",
      "The Smiling Moose 4.5 ['South Side']\n"
     ]
    }
   ],
   "source": [
    "for business in yelp.search(\"pittsburgh\", sort=2).businesses:\n",
    "    print(business.name, business.rating, business.location.neighborhoods)"
   ]
  },
  {
   "cell_type": "markdown",
   "metadata": {},
   "source": [
    "Given this information, perhaps we can begin to ask questions of the data.\n",
    "\n",
    "Which neighborhood has the most top 40 restaurants in Pittsburgh? (The Yelp API only returns the top 40 results)."
   ]
  },
  {
   "cell_type": "code",
   "execution_count": 25,
   "metadata": {
    "collapsed": false
   },
   "outputs": [
    {
     "name": "stdout",
     "output_type": "stream",
     "text": [
      "Fetched 40 total businesses\n"
     ]
    }
   ],
   "source": [
    "# get the first 20\n",
    "businesses = yelp.search(\"pittsburgh\", sort=2).businesses\n",
    "# get the second 20\n",
    "businesses.extend(yelp.search(\"pittsburgh\", sort=2, offset=20).businesses)\n",
    "\n",
    "print(\"Fetched %s total businesses\" % len(businesses))"
   ]
  },
  {
   "cell_type": "code",
   "execution_count": 27,
   "metadata": {
    "collapsed": false
   },
   "outputs": [
    {
     "name": "stdout",
     "output_type": "stream",
     "text": [
      "Simpatico Espresso 5.0 ['Downtown']\n",
      "Edgar Tacos Stand 5.0 ['Strip District']\n",
      "Gaucho Parrilla Argentina 4.5 ['Strip District']\n",
      "Mount Washington 4.5 ['Mt. Washington']\n",
      "Amazing Cafe 4.5 ['South Side']\n",
      "Phipps Conservatory and Botanical Gardens 4.5 ['Oakland']\n",
      "Umbrella Cafe 5.0 ['Downtown']\n",
      "Prestogeorge Coffee & Tea 4.5 ['Strip District']\n",
      "Las Palmas 4.5 ['Oakland']\n",
      "Espresso A Mano 4.5 ['Lawrenceville']\n",
      "Doce Taqueria 4.5 ['South Side']\n",
      "Pittsburgh Winery 4.5 ['Strip District']\n",
      "Madonna's Mediterranean Cuisine 4.5 ['Downtown']\n",
      "Monongahela Incline 4.5 ['South Side']\n",
      "Altius 4.5 ['Duquesne Heights']\n",
      "Big Dog Coffee 4.5 ['South Side']\n",
      "Cafe Du Jour 4.5 ['South Side']\n",
      "Point State Park 4.5 ['Downtown']\n",
      "Bakersfield Penn Ave 4.5 ['Downtown']\n",
      "täkō 4.5 ['Downtown']\n",
      "La Prima Espresso Co 4.5 ['Strip District']\n",
      "The Pretzel Shop 4.5 ['South Side']\n",
      "La Gourmandine Bakery & Pastry Shop 4.5 ['Lawrenceville']\n",
      "S&D Polish Deli 4.5 ['Strip District']\n",
      "The Pub Chip Shop 4.5 ['South Side']\n",
      "Smallman Galley 4.0 ['Strip District']\n",
      "Dish Osteria and Bar 4.5 ['South Side']\n",
      "Delanie's Coffee 4.5 ['South Side']\n",
      "Duquesne Incline 4.5 ['South Side']\n",
      "Carson Street Deli & Craft Beer Bar 4.5 ['South Side']\n",
      "Alla Famiglia 4.5 ['Allentown']\n",
      "Butcher and the Rye 4.5 ['Downtown']\n",
      "Penn Ave Fish Company 4.5 ['Strip District']\n",
      "Piper's Pub 4.5 ['South Side']\n",
      "P&G's Pamela's Diner 4.0 ['Strip District']\n",
      "Nicky's Thai Kitchen 4.0 ['North Side']\n",
      "Nicky's Thai Kitchen 4.0 ['Downtown']\n",
      "Meat & Potatoes 4.0 ['Downtown']\n",
      "Proper Brick Oven & Tap Room 4.0 ['Downtown']\n",
      "Eleven 4.0 ['Strip District']\n"
     ]
    }
   ],
   "source": [
    "for business in businesses:\n",
    "    print(business.name, business.rating, business.location.neighborhoods)"
   ]
  },
  {
   "cell_type": "markdown",
   "metadata": {},
   "source": [
    "To help me quickly and easily count the values, I'm going to use an advanced data type from the Python Standard Library called a [`counter`](https://docs.python.org/2/library/collections.html#collections.Counter). This is why it is a good idea to check out the [documentation](https://docs.python.org/3/library/index.html), you never know if the thing you are trying to do has already been done. "
   ]
  },
  {
   "cell_type": "code",
   "execution_count": 29,
   "metadata": {
    "collapsed": true
   },
   "outputs": [],
   "source": [
    "from collections import Counter"
   ]
  },
  {
   "cell_type": "code",
   "execution_count": 33,
   "metadata": {
    "collapsed": false
   },
   "outputs": [
    {
     "data": {
      "text/plain": [
       "[('South Side', 12),\n",
       " ('Downtown', 10),\n",
       " ('Strip District', 10),\n",
       " ('Oakland', 2),\n",
       " ('Lawrenceville', 2),\n",
       " ('Mt. Washington', 1),\n",
       " ('North Side', 1),\n",
       " ('Duquesne Heights', 1),\n",
       " ('Allentown', 1)]"
      ]
     },
     "execution_count": 33,
     "metadata": {},
     "output_type": "execute_result"
    }
   ],
   "source": [
    "neighborhoods = [biz.location.neighborhoods[0] for biz in businesses]\n",
    "\n",
    "neighborhood_counts = Counter(neighborhoods)\n",
    "\n",
    "neighborhood_counts.most_common(20)"
   ]
  },
  {
   "cell_type": "markdown",
   "metadata": {},
   "source": [
    "Let's do a question together. Who has a question about Yelp data?"
   ]
  },
  {
   "cell_type": "code",
   "execution_count": null,
   "metadata": {
    "collapsed": true
   },
   "outputs": [],
   "source": []
  }
 ],
 "metadata": {
  "kernelspec": {
   "display_name": "Python 3",
   "language": "python",
   "name": "python3"
  },
  "language_info": {
   "codemirror_mode": {
    "name": "ipython",
    "version": 3
   },
   "file_extension": ".py",
   "mimetype": "text/x-python",
   "name": "python",
   "nbconvert_exporter": "python",
   "pygments_lexer": "ipython3",
   "version": "3.4.2"
  },
  "widgets": {
   "state": {},
   "version": "1.0.0"
  }
 },
 "nbformat": 4,
 "nbformat_minor": 0
}
