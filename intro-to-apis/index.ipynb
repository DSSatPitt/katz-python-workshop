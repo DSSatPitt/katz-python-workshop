{
 "cells": [
  {
   "cell_type": "markdown",
   "metadata": {},
   "source": [
    "# Introduction to APIs\n",
    "\n",
    "\n",
    "This tutorial introduces Application Programming Interfaces (APIs) using the Yelp API as an example. \n",
    "\n",
    "\n",
    "\n",
    "## Key Terminology\n",
    "\n",
    "- API: An Application Programming Interface is the mechanism by which computers can talk to other computers and share information.\n",
    "- REST API: This is a type of API that uses standard web protocols to communicate.  \n",
    "- Endpoint: This is a URL, just like you see in a web browser, for requesting specific kinds of data from the API.\n",
    "- Request: A request is how you initiate a conversation with an API in order to \"request\" information. Requests are made to specific endpoints.\n",
    "- Parameters: When you issue a request to an *endpoint*, that is make a web request, you usually include some parameters, like search terms, to refine your query.\n",
    "- Response: When you make an API request\n",
    "- JSON: JavaScript Object Notation is the data format many APIs use to communicate over tehe web.\n",
    "- Credentials/Authentication/Keys: Many APIs require some form of authentication in order to get information. Because APIs are computers talking to computers it is not a good practice to use usernames and passwords (those are for humans!). Instead, APIs often use a system called [OAuth](https://en.wikipedia.org/wiki/OAuth) in which the API service gives you an access token or a key instead of a password. *Don't share your access tokens!* \n",
    "\n",
    "\n",
    "\n",
    "Because every API is different, it is important to become familiar with the various endpoints and parameters by *reading the documentation*. Looking at [Yelp's documentation](https://www.yelp.com/developers/documentation/v2/overview) the API seems to be divided into three main functions:\n",
    "- [Search API](https://www.yelp.com/developers/documentation/v2/search_api): For searching Yelp through text queries, geographic area, or categories.\n",
    "- [Business API](https://www.yelp.com/developers/documentation/v2/business): For getting information about specific businesses.\n",
    "- [Phone Search API](https://www.yelp.com/developers/documentation/v2/phone_search): For finding businesses by their phone number.\n",
    "\n",
    "Before we dive into the Python code, we should play with the [Yelp API Console](https://www.yelp.com/developers/api_console). \n",
    "\n",
    "Note, we are going to cheat a little bit because we are going to use a 3rd party library, [yelp-python](https://github.com/Yelp/yelp-python) to do most of the heavy lifting.\n",
    "\n"
   ]
  },
  {
   "cell_type": "code",
   "execution_count": null,
   "metadata": {
    "collapsed": false
   },
   "outputs": [],
   "source": [
    "# install the yelp library\n",
    "    !pip install yelp"
   ]
  },
  {
   "cell_type": "markdown",
   "metadata": {},
   "source": [
    "In order to use the Yelp API we need to obtain API keys. "
   ]
  },
  {
   "cell_type": "code",
   "execution_count": null,
   "metadata": {
    "collapsed": false
   },
   "outputs": [],
   "source": [
    "from yelp.client import Client\n",
    "from yelp.oauth1_authenticator import Oauth1Authenticator"
   ]
  },
  {
   "cell_type": "code",
   "execution_count": null,
   "metadata": {
    "collapsed": true
   },
   "outputs": [],
   "source": [
    "credentials = {\n",
    "    \"consumer_key\": \"E0vHGj2yOBTfl_x6cMRiQg\",\n",
    "    \"consumer_secret\": \"0XsSbs3fondPxNKZLt_RvzuLlCg\",\n",
    "    \"token\": \"CQZ4hVAXGfffENIfYbzyG6eXTPtpkGCe\",\n",
    "    \"token_secret\": \"UYuLEkqfSs-bVutkUdsjOLiJgb8\"\n",
    "}"
   ]
  },
  {
   "cell_type": "code",
   "execution_count": null,
   "metadata": {
    "collapsed": false
   },
   "outputs": [],
   "source": [
    "#authenication = Oauth1Authenticator(credentials)\n",
    "\n",
    "authenication = Oauth1Authenticator(consumer_key=\"E0vHGj2yOBTfl_x6cMRiQg\",\n",
    "    consumer_secret=\"0XsSbs3fondPxNKZLt_RvzuLlCg\",\n",
    "    token=\"CQZ4hVAXGfffENIfYbzyG6eXTPtpkGCe\",\n",
    "    token_secret=\"UYuLEkqfSs-bVutkUdsjOLiJgb8\")\n",
    "\n",
    "\n",
    "\n",
    "yelp = Client(authenication)"
   ]
  },
  {
   "cell_type": "code",
   "execution_count": null,
   "metadata": {
    "collapsed": false
   },
   "outputs": [],
   "source": [
    "results = yelp.search(\"pittsburgh\")\n",
    "type(results)"
   ]
  },
  {
   "cell_type": "code",
   "execution_count": null,
   "metadata": {
    "collapsed": false
   },
   "outputs": [],
   "source": [
    "results.businesses"
   ]
  },
  {
   "cell_type": "code",
   "execution_count": null,
   "metadata": {
    "collapsed": false
   },
   "outputs": [],
   "source": [
    "len(results.businesses)"
   ]
  },
  {
   "cell_type": "code",
   "execution_count": null,
   "metadata": {
    "collapsed": false
   },
   "outputs": [],
   "source": [
    "results.businesses[0].name"
   ]
  },
  {
   "cell_type": "code",
   "execution_count": null,
   "metadata": {
    "collapsed": false
   },
   "outputs": [],
   "source": [
    "for business in results.businesses:\n",
    "    print(business.name, business.rating)"
   ]
  },
  {
   "cell_type": "code",
   "execution_count": null,
   "metadata": {
    "collapsed": false
   },
   "outputs": [],
   "source": [
    "results = yelp.search(\"pittsburgh\", offset=20)\n",
    "for business in results.businesses:\n",
    "    print(business.name, business.rating)"
   ]
  },
  {
   "cell_type": "code",
   "execution_count": null,
   "metadata": {
    "collapsed": false
   },
   "outputs": [],
   "source": [
    "results = yelp.search(\"pittsburgh\", offset=40)\n",
    "for business in results.businesses:\n",
    "    print(business.name, business.rating, business.location.neighborhoods)"
   ]
  },
  {
   "cell_type": "code",
   "execution_count": null,
   "metadata": {
    "collapsed": false
   },
   "outputs": [],
   "source": [
    "dir(results.businesses)"
   ]
  },
  {
   "cell_type": "code",
   "execution_count": null,
   "metadata": {
    "collapsed": false
   },
   "outputs": [],
   "source": [
    "type(results.businesses)"
   ]
  },
  {
   "cell_type": "code",
   "execution_count": null,
   "metadata": {
    "collapsed": false
   },
   "outputs": [],
   "source": [
    "dir(results.businesses[0])"
   ]
  },
  {
   "cell_type": "code",
   "execution_count": null,
   "metadata": {
    "collapsed": false
   },
   "outputs": [],
   "source": [
    "for business in yelp.search(\"pittsburgh\", sort=2).businesses:\n",
    "    print(business.name, business.rating, business.location.neighborhoods)"
   ]
  },
  {
   "cell_type": "code",
   "execution_count": null,
   "metadata": {
    "collapsed": true
   },
   "outputs": [],
   "source": []
  },
  {
   "cell_type": "markdown",
   "metadata": {},
   "source": [
    "Given this information, perhaps we can begin to ask questions of the data.\n",
    "\n",
    "Which neighborhood has the most top 40 restaurants in Pittsburgh? (The Yelp API only returns the top 40 results)."
   ]
  },
  {
   "cell_type": "code",
   "execution_count": null,
   "metadata": {
    "collapsed": false
   },
   "outputs": [],
   "source": [
    "# get the first 20\n",
    "businesses = yelp.search(\"pittsburgh\", sort=2).businesses\n",
    "# get the second 20\n",
    "businesses.extend(yelp.search(\"pittsburgh\", sort=2, offset=20).businesses)\n",
    "\n",
    "print(\"Fetched %s total businesses\" % len(businesses))"
   ]
  },
  {
   "cell_type": "code",
   "execution_count": null,
   "metadata": {
    "collapsed": false
   },
   "outputs": [],
   "source": [
    "many_reviews = []\n",
    "\n",
    "for business in businesses:\n",
    "    \n",
    "    if business.review_count > 100:\n",
    "        #print(business.name, business.rating, business.review_count)\n",
    "         many_reviews.append(business)\n",
    "    "
   ]
  },
  {
   "cell_type": "code",
   "execution_count": null,
   "metadata": {
    "collapsed": false
   },
   "outputs": [],
   "source": [
    "#print(len(many_reviews))\n",
    "\n",
    "for biz in many_reviews:\n",
    "    print(biz.name)"
   ]
  },
  {
   "cell_type": "code",
   "execution_count": null,
   "metadata": {
    "collapsed": false
   },
   "outputs": [],
   "source": [
    "with open(\"top-businesses-in-pittsburgh.txt\", 'w', encoding=\"utf-8\") as f:\n",
    "    for dog in many_reviews:\n",
    "        print(dog.name + \",\" + str(dog.review_count))\n",
    "        f.write(dog.name + \",\" + str(dog.review_count) + \"\\n\")"
   ]
  },
  {
   "cell_type": "markdown",
   "metadata": {},
   "source": [
    "To help me quickly and easily count the values, I'm going to use an advanced data type from the Python Standard Library called a [`counter`](https://docs.python.org/2/library/collections.html#collections.Counter). This is why it is a good idea to check out the [documentation](https://docs.python.org/3/library/index.html), you never know if the thing you are trying to do has already been done. "
   ]
  },
  {
   "cell_type": "code",
   "execution_count": null,
   "metadata": {
    "collapsed": true
   },
   "outputs": [],
   "source": [
    "from collections import Counter"
   ]
  },
  {
   "cell_type": "code",
   "execution_count": null,
   "metadata": {
    "collapsed": false
   },
   "outputs": [],
   "source": [
    "neighborhoods = [biz.location.neighborhoods[0] for biz in businesses]\n",
    "\n",
    "neighborhood_counts = Counter(neighborhoods)\n",
    "\n",
    "neighborhood_counts.most_common(20)"
   ]
  },
  {
   "cell_type": "markdown",
   "metadata": {},
   "source": [
    "Let's do a question together. Who has a question about Yelp data?"
   ]
  },
  {
   "cell_type": "code",
   "execution_count": null,
   "metadata": {
    "collapsed": true
   },
   "outputs": [],
   "source": []
  }
 ],
 "metadata": {
  "kernelspec": {
   "display_name": "Python 3",
   "language": "python",
   "name": "python3"
  },
  "language_info": {
   "codemirror_mode": {
    "name": "ipython",
    "version": 3
   },
   "file_extension": ".py",
   "mimetype": "text/x-python",
   "name": "python",
   "nbconvert_exporter": "python",
   "pygments_lexer": "ipython3",
   "version": "3.6.0"
  }
 },
 "nbformat": 4,
 "nbformat_minor": 0
}
