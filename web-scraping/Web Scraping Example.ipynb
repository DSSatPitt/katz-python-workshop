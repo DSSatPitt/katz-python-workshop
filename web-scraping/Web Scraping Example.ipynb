{
 "cells": [
  {
   "cell_type": "markdown",
   "metadata": {},
   "source": [
    "# Scraping Livingsocial data"
   ]
  },
  {
   "cell_type": "markdown",
   "metadata": {},
   "source": [
    "The purpose of this exercise is to demonstrate some basic web scraping practices using the python programming language. To assist with this exercise we are going to use two 3rd party libraries: An HTTP library called [Requests](http://docs.python-requests.org/en/master/) and a web scraping library called [Beautiful Soup](https://www.crummy.com/software/BeautifulSoup/) ([documentation](https://www.crummy.com/software/BeautifulSoup/bs4/doc/)). "
   ]
  },
  {
   "cell_type": "code",
   "execution_count": 1,
   "metadata": {
    "collapsed": false
   },
   "outputs": [],
   "source": [
    "# import 3rd party libraries for fetching and parsing HTML documents \n",
    "from bs4 import BeautifulSoup\n",
    "import requests"
   ]
  },
  {
   "cell_type": "markdown",
   "metadata": {},
   "source": [
    "This tutorial will scrape search results from [Livingsocial](https://www.livingsocial.com/browse/cities/49/searches?utf8=%E2%9C%93&city_search_id=49&country_search_id=1&query=&city_name=Pittsburgh), specifically we are interested in collecting all of information about deals in Pittsburgh in a tabular format.\n",
    "\n",
    "- The base URL is: https://www.livingsocial.com/browse/cities/49/searches?utf8=%E2%9C%93&city_search_id=49&country_search_id=1&query=&city_name=Pittsburgh\n",
    "\n",
    "\n",
    "Why are we scraping Livingsocial?\n",
    "\n",
    "http://monocle.livingsocial.com/"
   ]
  },
  {
   "cell_type": "code",
   "execution_count": 2,
   "metadata": {
    "collapsed": true
   },
   "outputs": [],
   "source": [
    "# put the base URL for the web scrape into a variable called \"urly\"\n",
    "entrypoint = \"https://www.livingsocial.com/browse/cities/49/searches?utf8=%E2%9C%93&city_search_id=49&country_search_id=1&query=&city_name=Pittsburgh\""
   ]
  },
  {
   "cell_type": "code",
   "execution_count": 3,
   "metadata": {
    "collapsed": false
   },
   "outputs": [],
   "source": [
    "# fetch the web page containing the Livingsocial deals\n",
    "response = requests.get(entrypoint) "
   ]
  },
  {
   "cell_type": "code",
   "execution_count": 4,
   "metadata": {
    "collapsed": false
   },
   "outputs": [],
   "source": [
    "# parse the HTML document with Beautiful Soup \n",
    "search_results_page = BeautifulSoup(response.content, 'html.parser')\n"
   ]
  },
  {
   "cell_type": "markdown",
   "metadata": {},
   "source": [
    "Ok, now we have *fetched* and *parsed* the HTML document we can *extract* data.\n",
    "\n",
    "What data do we want to extract? How about a list of all the events!\n",
    "\n",
    "Lets do an *inspect element* on the [listings page](https://www.livingsocial.com/browse/cities/49/searches?utf8=%E2%9C%93&city_search_id=49&country_search_id=1&query=&city_name=Pittsburgh) and see what the HTML structure looks like.\n",
    "\n",
    "![The Livingsocial deals page for Pittsburgh](livingsocial-listings.png)\n",
    "\n",
    "If you look carefully you can see the tag for each deal:\n",
    "`<li dealid=\"1558890\" class=\"deal-tile facet-active search-result multiple-price-points\" data-ga-data=\"\" itemscope=\"\" itemtype=\"http://schema.org/Offer\">` \n",
    "\n",
    "indentifies each row in the list of deals. We can use that to select only the information we want from the rest of the page.\n",
    "\n",
    "\n",
    "  "
   ]
  },
  {
   "cell_type": "code",
   "execution_count": 5,
   "metadata": {
    "collapsed": false
   },
   "outputs": [
    {
     "data": {
      "text/plain": [
       "20"
      ]
     },
     "execution_count": 5,
     "metadata": {},
     "output_type": "execute_result"
    }
   ],
   "source": [
    "deals = search_results_page.findAll(\"li\", \"deal-tile\")\n",
    "len(deals)"
   ]
  },
  {
   "cell_type": "markdown",
   "metadata": {},
   "source": [
    "Ok, we've extracted 20 deals from the first page of the search results, now we need to extract the relevant information from the HTML structure. Here is what one of those elements looks like:"
   ]
  },
  {
   "cell_type": "code",
   "execution_count": 6,
   "metadata": {
    "collapsed": false
   },
   "outputs": [
    {
     "name": "stdout",
     "output_type": "stream",
     "text": [
      "<li class=\"deal-tile facet-active search-result multiple-price-points\" data-ga-data=\"\" dealid=\"1558890\" itemscope=\"\" itemtype=\"http://schema.org/Offer\">\n",
      " <a class=\"search-wrapper\" href=\"https://www.livingsocial.com/deals/1558890-pottery-making-class-or-studio-rental-party?pos=0\">\n",
      "  <meta content=\"2016-12-07T09:59:59+00:00\" itemprop=\"availabilityEnds\">\n",
      "   <meta content=\"USD\" itemprop=\"priceCurrency\">\n",
      "    <div class=\"deal-image\">\n",
      "     <div class=\"horizontal-img\">\n",
      "      <img alt=\"Pottery-Making Class or Studio Rental Party\" itemprop=\"image\" src=\"https://a1.lscdn.net/imgs/566ee091-0736-47c7-b0b4-4e246b4ccbb4/340_q60.jpg\">\n",
      "      </img>\n",
      "     </div>\n",
      "     <div class=\"image-border\">\n",
      "     </div>\n",
      "    </div>\n",
      "    <div class=\"deal-details\">\n",
      "     <h2 itemprop=\"name\">\n",
      "      Pottery-Making Class or Studio Rental Party\n",
      "     </h2>\n",
      "     <h3 class=\"\" itemprop=\"seller\">\n",
      "      Little House Big Art\n",
      "     </h3>\n",
      "     <p class=\"description\">\n",
      "      It's all about thinking outside the box and getting your hands dirty at Little House Big Art, the charming Northside art studio bathed in a rainbow...\n",
      "     </p>\n",
      "     <p class=\"location\">\n",
      "      Pittsburgh\n",
      "     </p>\n",
      "    </div>\n",
      "    <div class=\"deal-prices\">\n",
      "     <div class=\"from\">\n",
      "      from\n",
      "     </div>\n",
      "     <div class=\"deal-strikethrough-price\">\n",
      "      <sup>\n",
      "       $\n",
      "      </sup>\n",
      "      50\n",
      "     </div>\n",
      "     <div class=\"deal-price\" itemprop=\"price\">\n",
      "      <sup>\n",
      "       $\n",
      "      </sup>\n",
      "      24.99\n",
      "     </div>\n",
      "    </div>\n",
      "    <div class=\"deal-bottom-border\">\n",
      "    </div>\n",
      "   </meta>\n",
      "  </meta>\n",
      " </a>\n",
      "</li>\n",
      "\n"
     ]
    }
   ],
   "source": [
    "print(deals[0].prettify())"
   ]
  },
  {
   "cell_type": "markdown",
   "metadata": {},
   "source": [
    "So we can use Beautiful Soup's `find()` function to extract specific pieces of information from this HTML structure. For more infomation about the find function, see the [Beautiful Soup documentation](https://www.crummy.com/software/BeautifulSoup/bs4/doc/#find). Then, once we have the HTML tag of interest we can get the data of interest."
   ]
  },
  {
   "cell_type": "code",
   "execution_count": 10,
   "metadata": {
    "collapsed": false
   },
   "outputs": [
    {
     "name": "stdout",
     "output_type": "stream",
     "text": [
      "<h2 itemprop=\"name\">Pottery-Making Class or Studio Rental Party</h2>\n"
     ]
    }
   ],
   "source": [
    "deal = deals[0]\n",
    "name = deal.find(\"h2\", itemprop=\"name\")\n",
    "print(name)"
   ]
  },
  {
   "cell_type": "code",
   "execution_count": 8,
   "metadata": {
    "collapsed": true
   },
   "outputs": [],
   "source": [
    "# oops we just want the text content, not the whole element\n",
    "print(name.text)"
   ]
  },
  {
   "cell_type": "markdown",
   "metadata": {},
   "source": [
    "Now we need to write some code that extracts all of the various bits of information from the HTML structure for each of the deals. Looking at the HTML we can see the name, seller, a description, a location, the URL for that specific deal, a price and something called the strikethrough price (to show the savings I guess). "
   ]
  },
  {
   "cell_type": "code",
   "execution_count": 97,
   "metadata": {
    "collapsed": false
   },
   "outputs": [],
   "source": [
    "deal = deals[0]\n",
    "deal_id = deal['dealid']\n",
    "name = deal.find(\"h2\", itemprop=\"name\")\n",
    "seller = deal.find(\"h3\", itemprop=\"seller\")\n",
    "description = deal.find(\"p\", \"description\")\n",
    "location = deal.find(\"p\", \"location\")\n",
    "url = deal.find(\"a\", \"search-wrapper\")\n",
    "price = deal.find(\"div\", \"deal-price\")\n",
    "strikethrough_price = deal.find(\"div\", \"deal-strikethrough-price\")"
   ]
  },
  {
   "cell_type": "code",
   "execution_count": 100,
   "metadata": {
    "collapsed": false
   },
   "outputs": [
    {
     "name": "stdout",
     "output_type": "stream",
     "text": [
      "11777\n"
     ]
    }
   ],
   "source": [
    "print(deal_id)"
   ]
  },
  {
   "cell_type": "code",
   "execution_count": 18,
   "metadata": {
    "collapsed": false
   },
   "outputs": [
    {
     "name": "stdout",
     "output_type": "stream",
     "text": [
      "Pottery-Making Class or Studio Rental Party\n"
     ]
    }
   ],
   "source": [
    "print(name.text)"
   ]
  },
  {
   "cell_type": "code",
   "execution_count": 20,
   "metadata": {
    "collapsed": false
   },
   "outputs": [
    {
     "name": "stdout",
     "output_type": "stream",
     "text": [
      "Little House Big Art\n"
     ]
    }
   ],
   "source": [
    "print(seller.text)"
   ]
  },
  {
   "cell_type": "code",
   "execution_count": 25,
   "metadata": {
    "collapsed": false
   },
   "outputs": [
    {
     "name": "stdout",
     "output_type": "stream",
     "text": [
      "It's all about thinking outside the box and getting your hands dirty at Little House Big Art, the charming Northside art studio bathed in a rainbow...\n"
     ]
    }
   ],
   "source": [
    "print(description.text)"
   ]
  },
  {
   "cell_type": "code",
   "execution_count": 26,
   "metadata": {
    "collapsed": false
   },
   "outputs": [
    {
     "name": "stdout",
     "output_type": "stream",
     "text": [
      "Pittsburgh\n"
     ]
    }
   ],
   "source": [
    "print(location.text)"
   ]
  },
  {
   "cell_type": "code",
   "execution_count": 29,
   "metadata": {
    "collapsed": false
   },
   "outputs": [
    {
     "name": "stdout",
     "output_type": "stream",
     "text": [
      "https://www.livingsocial.com/deals/1558890-pottery-making-class-or-studio-rental-party?pos=0\n"
     ]
    }
   ],
   "source": [
    "print(url['href'])"
   ]
  },
  {
   "cell_type": "code",
   "execution_count": 30,
   "metadata": {
    "collapsed": false
   },
   "outputs": [
    {
     "name": "stdout",
     "output_type": "stream",
     "text": [
      "$24.99\n"
     ]
    }
   ],
   "source": [
    "print(price.text)"
   ]
  },
  {
   "cell_type": "code",
   "execution_count": 31,
   "metadata": {
    "collapsed": false
   },
   "outputs": [
    {
     "name": "stdout",
     "output_type": "stream",
     "text": [
      "$50\n"
     ]
    }
   ],
   "source": [
    "print(strikethrough_price.text)"
   ]
  },
  {
   "cell_type": "markdown",
   "metadata": {},
   "source": [
    "At this point I want to show you want my screen looks like:\n",
    "\n",
    "![The process of webscraping](desktop-view.png)\n",
    "\n",
    "Great! Now that we know how scrape the information from the page, it is time to assemble a \"spider\" that can \"crawl\" through multiple search pages.\n",
    "\n",
    "We've currently scraped 20 deals, but we know by visiting the search page that there are a lot more. We need some code to automatically go to the next page of search results, scrape the deals listings, and repeat. \n",
    "\n",
    "We need to find the URL for the next page and then repeat the scraping process.\n",
    "\n",
    "![HTML for the next button](next-button.png)\n",
    "\n",
    "Looking at the HTML structure I can see it is very easy to find the next button because it has the CSS class `next_page`."
   ]
  },
  {
   "cell_type": "code",
   "execution_count": 32,
   "metadata": {
    "collapsed": false
   },
   "outputs": [
    {
     "name": "stdout",
     "output_type": "stream",
     "text": [
      "/browse/cities/49/searches?city_name=Pittsburgh&city_search_id=49&country_search_id=1&page=2&query=&utf8=%E2%9C%93\n"
     ]
    }
   ],
   "source": [
    "next_button = search_results_page.find(\"a\", \"next_page\")\n",
    "\n",
    "print(next_button['href'])"
   ]
  },
  {
   "cell_type": "markdown",
   "metadata": {
    "collapsed": true
   },
   "source": [
    "Sweet! This is all the information I need to build spider/crawler/scraper to automate the process.\n",
    "\n",
    "In the cells below we can assemble the code from the exploratory analysis to automate the web scraping process. \n",
    "The first cell below defines a function for extracting data from the HTML structure of a deal. The second cell "
   ]
  },
  {
   "cell_type": "code",
   "execution_count": 92,
   "metadata": {
    "collapsed": true
   },
   "outputs": [],
   "source": [
    "def extract_deal_data(deal):\n",
    "    \"\"\"This function takes the raw deal HTML and \n",
    "    extracts eight data points into a python dictionary.\"\"\"\n",
    "\n",
    "    data = {}\n",
    "    try:\n",
    "        data['id'] = deal['dealid'] \n",
    "    except:\n",
    "        data['id'] = \"\"\n",
    "    try:\n",
    "        data['name'] = deal.find(\"h2\", itemprop=\"name\").text\n",
    "    except:\n",
    "        data['name'] = \"\"\n",
    "    try:\n",
    "        data['seller'] = deal.find(\"h3\", itemprop=\"seller\").text \n",
    "    except:\n",
    "        data['seller'] = \"\"\n",
    "    try:\n",
    "        data['description'] = deal.find(\"p\", \"description\").text\n",
    "    except:\n",
    "        data['description'] = \"\"\n",
    "    try:\n",
    "        data['location'] = deal.find(\"p\", \"location\").text\n",
    "    except:\n",
    "        data['location'] = \"\"\n",
    "    try:\n",
    "        data['url'] = deal.find(\"a\", \"search-wrapper\")['href']\n",
    "    except:\n",
    "        data['url'] = \"\"\n",
    "    try:\n",
    "        data['price'] = deal.find(\"div\", \"deal-price\").text\n",
    "    except:\n",
    "        data['price'] = \"\"\n",
    "    try:\n",
    "        data['strikethrough-price'] = deal.find(\"div\", \"deal-strikethrough-price\").text\n",
    "    except:\n",
    "        data['strikethrough-price'] = \"\"\n",
    "    \n",
    "    return data"
   ]
  },
  {
   "cell_type": "code",
   "execution_count": 93,
   "metadata": {
    "collapsed": false
   },
   "outputs": [
    {
     "name": "stdout",
     "output_type": "stream",
     "text": [
      "Starting crawl.\n",
      "Collected 500 results so far\n",
      "Collected 1000 results so far\n",
      "Reached the end of the search results. Found 1418 deals.\n",
      "Crawl completed.\n"
     ]
    }
   ],
   "source": [
    "# set some needed variables \n",
    "base = \"https://www.livingsocial.com\"\n",
    "url = \"https://www.livingsocial.com/browse/cities/49/searches?utf8=%E2%9C%93&city_search_id=49&country_search_id=1&query=&city_name=Pittsburgh\"\n",
    "\n",
    "# create a global container\n",
    "all_deals = []\n",
    "\n",
    "# we are going to loop as long as this variable is true\n",
    "crawl = True\n",
    "\n",
    "print(\"Starting crawl.\")\n",
    "\n",
    "while crawl:\n",
    "    \n",
    "    # fetch the page, parse, and get the deals listing\n",
    "    response = requests.get(url)\n",
    "    search_results_page = BeautifulSoup(response.content, 'html.parser')\n",
    "    raw_deals = search_results_page.findAll(\"li\", \"deal-tile\")\n",
    "    \n",
    "    # save the results to a global container\n",
    "    extracted_deals = [extract_deal_data(deal) for deal in raw_deals]\n",
    "    all_deals.extend(extracted_deals)\n",
    "    \n",
    "    # print periodic crawl updates\n",
    "    if len(all_deals) % 500 == 0:\n",
    "        print(\"Collected %d results so far\" % len(all_deals))\n",
    "    \n",
    "    # extract the Next button HTML element\n",
    "    next_button = search_results_page.find(\"a\", \"next_page\")\n",
    "    \n",
    "    # if the CSS class contains disabled, then we've readched the end.\n",
    "    if 'disabled' in next_button['class']:\n",
    "        print(\"Reached the end of the search results. Found %s deals.\" % len(all_deals))\n",
    "        \n",
    "        # setting the crawl variable to false to break the while loop\n",
    "        crawl = False\n",
    "        break\n",
    "    # set the next url to the contents of the next button\n",
    "    url = base + next_button['href']\n",
    "\n",
    "print(\"Crawl completed.\")"
   ]
  },
  {
   "cell_type": "code",
   "execution_count": 94,
   "metadata": {
    "collapsed": false
   },
   "outputs": [
    {
     "data": {
      "text/plain": [
       "{'description': \"It's all about thinking outside the box and getting your hands dirty at Little House Big Art, the charming Northside art studio bathed in a rainbow...\",\n",
       " 'id': '1558890',\n",
       " 'location': 'Pittsburgh',\n",
       " 'name': 'Pottery-Making Class or Studio Rental Party',\n",
       " 'price': '$24.99',\n",
       " 'seller': 'Little House Big Art',\n",
       " 'strikethrough-price': '$50',\n",
       " 'url': 'https://www.livingsocial.com/deals/1558890-pottery-making-class-or-studio-rental-party?pos=0'}"
      ]
     },
     "execution_count": 94,
     "metadata": {},
     "output_type": "execute_result"
    }
   ],
   "source": [
    "# inspect the contents of the first deal\n",
    "all_deals[0]"
   ]
  },
  {
   "cell_type": "code",
   "execution_count": 101,
   "metadata": {
    "collapsed": false
   },
   "outputs": [
    {
     "data": {
      "text/html": [
       "<div>\n",
       "<table border=\"1\" class=\"dataframe\">\n",
       "  <thead>\n",
       "    <tr style=\"text-align: right;\">\n",
       "      <th></th>\n",
       "      <th>description</th>\n",
       "      <th>id</th>\n",
       "      <th>location</th>\n",
       "      <th>name</th>\n",
       "      <th>price</th>\n",
       "      <th>seller</th>\n",
       "      <th>strikethrough-price</th>\n",
       "      <th>url</th>\n",
       "    </tr>\n",
       "  </thead>\n",
       "  <tbody>\n",
       "    <tr>\n",
       "      <th>0</th>\n",
       "      <td>It's all about thinking outside the box and ge...</td>\n",
       "      <td>1558890</td>\n",
       "      <td>Pittsburgh</td>\n",
       "      <td>Pottery-Making Class or Studio Rental Party</td>\n",
       "      <td>$24.99</td>\n",
       "      <td>Little House Big Art</td>\n",
       "      <td>$50</td>\n",
       "      <td>https://www.livingsocial.com/deals/1558890-pot...</td>\n",
       "    </tr>\n",
       "    <tr>\n",
       "      <th>1</th>\n",
       "      <td>Whether you prefer the tactical nuances of woo...</td>\n",
       "      <td>1479546</td>\n",
       "      <td>Pittsburgh</td>\n",
       "      <td>All-Day Paintball Field Pass</td>\n",
       "      <td>$12</td>\n",
       "      <td>Pittsburgh Paintball Park</td>\n",
       "      <td>$25</td>\n",
       "      <td>https://www.livingsocial.com/deals/1479546-all...</td>\n",
       "    </tr>\n",
       "    <tr>\n",
       "      <th>2</th>\n",
       "      <td>The owners of this massage studio love seeing ...</td>\n",
       "      <td>1516152</td>\n",
       "      <td>Pittsburgh</td>\n",
       "      <td>Swedish, Deep-Tissue, or Prenatal Massage</td>\n",
       "      <td>$39</td>\n",
       "      <td>Honor Your Body Wellness</td>\n",
       "      <td>$75</td>\n",
       "      <td>https://www.livingsocial.com/deals/1516152-swe...</td>\n",
       "    </tr>\n",
       "    <tr>\n",
       "      <th>3</th>\n",
       "      <td>Whether you're an aspiring professional or you...</td>\n",
       "      <td>1480622</td>\n",
       "      <td>Pittsburgh</td>\n",
       "      <td>Group or Private Makeup Class</td>\n",
       "      <td>$32</td>\n",
       "      <td>The Powder Room PA</td>\n",
       "      <td>$55</td>\n",
       "      <td>https://www.livingsocial.com/deals/1480622-gro...</td>\n",
       "    </tr>\n",
       "    <tr>\n",
       "      <th>4</th>\n",
       "      <td>Personalize a piece of canvas or pottery -- al...</td>\n",
       "      <td>1308702</td>\n",
       "      <td>Pittsburgh</td>\n",
       "      <td>BYOB Canvas or Pottery Painting</td>\n",
       "      <td>$22</td>\n",
       "      <td>Kiln N Time</td>\n",
       "      <td>$35</td>\n",
       "      <td>https://www.livingsocial.com/deals/1308702-byo...</td>\n",
       "    </tr>\n",
       "  </tbody>\n",
       "</table>\n",
       "</div>"
      ],
      "text/plain": [
       "                                         description       id    location  \\\n",
       "0  It's all about thinking outside the box and ge...  1558890  Pittsburgh   \n",
       "1  Whether you prefer the tactical nuances of woo...  1479546  Pittsburgh   \n",
       "2  The owners of this massage studio love seeing ...  1516152  Pittsburgh   \n",
       "3  Whether you're an aspiring professional or you...  1480622  Pittsburgh   \n",
       "4  Personalize a piece of canvas or pottery -- al...  1308702  Pittsburgh   \n",
       "\n",
       "                                          name   price  \\\n",
       "0  Pottery-Making Class or Studio Rental Party  $24.99   \n",
       "1                 All-Day Paintball Field Pass     $12   \n",
       "2    Swedish, Deep-Tissue, or Prenatal Massage     $39   \n",
       "3                Group or Private Makeup Class     $32   \n",
       "4              BYOB Canvas or Pottery Painting     $22   \n",
       "\n",
       "                      seller strikethrough-price  \\\n",
       "0       Little House Big Art                 $50   \n",
       "1  Pittsburgh Paintball Park                 $25   \n",
       "2   Honor Your Body Wellness                 $75   \n",
       "3         The Powder Room PA                 $55   \n",
       "4                Kiln N Time                 $35   \n",
       "\n",
       "                                                 url  \n",
       "0  https://www.livingsocial.com/deals/1558890-pot...  \n",
       "1  https://www.livingsocial.com/deals/1479546-all...  \n",
       "2  https://www.livingsocial.com/deals/1516152-swe...  \n",
       "3  https://www.livingsocial.com/deals/1480622-gro...  \n",
       "4  https://www.livingsocial.com/deals/1308702-byo...  "
      ]
     },
     "execution_count": 101,
     "metadata": {},
     "output_type": "execute_result"
    }
   ],
   "source": [
    "clean_data = DataFrame(all_deals)\n",
    "clean_data.head()"
   ]
  },
  {
   "cell_type": "code",
   "execution_count": 96,
   "metadata": {
    "collapsed": true
   },
   "outputs": [],
   "source": [
    "clean_data.to_csv(\"scraped-data.csv\")"
   ]
  },
  {
   "cell_type": "code",
   "execution_count": null,
   "metadata": {
    "collapsed": true
   },
   "outputs": [],
   "source": []
  }
 ],
 "metadata": {
  "kernelspec": {
   "display_name": "Python 3",
   "language": "python",
   "name": "python3"
  },
  "language_info": {
   "codemirror_mode": {
    "name": "ipython",
    "version": 3
   },
   "file_extension": ".py",
   "mimetype": "text/x-python",
   "name": "python",
   "nbconvert_exporter": "python",
   "pygments_lexer": "ipython3",
   "version": "3.4.2"
  },
  "widgets": {
   "state": {},
   "version": "1.0.0"
  }
 },
 "nbformat": 4,
 "nbformat_minor": 0
}
