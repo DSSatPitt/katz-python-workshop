{
 "cells": [
  {
   "cell_type": "markdown",
   "metadata": {
    "deletable": true,
    "editable": true
   },
   "source": [
    "# Scraping Indeed Job listings for the term \"Data Scientist\"\n",
    "\n",
    "This little demo will scrape job listings and company information from Indeed.com\n",
    "\n",
    "This code has been taken from a post on the NYC Data Science Academy website titled [Project 3: Web Scraping Company Data from Indeed.com and Dice.com](http://blog.nycdatascience.com/student-works/project-3-web-scraping-company-data-from-indeed-com-and-dice-com/) by [Sung Pil Moon](http://blog.nycdatascience.com/author/monspo1/).\n",
    "\n",
    "I have modified the code to work properly with Indeed.com's new HTML structure."
   ]
  },
  {
   "cell_type": "markdown",
   "metadata": {
    "deletable": true,
    "editable": true
   },
   "source": [
    "## Scraping the listings\n",
    "\n",
    "First we need to get the job listings, if you click the link below you can see the page we are going to scrape:\n",
    "https://www.indeed.com/jobs?q=data+scientist&jt=fulltime&sort=date\n",
    "\n",
    "There are 21,209 listings! This is way too many to copy and past by hand, lets automate it!"
   ]
  },
  {
   "cell_type": "code",
   "execution_count": 12,
   "metadata": {
    "collapsed": false,
    "deletable": true,
    "editable": true
   },
   "outputs": [
    {
     "name": "stdout",
     "output_type": "stream",
     "text": [
      "http://www.indeed.com\n"
     ]
    }
   ],
   "source": [
    "# import libraries\n",
    "from bs4 import BeautifulSoup as Soup\n",
    "import requests\n",
    "import pandas as pd\n",
    "\n",
    "# indeed.com url\n",
    "base_url = 'http://www.indeed.com/jobs?q=data+scientist&jt=fulltime&sort='\n",
    "sort_by = 'date'          # sort by data\n",
    "start_from = '&start='    # start page number\n",
    "home_url = \"http://www.indeed.com\"\n",
    "print(home_url)"
   ]
  },
  {
   "cell_type": "code",
   "execution_count": 6,
   "metadata": {
    "collapsed": false,
    "deletable": true,
    "editable": true
   },
   "outputs": [
    {
     "name": "stdout",
     "output_type": "stream",
     "text": [
      "Scraping page 0\n",
      "Scraping page 10\n",
      "Scraping page 20\n",
      "Scraping page 30\n",
      "Scraping page 40\n",
      "Scrapting Finish! Collected 748 job postings!\n"
     ]
    }
   ],
   "source": [
    "# Create a list to contain all the job postings\n",
    "job_listings = []\n",
    "\n",
    "for page in range(0,500,10): # page from 1 to 100 (last page we can scrape is 100)\n",
    "    if page % 100 == 0:\n",
    "        print(\"Scraping page {}\".format(page // 10))\n",
    "    url = \"%s%s%s%d\" % (base_url, sort_by, start_from, page) # get full url\n",
    "    target = Soup(requests.get(url).text, \"lxml\") \n",
    "\n",
    "    targetElements = target.findAll('div', attrs={'class' : 'result'}) # we're interested in each row (= each job)\n",
    "    \n",
    "    # trying to get each specific job information (such as company name, job title, urls, ...)\n",
    "    for elem in targetElements:\n",
    "        \n",
    "        try:\n",
    "            comp_name = elem.find('span', \"company\").text.strip()\n",
    "            job_title = elem.find('a', attrs={'class':'turnstileLink'}).attrs['title']\n",
    "            job_addr = elem.find('span',\"location\").text\n",
    "            job_link = \"%s%s\" % (home_url,elem.find('a').get('href'))\n",
    "            job_summary = elem.find('span',\"summary\").text.strip()\n",
    "\n",
    "            if elem.find('span', \"company\").find(\"a\"):\n",
    "\n",
    "                company_link = elem.find('span', \"company\").find(\"a\")\n",
    "                comp_link_overall = \"%s%s\" % (home_url, company_link['href'])\n",
    "            else:\n",
    "                comp_link_overall = None\n",
    "\n",
    "            # add a job info to our data frame\n",
    "            job_listings.append({'company_name': comp_name, \n",
    "                                 'job_title': job_title, \n",
    "                                 'job_link': job_link,\n",
    "                                 'job_summary': job_summary,\n",
    "                                 'company_link': comp_link_overall, \n",
    "                                 'job_location': job_addr})\n",
    "        \n",
    "        # Some ofthe listings are missing information, we are going to skip them\n",
    "        except:\n",
    "            print(\"Bad data on search page\")\n",
    "            print(url)\n",
    "            \n",
    "print(\"Scrapting Finish! Collected {} job postings!\".format(len(job_listings)))"
   ]
  },
  {
   "cell_type": "code",
   "execution_count": 8,
   "metadata": {
    "collapsed": false,
    "deletable": true,
    "editable": true
   },
   "outputs": [
    {
     "data": {
      "text/html": [
       "<div>\n",
       "<table border=\"1\" class=\"dataframe\">\n",
       "  <thead>\n",
       "    <tr style=\"text-align: right;\">\n",
       "      <th></th>\n",
       "      <th>company_link</th>\n",
       "      <th>company_name</th>\n",
       "      <th>job_link</th>\n",
       "      <th>job_location</th>\n",
       "      <th>job_summary</th>\n",
       "      <th>job_title</th>\n",
       "    </tr>\n",
       "  </thead>\n",
       "  <tbody>\n",
       "    <tr>\n",
       "      <th>0</th>\n",
       "      <td>http://www.indeed.com/cmp/Allegheny-General-Ho...</td>\n",
       "      <td>Allegheny General Hospital</td>\n",
       "      <td>http://www.indeed.com/rc/clk?jk=805f6ed65b49dd...</td>\n",
       "      <td>Pittsburgh, PA</td>\n",
       "      <td>Allegheny Health Network’s clinical expertise ...</td>\n",
       "      <td>Research Data Analyst - Neurosurgery</td>\n",
       "    </tr>\n",
       "    <tr>\n",
       "      <th>1</th>\n",
       "      <td>http://www.indeed.com/cmp/Marathon-Oil</td>\n",
       "      <td>Marathon Petroleum Corporation</td>\n",
       "      <td>http://www.indeed.com/rc/clk?jk=b28767d68e08b1...</td>\n",
       "      <td>Findlay, OH</td>\n",
       "      <td>The vision for the Advanced Analytics team is ...</td>\n",
       "      <td>Data Scientist</td>\n",
       "    </tr>\n",
       "    <tr>\n",
       "      <th>2</th>\n",
       "      <td>http://www.indeed.com/cmp/Oracle</td>\n",
       "      <td>Oracle</td>\n",
       "      <td>http://www.indeed.com/rc/clk?jk=56e6eae3c307f9...</td>\n",
       "      <td>United States</td>\n",
       "      <td>The Cloud Data Curation team is looking for Sc...</td>\n",
       "      <td>Data Scientist 5</td>\n",
       "    </tr>\n",
       "    <tr>\n",
       "      <th>3</th>\n",
       "      <td>http://www.indeed.com/cmp/Google</td>\n",
       "      <td>Google</td>\n",
       "      <td>http://www.indeed.com/rc/clk?jk=35f4fa4d806cc9...</td>\n",
       "      <td>Mountain View, CA</td>\n",
       "      <td>From creating experiments and prototyping impl...</td>\n",
       "      <td>Research Scientist, Google Brain (United States)</td>\n",
       "    </tr>\n",
       "    <tr>\n",
       "      <th>4</th>\n",
       "      <td>http://www.indeed.com/cmp/Childrens-Hospital-L...</td>\n",
       "      <td>Childrens Hospital Los Angeles</td>\n",
       "      <td>http://www.indeed.com/rc/clk?jk=ff4d4e425d9c76...</td>\n",
       "      <td>Los Angeles, CA</td>\n",
       "      <td>The Data Scientist conducts research in medica...</td>\n",
       "      <td>Data Scientist, VPICU</td>\n",
       "    </tr>\n",
       "  </tbody>\n",
       "</table>\n",
       "</div>"
      ],
      "text/plain": [
       "                                        company_link  \\\n",
       "0  http://www.indeed.com/cmp/Allegheny-General-Ho...   \n",
       "1             http://www.indeed.com/cmp/Marathon-Oil   \n",
       "2                   http://www.indeed.com/cmp/Oracle   \n",
       "3                   http://www.indeed.com/cmp/Google   \n",
       "4  http://www.indeed.com/cmp/Childrens-Hospital-L...   \n",
       "\n",
       "                     company_name  \\\n",
       "0      Allegheny General Hospital   \n",
       "1  Marathon Petroleum Corporation   \n",
       "2                          Oracle   \n",
       "3                          Google   \n",
       "4  Childrens Hospital Los Angeles   \n",
       "\n",
       "                                            job_link       job_location  \\\n",
       "0  http://www.indeed.com/rc/clk?jk=805f6ed65b49dd...     Pittsburgh, PA   \n",
       "1  http://www.indeed.com/rc/clk?jk=b28767d68e08b1...        Findlay, OH   \n",
       "2  http://www.indeed.com/rc/clk?jk=56e6eae3c307f9...      United States   \n",
       "3  http://www.indeed.com/rc/clk?jk=35f4fa4d806cc9...  Mountain View, CA   \n",
       "4  http://www.indeed.com/rc/clk?jk=ff4d4e425d9c76...    Los Angeles, CA   \n",
       "\n",
       "                                         job_summary  \\\n",
       "0  Allegheny Health Network’s clinical expertise ...   \n",
       "1  The vision for the Advanced Analytics team is ...   \n",
       "2  The Cloud Data Curation team is looking for Sc...   \n",
       "3  From creating experiments and prototyping impl...   \n",
       "4  The Data Scientist conducts research in medica...   \n",
       "\n",
       "                                          job_title  \n",
       "0              Research Data Analyst - Neurosurgery  \n",
       "1                                    Data Scientist  \n",
       "2                                  Data Scientist 5  \n",
       "3  Research Scientist, Google Brain (United States)  \n",
       "4                             Data Scientist, VPICU  "
      ]
     },
     "execution_count": 8,
     "metadata": {},
     "output_type": "execute_result"
    }
   ],
   "source": [
    "jobs_dataframe = pd.DataFrame(job_listings)\n",
    "jobs_dataframe.to_csv(\"jobs-data.csv\", index=False)\n",
    "jobs_dataframe.head()"
   ]
  },
  {
   "cell_type": "markdown",
   "metadata": {
    "deletable": true,
    "editable": true
   },
   "source": [
    "## Getting Information about the company\n",
    "\n",
    "OK, now that I have information about all of the listings, why don't we try and get some information about the companies posting those jobs. Here is an example of a company page:\n",
    "https://www.indeed.com/cmp/Kpmg?from=SERP&fromjk=2cc9b68015bf617f&jcid=2dd390c3a48a7ed0&attributionid=serp-linkcompanyname"
   ]
  },
  {
   "cell_type": "code",
   "execution_count": 9,
   "metadata": {
    "collapsed": false,
    "deletable": true,
    "editable": true
   },
   "outputs": [
    {
     "name": "stdout",
     "output_type": "stream",
     "text": [
      "748\n",
      "219\n"
     ]
    }
   ],
   "source": [
    "# remove duplicate company URLs\n",
    "company_urls = set(listing['company_link'] for listing in job_listings)\n",
    "print(len(job_listings))\n",
    "print(len(company_urls))"
   ]
  },
  {
   "cell_type": "code",
   "execution_count": 10,
   "metadata": {
    "collapsed": false,
    "deletable": true,
    "editable": true
   },
   "outputs": [
    {
     "name": "stdout",
     "output_type": "stream",
     "text": [
      "Scraping company 0 of 219\n",
      "Scraping company 50 of 219\n",
      "Scraping company 100 of 219\n",
      "Scraping company 150 of 219\n",
      "Scraping company 200 of 219\n"
     ]
    }
   ],
   "source": [
    "company_info = []\n",
    "\n",
    "for i,company_url in enumerate(company_urls):\n",
    "    if i % 50 == 0:\n",
    "        total_listings = len(company_urls)\n",
    "        print(\"Scraping company {} of {}\".format(i, total_listings))\n",
    "    \n",
    "    # skip the None \n",
    "    if not company_url:\n",
    "        continue\n",
    "\n",
    "    company_page = Soup(requests.get(company_url).text, \"lxml\")\n",
    "    \n",
    "    \n",
    "    # get the company ratings\n",
    "    ratings = company_page.find_all('span','cmp-star-rating')\n",
    "    \n",
    "    company_info.append({\n",
    "    'url'                          : company_url,\n",
    "    'overall_rating'               : float(company_page.find('span','cmp-average-rating').text),\n",
    "    'wl_balanace_rating'           : float(ratings[0].text),\n",
    "    'compensation_benefits_rating' : float(ratings[1].text),\n",
    "    'js_advancement_rating'        : float(ratings[2].text),\n",
    "    'management_rating'            : float(ratings[3].text),\n",
    "    'culture_rating'               : float(ratings[4].text)})\n",
    "    \n",
    "    \n",
    "    "
   ]
  },
  {
   "cell_type": "code",
   "execution_count": 80,
   "metadata": {
    "collapsed": false,
    "deletable": true,
    "editable": true
   },
   "outputs": [
    {
     "data": {
      "text/html": [
       "<div>\n",
       "<table border=\"1\" class=\"dataframe\">\n",
       "  <thead>\n",
       "    <tr style=\"text-align: right;\">\n",
       "      <th></th>\n",
       "      <th>compensation_benefits_rating</th>\n",
       "      <th>culture_rating</th>\n",
       "      <th>js_advancement_rating</th>\n",
       "      <th>management_rating</th>\n",
       "      <th>overall_rating</th>\n",
       "      <th>url</th>\n",
       "      <th>wl_balanace_rating</th>\n",
       "    </tr>\n",
       "  </thead>\n",
       "  <tbody>\n",
       "    <tr>\n",
       "      <th>0</th>\n",
       "      <td>3.9</td>\n",
       "      <td>3.5</td>\n",
       "      <td>3.3</td>\n",
       "      <td>3.4</td>\n",
       "      <td>3.9</td>\n",
       "      <td>http://www.indeed.com/cmp/Population-Council</td>\n",
       "      <td>3.8</td>\n",
       "    </tr>\n",
       "    <tr>\n",
       "      <th>1</th>\n",
       "      <td>3.6</td>\n",
       "      <td>3.8</td>\n",
       "      <td>3.2</td>\n",
       "      <td>3.9</td>\n",
       "      <td>4.0</td>\n",
       "      <td>http://www.indeed.com/cmp/Ensco,-Inc.</td>\n",
       "      <td>4.1</td>\n",
       "    </tr>\n",
       "    <tr>\n",
       "      <th>2</th>\n",
       "      <td>3.9</td>\n",
       "      <td>3.6</td>\n",
       "      <td>3.3</td>\n",
       "      <td>3.4</td>\n",
       "      <td>3.8</td>\n",
       "      <td>http://www.indeed.com/cmp/General-Dynamics-Inf...</td>\n",
       "      <td>3.7</td>\n",
       "    </tr>\n",
       "    <tr>\n",
       "      <th>3</th>\n",
       "      <td>3.2</td>\n",
       "      <td>3.8</td>\n",
       "      <td>2.9</td>\n",
       "      <td>3.4</td>\n",
       "      <td>3.5</td>\n",
       "      <td>http://www.indeed.com/cmp/Mintel</td>\n",
       "      <td>3.7</td>\n",
       "    </tr>\n",
       "    <tr>\n",
       "      <th>4</th>\n",
       "      <td>3.8</td>\n",
       "      <td>3.8</td>\n",
       "      <td>3.6</td>\n",
       "      <td>3.5</td>\n",
       "      <td>4.0</td>\n",
       "      <td>http://www.indeed.com/cmp/ADP</td>\n",
       "      <td>3.8</td>\n",
       "    </tr>\n",
       "  </tbody>\n",
       "</table>\n",
       "</div>"
      ],
      "text/plain": [
       "   compensation_benefits_rating  culture_rating  js_advancement_rating  \\\n",
       "0                           3.9             3.5                    3.3   \n",
       "1                           3.6             3.8                    3.2   \n",
       "2                           3.9             3.6                    3.3   \n",
       "3                           3.2             3.8                    2.9   \n",
       "4                           3.8             3.8                    3.6   \n",
       "\n",
       "   management_rating  overall_rating  \\\n",
       "0                3.4             3.9   \n",
       "1                3.9             4.0   \n",
       "2                3.4             3.8   \n",
       "3                3.4             3.5   \n",
       "4                3.5             4.0   \n",
       "\n",
       "                                                 url  wl_balanace_rating  \n",
       "0       http://www.indeed.com/cmp/Population-Council                 3.8  \n",
       "1              http://www.indeed.com/cmp/Ensco,-Inc.                 4.1  \n",
       "2  http://www.indeed.com/cmp/General-Dynamics-Inf...                 3.7  \n",
       "3                   http://www.indeed.com/cmp/Mintel                 3.7  \n",
       "4                      http://www.indeed.com/cmp/ADP                 3.8  "
      ]
     },
     "execution_count": 80,
     "metadata": {},
     "output_type": "execute_result"
    }
   ],
   "source": [
    "company_dataframe = pd.DataFrame(company_info)\n",
    "company_dataframe.to_csv(\"company-data.csv\", index=False)\n",
    "company_dataframe.head()"
   ]
  },
  {
   "cell_type": "code",
   "execution_count": null,
   "metadata": {
    "collapsed": true,
    "deletable": true,
    "editable": true
   },
   "outputs": [],
   "source": []
  },
  {
   "cell_type": "code",
   "execution_count": null,
   "metadata": {
    "collapsed": true,
    "deletable": true,
    "editable": true
   },
   "outputs": [],
   "source": []
  }
 ],
 "metadata": {
  "kernelspec": {
   "display_name": "Python 3",
   "language": "python",
   "name": "python3"
  },
  "language_info": {
   "codemirror_mode": {
    "name": "ipython",
    "version": 3
   },
   "file_extension": ".py",
   "mimetype": "text/x-python",
   "name": "python",
   "nbconvert_exporter": "python",
   "pygments_lexer": "ipython3",
   "version": "3.4.2"
  }
 },
 "nbformat": 4,
 "nbformat_minor": 2
}
