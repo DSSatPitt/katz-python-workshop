{
 "cells": [
  {
   "cell_type": "markdown",
   "metadata": {
    "deletable": true,
    "editable": true
   },
   "source": [
    "# Scraping Data from Livingsocial "
   ]
  },
  {
   "cell_type": "markdown",
   "metadata": {
    "deletable": true,
    "editable": true
   },
   "source": [
    "The purpose of this exercise is to demonstrate some basic web scraping practices using the python programming language. To assist with this exercise we are going to use two 3rd party libraries: An HTTP library called [Requests](http://docs.python-requests.org/en/master/) and a web scraping library called [Beautiful Soup](https://www.crummy.com/software/BeautifulSoup/) ([documentation](https://www.crummy.com/software/BeautifulSoup/bs4/doc/)). "
   ]
  },
  {
   "cell_type": "code",
   "execution_count": 3,
   "metadata": {
    "collapsed": false,
    "deletable": true,
    "editable": true
   },
   "outputs": [],
   "source": [
    "# import 3rd party libraries for fetching and parsing HTML documents \n",
    "from bs4 import BeautifulSoup\n",
    "import requests"
   ]
  },
  {
   "cell_type": "markdown",
   "metadata": {
    "deletable": true,
    "editable": true
   },
   "source": [
    "This tutorial will scrape search results from [Livingsocial](https://www.livingsocial.com/browse/cities/49/searches?utf8=%E2%9C%93&city_search_id=49&country_search_id=1&query=&city_name=Pittsburgh), specifically we are interested in collecting all of information about deals in Pittsburgh in a tabular format.\n",
    "\n",
    "- The base URL is: https://www.livingsocial.com/browse/cities/49/searches?utf8=%E2%9C%93&city_search_id=49&country_search_id=1&query=&city_name=Pittsburgh\n",
    "\n",
    "\n",
    "Why are we scraping Livingsocial?\n",
    "\n",
    "http://monocle.livingsocial.com/"
   ]
  },
  {
   "cell_type": "code",
   "execution_count": 2,
   "metadata": {
    "collapsed": true,
    "deletable": true,
    "editable": true
   },
   "outputs": [],
   "source": [
    "# put the base URL for the web scrape into a variable called \"urly\"\n",
    "entrypoint = \"https://www.livingsocial.com/browse/cities/49/searches?utf8=%E2%9C%93&city_search_id=49&country_search_id=1&query=&city_name=Pittsburgh\""
   ]
  },
  {
   "cell_type": "code",
   "execution_count": 3,
   "metadata": {
    "collapsed": false,
    "deletable": true,
    "editable": true
   },
   "outputs": [],
   "source": [
    "# fetch the web page containing the Livingsocial deals\n",
    "response = requests.get(entrypoint) "
   ]
  },
  {
   "cell_type": "code",
   "execution_count": 4,
   "metadata": {
    "collapsed": false,
    "deletable": true,
    "editable": true
   },
   "outputs": [
    {
     "data": {
      "text/plain": [
       "'<!DOCTYPE html>\\n<html>\\n  <head>\\n    <meta charset=\"utf-8\">\\n\\n      <title>Pittsburgh</title>\\n\\n\\n    <meta name=\"csrf-param\" content=\"authenticity_token\" />\\n<meta name=\"csrf-token\" content=\"kKPr8mMBgG734oP45Ts08acnrNiDcnTOfDxbISrI0SmKcHGWiKmLIsx46wp3ds7oiuOHrUcCO06/y6Q3k6/MyQ==\" />\\n    \\n    <meta name=\"viewport\" content=\"width=1024\" />\\n    \\n\\n    <meta name=\"current_city_id\" content=\"49\">\\n    <meta name=\"current_city_name\" content=\"Pittsburgh\">\\n    <meta name=\"current_city_seo_name\" content=\"pittsburgh\">\\n    <meta name=\"country_id\" content=\"1\">\\n\\n    <link rel=\"canonical\" href=\"https://www.livingsocial.com/browse/cities/49/searches\" id=\"canonical-url\">\\n    \\n\\n    <!--[if lte IE 8]>\\n      <script src=\"/browse/lte-ie8-5e0279f89845de86507429b1c8caf743.js\"></script>\\n    <![endif]-->\\n\\n    <script>\\n  window.LS = window.LS || {};\\n\\n  window.LS.Events = (function() {\\n    \\'use strict\\';\\n\\n    var events = {},\\n        registeredEvents = {};\\n\\n    var runEventsForKey = function(key, data) {\\n      var eventFunctions = events[key] || [];\\n\\n      for (var i = 0, j = eventFunctions.length; i < j; i++) {\\n        eventFunctions.pop()(data);\\n      }\\n    };\\n\\n    return {\\n      registerEvent: function(eventName, data) {\\n        runEventsForKey(eventName, data || {});\\n        registeredEvents[eventName] = (data || {});\\n      },\\n\\n      onEvent: function(eventName, handler) {\\n        if (events[eventName]) {\\n          events[eventName].push(handler);\\n        } else {\\n          events[eventName] = [handler];\\n        }\\n\\n        var existingDataForEvent = registeredEvents[eventName];\\n\\n        if (existingDataForEvent) {\\n          runEventsForKey(eventName, existingDataForEvent);\\n        }\\n      }\\n    };\\n  })();\\n</script>\\n    <script type=\"text/javascript\" src=\"/ui/compiled/d028369c3c0c45b808d6eb20a7de9a9d.js\"></script>\\n    <script src=\"/browse/application-1c642029209e5605a7afa87a7f39f7d9.js\"></script>\\n    <script>\\n$(function() {\\n  window.CommissionJunction = {\\n    hide_coupons: function(){\\n      if (this.cj_ref_code_matches()) {\\n        $(\\'[href$=\"/coupons\"]\\').parent().hide();\\n      }\\n    },\\n    cj_ref_code_matches: function() {\\n      var cookie, ref_code;\\n      cookie = document.cookie.match(/ref_code=([^;]*)/);\\n      ref_code = cookie ? cookie[1] : \"\";\\n      return ref_code.match(/^XUA0000COMJ000000000000ENUS0000000000000021052012/);\\n    }\\n  }\\n  CommissionJunction.hide_coupons();\\n});\\n</script>\\n\\n\\n    <link rel=\"stylesheet\" type=\"text/css\" media=\"screen\" href=\"/ui/compiled/1cf9a3dc274e1888c60662db831ecd1c.css\" />\\n      <link rel=\"stylesheet\" media=\"screen\" href=\"/browse/cities-8605c8b0e9691fd29bb4583da03bb643.css\" />\\n  <link rel=\"stylesheet\" media=\"screen\" href=\"/browse/inventory-228c9a9794cf67c2508da18a901ac28d.css\" />\\n  <script src=\"https://static.criteo.net/js/ld/ld.js\" async></script>\\n<script src=\"/ui/assets/elements/criteo-56548e9ce2d38fe8e2ddc6831680ecc9.js\" async></script>\\n  \\n<script id=\"ua-action-pixels\">\\n  (function(Pixels) {\\n    $(window).on(\\'ctxLoaded\\', function() {\\n      Pixels.createActionPixels([\"view_search_results\"], {\\n        user_id: Pixels.getLsUserId(),\\n        user_cities: Pixels.getUserCities([49,843]),\\n        user_purchases: Pixels.getLsPurchaser(),\\n        deal_categories: \"Local,49\",\\n        deal_id: null,\\n        deal_cost: null,\\n        deal_type: null,\\n        deal_expires: null,\\n        country_id: 1,\\n        order_id: null,\\n        order_gross_revenue: null,\\n        order_net_revenue: null,\\n        deal_ids_top_3: [], // Used by Criteo\\n        platform: \\'d\\' // Desktop or Mobile\\n      });\\n    });\\n  })(window.Pixels);\\n</script>\\n\\n\\n    <script>\\n      (function() {\\n        $(window).on(\\'ctxLoaded\\', function(){\\n          if (typeof window.LSCriteoTrackEvent !== \\'undefined\\') {\\n            window.LSCriteoTrackEvent.listing(\\'d\\', [2006190,2006176,1628360], \\'\\', 1);\\n          }\\n        });\\n      })();\\n    </script>\\n\\n    <script id=\"digi_mark_config_script\">\\n(function() {\\n  window.LS = window.LS || {};\\n  window.LS.DigiMark = window.LS.DigiMark || {};\\n\\n  LS.DigiMark.Config = {\"async_script_timeout\":150,\"events_path\":\"/events\",\"checkout_steps\":{\"options\":{\"slug\":\"options\",\"name\":\"Options\"},\"login\":{\"slug\":\"login\",\"name\":\"Login\"},\"chooseaddress\":{\"slug\":\"chooseaddress\",\"name\":\"Choose Shipping Address\"},\"newaddress\":{\"slug\":\"newaddress\",\"name\":\"Enter New Shipping Address\"},\"editaddress\":{\"slug\":\"editaddress\",\"name\":\"Edit Shipping Address\"},\"choosecard\":{\"slug\":\"choosecard\",\"name\":\"Choose Payment Method\"},\"newcard\":{\"slug\":\"newcard\",\"name\":\"Enter New Payment Method\"},\"editcard\":{\"slug\":\"editcard\",\"name\":\"Edit Payment Method\"},\"promo_code\":{\"slug\":\"promo_code\",\"name\":\"Enter Promo Code\"},\"confirm\":{\"slug\":\"confirm\",\"name\":\"Confirm Order\"},\"processing\":{\"slug\":\"processing\",\"name\":\"Order Processing\"},\"share\":{\"slug\":\"share\",\"name\":\"Share Order/Receipt\"}}};\\n})();\\n</script>\\n<script id=\"digi_mark_utils_script\">\\n(function() {\\n  window.LS = window.LS || {};\\n  window.LS.DigiMark = window.LS.DigiMark || {};\\n\\n  LS.DigiMark.Utils = {\\n    insertIframe: function(callback) {\\n      if ( callback === undefined ) {\\n        callback = function(iframe) { return iframe; }\\n      }\\n      var iframe = document.createElement(\\'iframe\\')\\n      iframe.setAttribute(\\'height\\', \\'1\\');\\n      iframe.setAttribute(\\'width\\', \\'1\\');\\n      iframe.setAttribute(\\'frameborder\\', \\'0\\');\\n      iframe.style.display = \\'none\\';\\n      callback(iframe);\\n      document.body.appendChild(iframe);\\n    },\\n    objectToQueryParams: function(object) {\\n      var objectKeys = this.objectKeysFunction();\\n      var properties = objectKeys(object);\\n      var params = [];\\n\\n      for(var i = 0; i < properties.length; i++) {\\n        var property = properties[i];\\n        var param = encodeURIComponent(property) + \"=\" + encodeURIComponent(object[property]);\\n        params.push(param);\\n      }\\n\\n      var cacheBuster = Number(new Date());\\n      params.push(\"_=\" + cacheBuster);\\n\\n      return params.join(\"&\");\\n    },\\n    objectKeysFunction: function( ) {\\n      if (!Object.keys) {\\n        return function(obj) {\\n          var keys = [];\\n          for (var i in obj) { if (obj.hasOwnProperty(i)) { keys.push(i); } }\\n          return keys;\\n        }\\n      }\\n      else {\\n         return Object.keys\\n      }\\n    }\\n  }\\n})();\\n</script>\\n\\n  </head>\\n  <body>\\n    <!-- Google Tag Manager -->\\n<noscript>\\n  <iframe src=\"//www.googletagmanager.com/ns.html?id=GTM-W8PFGK\" height=\"0\" width=\"0\" style=\"display:none;visibility:hidden\"></iframe>\\n</noscript>\\n<script>\\n dataLayer = [{\"displayedmarket\":\"pittsburgh\",\"ipaddress\":\"150.212.67.164\",\"loggedin\":\"false\",\"new_user\":\"true\",\"ref_code_cookie\":\"broader_roadblock_dm_none_qt_none\",\"refcode\":\"pittsburgh/Browse\",\"transition\":\"true\",\"version\":\"desktop\",\"vertical\":\"Browse\",\"canonical_path\":\"/browse/cities/49/searches\",\"country_code\":\"US\",\"visitor_id\":\"4487782b-48c9-46d7-9ddf-21e02a308f84\",\"collection\":\"Browse,Search\"}];\\n (function(w,d,s,l,i){\\n   w[l]=w[l]||[];\\n   w[l].push({\\n     \\'gtm.start\\': new Date().getTime(),\\n     event:\\'gtm.js\\'\\n   });\\n   var f=d.getElementsByTagName(s)[0],j=d.createElement(s),dl=l!=\\'dataLayer\\'?\\'&l=\\'+l:\\'\\';\\n   j.async=true;j.src=\\'//www.googletagmanager.com/gtm.js?id=\\'+i+dl;\\n   f.parentNode.insertBefore(j,f);\\n })(window,document,\\'script\\',\\'dataLayer\\',\\'GTM-W8PFGK\\');\\n</script>\\n<!-- End Google Tag Manager -->\\n<script id=\"digi_mark_gtm_script\">\\nwindow.dataLayer = window.dataLayer || [];\\n(function() {\\n  window.LS = window.LS || {};\\n  window.LS.DigiMark = window.LS.DigiMark || {};\\n\\n  LS.DigiMark.GTM = {\\n    dataLayer: window.dataLayer,\\n    /** Push a list of events onto the dataLayer\\n     *\\n     * @param {Array} events - The list of events to process.\\n     */\\n    push: function(events) {\\n      for(var i = 0; i < events.length; i++) {\\n        this.dataLayer.push(events[i]);\\n      }\\n      return events.length;\\n    }\\n  }\\n})();\\n</script>\\n\\n\\n    <div id=\"background\" class=\"livingsocial\">\\n  <div id=\"background-image\" class=\"stretch-image\"></div>\\n</div>\\n\\n    <!--[if lt IE 9]>\\n    <script>\\n      document.createElement(\\'header\\');\\n      document.createElement(\\'nav\\');\\n      document.createElement(\\'section\\');\\n      document.createElement(\\'article\\');\\n      document.createElement(\\'aside\\');\\n      document.createElement(\\'footer\\');\\n      document.createElement(\\'hgroup\\');\\n    </script>\\n<![endif]-->\\n\\n\\n<header class=\"hdr-locale-en\" id=\"main-hdr\" role=\"banner\">\\n  <div class=\"main-hdr-bg\"></div>\\n  <div class=\"main-hdr-sub-bg\"></div>\\n\\n  <nav role=\"navigation\">\\n    <!--======== LS logo ========-->\\n    <div class=\"ls-logo-wrap\" itemscope itemtype=\"http://schema.org/Organization\">\\n  <meta itemprop=\"name\" content=\"LivingSocial\">\\n  <a href=\"https://www.livingsocial.com/\" itemprop=\"url\">\\n    <!--[if lte IE 8]>\\n        <img src=\"https://www.livingsocial.com/ui/assets/graphics/livingsocial-logo-nav-6efe881509adc0744fd4b912e12eee4c.png\" alt=\"LivingSocial\" class=\"ls-logo\" itemprop=\"logo\">\\n    <![endif]-->\\n    <img src=\"https://www.livingsocial.com/ui/assets/graphics/livingsocial-logo-nav-mini-fb5cef269962687a0761b353c19aed0d.png\" alt=\"LivingSocial\" class=\"ls-logo-mini\" itemprop=\"logo\">\\n  </a>\\n</div>\\n\\n    <!--======== /LS logo ========-->\\n\\n    <!--======== Qubit Div ========-->\\n    <div class=\"topnav-qubit\" id=\"topnav-qubit\"></div>\\n    <!--======== /Qubit Div ========-->\\n\\n    <!--======== locale ========-->\\n    \\n    <!--======== /locale ========-->\\n\\n    <!--======== account ========-->\\n    <ul class=\"unstyled account\" id=\"universal-nav-my-account\">\\n  <li class=\"help\">\\n    <a href=\"https://help.livingsocial.com/\" class=\"mobile-hide\"><span>help</span></a>\\n  </li>\\n  <!-- mustache inserts its business up in here -->\\n</ul>\\n\\n    <!--======== /account ========-->\\n\\n    <div class=\"main-nav\">\\n      <!--======== vertical tabs ========-->\\n      <ul class=\"unstyled verticals\">\\n        \\n          <li class=\"local\">\\n            <a href=\"https://www.livingsocial.com/cities/49-pittsburgh\" data-ga-data=\"new_nav, click, verticals_local\" data-track=\"event\" data-cat=\"new_nav\" data-act=\"click\" data-lab=\"verticals_local\">\\n              <span>Local</span>\\n            </a>\\n\\n            \\n              <div class=\"dropdown-wrap\">\\n                \\n                  <!--======== default nav local module ========-->\\n                  <div class=\"dropdown local-dropdown\">\\n                    <ul class=\"unstyled\">\\n                      \\n                        \\n                        <li>\\n                          <a href=\"https://www.livingsocial.com/cities/49-pittsburgh\" data-act=\"click\" data-cat=\"new_nav\" data-ga-data=\"new_nav, click, Local_Subcategory_all deals\" data-lab=\"Local_Subcategory_all deals\" data-track=\"event\">all deals</a>\\n                        </li>\\n                      \\n                        \\n                        <li>\\n                          <a href=\"https://www.livingsocial.com/cities/49-pittsburgh/food-deals\" data-act=\"click\" data-cat=\"new_nav\" data-ga-data=\"new_nav, click, Local_Subcategory_Restaurants\" data-lab=\"Local_Subcategory_Restaurants\" data-track=\"event\">Restaurants</a>\\n                        </li>\\n                      \\n                        \\n                        <li>\\n                          <a href=\"https://www.livingsocial.com/cities/49-pittsburgh/entertainment-coupons\" data-act=\"click\" data-cat=\"new_nav\" data-ga-data=\"new_nav, click, Local_Subcategory_Events &amp; Activities\" data-lab=\"Local_Subcategory_Events &amp; Activities\" data-track=\"event\">Events &amp; Activities</a>\\n                        </li>\\n                      \\n                        \\n                        <li>\\n                          <a href=\"https://www.livingsocial.com/cities/49-pittsburgh/fitness-deals\" data-act=\"click\" data-cat=\"new_nav\" data-ga-data=\"new_nav, click, Local_Subcategory_Sports &amp; Fitness\" data-lab=\"Local_Subcategory_Sports &amp; Fitness\" data-track=\"event\">Sports &amp; Fitness</a>\\n                        </li>\\n                      \\n                        \\n                        <li>\\n                          <a href=\"https://www.livingsocial.com/cities/49-pittsburgh/health-and-beauty-coupons\" data-act=\"click\" data-cat=\"new_nav\" data-ga-data=\"new_nav, click, Local_Subcategory_Health &amp; Beauty\" data-lab=\"Local_Subcategory_Health &amp; Beauty\" data-track=\"event\">Health &amp; Beauty</a>\\n                        </li>\\n                      \\n                        \\n                        <li>\\n                          <a href=\"https://www.livingsocial.com/cities/49-pittsburgh/services-deals\" data-act=\"click\" data-cat=\"new_nav\" data-ga-data=\"new_nav, click, Local_Subcategory_Services\" data-lab=\"Local_Subcategory_Services\" data-track=\"event\">Services</a>\\n                        </li>\\n                      \\n                    </ul>\\n                    <div class=\"showcase\" data-ga-data=\"new_nav, click, showcase_local\">\\n                      <h2>Discover local shows, classes, and more</h2>\\n                      <a href=\"https://www.livingsocial.com/cities/49-pittsburgh/entertainment-coupons\" data-act=\"click\" data-cat=\"new_nav\" data-lab=\"showcase_local\" data-track=\"event\">See all events &amp; activities &raquo;</a>\\n                    </div>\\n                    <div class=\"tab-caret\"></div>\\n                    <div class=\"clearfix\"></div>\\n                  </div>\\n                  <!--======== /default nav local module ========-->\\n                \\n\\n                  <!--======== restaurants plus nav promo/local module ========-->\\n                \\n                  <div class=\"dropdown restaurants_plus_dropdown hide\" style=\"background-image: url(\\'https://a1.lscdn.net/imgs/5644b8ce-9349-463a-8557-b4e41a65fd92/q90.jpg\\'); background-position: 93% center;\">\\n                    <ul class=\"unstyled\">\\n                      \\n\\n                      \\n                        \\n                        <li>\\n                          <a href=\"https://www.livingsocial.com/cities/49-pittsburgh\" data-act=\"click\" data-cat=\"new_nav\" data-ga-data=\"new_nav, click, Local_Subcategory_all deals\" data-lab=\"Local_Subcategory_all deals\" data-track=\"event\">all deals</a>\\n                        </li>\\n                        \\n                      \\n                        \\n                        <li>\\n                          <a href=\"https://www.livingsocial.com/cities/49-pittsburgh/food-deals\" data-act=\"click\" data-cat=\"new_nav\" data-ga-data=\"new_nav, click, Local_Subcategory_Restaurants\" data-lab=\"Local_Subcategory_Restaurants\" data-track=\"event\">Restaurants</a>\\n                        </li>\\n                        \\n                          \\n                          <li class=\"restaurants-plus\">\\n                            <a href=\"/restaurants-plus-rewards/city-id/49\" data-act=\"click\" data-cat=\"RestaurantsPlus\" data-ga-data=\"RestaurantsPlus, click, Desktop Local Dropdown Banner\" data-lab=\"Desktop Local Dropdown Banner\" data-track=\"event\"><span>Restaurants Plus</span></a>\\n                          </li>\\n                        \\n                      \\n                        \\n                        <li>\\n                          <a href=\"https://www.livingsocial.com/cities/49-pittsburgh/entertainment-coupons\" data-act=\"click\" data-cat=\"new_nav\" data-ga-data=\"new_nav, click, Local_Subcategory_Events &amp; Activities\" data-lab=\"Local_Subcategory_Events &amp; Activities\" data-track=\"event\">Events &amp; Activities</a>\\n                        </li>\\n                        \\n                      \\n                        \\n                        <li>\\n                          <a href=\"https://www.livingsocial.com/cities/49-pittsburgh/fitness-deals\" data-act=\"click\" data-cat=\"new_nav\" data-ga-data=\"new_nav, click, Local_Subcategory_Sports &amp; Fitness\" data-lab=\"Local_Subcategory_Sports &amp; Fitness\" data-track=\"event\">Sports &amp; Fitness</a>\\n                        </li>\\n                        \\n                      \\n                        \\n                        <li>\\n                          <a href=\"https://www.livingsocial.com/cities/49-pittsburgh/health-and-beauty-coupons\" data-act=\"click\" data-cat=\"new_nav\" data-ga-data=\"new_nav, click, Local_Subcategory_Health &amp; Beauty\" data-lab=\"Local_Subcategory_Health &amp; Beauty\" data-track=\"event\">Health &amp; Beauty</a>\\n                        </li>\\n                        \\n                      \\n                        \\n                        <li>\\n                          <a href=\"https://www.livingsocial.com/cities/49-pittsburgh/services-deals\" data-act=\"click\" data-cat=\"new_nav\" data-ga-data=\"new_nav, click, Local_Subcategory_Services\" data-lab=\"Local_Subcategory_Services\" data-track=\"event\">Services</a>\\n                        </li>\\n                        \\n                      \\n\\n                      \\n                    </ul>\\n\\n                    <a href=\"/restaurants-plus-rewards/city-id/49\" data-ga-data=\"new_nav, click, restaurants_plus\" data-track=\"event\" data-cat=\"new_nav\" data-act=\"click\" data-lab=\"restaurants_plus\">\\n                      <div class=\"showcase\">\\n                        <span class=\"ui-hidden\">Restaurants Plus: Earn cash by dining out</span>\\n                      </div>\\n                    </a>\\n\\n                    <div class=\"tab-caret\"></div>\\n                    <div class=\"clearfix\"></div>\\n                  </div>\\n                \\n                  <!--======== restaurants plus nav promo/local module ========-->\\n              </div>\\n            \\n          </li>\\n        \\n\\n        \\n          <li class=\"escapes\">\\n            <a href=\"https://www.livingsocial.com/escapes/cities/49-pittsburgh\" data-act=\"click\" data-cat=\"new_nav\" data-ga-data=\"new_nav, click, verticals_escapes\" data-lab=\"verticals_escapes\" data-track=\"event\"><span>Escapes</span></a>\\n\\n            \\n              <div class=\"dropdown-wrap world-dropdown-wrap\">\\n  <div class=\"dropdown\">\\n    <div class=\"showcase\" data-ga-data=\"new_nav, click, showcase_escapes\">\\n      <div class=\"nav wrapper\">\\n        <ul class=\\'nav-layout nav-static\\'>\\n          <li class=\"nearby table-layout\">\\n  <a href=\"//www.livingsocial.com/escapes/region/escapes-near-you\">nearby</a>\\n  <div class=\"sub-menu nearby-posters nav-layout\">\\n    <div class=\\'poster-placeholder posterunit\\'>\\n      <a href=\"https://www.livingsocial.com/escapes/interest/spa-wellness\">\\n        <span class=\\'poster-label poster-copy\\'>Serenity Now:</span>\\n        <h3 class=\\'poster-title poster-copy\\'>Spas</h3>\\n        <span class=\\'pill-wrapper\\'>\\n          <span class=\\'poster-pill poster-copy\\'>view deals</span>\\n        </span>\\n        <span class=\\'image-overlay visible-overlay-0\\'></span>\\n        <img alt=\"Q80\" src=\"//a5.lscdn.net/imgs/105135f3-4934-4ade-8ca5-02985cf534ec/q80.jpg\" />\\n</a>    </div>\\n    <div class=\\'poster-placeholder posterunit\\'>\\n      <a href=\"https://www.livingsocial.com/escapes/interest/beaches\">\\n        <span class=\\'poster-label poster-copy\\'>Chase the Sun:</span>\\n        <h3 class=\\'poster-title poster-copy\\'>Beach</h3>\\n        <span class=\\'pill-wrapper\\'>\\n          <span class=\\'poster-pill poster-copy\\'>view deals</span>\\n        </span>\\n        <span class=\\'image-overlay visible-overlay-1\\'></span>\\n        <img alt=\"Q80\" src=\"//a5.lscdn.net/imgs/9ce1b1ea-4d48-4dab-a273-98eba9dfba9d/q80.jpg\" />\\n</a>    </div>\\n    <div class=\\'poster-placeholder posterunit\\'>\\n      <a href=\"https://www.livingsocial.com/escapes/interest/family\">\\n        <span class=\\'poster-label poster-copy\\'>Quality Time:</span>\\n        <h3 class=\\'poster-title poster-copy\\'>Family</h3>\\n        <span class=\\'pill-wrapper\\'>\\n          <span class=\\'poster-pill poster-copy\\'>view deals</span>\\n        </span>\\n        <span class=\\'image-overlay visible-overlay-2\\'></span>\\n        <img alt=\"Q80\" src=\"//a5.lscdn.net/imgs/a11a3fb3-22f5-49f9-a998-7c09a351d222/q80.jpg\" />\\n</a>    </div>\\n</div>\\n\\n</li>\\n\\n          <li id=\"destination\" class=\"destination\">\\n  <a href=\"//www.livingsocial.com/escapes/interest/top-destinations\" class=\"hasArrow\">top destinations</a>\\n  <div id=\"popular-destination\" class=\\'sub-menu popular-destination nav-layout\\'>\\n    <div class=\"dest-column\">\\n      <ul>\\n        <li><a href=\"https://www.livingsocial.com/escapes/region/atlantic-city\">Atlantic City</a></li>\\n        <li><a href=\"https://www.livingsocial.com/escapes/region/california\">California</a></li>\\n        <li><a href=\"https://www.livingsocial.com/escapes/region/canada\">Canada</a></li>\\n        <li><a href=\"https://www.livingsocial.com/escapes/region/caribbean\">Caribbean</a></li>\\n        <li><a href=\"https://www.livingsocial.com/escapes/region/chicago\">Chicago</a></li>\\n        <li><a href=\"https://www.livingsocial.com/escapes/region/colorado\">Colorado</a></li>\\n        <li><a href=\"https://www.livingsocial.com/escapes/region/orlando-northeast-florida\">Florida</a></li>\\n        <li><a href=\"https://www.livingsocial.com/escapes/region/rest-of-the-world\">Global Travel</a></li>\\n      </ul>\\n    </div>\\n    <div class=\"dest-column\">\\n      <ul>\\n        <li><a href=\"https://www.livingsocial.com/escapes/region/hawaii\">Hawaii</a></li>\\n        <li><a href=\"https://www.livingsocial.com/escapes/region/las-vegas\">Las Vegas</a></li>\\n        <li><a href=\"https://www.livingsocial.com/escapes/region/mexico\">Mexico</a></li>\\n        <li><a href=\"https://www.livingsocial.com/escapes/region/miami\">Miami</a></li>\\n        <li><a href=\"https://www.livingsocial.com/escapes/region/new-england\">New England</a></li>\\n        <li><a href=\"https://www.livingsocial.com/escapes/region/new-orleans\">New Orleans</a></li>\\n        <li><a href=\"https://www.livingsocial.com/escapes/region/new-york-city\">New York City</a></li>\\n        <li><a href=\"https://www.livingsocial.com/escapes/region/texas-hotel-deals\">Texas</a></li>\\n      </ul>\\n    </div>\\n    <div class=\"dest-column\">\\n      <ul>\\n        <li><a href=\"https://www.livingsocial.com/escapes/region/washington-hotel-deals\">Washington state</a></li>\\n        <li><a href=\"https://www.livingsocial.com/escapes/region/washington-dc\">Washington DC</a></li>\\n      </ul>\\n    </div>\\n  </div>\\n</li>\\n\\n          <li class=\"table-layout\"><a href=\"//www.livingsocial.com/escapes/region/most-popular-escapes\">most popular deals</a>\\n  <div class=\\'sub-menu nearby-posters nav-layout\\'>\\n    <div class=\\'poster-placeholder\\'>\\n      <a href=\"https://www.livingsocial.com/escapes/interest/beaches\">\\n        <span class=\\'poster-label poster-copy\\'>Chase the Sun:</span>\\n        <h3 class=\\'poster-title poster-copy\\'>Beach</h3>\\n        <span class=\\'pill-wrapper\\'>\\n          <span class=\\'poster-pill poster-copy\\'>view deals</span>\\n        </span>\\n        <span class=\\'image-overlay visible-overlay-0\\'></span>\\n        <img alt=\"Q80\" src=\"//a5.lscdn.net/imgs/9ce1b1ea-4d48-4dab-a273-98eba9dfba9d/q80.jpg\" />\\n</a>    </div>\\n    <div class=\\'poster-placeholder\\'>\\n      <a href=\"https://www.livingsocial.com/escapes/interest/family\">\\n        <span class=\\'poster-label poster-copy\\'>Quality Time:</span>\\n        <h3 class=\\'poster-title poster-copy\\'>Family</h3>\\n        <span class=\\'pill-wrapper\\'>\\n          <span class=\\'poster-pill poster-copy\\'>view deals</span>\\n        </span>\\n        <span class=\\'image-overlay visible-overlay-1\\'></span>\\n        <img alt=\"Q80\" src=\"//a5.lscdn.net/imgs/a11a3fb3-22f5-49f9-a998-7c09a351d222/q80.jpg\" />\\n</a>    </div>\\n    <div class=\\'poster-placeholder\\'>\\n      <a href=\"https://www.livingsocial.com/escapes/interest/luxury\">\\n        <span class=\\'poster-label poster-copy\\'>The Finer Things:</span>\\n        <h3 class=\\'poster-title poster-copy\\'>Luxury</h3>\\n        <span class=\\'pill-wrapper\\'>\\n          <span class=\\'poster-pill poster-copy\\'>view deals</span>\\n        </span>\\n        <span class=\\'image-overlay visible-overlay-2\\'></span>\\n        <img alt=\"Q80\" src=\"//a5.lscdn.net/imgs/0a929e62-4951-4737-bb50-1ab197a248da/q80.jpg\" />\\n</a>    </div>\\n  </div>\\n</li>\\n\\n            <li id=\"interests\" class=\"interests\">\\n    <a href=\"//www.livingsocial.com/escapes/interest/top-interests\" class=\"hasArrow\">interests</a>\\n    <div id=\"interest-group\" class=\\'sub-menu interest-group nav-layout\\'>\\n      \\n      <div class=\"interest-column border-right remove-last-border\">\\n        <ul>\\n          <li><a href=\"https://www.livingsocial.com/escapes/interest/b-b-inns\">B&amp;B &amp; Inns</a></li>\\n          <li><a href=\"https://www.livingsocial.com/escapes/interest/adventure\">Adventure</a></li>\\n          <li><a href=\"https://www.livingsocial.com/escapes/interest/spa-wellness\">Spa &amp; Wellness</a></li>\\n          <li><a href=\"https://www.livingsocial.com/escapes/interest/family\">Family</a></li>\\n          <li><a href=\"https://www.livingsocial.com/escapes/interest/luxury\">Luxury</a></li>\\n          <li><a href=\"https://www.livingsocial.com/escapes/interest/cities\">Cities</a></li>\\n          <li><a href=\"https://www.livingsocial.com/escapes/interest/romance\">Romance</a></li>\\n          <li><a href=\"https://www.livingsocial.com/escapes/interest/lakes-mountains\">Lakes &amp; Mountains</a></li>\\n        </ul>\\n      </div>\\n\\n      <div class=\"interest-column border-right remove-last-border\">\\n        <ul>\\n          <li><a href=\"https://www.livingsocial.com/escapes/interest/boutique\">Boutique</a></li>\\n          <li><a href=\"https://www.livingsocial.com/escapes/interest/ski\">Ski</a></li>\\n          <li><a href=\"https://www.livingsocial.com/escapes/interest/gambling-casinos\">Gambling &amp; Casinos</a></li>\\n          <li><a href=\"https://www.livingsocial.com/escapes/interest/flights-included\">Flights Included</a></li>\\n        </ul>\\n      </div>\\n    </div>\\n  </li>\\n\\n        </ul>\\n      </div>\\n    </div>\\n    <div class=\"tab-caret\"></div>\\n    <div class=\"clearfix\"></div>\\n  </div>\\n</div>\\n\\n            \\n          </li>\\n        \\n\\n        \\n          <li class=\"shop\">\\n            <a href=\"https://www.livingsocial.com/products/us?preferred_city_id=49\" data-act=\"click\" data-cat=\"new_nav\" data-ga-data=\"new_nav, click, verticals_shop\" data-lab=\"verticals_shop\" data-track=\"event\"><span>Shop</span></a>\\n\\n            \\n              <div class=\"dropdown-wrap\">\\n  <div class=\"dropdown promo coupons\">\\n    <ul class=\"unstyled\">\\n      <li><a data-ga-data=\"new_nav, click, all_deal\"  data-track=\\'event\\' data-cat=\\'new_nav\\' data-act=\\'click\\' data-lab=\\'\\' href=\"/products/us?sort_view=true\">all deals</a></li>\\n      <li><a data-ga-data=\"new_nav, click, beauty\"  data-track=\\'event\\' data-cat=\\'new_nav\\' data-act=\\'click\\' data-lab=\\'beauty\\' href=\"/us/shopping/beauty\">Beauty</a></li>\\n      <li><a data-ga-data=\"new_nav, click, fashion\"  data-track=\\'event\\' data-cat=\\'new_nav\\' data-act=\\'click\\' data-lab=\\'fashion\\' href=\"/us/shopping/fashion\">Fashion</a></li>\\n      <li><a data-ga-data=\"new_nav, click, gadgets\"  data-track=\\'event\\' data-cat=\\'new_nav\\' data-act=\\'click\\' data-lab=\\'gadgets\\' href=\"/us/shopping/gadgets\">Gadgets</a></li>\\n      <li><a data-ga-data=\"new_nav, click, home\"  data-track=\\'event\\' data-cat=\\'new_nav\\' data-act=\\'click\\' data-lab=\\'home\\' href=\"/us/shopping/home\">Home</a></li>\\n      <li><a data-ga-data=\"new_nav, click, jewelry\"  data-track=\\'event\\' data-cat=\\'new_nav\\' data-act=\\'click\\' data-lab=\\'jewelry\\' href=\"/us/shopping/jewelry\">Jewelry</a></li>\\n      <li><a data-ga-data=\"new_nav, click, learning\"  data-track=\\'event\\' data-cat=\\'new_nav\\' data-act=\\'click\\' data-lab=\\'learning\\' href=\"/us/shopping/learning\">Learning</a></li>\\n      <li><a data-ga-data=\"new_nav, click, wellness\"  data-track=\\'event\\' data-cat=\\'new_nav\\' data-act=\\'click\\' data-lab=\\'wellness\\' href=\"/us/shopping/wellness\">Wellness</a></li>\\n      <li><a data-ga-data=\"new_nav, click, coupons\"  data-track=\\'event\\' data-cat=\\'new_nav\\' data-act=\\'click\\' data-lab=\\'\\' href=\"/coupons\">coupons</a></li>\\n    </ul>\\n    <div class=\"showcase\" data-ga-data=\"new_nav, click, showcase_shop\">\\n        <h2>treat yourself to products that pamper</h2>\\n        <a href=\"/us/shopping/beauty\" data-act=\"/us/shopping/beauty\" data-cat=\"right_image\" data-lab=\"all_beauty_deals\" data-track=\"shop_top_nav\">see all beauty deals &raquo;</a>\\n\\n    </div>\\n    <div class=\"tab-caret\"></div>\\n    <div class=\"clearfix\"></div>\\n  </div>\\n</div>\\n\\n            \\n          </li>\\n        \\n\\n        \\n          <li class=\"gifts\">\\n            <a href=\"https://www.livingsocial.com/gift-ideas\" data-act=\"click\" data-cat=\"new_nav\" data-ga-data=\"new_nav, click, gift_shop\" data-lab=\"gift_shop\" data-track=\"event\"><span>Gifts</span></a>\\n\\n            \\n              <div class=\"dropdown-wrap\">\\n                <div class=\"dropdown\">\\n                  <ul class=\"unstyled\" id=\"gift-nav-occasions-container\">\\n                    <li>\\n                      <a href=\"https://www.livingsocial.com/gift-ideas/occasions\" class=\"hasArrow\" data-cat=\"gift_shop_top_nav\" data-ga-data=\"new_nav, click\" data-lab=\"by_occassion\" data-track=\"gift_shop_top_nav\">by occasion</a>\\n\\n                      <div id=\"gift-nav-occasions\">\\n                        \\n                          <div class=\"gift-nav-occasions-group\">\\n                            \\n                              <div class=\"gift-occasion\">\\n                                <a href=\"https://www.livingsocial.com/gift-ideas/collections/popular-gifts\" data-act=\"https://www.livingsocial.com/gift-ideas/collections/popular-gifts\" data-cat=\"by_occassion\" data-lab=\"popular gifts\" data-track=\"gift_shop_top_nav\"><span>popular gifts</span></a>\\n                              </div>\\n                            \\n                              <div class=\"gift-occasion\">\\n                                <a href=\"https://www.livingsocial.com/gift-ideas/collections/graduation-gifts\" data-act=\"https://www.livingsocial.com/gift-ideas/collections/graduation-gifts\" data-cat=\"by_occassion\" data-lab=\"graduation\" data-track=\"gift_shop_top_nav\"><span>graduation</span></a>\\n                              </div>\\n                            \\n                              <div class=\"gift-occasion\">\\n                                <a href=\"https://www.livingsocial.com/gift-ideas/collections/travel-gifts\" data-act=\"https://www.livingsocial.com/gift-ideas/collections/travel-gifts\" data-cat=\"by_occassion\" data-lab=\"travel gifts\" data-track=\"gift_shop_top_nav\"><span>travel gifts</span></a>\\n                              </div>\\n                            \\n                              <div class=\"gift-occasion\">\\n                                <a href=\"https://www.livingsocial.com/gift-ideas/collections/birthday-gifts\" data-act=\"https://www.livingsocial.com/gift-ideas/collections/birthday-gifts\" data-cat=\"by_occassion\" data-lab=\"birthday\" data-track=\"gift_shop_top_nav\"><span>birthday</span></a>\\n                              </div>\\n                            \\n                              <div class=\"gift-occasion\">\\n                                <a href=\"https://www.livingsocial.com/gift-ideas/collections/photo-collection\" data-act=\"https://www.livingsocial.com/gift-ideas/collections/photo-collection\" data-cat=\"by_occassion\" data-lab=\"photo gifts\" data-track=\"gift_shop_top_nav\"><span>photo gifts</span></a>\\n                              </div>\\n                            \\n                              <div class=\"gift-occasion\">\\n                                <a href=\"https://www.livingsocial.com/gift-ideas/collections/groupon-goods\" data-act=\"https://www.livingsocial.com/gift-ideas/collections/groupon-goods\" data-cat=\"by_occassion\" data-lab=\"groupon goods\" data-track=\"gift_shop_top_nav\"><span>groupon goods</span></a>\\n                              </div>\\n                            \\n                              <div class=\"gift-occasion\">\\n                                <a href=\"https://www.livingsocial.com/gift-ideas/collections/wedding-gifts\" data-act=\"https://www.livingsocial.com/gift-ideas/collections/wedding-gifts\" data-cat=\"by_occassion\" data-lab=\"wedding\" data-track=\"gift_shop_top_nav\"><span>wedding</span></a>\\n                              </div>\\n                            \\n                              <div class=\"gift-occasion\">\\n                                <a href=\"https://www.livingsocial.com/gift-ideas/collections/pet-deals\" data-act=\"https://www.livingsocial.com/gift-ideas/collections/pet-deals\" data-cat=\"by_occassion\" data-lab=\"pet shop\" data-track=\"gift_shop_top_nav\"><span>pet shop</span></a>\\n                              </div>\\n                            \\n                          </div>\\n                        \\n                      </div>\\n                    </li>\\n                    \\n                      <li>\\n                        <a href=\"https://www.livingsocial.com/gift-ideas/collections/gifts-for-the-home\" data-act=\"https://www.livingsocial.com/gift-ideas/collections/gifts-for-the-home\" data-cat=\"sponsor_category\" data-lab=\"for the home\" data-track=\"gift_shop_top_nav\"><span>for the home</span></a>\\n                      </li>\\n                    \\n                      <li>\\n                        <a href=\"https://www.livingsocial.com/gift-ideas/collections/gifts-under-25\" data-act=\"https://www.livingsocial.com/gift-ideas/collections/gifts-under-25\" data-cat=\"sponsor_category\" data-lab=\"under $25\" data-track=\"gift_shop_top_nav\"><span>under $25</span></a>\\n                      </li>\\n                    \\n                      <li>\\n                        <a href=\"https://www.livingsocial.com/gift-ideas/collections/gifts-under-50\" data-act=\"https://www.livingsocial.com/gift-ideas/collections/gifts-under-50\" data-cat=\"sponsor_category\" data-lab=\"under $50\" data-track=\"gift_shop_top_nav\"><span>under $50</span></a>\\n                      </li>\\n                    \\n                  </ul>\\n\\n                  <ul class=\"promos unstyled\">\\n                    \\n                    \\n                      \\n                        <li>\\n                          <a href=\"https://www.livingsocial.com/gift-ideas/collections/groupon-goods\" data-track=\"gift_shop_top_nav\" data-cat=\"sponsor_promo\" data-lab=\"groupon goods\" data-act=\"https://www.livingsocial.com/gift-ideas/collections/groupon-goods\">\\n                            <div class=\"promo-overlay\"></div>\\n                            <div class=\"promo-title\">groupon goods</div>\\n                            <img alt=\"\" src=\"https://a5.lscdn.net/imgs/5834665b-744e-4df2-9910-26ba4dfd58dd/q100.png\" />\\n                          </a>\\n                        </li>\\n                      \\n                    \\n                      \\n                        <li>\\n                          <a href=\"https://www.livingsocial.com/gift-ideas/collections/gifts-under-25\" data-track=\"gift_shop_top_nav\" data-cat=\"sponsor_promo\" data-lab=\"under $25\" data-act=\"https://www.livingsocial.com/gift-ideas/collections/gifts-under-25\">\\n                            <div class=\"promo-overlay\"></div>\\n                            <div class=\"promo-title\">under $25</div>\\n                            <img alt=\"\" src=\"https://a5.lscdn.net/imgs/589b600f-a747-4c14-a8a7-72ba1abb2081/q100.png\" />\\n                          </a>\\n                        </li>\\n                      \\n                    \\n                      \\n                        <li>\\n                          <a href=\"https://www.livingsocial.com/gift-ideas/collections/personalized-gifts\" data-track=\"gift_shop_top_nav\" data-cat=\"sponsor_promo\" data-lab=\"personalized\" data-act=\"https://www.livingsocial.com/gift-ideas/collections/personalized-gifts\">\\n                            <div class=\"promo-overlay\"></div>\\n                            <div class=\"promo-title\">personalized</div>\\n                            <img alt=\"\" src=\"https://a5.lscdn.net/imgs/5727b5b7-eb1a-4416-ad9f-cad517247981/q100.jpg\" />\\n                          </a>\\n                        </li>\\n                      \\n                    \\n                  </ul>\\n                  <div class=\"tab-caret\"></div>\\n                  <div class=\"clearfix\"></div>\\n                </div>\\n              </div>\\n            \\n          </li>\\n        \\n\\n        \\n      </ul>\\n      <!--======== /vertical tabs ========-->\\n\\n        <div class=\"search\">\\n    <form accept-charset=\"UTF-8\" action=\"/browse/cities/49/searches\" class=\"search-form\" id=\"search_form\" method=\"get\"><div style=\"margin:0;padding:0;display:inline\"><input name=\"utf8\" type=\"hidden\" value=\"&#x2713;\" /></div>\\n        <input id=\"city_id_field\" name=\"city_search_id\" type=\"hidden\" value=\"49\" />\\n        <input id=\"country_id_field\" name=\"country_search_id\" type=\"hidden\" value=\"1\" />\\n\\n      <ul class=\"unstyled\">\\n        <li class=\"search-cat js-dropdown\" data-target-input=\"unified-nav-search-input\">\\n          <fieldset class=\"query-selector\">\\n            <legend class=\"ui-hidden\">\\n              <label for=\"unified-nav-search-input\">Search</label>\\n            </legend>\\n            <span>Search</span>\\n            <input autocomplete=\"off\" class=\"search-input-with-dropdown\" data-search-city-id=\"49\" id=\"unified-nav-search-input\" name=\"query\" placeholder=\"sushi, hotels, etc\" tabindex=\"1\" type=\"text\" />\\n          </fieldset>\\n          <div class=\"dropdown-wrap\">\\n            <div class=\"dropdown\"></div>\\n          </div>\\n        </li>\\n\\n          <li class=\"search-loc js-dropdown\">\\n            <fieldset class=\"city-selector\">\\n              <legend class=\"ui-hidden\">\\n                <label for=\"unified-nav-location-input\">Near</label>\\n              </legend>\\n              <span>Near</span>\\n              <input type=\"text\" autocomplete=\"off\" class=\"search-input-with-dropdown\" data-current-city=\"{&quot;name&quot;:&quot;Pittsburgh&quot;,&quot;id&quot;:49}\" id=\"unified-nav-location-input\" name=\"city_name\" placeholder=\"Pittsburgh\" value=\"Pittsburgh\" tabindex=\"2\">\\n            </fieldset>\\n            <div class=\"dropdown-wrap\">\\n              <div class=\"dropdown\"></div>\\n            </div>\\n          </li>\\n\\n\\n        <li class=\"search-sub\">\\n          <input type=\"submit\" value=\"Search\">\\n          <a class=\"btn\" href=\"#\"><img src=\"https://www.livingsocial.com/ui/assets/graphics/search-lens-7db41743260e3a4696ff649c31041d1f.png\" alt=\"Search\"></a>\\n        </li>\\n      </ul>\\n    </form>\\n  </div>\\n\\n    </div>\\n    <div id=\"partial-subnav\"></div>\\n  </nav>\\n</header>\\n\\n<script id=\"city-search-dropdown-template\" type=\"text/x-mustache\">\\n  <div class=\"lsautocomplete-dropdown\">\\n    <div class=\"search-wrap results-wrap\">\\n      <div class=\"search-label\">Did You Mean&hellip;</div>\\n      <div class=\"search-results\">{{{results}}}</div>\\n      <div class=\"clearfix\"></div>\\n    </div>\\n      <div class=\"search-wrap search-nearby-cities\">\\n        <div class=\"search-label\">Nearby Cities&hellip;</div>\\n        <div class=\"unstyled search-results\">\\n          <div class=\"results\">\\n              <div>\\n                <p data-item-id=\"843\" class=\"search-suggestion\" data-ga-data=\"new_nav, clicked, search_nearby_city_843\">\\n                  <a href=\"https://www.livingsocial.com/cities/843-pittsburgh-north\"  data-input-identifier=\"unified-nav-location-input\" data-track=\\'event\\' data-cat=\\'new_nav\\' data-act=\\'click\\' data-lab=\\'search_nearby_city_843\\'>Pittsburgh North</a>\\n                </p>\\n              </div>\\n            <p><a href=\"https://www.livingsocial.com/cities/49-pittsburgh/more_cities\" class=\"view-all\">Browse all cities &#38; countries &#187;</a></p>\\n          </div>\\n        </div>\\n        <div class=\"clearfix\"></div>\\n      </div>\\n    <div class=\"search-wrap\">\\n      <div class=\"search-label\">Currently Viewing&hellip;</div>\\n      <ul class=\"unstyled search-results\">\\n        <li id=\"current-city-info\">\\n          <p data-item-id=\"49\">Pittsburgh</p>\\n          <span class=\"isCity\" style=\"display: none;\">This is my starting city when I visit LivingSocial.</span>\\n          <span class=\"makeCity\" style=\"display: none;\"><a href=\\'#\\' id=\\'make-this-my-home-city\\' data-city-display=\"Pittsburgh\">Make this my starting city</a> when I visit LivingSocial.</span>\\n        </li>\\n      </ul>\\n      <div class=\"clearfix\"></div>\\n    </div>\\n    <div class=\"success\">\\n      <p></p>\\n    </div>\\n  </div>\\n</script>\\n\\n<script id=\"keyword-search-dropdown-template\" type=\"text/x-mustache\">\\n  <div class=\"search-wrap search-suggested-keywords \">\\n    <div class=\"search-label\">Search For&hellip;</div>\\n    <div class=\"search-results\">\\n      {{{results}}}\\n    </div>\\n    <div class=\"clearfix\"></div>\\n  </div>\\n</script>\\n\\n<script id=\"universal-nav-my-account-template\" type=\"text/x-mustache\">\\n  {{#me.loggedIn}}\\n    <li class=\"my-vouchers\">\\n      <a href=\"/vouchers\" class=\"dropdown-trigger mobile-hide\">\\n        <span>my vouchers</span>\\n        <span class=\\'badge\\'></span>\\n      </a>\\n      <a href=\"https://m.livingsocial.com/account/vouchers\" class=\"mobile-only hide\"><span>my vouchers</span></a>\\n    </li>\\n    <li class=\"my-deal-bucks hide\">\\n      <a href=\"/deals/people/deal_bucks\" class=\"dropdown-trigger mobile-hide\">\\n        <span class=\"text\"></span>\\n      </a>\\n    </li>\\n    <li id=\"my-account-dropdown\" class=\"my-account js-dropdown\">\\n      <a href=\"https://m.livingsocial.com/account\" class=\"hide mobile-only\"><span>settings</span></a>\\n      <a href=\"#\" class=\"dropdown-trigger mobile-hide\"><span>Hi, {{me.name}}!</span></a>\\n      <div class=\"dropdown-wrap mobile-hide\">\\n        <div class=\"dropdown\">\\n          <ul class=\"unstyled\">\\n            <li class=\"my-vouchers\"><a href=\"https://www.livingsocial.com/vouchers\">my vouchers</a></li>\\n            <li class=\"deal-bucks\"><a href=\"https://www.livingsocial.com/deal_bucks\">deal bucks</a></li>\\n            <li class=\"purchase-history\"><a href=\"https://www.livingsocial.com/purchases\">purchase history</a></li>\\n            <li class=\"restaurants_plus_account hide\"><a href=\"https://www.livingsocial.com/restaurants-plus-rewards/account\">restaurants plus</a></li>\\n            <li class=\"subscriptions\"><a href=\"https://www.livingsocial.com/preferences/subscriptions\">preferences</a></li>\\n            <li class=\"my-account\"><a href=\"https://www.livingsocial.com/deals/people/settings\">my account</a></li>\\n            <li class=\"sign-out\"><a href=\"https://login.livingsocial.com/logout/?return_to=https://www.livingsocial.com/browse/cities/49/searches\">sign out</a></li>\\n          </ul>\\n        </div>\\n      </div>\\n    </li>\\n  {{/me.loggedIn}}\\n  {{^me.loggedIn}}\\n    <li class=\"log-in\"><a href=\"https://login.livingsocial.com/?return_to=https://www.livingsocial.com/browse/cities/49/searches\"><span>log in</span></a></li>\\n    <li class=\"sign-up\"><a href=\"https://login.livingsocial.com/signup/?return_to=https://www.livingsocial.com/browse/cities/49/searches\"><span>sign up</span></a></li>\\n  {{/me.loggedIn}}\\n</script>\\n\\n<div class=\"modal\" id=\"restaurants_plus_takeover_modal\">\\n  <div class=\"modal-header\">\\n    <a href=\"#\" class=\"close\" data-dismiss=\"modal\">×<span class=\"ui-hidden\"> Close</span></a>\\n  </div>\\n  <div class=\"modal-body\">\\n    <a href=\"https://www.livingsocial.com/restaurants-plus-rewards/activation/credit_cards\" class=\\'takeover-cta\\'><img src=\"https://a2.lscdn.net/imgs/563a2cb2-0772-4d9c-904b-9ecff087a789/.png\" alt=\"Start Earning\"></a>\\n  </div>\\n</div>\\n\\n\\n\\n    <div id=\"flash-holder\">\\n      \\n  \\n  \\n\\n\\n\\n    </div>\\n\\n    \\n\\n\\n<div class=\"inventory-search cities-content facetted-browse list-view\">\\n  <div class=\"lead\">\\n      <h1>Pittsburgh <span></span></h1>\\n  </div>\\n\\n    <div class=\"facet-browser\">\\n      <ul class=\"facet-categories last\">\\n      <li>\\n        <a href=\"/browse/cities/49/searches?city_name=Pittsburgh&amp;city_search_id=49&amp;country_search_id=1&amp;label=new_deal&amp;page=1&amp;query=\">\\n          new deal&nbsp;<span class=\"count\">59</span>\\n</a>      </li>\\n      <li>\\n        <a href=\"/browse/cities/49/searches?city_name=Pittsburgh&amp;city_search_id=49&amp;country_search_id=1&amp;label=featured_deal&amp;page=1&amp;query=\">\\n          featured deal&nbsp;<span class=\"count\">11</span>\\n</a>      </li>\\n      <li>\\n        <a href=\"/browse/cities/49/searches?city_name=Pittsburgh&amp;city_search_id=49&amp;country_search_id=1&amp;label=ending_soon&amp;page=1&amp;query=\">\\n          ending soon&nbsp;<span class=\"count\">5</span>\\n</a>      </li>\\n      <li>\\n        <a href=\"/browse/cities/49/searches?city_name=Pittsburgh&amp;city_search_id=49&amp;country_search_id=1&amp;label=almost_sold_out&amp;page=1&amp;query=\">\\n          almost sold out&nbsp;<span class=\"count\">3</span>\\n</a>      </li>\\n      <li>\\n        <a href=\"/browse/cities/49/searches?city_name=Pittsburgh&amp;city_search_id=49&amp;country_search_id=1&amp;label=vouchered_escapes&amp;page=1&amp;query=\">\\n          vouchered escapes&nbsp;<span class=\"count\">1</span>\\n</a>      </li>\\n  </ul>\\n\\n\\n    <label>categories</label>\\n  <ul class=\"facet-categories last\">\\n      <li>\\n        <a href=\"/browse/cities/49/searches?city_name=Pittsburgh&amp;city_search_id=49&amp;country_search_id=1&amp;page=1&amp;query=&amp;seo_categories=Retail\">\\n          Retail&nbsp;<span class=\"count\">1443</span>\\n</a>      </li>\\n      <li>\\n        <a href=\"/browse/cities/49/searches?city_name=Pittsburgh&amp;city_search_id=49&amp;country_search_id=1&amp;page=1&amp;query=&amp;seo_categories=Services\">\\n          Services&nbsp;<span class=\"count\">251</span>\\n</a>      </li>\\n      <li>\\n        <a href=\"/browse/cities/49/searches?city_name=Pittsburgh&amp;city_search_id=49&amp;country_search_id=1&amp;page=1&amp;query=&amp;seo_categories=Furniture\">\\n          Furniture&nbsp;<span class=\"count\">229</span>\\n</a>      </li>\\n      <li>\\n        <a href=\"/browse/cities/49/searches?city_name=Pittsburgh&amp;city_search_id=49&amp;country_search_id=1&amp;page=1&amp;query=&amp;seo_categories=Electronics\">\\n          Electronics&nbsp;<span class=\"count\">223</span>\\n</a>      </li>\\n      <li>\\n        <a href=\"/browse/cities/49/searches?city_name=Pittsburgh&amp;city_search_id=49&amp;country_search_id=1&amp;page=1&amp;query=&amp;seo_categories=Health+%26+Beauty\">\\n          Health &amp; Beauty&nbsp;<span class=\"count\">218</span>\\n</a>      </li>\\n      <li>\\n        <a href=\"/browse/cities/49/searches?city_name=Pittsburgh&amp;city_search_id=49&amp;country_search_id=1&amp;page=1&amp;query=&amp;seo_categories=Clothing\">\\n          Clothing&nbsp;<span class=\"count\">213</span>\\n</a>      </li>\\n      <li>\\n        <a href=\"/browse/cities/49/searches?city_name=Pittsburgh&amp;city_search_id=49&amp;country_search_id=1&amp;page=1&amp;query=&amp;seo_categories=Travel\">\\n          Travel&nbsp;<span class=\"count\">106</span>\\n</a>      </li>\\n      <li>\\n        <a href=\"/browse/cities/49/searches?city_name=Pittsburgh&amp;city_search_id=49&amp;country_search_id=1&amp;page=1&amp;query=&amp;seo_categories=Jewelry+Stores\">\\n          Jewelry Stores&nbsp;<span class=\"count\">81</span>\\n</a>      </li>\\n      <li>\\n        <a href=\"/browse/cities/49/searches?city_name=Pittsburgh&amp;city_search_id=49&amp;country_search_id=1&amp;page=1&amp;query=&amp;seo_categories=Food+%26+Beverage\">\\n          Food &amp; Beverage&nbsp;<span class=\"count\">64</span>\\n</a>      </li>\\n      <li>\\n        <a href=\"/browse/cities/49/searches?city_name=Pittsburgh&amp;city_search_id=49&amp;country_search_id=1&amp;page=1&amp;query=&amp;seo_categories=Hardware+Stores\">\\n          Hardware Stores&nbsp;<span class=\"count\">46</span>\\n</a>      </li>\\n  </ul>\\n\\n\\n  <label>price</label>\\n  <ul class=\"facet-categories last\">\\n      <li>\\n        <a href=\"/browse/cities/49/searches?city_name=Pittsburgh&amp;city_search_id=49&amp;country_search_id=1&amp;page=1&amp;price=0%2C25.0&amp;query=\">\\n          $0 - $25\\n          <span class=\"count\">901</span>\\n</a>      </li>\\n      <li>\\n        <a href=\"/browse/cities/49/searches?city_name=Pittsburgh&amp;city_search_id=49&amp;country_search_id=1&amp;page=1&amp;price=25.0%2C50.0&amp;query=\">\\n          $25 - $50\\n          <span class=\"count\">452</span>\\n</a>      </li>\\n      <li>\\n        <a href=\"/browse/cities/49/searches?city_name=Pittsburgh&amp;city_search_id=49&amp;country_search_id=1&amp;page=1&amp;price=50.0%2C&amp;query=\">\\n          $50+\\n          <span class=\"count\">635</span>\\n</a>      </li>\\n  </ul>\\n\\n<label>location</label>\\n    <div id=\"location-form\">\\n      <span id=\"location-input-clear\">X</span>\\n      <input id=\"location-input\" autocomplete=\"off\" placeholder=\"enter address or zip\" type=\"text\">\\n      <div class=\"alert alert-error\"></div>\\n      <ul id=\"location-suggestions\"></ul>\\n    </div>\\n    <ul class=\"facets location\">\\n      <li data-facet=\"5-miles\" class=\"ga-track disabled\" data-ga-data=\"SB, location distance, 5\" data-track=\\'event\\' data-cat=\\'SB\\' data-act=\\'location distance\\' data-lab=\\'5\\'>\\n        <span class=\"facet-checkbox\"></span>within 5 miles\\n      </li>\\n      <li data-facet=\"10-miles\" class=\"ga-track disabled\" data-ga-data=\"SB, location distance, 10\" data-track=\\'event\\' data-cat=\\'SB\\' data-act=\\'location distance\\' data-lab=\\'10\\'>\\n        <span class=\"facet-checkbox\"></span>within 10 miles\\n      </li>\\n      <li data-facet=\"25-miles\" class=\"ga-track disabled\" data-ga-data=\"SB, location distance, 25\" data-track=\\'event\\' data-cat=\\'SB\\' data-act=\\'location distance\\' data-lab=\\'25\\'>\\n        <span class=\"facet-checkbox\"></span>within 25 miles\\n      </li>\\n    </ul>\\n\\n    <label>cities</label>\\n  <ul class=\"facet-categories last\">\\n      <li>\\n        <a href=\"/browse/cities/49/searches?city=Pittsburgh&amp;city_name=Pittsburgh&amp;city_search_id=49&amp;country_search_id=1&amp;page=1&amp;query=\">\\n          Pittsburgh&nbsp;<span class=\"count\">42</span>\\n</a>      </li>\\n      <li>\\n        <a href=\"/browse/cities/49/searches?city=Cranberry+Township&amp;city_name=Pittsburgh&amp;city_search_id=49&amp;country_search_id=1&amp;page=1&amp;query=\">\\n          Cranberry Township&nbsp;<span class=\"count\">4</span>\\n</a>      </li>\\n      <li>\\n        <a href=\"/browse/cities/49/searches?city=Bethel+Park&amp;city_name=Pittsburgh&amp;city_search_id=49&amp;country_search_id=1&amp;page=1&amp;query=\">\\n          Bethel Park&nbsp;<span class=\"count\">3</span>\\n</a>      </li>\\n      <li>\\n        <a href=\"/browse/cities/49/searches?city=Bridgewater&amp;city_name=Pittsburgh&amp;city_search_id=49&amp;country_search_id=1&amp;page=1&amp;query=\">\\n          Bridgewater&nbsp;<span class=\"count\">3</span>\\n</a>      </li>\\n      <li>\\n        <a href=\"/browse/cities/49/searches?city=Avalon&amp;city_name=Pittsburgh&amp;city_search_id=49&amp;country_search_id=1&amp;page=1&amp;query=\">\\n          Avalon&nbsp;<span class=\"count\">2</span>\\n</a>      </li>\\n      <li>\\n        <a href=\"/browse/cities/49/searches?city=Bridgeville&amp;city_name=Pittsburgh&amp;city_search_id=49&amp;country_search_id=1&amp;page=1&amp;query=\">\\n          Bridgeville&nbsp;<span class=\"count\">2</span>\\n</a>      </li>\\n      <li>\\n        <a href=\"/browse/cities/49/searches?city=Danville&amp;city_name=Pittsburgh&amp;city_search_id=49&amp;country_search_id=1&amp;page=1&amp;query=\">\\n          Danville&nbsp;<span class=\"count\">2</span>\\n</a>      </li>\\n      <li>\\n        <a href=\"/browse/cities/49/searches?city=Davis&amp;city_name=Pittsburgh&amp;city_search_id=49&amp;country_search_id=1&amp;page=1&amp;query=\">\\n          Davis&nbsp;<span class=\"count\">2</span>\\n</a>      </li>\\n      <li>\\n        <a href=\"/browse/cities/49/searches?city=Grove+City&amp;city_name=Pittsburgh&amp;city_search_id=49&amp;country_search_id=1&amp;page=1&amp;query=\">\\n          Grove City&nbsp;<span class=\"count\">2</span>\\n</a>      </li>\\n      <li>\\n        <a href=\"/browse/cities/49/searches?city=Groveland&amp;city_name=Pittsburgh&amp;city_search_id=49&amp;country_search_id=1&amp;page=1&amp;query=\">\\n          Groveland&nbsp;<span class=\"count\">2</span>\\n</a>      </li>\\n  </ul>\\n\\n\\n<div id=\"gmap\" data-map-url=\"//maps.googleapis.com/maps/api/js?libraries=places,geometry&sensor=false&callback=initSearchFacets&client=gme-livingsocial1&channel=browse&signature=atW7AA0aPRum8oNeN5a9Y60NF0g=\"></div>\\n\\n  </div>\\n\\n  <div class=\"all-deals us\">\\n    <div id=\"facets-loading\" style=\"display: none;\"></div>\\n<div id=\"category-sort\" style=\"display: block;\" data-url=\"/browse/cities/49/searches?city_name=Pittsburgh&amp;city_search_id=49&amp;country_search_id=1&amp;page=1&amp;query=\">\\n  <h2><span>1988</span> results</h2>\\n  <div class=\"category-sort-select\" id=\"category-sort-select\">\\n    <select id=\"category-sort-select\">\\n      <option value=\",\">relevance</option>\\n      <option value=\"starts_at,desc\">newest</option>\\n      <option value=\"price,asc\" selected>price low to high</option>\\n      <option value=\"price,desc\">price high to low</option>\\n      <option value=\"ends_at,asc\">ending date</option>\\n    </select>\\n  </div>\\n</div>\\n\\n\\n    <h3 class=\"category-section-header featured-section-header\" style=\"display: none;\">featured deals</h3>\\n    <ul class=\"unstyled deal-global deal-browse js-deal-views-tiles-container featured-deals\">\\n      <li dealid=\"2006190\" class=\"deal-tile facet-active search-result\" data-ga-data=\"\">\\n  <a class=\"search-wrapper\" href=\"https://www.livingsocial.com/events/2006190-gl-xeb-third-eye-blind-hard-rock-cafe?pos=0\">\\n    <div class=\"deal-image\">\\n      <div class=\"horizontal-img\">\\n        <img src=\"https://a0.lscdn.net/imgs/58b493f1-98ac-4c29-8e65-19801218958e/340_q60.jpg\" alt=\"XEB plays &quot;Third Eye Blind&quot; on May 18 at 7:30 p.m.\">\\n      </div>\\n      <div class=\"image-border\"></div>\\n    </div>\\n\\n    <div class=\"deal-details\">\\n      <h2>XEB plays &quot;Third Eye Blind&quot; on May 18 at 7:30 p.m.</h2>\\n      <h3 class=\"\">XEB</h3>\\n        <p class=\"description\">The Deal\\n\\n  $10 for one general admission ticket (up to $20.66 value)\\n\\n\\nXEB\\n\\n\\n  The Band: XEB is made up of Kevin Cadogan and Arion Salazar, both f...</p>\\n        <p class=\"location\">Pittsburgh</p>\\n    </div>\\n    <div class=\"deal-prices\">\\n        <div class=\"from\">from</div>\\n          <div class=\"deal-strikethrough-price\"><sup>$</sup>20.66</div>\\n          <div class=\"deal-price\"><sup>$</sup>10</div>\\n    </div>\\n    <div class=\"deal-bottom-border\"></div>\\n</a></li>\\n<li dealid=\"2006176\" class=\"deal-tile facet-active search-result\" data-ga-data=\"\">\\n  <a class=\"search-wrapper\" href=\"https://www.livingsocial.com/events/2006176-gl-garry-tallent-the-e-street-band-hard-rock-cafe?pos=1\">\\n    <div class=\"deal-image\">\\n      <div class=\"horizontal-img\">\\n        <img src=\"https://a2.lscdn.net/imgs/58b493ed-9963-4522-a4ff-94435e251043/340_q60.jpg\" alt=\"Garry Tallent of The E Street Band on April 30 at 8 p.m.\">\\n      </div>\\n      <div class=\"image-border\"></div>\\n    </div>\\n\\n    <div class=\"deal-details\">\\n      <h2>Garry Tallent of The E Street Band on April 30 at 8 p.m.</h2>\\n      <h3 class=\"\">Garry Tallent of The E Street Band</h3>\\n        <p class=\"description\">The Deal\\n\\n\\n  $10 for one general-admission ticket (up to $20.66 value)\\n\\n\\nGarry Tallent of The E Street Band\\n\\n\\n\\n\\n  His Sound: The Columbus Dispatch ...</p>\\n        <p class=\"location\">Pittsburgh</p>\\n    </div>\\n    <div class=\"deal-prices\">\\n        <div class=\"from\">from</div>\\n          <div class=\"deal-strikethrough-price\"><sup>$</sup>20.66</div>\\n          <div class=\"deal-price\"><sup>$</sup>10</div>\\n    </div>\\n    <div class=\"deal-bottom-border\"></div>\\n</a></li>\\n<li dealid=\"1628360\" class=\"deal-tile facet-active search-result\" data-ga-data=\"\">\\n  <a class=\"search-wrapper\" href=\"https://www.livingsocial.com/deals/1628360-swedish-or-therapeutic-massage?pos=2\">\\n    <div class=\"deal-image\">\\n      <div class=\"horizontal-img\">\\n        <img src=\"https://a0.lscdn.net/imgs/223578ea-bd6f-43b2-b2f6-d49a19ce0f9c/340_q60.jpg\" alt=\"Swedish or Therapeutic Massage \">\\n      </div>\\n      <div class=\"image-border\"></div>\\n    </div>\\n\\n    <div class=\"deal-details\">\\n      <h2>Swedish or Therapeutic Massage </h2>\\n      <h3 class=\"\">All About Massage and Wellness </h3>\\n        <p class=\"description\"> About This Service Provider\\r\\nAll About Massage and Wellness Website\\r\\n_____• $44.99 ($75.00 value) for A. For Pittsburgh Location: One-Hour Swedish...</p>\\n        <p class=\"location\">Pittsburgh</p>\\n    </div>\\n    <div class=\"deal-prices\">\\n        <div class=\"from\">from</div>\\n          <div class=\"deal-strikethrough-price\"><sup>$</sup>75</div>\\n          <div class=\"deal-price\"><sup>$</sup>44.99</div>\\n    </div>\\n    <div class=\"deal-bottom-border\"></div>\\n</a></li>\\n<li dealid=\"1631636\" class=\"deal-tile facet-active search-result multiple-price-points\" data-ga-data=\"\">\\n  <a class=\"search-wrapper\" href=\"https://www.livingsocial.com/deals/1631636-self-guided-scavenger-hunt-in-pittsburgh?pos=3\">\\n    <div class=\"deal-image\">\\n      <div class=\"horizontal-img\">\\n        <img src=\"https://a2.lscdn.net/imgs/582f826a-3dce-42a8-a043-d30a629e5f63/340_q60.jpg\" alt=\"Self-Guided Scavenger Hunt in Pittsburgh\">\\n      </div>\\n      <div class=\"image-border\"></div>\\n    </div>\\n\\n    <div class=\"deal-details\">\\n      <h2>Self-Guided Scavenger Hunt in Pittsburgh</h2>\\n      <h3 class=\"\">Big City Hunt</h3>\\n        <p class=\"description\">Why You&#39;ll Love It\\r\\nLearn more about the Pittsburgh scavenger hunt\\r\\nBig City Hunt Website\\r\\n_____• $22.00 ($40.00 value) for A. Self-Guided Scavenge...</p>\\n        <p class=\"location\">Pittsburgh</p>\\n    </div>\\n    <div class=\"deal-prices\">\\n        <div class=\"from\">from</div>\\n          <div class=\"deal-strikethrough-price\"><sup>$</sup>40</div>\\n          <div class=\"deal-price\"><sup>$</sup>22</div>\\n    </div>\\n    <div class=\"deal-bottom-border\"></div>\\n</a></li>\\n<li dealid=\"1636438\" class=\"deal-tile facet-active search-result\" data-ga-data=\"\">\\n  <a class=\"search-wrapper\" href=\"https://www.livingsocial.com/events/1636438-race-entry-package-to-night-nation-run?pos=4\">\\n    <div class=\"deal-image\">\\n      <div class=\"horizontal-img\">\\n        <img src=\"https://a5.lscdn.net/imgs/586c02f2-9d62-4121-9c60-2837ee18ccef/340_q60.jpg\" alt=\"Race Entry Package to Night Nation Run\">\\n      </div>\\n      <div class=\"image-border\"></div>\\n    </div>\\n\\n    <div class=\"deal-details\">\\n      <h2>Race Entry Package to Night Nation Run</h2>\\n      <h3 class=\"\">Night Nation Run</h3>\\n        <p class=\"description\">With multiple stages on this illuminated 5K course filled with lasers, beats, and top EDM DJs, the Night Nation Run is an all-out celebration so pu...</p>\\n        <p class=\"location\">Pittsburgh</p>\\n    </div>\\n    <div class=\"deal-prices\">\\n        <div class=\"from\">from</div>\\n          <div class=\"deal-strikethrough-price\"><sup>$</sup>60</div>\\n          <div class=\"deal-price\"><sup>$</sup>29.99</div>\\n    </div>\\n    <div class=\"deal-bottom-border\"></div>\\n</a></li>\\n<li dealid=\"2006184\" class=\"deal-tile facet-active search-result\" data-ga-data=\"\">\\n  <a class=\"search-wrapper\" href=\"https://www.livingsocial.com/events/2006184-gl-kick-inxs-experience-hard-rock-cafe?pos=5\">\\n    <div class=\"deal-image\">\\n      <div class=\"horizontal-img\">\\n        <img src=\"https://a5.lscdn.net/imgs/58b493ef-aceb-4a06-b346-301bc8c4f055/340_q60.jpg\" alt=\"KICK - The INXS Experience on Saturday, May 20, at 10 p.m.\">\\n      </div>\\n      <div class=\"image-border\"></div>\\n    </div>\\n\\n    <div class=\"deal-details\">\\n      <h2>KICK - The INXS Experience on Saturday, May 20, at 10 p.m.</h2>\\n      <h3 class=\"\">KICK: The INXS Experience with Ridgemont High</h3>\\n        <p class=\"description\">The Deal\\n\\n\\n  $8 for one general-admission ticket (up to $16.58 value)\\n\\n\\nKICK - The INXS Experience\\n\\n\\n  The Singer: Guitarist and songwriter Cory Ma...</p>\\n        <p class=\"location\">Pittsburgh</p>\\n    </div>\\n    <div class=\"deal-prices\">\\n        <div class=\"from\">from</div>\\n          <div class=\"deal-strikethrough-price\"><sup>$</sup>16.58</div>\\n          <div class=\"deal-price\"><sup>$</sup>8</div>\\n    </div>\\n    <div class=\"deal-bottom-border\"></div>\\n</a></li>\\n<li dealid=\"1637592\" class=\"deal-tile facet-active search-result multiple-price-points\" data-ga-data=\"\">\\n  <a class=\"search-wrapper\" href=\"https://www.livingsocial.com/deals/1637592-middle-eastern-food-tea-and-hookah?pos=6\">\\n    <div class=\"deal-image\">\\n      <div class=\"horizontal-img\">\\n        <img src=\"https://a4.lscdn.net/imgs/58793348-d902-490c-b78f-93ca16326554/340_q60.jpg\" alt=\"Middle Eastern Food, Tea, and Hookah\">\\n      </div>\\n      <div class=\"image-border\"></div>\\n    </div>\\n\\n    <div class=\"deal-details\">\\n      <h2>Middle Eastern Food, Tea, and Hookah</h2>\\n      <h3 class=\"\">Dijlah Restaurant and Cafe</h3>\\n        <p class=\"description\">About This Service Provider\\r\\nCheck out the menu\\r\\nDijlah Restaurant and Cafe Website | Facebook\\r\\nSee fine print for details\\r\\n_____• $13.00 ($20.00 v...</p>\\n        <p class=\"location\">Pittsburgh</p>\\n    </div>\\n    <div class=\"deal-prices\">\\n        <div class=\"from\">from</div>\\n          <div class=\"deal-strikethrough-price\"><sup>$</sup>20</div>\\n          <div class=\"deal-price\"><sup>$</sup>13</div>\\n    </div>\\n    <div class=\"deal-bottom-border\"></div>\\n</a></li>\\n<li dealid=\"1634554\" class=\"deal-tile facet-active search-result multiple-price-points\" data-ga-data=\"\">\\n  <a class=\"search-wrapper\" href=\"https://www.livingsocial.com/deals/1634554-pure-light-slim-treatments-and-power-plate-session?pos=7\">\\n    <div class=\"deal-image\">\\n      <div class=\"horizontal-img\">\\n        <img src=\"https://a2.lscdn.net/imgs/7044eef6-c873-4b58-a6e4-00b174c04cea/340_q60.jpg\" alt=\"Pure Light Slim Treatments and Power Plate Session\">\\n      </div>\\n      <div class=\"image-border\"></div>\\n    </div>\\n\\n    <div class=\"deal-details\">\\n      <h2>Pure Light Slim Treatments and Power Plate Session</h2>\\n      <h3 class=\"\">Beautiful You Body Method</h3>\\n        <p class=\"description\">Why You&#39;ll Love It\\r\\nLearn more about these services\\r\\nBeautiful You Body Method Website | Facebook\\r\\n_____• $229.00 ($770.00 value) for A. Six Pure L...</p>\\n        <p class=\"location\">Pittsburgh</p>\\n    </div>\\n    <div class=\"deal-prices\">\\n        <div class=\"from\">from</div>\\n          <div class=\"deal-strikethrough-price\"><sup>$</sup>770</div>\\n          <div class=\"deal-price\"><sup>$</sup>229</div>\\n    </div>\\n    <div class=\"deal-bottom-border\"></div>\\n</a></li>\\n<li dealid=\"2008526\" class=\"deal-tile facet-active search-result\" data-ga-data=\"\">\\n  <a class=\"search-wrapper\" href=\"https://www.livingsocial.com/events/2008526-gl-my-winehouse-tribute-hard-rock?pos=8\">\\n    <div class=\"deal-image\">\\n      <div class=\"horizontal-img\">\\n        <img src=\"https://a2.lscdn.net/imgs/58cb6ce3-e824-42cb-ae74-bb7d54584e75/340_q60.jpg\" alt=\"Remember Jones in &quot;Back to Black&quot;: Amy Winehouse Tribute on Friday, May 19, at 9:30 p.m.\">\\n      </div>\\n      <div class=\"image-border\"></div>\\n    </div>\\n\\n    <div class=\"deal-details\">\\n      <h2>Remember Jones in &quot;Back to Black&quot;: Amy Winehouse Tribute on Friday, May 19, at 9:30 p.m.</h2>\\n      <h3 class=\"\">Remember Jones: Amy Winehouse Tribute Back to Black</h3>\\n        <p class=\"description\">The Deal\\n\\n\\n  $10 for one general admission ticket (up to $20.66 value)\\n\\n\\nRemeber Jones: Amy Winehouse Tribute - “Back to Black”\\n\\n\\n  The Show: A swi...</p>\\n        <p class=\"location\">Pittsburgh</p>\\n    </div>\\n    <div class=\"deal-prices\">\\n        <div class=\"from\">from</div>\\n          <div class=\"deal-strikethrough-price\"><sup>$</sup>20.66</div>\\n          <div class=\"deal-price\"><sup>$</sup>10</div>\\n    </div>\\n    <div class=\"deal-bottom-border\"></div>\\n</a></li>\\n<li dealid=\"1617156\" class=\"deal-tile facet-active search-result multiple-price-points\" data-ga-data=\"\">\\n  <a class=\"search-wrapper\" href=\"https://www.livingsocial.com/deals/1617156-swedish-deep-tissue-or-prenatal-massage?pos=9\">\\n    <div class=\"deal-image\">\\n      <div class=\"horizontal-img\">\\n        <img src=\"https://a2.lscdn.net/imgs/43738c94-0349-419a-beb4-a8ea5e50a50b/340_q60.jpg\" alt=\"Swedish, Deep-Tissue, or Prenatal Massage\">\\n      </div>\\n      <div class=\"image-border\"></div>\\n    </div>\\n\\n    <div class=\"deal-details\">\\n      <h2>Swedish, Deep-Tissue, or Prenatal Massage</h2>\\n      <h3 class=\"\">Honor Your Body Wellness</h3>\\n        <p class=\"description\">Why You&#39;ll Love It\\r\\nLearn more about these services\\r\\nHonor Your Body Wellness Website | Facebook\\r\\n_____• $45.00 ($85.00 value) for A. One 60-Minute...</p>\\n        <p class=\"location\">Pittsburgh</p>\\n    </div>\\n    <div class=\"deal-prices\">\\n        <div class=\"from\">from</div>\\n          <div class=\"deal-strikethrough-price\"><sup>$</sup>85</div>\\n          <div class=\"deal-price\"><sup>$</sup>45</div>\\n    </div>\\n    <div class=\"deal-bottom-border\"></div>\\n</a></li>\\n<li dealid=\"1620350\" class=\"deal-tile facet-active search-result multiple-price-points\" data-ga-data=\"\">\\n  <a class=\"search-wrapper\" href=\"https://www.livingsocial.com/deals/1620350-complete-car-or-suv-detailing-package?pos=10\">\\n    <div class=\"deal-image\">\\n      <div class=\"horizontal-img\">\\n        <img src=\"https://a4.lscdn.net/imgs/68da28ae-9ebd-4ae9-83a7-7e5cfcff9f22/340_q60.jpg\" alt=\"Complete Car or SUV Detailing Package\">\\n      </div>\\n      <div class=\"image-border\"></div>\\n    </div>\\n\\n    <div class=\"deal-details\">\\n      <h2>Complete Car or SUV Detailing Package</h2>\\n      <h3 class=\"\">Bigelow Blvd Detailing</h3>\\n        <p class=\"description\">Why You&#39;ll Love It\\r\\nLearn more about these services\\r\\nBigelow Blvd Detailing Website\\r\\n_____• $99.00 ($200.00 value) for A. Complete Car Detailing Pa...</p>\\n        <p class=\"location\">Pittsburgh</p>\\n    </div>\\n    <div class=\"deal-prices\">\\n        <div class=\"from\">from</div>\\n          <div class=\"deal-strikethrough-price\"><sup>$</sup>200</div>\\n          <div class=\"deal-price\"><sup>$</sup>99</div>\\n    </div>\\n    <div class=\"deal-bottom-border\"></div>\\n</a></li>\\n<li dealid=\"1612296\" class=\"deal-tile facet-active search-result multiple-price-points\" data-ga-data=\"\">\\n  <a class=\"search-wrapper\" href=\"https://www.livingsocial.com/deals/1612296-full-set-of-faux-mink-eyelash-extensions?pos=11\">\\n    <div class=\"deal-image\">\\n      <div class=\"horizontal-img\">\\n        <img src=\"https://a5.lscdn.net/imgs/3e6345de-931c-4505-9844-1e121e1b5944/340_q60.jpg\" alt=\"Full Set of Faux Mink Eyelash Extensions\">\\n      </div>\\n      <div class=\"image-border\"></div>\\n    </div>\\n\\n    <div class=\"deal-details\">\\n      <h2>Full Set of Faux Mink Eyelash Extensions</h2>\\n      <h3 class=\"\">Lash New York</h3>\\n        <p class=\"description\">About This Service Provider\\r\\nLash New York Website\\r\\n_____• $79.99 ($165.00 value) for A. Full Set of Faux Mink Eyelash Extensions• $119.99 ($244.00...</p>\\n        <p class=\"location\">Pittsburgh</p>\\n    </div>\\n    <div class=\"deal-prices\">\\n        <div class=\"from\">from</div>\\n          <div class=\"deal-strikethrough-price\"><sup>$</sup>165</div>\\n          <div class=\"deal-price\"><sup>$</sup>79.99</div>\\n    </div>\\n    <div class=\"deal-bottom-border\"></div>\\n</a></li>\\n<li dealid=\"1640510\" class=\"deal-tile facet-active search-result multiple-price-points\" data-ga-data=\"\">\\n  <a class=\"search-wrapper\" href=\"https://www.livingsocial.com/deals/1640510-fun-pack-or-annual-family-membership?pos=12\">\\n    <div class=\"deal-image\">\\n      <div class=\"horizontal-img\">\\n        <img src=\"https://a1.lscdn.net/imgs/5894ec0b-b814-45f2-bb30-a53ee8b341c6/340_q60.jpg\" alt=\"Fun Pack or Annual Family Membership\">\\n      </div>\\n      <div class=\"image-border\"></div>\\n    </div>\\n\\n    <div class=\"deal-details\">\\n      <h2>Fun Pack or Annual Family Membership</h2>\\n      <h3 class=\"\">The ToonSeum</h3>\\n        <p class=\"description\">Why You&#39;ll Love It\\r\\nThe ToonSeum Website | Facebook | Twitter\\r\\n_____• $14.00 ($28.00 value) for A. Admission for Two Adults with Two Fun Packs• $25...</p>\\n        <p class=\"location\">Pittsburgh</p>\\n    </div>\\n    <div class=\"deal-prices\">\\n        <div class=\"from\">from</div>\\n          <div class=\"deal-strikethrough-price\"><sup>$</sup>28</div>\\n          <div class=\"deal-price\"><sup>$</sup>14</div>\\n    </div>\\n    <div class=\"deal-bottom-border\"></div>\\n</a></li>\\n<li dealid=\"1625900\" class=\"deal-tile facet-active search-result multiple-price-points\" data-ga-data=\"\">\\n  <a class=\"search-wrapper\" href=\"https://www.livingsocial.com/deals/1625900-music-classes-for-ages-5-to-17?pos=13\">\\n    <div class=\"deal-image\">\\n      <div class=\"horizontal-img\">\\n        <img src=\"https://a1.lscdn.net/imgs/35ce68b4-7ed4-460f-83fc-a227422309a2/340_q60.jpg\" alt=\"Music Classes for Ages 5 to 17\">\\n      </div>\\n      <div class=\"image-border\"></div>\\n    </div>\\n\\n    <div class=\"deal-details\">\\n      <h2>Music Classes for Ages 5 to 17</h2>\\n      <h3 class=\"\">Sunburst School of Music</h3>\\n        <p class=\"description\">Why You&#39;ll Love It\\r\\nLearn more about these services\\r\\nSunburst School of Music Website\\r\\n_____• $35.00 ($75.00 value) for A. For Ages 5 to 7: Explore...</p>\\n        <p class=\"location\">Pittsburgh</p>\\n    </div>\\n    <div class=\"deal-prices\">\\n        <div class=\"from\">from</div>\\n          <div class=\"deal-strikethrough-price\"><sup>$</sup>75</div>\\n          <div class=\"deal-price\"><sup>$</sup>35</div>\\n    </div>\\n    <div class=\"deal-bottom-border\"></div>\\n</a></li>\\n<li dealid=\"1614932\" class=\"deal-tile facet-active search-result multiple-price-points\" data-ga-data=\"\">\\n  <a class=\"search-wrapper\" href=\"https://www.livingsocial.com/deals/1614932-2-general-admission-tickets?pos=14\">\\n    <div class=\"deal-image\">\\n      <div class=\"horizontal-img\">\\n        <img src=\"https://a5.lscdn.net/imgs/bdf2709b-c154-4ab4-a4a8-af4965fb143f/340_q60.jpg\" alt=\"2 General Admission Tickets\">\\n      </div>\\n      <div class=\"image-border\"></div>\\n    </div>\\n\\n    <div class=\"deal-details\">\\n      <h2>2 General Admission Tickets</h2>\\n      <h3 class=\"\">Pittsburgh Improv</h3>\\n        <p class=\"description\">About This Experience\\r\\nPittsburgh Improv Website\\r\\n______• $20.00 ($100.00 value) for A. Two General Admission Tickets: Includes Two Tickets to a Fu...</p>\\n        <p class=\"location\">Homestead</p>\\n    </div>\\n    <div class=\"deal-prices\">\\n        <div class=\"from\">from</div>\\n          <div class=\"deal-strikethrough-price\"><sup>$</sup>100</div>\\n          <div class=\"deal-price\"><sup>$</sup>20</div>\\n    </div>\\n    <div class=\"deal-bottom-border\"></div>\\n</a></li>\\n<li dealid=\"1644098\" class=\"deal-tile facet-active search-result\" data-ga-data=\"\">\\n  <a class=\"search-wrapper\" href=\"https://www.livingsocial.com/deals/1644098-400-to-spend-on-hunter-douglas-shades-and-blinds?pos=15\">\\n    <div class=\"deal-image\">\\n      <div class=\"horizontal-img\">\\n        <img src=\"https://a5.lscdn.net/imgs/3f5a2b8d-e880-4ad6-ab94-0dea0435a25b/340_q60.jpg\" alt=\"$400 to Spend on Hunter Douglas Shades and Blinds\">\\n      </div>\\n      <div class=\"image-border\"></div>\\n    </div>\\n\\n    <div class=\"deal-details\">\\n      <h2>$400 to Spend on Hunter Douglas Shades and Blinds</h2>\\n      <h3 class=\"\">American Buyers Discount Window &amp; Floor Coverings </h3>\\n        <p class=\"description\"> About This Service Provider\\r\\nAmerican Buyers Discount Window &amp;amp; Floor Coverings Website \\r\\n______• $149.00 ($400.00 value) for $400 to Spend on ...</p>\\n        <p class=\"location\">Pittsburgh</p>\\n    </div>\\n    <div class=\"deal-prices\">\\n        <div class=\"from\">from</div>\\n          <div class=\"deal-strikethrough-price\"><sup>$</sup>400</div>\\n          <div class=\"deal-price\"><sup>$</sup>149</div>\\n    </div>\\n    <div class=\"deal-bottom-border\"></div>\\n</a></li>\\n<li dealid=\"1643358\" class=\"deal-tile facet-active search-result\" data-ga-data=\"\">\\n  <a class=\"search-wrapper\" href=\"https://www.livingsocial.com/deals/1643358-6-week-winter-rowing-class?pos=16\">\\n    <div class=\"deal-image\">\\n      <div class=\"horizontal-img\">\\n        <img src=\"https://a4.lscdn.net/imgs/58a5fb3e-fa4b-4430-9332-03312dba062f/340_q60.jpg\" alt=\"6-Week Winter Rowing Class \">\\n      </div>\\n      <div class=\"image-border\"></div>\\n    </div>\\n\\n    <div class=\"deal-details\">\\n      <h2>6-Week Winter Rowing Class </h2>\\n      <h3 class=\"\">Three Rivers Rowing Association</h3>\\n        <p class=\"description\"> About This Experience\\r\\nThree Rivers Rowing Association Website\\r\\n______• $69.00 ($150.00 value) for A. For Monday Evening: Six-Week Winter Rowing C...</p>\\n        <p class=\"location\">Millvale</p>\\n    </div>\\n    <div class=\"deal-prices\">\\n        <div class=\"from\">from</div>\\n          <div class=\"deal-strikethrough-price\"><sup>$</sup>150</div>\\n          <div class=\"deal-price\"><sup>$</sup>69</div>\\n    </div>\\n    <div class=\"deal-bottom-border\"></div>\\n</a></li>\\n<li dealid=\"1651968\" class=\"deal-tile facet-active search-result\" data-ga-data=\"\">\\n  <a class=\"search-wrapper\" href=\"https://www.livingsocial.com/deals/1651968-4-for-fried-chicken?pos=17\">\\n    <div class=\"deal-image\">\\n      <div class=\"horizontal-img\">\\n        <img src=\"https://a3.lscdn.net/imgs/58e283ff-286d-469e-8809-f3748f57e58f/340_q60.jpg\" alt=\"$4 for Fried Chicken\">\\n      </div>\\n        <p class=\"deal-category\" style=\"display:block;text-transform:lowercase;\" data-category=\"new_deal\"><span class=\"translation_missing\" title=\"translation missing: en.faceted_browse.collections.new_deal\">New Deal</span></p>\\n      <div class=\"image-border\"></div>\\n    </div>\\n\\n    <div class=\"deal-details\">\\n      <h2>$4 for Fried Chicken</h2>\\n      <h3 class=\"\">Quik-It ChickeN</h3>\\n        <p class=\"description\">What You&#39;ll Get\\r\\n$8 Value \\r\\nAbout Quik-It Chicken\\r\\n\\r\\nWings and fries, chicken and waffles, smoke and ribs. You can&#39;t say the folks at Quik-It Chick...</p>\\n        <p class=\"location\">Pittsburgh</p>\\n    </div>\\n    <div class=\"deal-prices\">\\n        <div class=\"from\">from</div>\\n          <div class=\"deal-strikethrough-price\"><sup>$</sup>8</div>\\n          <div class=\"deal-price\"><sup>$</sup>4</div>\\n    </div>\\n    <div class=\"deal-bottom-border\"></div>\\n</a></li>\\n<li dealid=\"1608968\" class=\"deal-tile facet-active search-result\" data-ga-data=\"\">\\n  <a class=\"search-wrapper\" href=\"https://www.livingsocial.com/deals/1608968-month-of-unlimited-group-fitness-classes?pos=18\">\\n    <div class=\"deal-image\">\\n      <div class=\"horizontal-img\">\\n        <img src=\"https://a0.lscdn.net/imgs/1a3f9e7c-0fa9-4874-8b25-f8defaf4f7d2/340_q60.jpg\" alt=\"Month of Unlimited Group Fitness Classes\">\\n      </div>\\n      <div class=\"image-border\"></div>\\n    </div>\\n\\n    <div class=\"deal-details\">\\n      <h2>Month of Unlimited Group Fitness Classes</h2>\\n      <h3 class=\"\">Pittsburgh Fitness Project</h3>\\n        <p class=\"description\">Why You&#39;ll Love It\\r\\nLearn more about these classes\\r\\nCheck out the schedule\\r\\nPittsburgh Project Fitness Website | Facebook\\r\\n_____• $69.99 ($140.00 v...</p>\\n        <p class=\"location\">Pittsburgh</p>\\n    </div>\\n    <div class=\"deal-prices\">\\n        <div class=\"from\">from</div>\\n          <div class=\"deal-strikethrough-price\"><sup>$</sup>140</div>\\n          <div class=\"deal-price\"><sup>$</sup>69.99</div>\\n    </div>\\n    <div class=\"deal-bottom-border\"></div>\\n</a></li>\\n<li dealid=\"1651884\" class=\"deal-tile facet-active search-result multiple-price-points\" data-ga-data=\"\">\\n  <a class=\"search-wrapper\" href=\"https://www.livingsocial.com/events/1651884-easter-offer-ticket-to-ovo-by-cirque-du-soleil?pos=19\">\\n    <div class=\"deal-image\">\\n      <div class=\"horizontal-img\">\\n        <img src=\"https://a3.lscdn.net/imgs/5661b109-bc7e-4c97-aae4-0c058fac2590/340_q60.jpg\" alt=\"Easter Offer: Ticket to OVO by Cirque du Soleil\">\\n      </div>\\n        <p class=\"deal-category\" style=\"display:block;text-transform:lowercase;\" data-category=\"new_deal\"><span class=\"translation_missing\" title=\"translation missing: en.faceted_browse.collections.new_deal\">New Deal</span></p>\\n      <div class=\"image-border\"></div>\\n    </div>\\n\\n    <div class=\"deal-details\">\\n      <h2>Easter Offer: Ticket to OVO by Cirque du Soleil</h2>\\n      <h3 class=\"\">Cirque du Soleil</h3>\\n        <p class=\"description\">The wonder and beauty of the natural world inspire Cirque du Soleil&#39;s unforgettable OVO, a can&#39;t-miss production playing at the Peterson Center fro...</p>\\n        <p class=\"location\">Pittsburgh</p>\\n    </div>\\n    <div class=\"deal-prices\">\\n        <div class=\"from\">from</div>\\n          <div class=\"deal-strikethrough-price\"><sup>$</sup>65</div>\\n          <div class=\"deal-price\"><sup>$</sup>49</div>\\n    </div>\\n    <div class=\"deal-bottom-border\"></div>\\n</a></li>\\n\\n    </ul>\\n      <div style=\"background-color: #F8F8F8;\">\\n    <div style=\"display: inline-block; padding-left: 16px; margin-top: 12px;\">\\n      <div id=\"adcontainer\"></div>\\n    </div>\\n  </div>\\n\\n\\n    <div class=\"clearfix\"></div>\\n    <div class=\"pagination\"><a class=\"previous_page disabled btn btn-medium\">previous</a>  <a class=\"next_page  btn btn-medium\" rel=\"next\" href=\"/browse/cities/49/searches?city_name=Pittsburgh&amp;city_search_id=49&amp;country_search_id=1&amp;page=2&amp;query=&amp;utf8=%E2%9C%93\">next</a></div>\\n    <div class=\"clearfix\"></div>\\n  </div>\\n\\n<div class=\"clearfix\"></div>\\n\\n</div>\\n\\n<div data-query-object=\"{&quot;query&quot;:&quot;&quot;}\" id=\"other-search-query-text\"></div>\\n\\n\\n    <script>\\n        var EVENTER_RECOMMENDATION_CLICK = 6;\\n    </script>\\n\\n    <div id=\"partial-above_footer\"></div>\\n<footer class=\"global-footer mobile-hide\" role=\"contentinfo\">\\n  <div class=\"footer-callouts\">\\n    <div class=\"container\">\\n      \\n        <div class=\"footer-callout-group\">\\n          <div class=\"footer-callout icon-mobile\">\\n            <h5>mobile app</h5>\\n            <p>Get the best deals wherever you are. <a href=\"https://www.livingsocial.com/mobile\">Free download &raquo;</a></p>\\n          </div>\\n          <div class=\"footer-callout icon-guarantee\">\\n            <h5>Good Deal Guarantee</h5>\\n            <p>Our way of making sure you&rsquo;re always happy. <a href=\"https://www.livingsocial.com/guarantee\">Learn more &raquo;</a></p>\\n          </div>\\n          <div class=\"footer-callout icon-research\">\\n            <h5>help us improve</h5>\\n            <p>Sign up to test new products and features. <a href=\"https://www.livingsocial.com/research\">Volunteer now &raquo;</a></p>\\n          </div>\\n        </div>\\n      \\n      <div class=\"footer-callout-group\">\\n        <div class=\"footer-callout-group-narrow\">\\n          <h4 class=\"footer-callout-group-heading\">smart marketing solutions for businesses of every size</h4>\\n          <div class=\"footer-callout footer-callout-wide icon-storefront\">\\n            <p>Flexible, measurable marketing for local merchants. <a href=\"https://merchant.livingsocial.com/welcome\">Learn more &raquo;</a></p>\\n          </div>\\n          <div class=\"footer-callout footer-callout-wide icon-laptop\">\\n            <p>Data-driven advertising packages for national brands. <a href=\"https://merchant.livingsocial.com/welcome/national-advertising\">Learn more &raquo;</a></p>\\n          </div>\\n        </div>\\n      </div>\\n    </div>\\n  </div>\\n\\n  <div class=\"site-info\">\\n    <div class=\"container\">\\n      <div class=\"footer-sitemap\">\\n        <div class=\"col\">\\n          <h4 class=\"sitemap-group-heading\">deals</h4>\\n          <ul class=\"sitemap-group\">\\n            \\n              <li class=\"sitemap-item\">\\n                <a href=\"https://www.livingsocial.com/cities/49-pittsburgh\">Local</a>\\n              </li>\\n            \\n            \\n              <li class=\"sitemap-item\">\\n                <a href=\"https://www.livingsocial.com/escapes/cities/49-pittsburgh\">Travel</a>\\n              </li>\\n            \\n            \\n              <li class=\"sitemap-item\">\\n                <a href=\"https://www.livingsocial.com/products/us?preferred_city_id=49\">Shop</a>\\n              </li>\\n            \\n            \\n              <li class=\"sitemap-item\">\\n                <a href=\"https://www.livingsocial.com/gift-ideas\">Gifts</a>\\n              </li>\\n            \\n            \\n              <li class=\"sitemap-item\">\\n                <a href=\"https://www.livingsocial.com/coupons\">Coupons</a>\\n              </li>\\n            \\n          </ul>\\n        </div>\\n        <div class=\"col\">\\n          <h4 class=\"sitemap-group-heading\">company</h4>\\n          <ul class=\"sitemap-group\">\\n            <li class=\"sitemap-item\">\\n              <a href=\"http://corporate.livingsocial.com\">About Us</a>\\n            </li>\\n            <li class=\"sitemap-item\">\\n              <a href=\"http://jobs.livingsocial.com\">Careers</a>\\n            </li>\\n            \\n            <li class=\"sitemap-item\">\\n              <a href=\"http://corporate.livingsocial.com/news/press-releases/\">Press</a>\\n            </li>\\n            \\n          </ul>\\n        </div>\\n        <div class=\"col\">\\n          <h4 class=\"sitemap-group-heading\">customer service</h4>\\n          <ul class=\"sitemap-group\">\\n            <li class=\"sitemap-item\">\\n              <a href=\"https://www.livingsocial.com/vouchers\" target=\"new\">Request a Refund</a>\\n            </li>\\n            <li class=\"sitemap-item\">\\n              <a href=\"https://help.livingsocial.com/contact_us?lc=en-US\" target=\"new\">Help Site</a>\\n            </li>\\n            <li class=\"sitemap-item\">\\n              <a href=\"https://www.livingsocial.com/guarantee\">Good Deal Guarantee</a>\\n            </li>\\n            \\n              <li class=\"sitemap-item\">\\n                <a href=\"https://help.livingsocial.com/articles/how-does-the-me-3-promotion-work\">Me + 3</a>\\n              </li>\\n            \\n            <li class=\"sitemap-item\">\\n              <a href=\"https://www.livingsocial.com/giftcards\">Gift Cards</a>\\n            </li>\\n          </ul>\\n        </div>\\n        <div class=\"col\">\\n          <h4 class=\"sitemap-group-heading\">for businesses</h4>\\n          <ul class=\"sitemap-group\">\\n            <li class=\"sitemap-item\">\\n              <a href=\"https://merchant.livingsocial.com\" target=\"_blank\">Local Merchants</a>\\n            </li>\\n            <li class=\"sitemap-item\">\\n              <a href=\"https://merchant.livingsocial.com/welcome/national-advertising\">National Brands</a>\\n            </li>\\n            <li class=\"sitemap-item\">\\n              <a href=\"https://merchant.livingsocial.com\" target=\"_blank\">Merchant center</a>\\n            </li>\\n            <li class=\"sitemap-item\">\\n              <a href=\"https://www.livingsocial.com/affiliates\">Affiliates</a>\\n            </li>\\n          </ul>\\n        </div>\\n      </div>\\n      <div class=\"company-description\">\\n        <p>LivingSocial is the best place to find and share unique things to do in your area. With dozens of <a href=\"https://www.livingsocial.com/categories\">deal categories</a> offering unforgettable <a href=\"https://www.livingsocial.com/cities/49-pittsburgh\">local experiences</a>, <a href=\"https://www.livingsocial.com/escapes/more_escapes\">travel packages</a>, <a href=\"https://www.livingsocial.com/products/us?preferred_city_id=49\">products</a>,\\n             and services in <a href=\"https://www.livingsocial.com/locations\">cities</a> all over, we have everything you need to save money and explore your world.\\n        </p>\\n      </div>\\n      <div class=\"footer-subcontent\">\\n        <p class=\"copyright\">&copy; 2017, LivingSocial, Inc. or its affiliated companies. All Rights Reserved. <a href=\"https://www.livingsocial.com/terms\">Terms of Use</a>. <a href=\"https://www.livingsocial.com/privacy_policy\">privacy policy</a>. \\n        </p>\\n        <ul class=\"ls-social-links unstyled\">\\n          <li>\\n            <a target=\"_blank\" class=\"facebook png_bg\" href=\"http://www.facebook.com/livingsocial\">facebook</a>\\n          </li>\\n          <li>\\n            <a target=\"_blank\" class=\"twitter png_bg\" href=\"http://twitter.com/livingsocial\">twitter</a>\\n          </li>\\n          \\n          <li>\\n            <a target=\"_blank\" class=\"googleplus png_bg\" href=\"https://plus.google.com/+livingsocial\" rel=\"publisher\">googleplus</a>\\n          </li>\\n          \\n          <li>\\n            <a target=\"_blank\" class=\"instagram png_bg\" href=\"http://instagram.com/livingsocial?ref=badge\">instagram</a>\\n          </li>\\n          <li class=\"last\">\\n            <a target=\"_blank\" class=\"pinterest png_bg\" href=\"http://www.pinterest.com/livingsocial\">pinterest</a>\\n          </li>\\n        </ul>\\n      </div>\\n    </div>\\n  </div>\\n</footer>\\n\\n<ul class=\"mobile-footer-settings span2 border mobile-footer-links hide mobile-only\">\\n  <li>\\n    <a href=\"https://www.livingsocial.com/terms\">terms</a>\\n  </li>\\n  <li>\\n    <a href=\"https://www.livingsocial.com/privacy_policy\">privacy policy</a>\\n  </li>\\n</ul>\\n\\n\\n\\n    <script>\\n  window.LS = window.LS || {};\\n  window.LS.tld = \\'livingsocial.com\\';\\n\\n  window.LS.city = {\"id\":49,\"latitude\":40.440624,\"longitude\":-79.995888,\"currencySymbol\":\"$\"};\\n</script>\\n\\n      <script>\\n    (function($) {\\n      window.LS.preferred_city_id = 49;\\n\\n      $.cookie(\\'preferred_city_id\\', window.LS.preferred_city_id, {\\n        expires: 1095, \\n        domain: \".livingsocial.com\",\\n        path: \\'/\\'\\n      });\\n    })(jQuery);\\n  </script>\\n\\n\\n    \\n      <script>\\n    $(function() {\\n      $(\\'#unified-nav-search-input\\').val($(\\'#other-search-query-text\\').data(\\'queryObject\\').query);\\n    });\\n  </script>\\n\\n  <script>\\n    $(function(){\\n      var facetsSelect = new FancySelect($(\\'#category-sort-select\\'),\"sort by\")\\n      $(facetsSelect).on(\\'selectItem\\', function(e,data){\\n        var attrs = data.selection.value.split(\",\");\\n        var sort_by = attrs[0];\\n        var direction = attrs[1];\\n        var url = $(\"#category-sort\").attr(\"data-url\") + \"&sort_by=\" + sort_by + \"&direction=\" + direction;\\n        window.location = url;\\n      })\\n    })\\n  </script>\\n  <script async=\"async\" src=\"https://www.google.com/adsense/search/ads.js\"></script>\\n\\n  <!-- other head elements from your page -->\\n\\n  <script type=\"text/javascript\" charset=\"utf-8\">\\n    (function(g,o){g[o]=g[o]||function(){(g[o][\\'q\\']=g[o][\\'q\\']||[]).push(\\n    arguments)},g[o][\\'t\\']=1*new Date})(window,\\'_googCsa\\');\\n  </script>\\n\\n  <script type=\"text/javascript\" charset=\"utf-8\">\\n    var query = $(\\'title\\').text();\\n\\n    var pageOptions = {\\n      \\'pubId\\': \\'partner-livingsocial\\',\\n      \\'query\\': query,\\n      \\'channel\\': \\'NEW\\',\\n      \\'hl\\': \\'en\\',\\n      \\'linkTarget\\': \"_blank\",\\n      \\'sellerRatings\\': true,\\n      \\'domainLinkAboveDescription\\': true,\\n      \\'adPage\\': 1\\n    };\\n\\n    var adblock = {\\n      \\'container\\': \\'adcontainer\\',\\n      \\'adIconUrl\\': \\'//afs.googleusercontent.com/livingsocial/livingsocial.png\\',\\n      \\'adIconWidth\\': 160,\\n      \\'adIconHeight\\': 120,\\n      \\'adIconLocation\\': \\'ad-left\\',\\n      \\'adIconSpacingAbove\\': 0,\\n      \\'adIconSpacingBelow\\': 0,\\n      \\'adIconSpacingBefore\\': 0,\\n      \\'adIconSpacingAfter\\': 20,\\n      \\'width\\': \\'700px\\',\\n      \\'number\\' : 4,\\n      \\'lines\\' : 3,\\n      \\'longerHeadlines\\' : true,\\n      \\'fontSizeTitle\\': \\'18px\\',\\n      \\'lineHeightTitle\\': \\'22px\\',\\n      \\'fontSizeDescription\\': \\'12px\\',\\n      \\'lineHeightDescription\\': \\'18px\\',\\n      \\'fontSizeDomainLink\\': \\'14px\\',\\n      \\'lineHeightDomainLink\\': \\'28px\\',\\n      \\'colorTitleLink\\': \\'0088cc\\',\\n      \\'colorText\\': \\'666666\\',\\n      \\'colorDomainLink\\': \\'333333\\',\\n      \\'colorBackground\\': \\'F8F8F8\\',\\n      \\'colorAdSeparator\\' : \\'CCCCCC\\',\\n      \\'fontSizeAttribution\\' : \\'17px\\',\\n      \\'fontSizePlusOnes\\' : \\'14px\\',\\n      \\'noTitleUnderline\\': true,\\n      \\'titleBold\\': true,\\n      \\'attributionSpacingBelow\\': \\'12px\\',\\n      \\'verticalSpacing\\': \\'12px\\'\\n    };\\n    _googCsa(\\'ads\\', pageOptions, adblock);\\n  </script>\\n  <script>\\n    $(function() {\\n      $(\\'body\\').on(\\'click\\', \\'.eventer-track\\', function() {\\n        var $data = $(this).data();\\n\\n        window.eventer(window.EVENTER_RECOMMENDATION_CLICK, null, $data.labelId, $data.position, null, null, $data.p13nRecommendationId);\\n      });\\n    });\\n  </script>\\n\\n    <script id=\"ua-roadblock\">\\n  dls = {};\\n  dls.preferredCity = {\"id\":49,\"name\":\"Pittsburgh\"};\\n\\n  (function() {\\n    var isLoaded = false,\\n        script = document.createElement(\\'script\\'),\\n        cityId = dls.preferredCity.id;\\n\\n    LSCupcake.setCurrentCityId(cityId);\\n\\n    window.LS.Events.onEvent(\\'roadblockComplete\\', function(data) {\\n      // Can live in any file that is included after the useracq/_events.erb file is included.\\n      // Do something with the data we get from cupcake which should include:\\n      //   * cityId\\n      // and may include:\\n      //   * zipCode\\n      //   * gender\\n    });\\n\\n    script.async = true;\\n    script.src = \\'https://a1.lscdn.net/cupcake/javascripts/roadrunner.min.js\\';\\n    script.type =\\'text/javascript\\';\\n\\n    script.onload = script.onreadystatechange = function() {\\n      var readyState = this.readyState;\\n\\n      if (!isLoaded && (!readyState || readyState == \\'loaded\\' || readyState == \\'complete\\')) {\\n        if (Roadblock) {\\n          if (cityId) {\\n            Roadblock.setCityId(cityId);\\n          }\\n\\n          Roadblock.setOnSubscription(LSCupcake.onSubscription);\\n\\n          Roadblock.setOnCupcakeComplete(function(data) {\\n            window.LS.Events.registerEvent(\\'roadblockComplete\\', data);\\n          });\\n\\n          Roadblock.run();\\n        }\\n\\n        // Handle memory leak in IE\\n        script.onload = script.onreadystatechange = null;\\n        isLoaded = true;\\n      }\\n    };\\n\\n    document.body.appendChild(script);\\n  })();\\n</script>\\n\\n    <script>\\n  $(function() {\\n    $.scrollDepth({\\n      elements: [\\'.featured-deal\\', \\'.collection-nearby\\', \\'.collection-escapes\\', \\'.shop-deals\\', \\'.calendar\\']\\n    });\\n  });\\n</script>\\n\\n    \\n  <!-- Google Code for Smart Tag - Remarketing -->\\n  <!-- Remarketing tags may not be associated with personally identifiable information or placed on pages related to sensitive categories. For instructions on adding this tag and more information on the above requirements, read the setup guide: google.com/ads/remarketingsetup -->\\n  <script type=\"text/javascript\">\\n  /* <![CDATA[ */\\n  var google_conversion_id = 982509180;\\n  var google_conversion_label = \"_fsNCOzZwAcQ_My_1AM\";\\n  var google_custom_params = window.google_tag_params;\\n  var google_remarketing_only = true;\\n  /* ]]> */\\n  </script>\\n  <script type=\"text/javascript\" src=\"//www.googleadservices.com/pagead/conversion.js\">\\n  </script>\\n  <noscript>\\n  <div style=\"display:inline;\">\\n  <img height=\"1\" width=\"1\" style=\"border-style:none;\" alt=\"\" src=\"//googleads.g.doubleclick.net/pagead/viewthroughconversion/982509180/?value=0&label=_fsNCOzZwAcQ_My_1AM&guid=ON&script=0\"/>\\n  </div>\\n  </noscript>\\n\\n    <iframe src=\\'https://pixels.livingsocial.com/conversion\\' width=\\'1\\' height=\\'1\\' style=\\'visibility: hidden;\\' frameborder=\\'0\\'></iframe>\\n    \\n<script>\\n  (function() {\\n    \\'use strict\\';\\n\\n    var readCookie = function(name) {\\n      var nameEQ = name + \\'=\\',\\n          ca = document.cookie.split(\\';\\');\\n\\n      for (var i = 0, j = ca.length; i < j; i++) {\\n        var c = ca[i];\\n\\n        while (c.charAt(0) === \\' \\') {\\n          c = c.substring(1, c.length);\\n        }\\n\\n        if (c.indexOf(nameEQ) === 0) {\\n          return c.substring(nameEQ.length,c.length);\\n        }\\n      }\\n\\n      return null;\\n    };\\n\\n    window._gaq = window._gaq || [];\\n\\n    window._gaq.push(\\n      [\\'_setPageGroup\\', 2, \\'local\\'],\\n      [\\'_trackEvent\\', \\'Refcode\\', \\'pittsburgh/Browse\\', readCookie(\\'ref_code\\') || \\'\\', 1, true],\\n      [\\'_setPageGroup\\', 1, \\'pittsburgh/Browse\\']\\n    );\\n  })();\\n</script>\\n\\n\\n    <script>\\n      \\n    </script>\\n\\n    <script id=\"digi_mark_api_script\">\\n(function($, config) {\\n    window.LS = window.LS || {};\\n    window.LS.DigiMark = window.LS.DigiMark || {};\\n\\n    var defaultPostEventData = function(params, complete) {\\n      if (complete === undefined) { complete = function() { } }\\n      if (console) { console.log(\"[DigiMark] default event trigger: data=\" + params); }\\n      complete();\\n      return true;\\n    };\\n\\n    var Api = window.LS.DigiMark.Api = {\\n      checkoutSteps: config.checkout_steps,\\n      init: function($) {\\n        if ($ === undefined) {\\n          Api.postEventData = defaultPostEventData;\\n          return false;\\n        }\\n        else {\\n          Api.postEventData = function(params, complete) {\\n            if (complete === undefined) { complete = function () {} }\\n            var token = $(\"meta[name=\\'csrf-token\\']\").attr(\"content\");\\n            var data = $.extend(params, { \"authenticity_token\": token })\\n\\n            $.ajax({\\n              \"url\": config.events_path,\\n              \"data\": JSON.stringify(data),\\n              \"dataType\": \"script\",\\n              \"contentType\": \"application/json\",\\n              \"type\": \"POST\",\\n              \"timeout\": config.async_script_timeout,\\n              \"complete\": complete\\n            });\\n            return true;\\n          };\\n        }\\n      },\\n      viewPage: function (data, success) {\\n        return Api.createEvent(\"view_page\")(data, success);\\n      },\\n      viewOffer: function (data, success) {\\n        return Api.createEvent(\"view_offer\")(data, success);\\n      },\\n      viewCollectionPage: function (data, success) {\\n        return Api.createEvent(\"view_collection_page\")(data, success);\\n      },\\n      clickOffer: function (data, success) {\\n        return Api.createEvent(\"click_offer\")(data, success);\\n      },\\n      viewProductCollection: function(data, success) {\\n        return Api.createEvent(\"view_product_collection\")(data, success);\\n      },\\n      subscribe: function (data, success) {\\n        return Api.createEvent(\"subscribe\")(data, success);\\n      },\\n      addOfferToCart: function (data, success) {\\n        return Api.createEvent(\"add_offer_to_cart\")(data, success);\\n      },\\n      stepThroughCheckout: function (data, success) {\\n        return Api.createEvent(\"step_through_checkout\")(data, success);\\n      },\\n      purchase: function (data, success) {\\n        return Api.createEvent(\"purchase\")(data, success);\\n      },\\n      prepareEventParams: function(eventName, data) {\\n        return { \"event\": eventName, \"data\": data };\\n      },\\n      createEvent: function (event_name) {\\n        return function (data, success) {\\n          var params = Api.prepareEventParams(event_name, data);\\n          return Api.postEventData(params, success);\\n        };\\n      },\\n      createCheckoutStep: function(step, offers) {\\n        if (offers === undefined) { offers = []; }\\n        return { \"step\": step, \"offers\": offers };\\n      },\\n      postEventData: defaultPostEventData\\n    };\\n\\n    if ($ !== undefined) { Api.init($) }\\n})(jQuery, LS.DigiMark.Config);\\n</script>\\n\\n  </body>\\n</html>\\n\\n'"
      ]
     },
     "execution_count": 4,
     "metadata": {},
     "output_type": "execute_result"
    }
   ],
   "source": [
    "response.text"
   ]
  },
  {
   "cell_type": "code",
   "execution_count": 5,
   "metadata": {
    "collapsed": false,
    "deletable": true,
    "editable": true
   },
   "outputs": [],
   "source": [
    "# parse the HTML document with Beautiful Soup \n",
    "search_results_page = BeautifulSoup(response.content, 'html.parser')\n"
   ]
  },
  {
   "cell_type": "markdown",
   "metadata": {
    "deletable": true,
    "editable": true
   },
   "source": [
    "Ok, now we have *fetched* and *parsed* the HTML document we can *extract* data.\n",
    "\n",
    "What data do we want to extract? How about a list of all the events!\n",
    "\n",
    "Lets do an *inspect element* on the [listings page](https://www.livingsocial.com/browse/cities/49/searches?utf8=%E2%9C%93&city_search_id=49&country_search_id=1&query=&city_name=Pittsburgh) and see what the HTML structure looks like.\n",
    "\n",
    "![The Livingsocial deals page for Pittsburgh](livingsocial-listings.png)\n",
    "\n",
    "If you look carefully you can see the tag for each deal:\n",
    "`<li dealid=\"1558890\" class=\"deal-tile facet-active search-result multiple-price-points\" data-ga-data=\"\" itemscope=\"\" itemtype=\"http://schema.org/Offer\">` \n",
    "\n",
    "indentifies each row in the list of deals. We can use that to select only the information we want from the rest of the page.\n",
    "\n",
    "\n",
    "  "
   ]
  },
  {
   "cell_type": "code",
   "execution_count": 6,
   "metadata": {
    "collapsed": false,
    "deletable": true,
    "editable": true
   },
   "outputs": [
    {
     "data": {
      "text/plain": [
       "20"
      ]
     },
     "execution_count": 6,
     "metadata": {},
     "output_type": "execute_result"
    }
   ],
   "source": [
    "deals = search_results_page.findAll(\"li\", \"deal-tile\")\n",
    "len(deals)"
   ]
  },
  {
   "cell_type": "markdown",
   "metadata": {
    "deletable": true,
    "editable": true
   },
   "source": [
    "Ok, we've extracted 20 deals from the first page of the search results, now we need to extract the relevant information from the HTML structure. Here is what one of those elements looks like:"
   ]
  },
  {
   "cell_type": "code",
   "execution_count": 7,
   "metadata": {
    "collapsed": false,
    "deletable": true,
    "editable": true
   },
   "outputs": [
    {
     "name": "stdout",
     "output_type": "stream",
     "text": [
      "<li class=\"deal-tile facet-active search-result\" data-ga-data=\"\" dealid=\"2006190\">\n",
      " <a class=\"search-wrapper\" href=\"https://www.livingsocial.com/events/2006190-gl-xeb-third-eye-blind-hard-rock-cafe?pos=0\">\n",
      "  <div class=\"deal-image\">\n",
      "   <div class=\"horizontal-img\">\n",
      "    <img alt='XEB plays \"Third Eye Blind\" on May 18 at 7:30 p.m.' src=\"https://a0.lscdn.net/imgs/58b493f1-98ac-4c29-8e65-19801218958e/340_q60.jpg\">\n",
      "    </img>\n",
      "   </div>\n",
      "   <div class=\"image-border\">\n",
      "   </div>\n",
      "  </div>\n",
      "  <div class=\"deal-details\">\n",
      "   <h2>\n",
      "    XEB plays \"Third Eye Blind\" on May 18 at 7:30 p.m.\n",
      "   </h2>\n",
      "   <h3 class=\"\">\n",
      "    XEB\n",
      "   </h3>\n",
      "   <p class=\"description\">\n",
      "    The Deal\n",
      "\n",
      "  $10 for one general admission ticket (up to $20.66 value)\n",
      "\n",
      "\n",
      "XEB\n",
      "\n",
      "\n",
      "  The Band: XEB is made up of Kevin Cadogan and Arion Salazar, both f...\n",
      "   </p>\n",
      "   <p class=\"location\">\n",
      "    Pittsburgh\n",
      "   </p>\n",
      "  </div>\n",
      "  <div class=\"deal-prices\">\n",
      "   <div class=\"from\">\n",
      "    from\n",
      "   </div>\n",
      "   <div class=\"deal-strikethrough-price\">\n",
      "    <sup>\n",
      "     $\n",
      "    </sup>\n",
      "    20.66\n",
      "   </div>\n",
      "   <div class=\"deal-price\">\n",
      "    <sup>\n",
      "     $\n",
      "    </sup>\n",
      "    10\n",
      "   </div>\n",
      "  </div>\n",
      "  <div class=\"deal-bottom-border\">\n",
      "  </div>\n",
      " </a>\n",
      "</li>\n",
      "\n"
     ]
    }
   ],
   "source": [
    "print(deals[0].prettify())"
   ]
  },
  {
   "cell_type": "markdown",
   "metadata": {
    "deletable": true,
    "editable": true
   },
   "source": [
    "So we can use Beautiful Soup's `find()` function to extract specific pieces of information from this HTML structure. For more infomation about the find function, see the [Beautiful Soup documentation](https://www.crummy.com/software/BeautifulSoup/bs4/doc/#find). Then, once we have the HTML tag of interest we can get the data of interest."
   ]
  },
  {
   "cell_type": "code",
   "execution_count": 8,
   "metadata": {
    "collapsed": false,
    "deletable": true,
    "editable": true
   },
   "outputs": [
    {
     "name": "stdout",
     "output_type": "stream",
     "text": [
      "<h2>XEB plays \"Third Eye Blind\" on May 18 at 7:30 p.m.</h2>\n"
     ]
    }
   ],
   "source": [
    "deal = deals[0]\n",
    "name = deal.find(\"div\", \"deal-details\").h2\n",
    "print(name)"
   ]
  },
  {
   "cell_type": "code",
   "execution_count": 9,
   "metadata": {
    "collapsed": false,
    "deletable": true,
    "editable": true
   },
   "outputs": [
    {
     "data": {
      "text/plain": [
       "bs4.element.Tag"
      ]
     },
     "execution_count": 9,
     "metadata": {},
     "output_type": "execute_result"
    }
   ],
   "source": [
    "type(name)"
   ]
  },
  {
   "cell_type": "code",
   "execution_count": 10,
   "metadata": {
    "collapsed": false,
    "deletable": true,
    "editable": true
   },
   "outputs": [
    {
     "name": "stdout",
     "output_type": "stream",
     "text": [
      "XEB plays \"Third Eye Blind\" on May 18 at 7:30 p.m.\n"
     ]
    }
   ],
   "source": [
    "# oops we just want the text content, not the whole element\n",
    "print(name.text)"
   ]
  },
  {
   "cell_type": "markdown",
   "metadata": {
    "deletable": true,
    "editable": true
   },
   "source": [
    "Now we need to write some code that extracts all of the various bits of information from the HTML structure for each of the deals. Looking at the HTML we can see the name, seller, a description, a location, the URL for that specific deal, a price and something called the strikethrough price (to show the savings I guess). "
   ]
  },
  {
   "cell_type": "code",
   "execution_count": 11,
   "metadata": {
    "collapsed": false,
    "deletable": true,
    "editable": true
   },
   "outputs": [],
   "source": [
    "deal = deals[0]\n",
    "deal_id = deal['dealid']\n",
    "name = deal.find(\"div\", \"deal-details\").h2\n",
    "seller = deal.find(\"div\", \"deal-details\").h3\n",
    "description = deal.find(\"p\", \"description\")\n",
    "location = deal.find(\"p\", \"location\")\n",
    "url = deal.find(\"a\", \"search-wrapper\")\n",
    "price = deal.find(\"div\", \"deal-price\")\n",
    "strikethrough_price = deal.find(\"div\", \"deal-strikethrough-price\")"
   ]
  },
  {
   "cell_type": "code",
   "execution_count": 12,
   "metadata": {
    "collapsed": false,
    "deletable": true,
    "editable": true
   },
   "outputs": [
    {
     "name": "stdout",
     "output_type": "stream",
     "text": [
      "2006190\n"
     ]
    }
   ],
   "source": [
    "print(deal_id)"
   ]
  },
  {
   "cell_type": "code",
   "execution_count": 13,
   "metadata": {
    "collapsed": false,
    "deletable": true,
    "editable": true
   },
   "outputs": [
    {
     "name": "stdout",
     "output_type": "stream",
     "text": [
      "XEB plays \"Third Eye Blind\" on May 18 at 7:30 p.m.\n"
     ]
    }
   ],
   "source": [
    "print(name.text)"
   ]
  },
  {
   "cell_type": "code",
   "execution_count": 14,
   "metadata": {
    "collapsed": false,
    "deletable": true,
    "editable": true
   },
   "outputs": [
    {
     "name": "stdout",
     "output_type": "stream",
     "text": [
      "XEB\n"
     ]
    }
   ],
   "source": [
    "print(seller.text)"
   ]
  },
  {
   "cell_type": "code",
   "execution_count": 15,
   "metadata": {
    "collapsed": false,
    "deletable": true,
    "editable": true
   },
   "outputs": [
    {
     "name": "stdout",
     "output_type": "stream",
     "text": [
      "The Deal\n",
      "\n",
      "  $10 for one general admission ticket (up to $20.66 value)\n",
      "\n",
      "\n",
      "XEB\n",
      "\n",
      "\n",
      "  The Band: XEB is made up of Kevin Cadogan and Arion Salazar, both f...\n"
     ]
    }
   ],
   "source": [
    "print(description.text)"
   ]
  },
  {
   "cell_type": "code",
   "execution_count": 16,
   "metadata": {
    "collapsed": false,
    "deletable": true,
    "editable": true
   },
   "outputs": [
    {
     "name": "stdout",
     "output_type": "stream",
     "text": [
      "Pittsburgh\n"
     ]
    }
   ],
   "source": [
    "print(location.text)"
   ]
  },
  {
   "cell_type": "code",
   "execution_count": 17,
   "metadata": {
    "collapsed": false,
    "deletable": true,
    "editable": true
   },
   "outputs": [
    {
     "name": "stdout",
     "output_type": "stream",
     "text": [
      "https://www.livingsocial.com/events/2006190-gl-xeb-third-eye-blind-hard-rock-cafe?pos=0\n"
     ]
    }
   ],
   "source": [
    "print(url['href'])"
   ]
  },
  {
   "cell_type": "code",
   "execution_count": 18,
   "metadata": {
    "collapsed": false,
    "deletable": true,
    "editable": true
   },
   "outputs": [
    {
     "name": "stdout",
     "output_type": "stream",
     "text": [
      "$10\n"
     ]
    }
   ],
   "source": [
    "print(price.text)"
   ]
  },
  {
   "cell_type": "code",
   "execution_count": 19,
   "metadata": {
    "collapsed": false,
    "deletable": true,
    "editable": true
   },
   "outputs": [
    {
     "name": "stdout",
     "output_type": "stream",
     "text": [
      "$20.66\n"
     ]
    }
   ],
   "source": [
    "print(strikethrough_price.text)"
   ]
  },
  {
   "cell_type": "markdown",
   "metadata": {
    "deletable": true,
    "editable": true
   },
   "source": [
    "At this point I want to show you want my screen looks like:\n",
    "\n",
    "![The process of webscraping](desktop-view.png)\n",
    "\n",
    "Great! Now that we know how scrape the information from the page, it is time to assemble a \"spider\" that can \"crawl\" through multiple search pages.\n",
    "\n",
    "We've currently scraped 20 deals, but we know by visiting the search page that there are a lot more. We need some code to automatically go to the next page of search results, scrape the deals listings, and repeat. \n",
    "\n",
    "We need to find the URL for the next page and then repeat the scraping process.\n",
    "\n",
    "![HTML for the next button](next-button.png)\n",
    "\n",
    "Looking at the HTML structure I can see it is very easy to find the next button because it has the CSS class `next_page`."
   ]
  },
  {
   "cell_type": "code",
   "execution_count": 20,
   "metadata": {
    "collapsed": false,
    "deletable": true,
    "editable": true
   },
   "outputs": [
    {
     "name": "stdout",
     "output_type": "stream",
     "text": [
      "/browse/cities/49/searches?city_name=Pittsburgh&city_search_id=49&country_search_id=1&page=2&query=&utf8=%E2%9C%93\n"
     ]
    }
   ],
   "source": [
    "next_button = search_results_page.find(\"a\", \"next_page\")\n",
    "\n",
    "print(next_button['href'])"
   ]
  },
  {
   "cell_type": "markdown",
   "metadata": {
    "collapsed": true,
    "deletable": true,
    "editable": true
   },
   "source": [
    "Sweet! This is all the information I need to build spider/crawler/scraper to automate the process.\n",
    "\n",
    "In the cells below we can assemble the code from the exploratory analysis to automate the web scraping process. \n",
    "The first cell below defines a function for extracting data from the HTML structure of a deal. The second cell "
   ]
  },
  {
   "cell_type": "code",
   "execution_count": 4,
   "metadata": {
    "collapsed": true,
    "deletable": true,
    "editable": true
   },
   "outputs": [],
   "source": [
    "def extract_deal_data(deal):\n",
    "    \"\"\"This function takes the raw deal HTML and \n",
    "    extracts eight data points into a python dictionary.\"\"\"\n",
    "\n",
    "    data = {}\n",
    "    try:\n",
    "        data['id'] = deal['dealid'] \n",
    "    except:\n",
    "        data['id'] = \"\"\n",
    "    try:\n",
    "        data['name'] = deal.find(\"div\", \"deal-details\").h2.text\n",
    "    except:\n",
    "        data['name'] = \"\"\n",
    "    try:\n",
    "        data['seller'] = deal.find(\"div\", \"deal-details\").h3.text \n",
    "    except:\n",
    "        data['seller'] = \"\"\n",
    "    try:\n",
    "        data['description'] = deal.find(\"p\", \"description\").text\n",
    "    except:\n",
    "        data['description'] = \"\"\n",
    "    try:\n",
    "        data['location'] = deal.find(\"p\", \"location\").text\n",
    "    except:\n",
    "        data['location'] = \"\"\n",
    "    try:\n",
    "        data['url'] = deal.find(\"a\", \"search-wrapper\")['href']\n",
    "    except:\n",
    "        data['url'] = \"\"\n",
    "    try:\n",
    "        data['price'] = deal.find(\"div\", \"deal-price\").text\n",
    "    except:\n",
    "        data['price'] = \"\"\n",
    "    try:\n",
    "        data['strikethrough-price'] = deal.find(\"div\", \"deal-strikethrough-price\").text\n",
    "    except:\n",
    "        data['strikethrough-price'] = \"\"\n",
    "    \n",
    "    return data"
   ]
  },
  {
   "cell_type": "code",
   "execution_count": 22,
   "metadata": {
    "collapsed": false,
    "deletable": true,
    "editable": true
   },
   "outputs": [
    {
     "data": {
      "text/plain": [
       "{'description': 'The Deal\\n\\n  $10 for one general admission ticket (up to $20.66 value)\\n\\n\\nXEB\\n\\n\\n  The Band: XEB is made up of Kevin Cadogan and Arion Salazar, both f...',\n",
       " 'id': '2006190',\n",
       " 'location': 'Pittsburgh',\n",
       " 'name': 'XEB plays \"Third Eye Blind\" on May 18 at 7:30 p.m.',\n",
       " 'price': '$10',\n",
       " 'seller': 'XEB',\n",
       " 'strikethrough-price': '$20.66',\n",
       " 'url': 'https://www.livingsocial.com/events/2006190-gl-xeb-third-eye-blind-hard-rock-cafe?pos=0'}"
      ]
     },
     "execution_count": 22,
     "metadata": {},
     "output_type": "execute_result"
    }
   ],
   "source": [
    "extract_deal_data(deal)"
   ]
  },
  {
   "cell_type": "code",
   "execution_count": 5,
   "metadata": {
    "collapsed": false,
    "deletable": true,
    "editable": true
   },
   "outputs": [
    {
     "name": "stdout",
     "output_type": "stream",
     "text": [
      "Starting crawl.\n",
      "Collected 500 results so far\n",
      "Collected 1000 results so far\n",
      "Collected 1500 results so far\n",
      "Reached the end of the search results. Found 1995 deals.\n",
      "Crawl completed.\n"
     ]
    }
   ],
   "source": [
    "# set some needed variables \n",
    "base = \"https://www.livingsocial.com\"\n",
    "url = \"https://www.livingsocial.com/browse/cities/49/searches?utf8=%E2%9C%93&city_search_id=49&country_search_id=1&query=&city_name=Pittsburgh\"\n",
    "\n",
    "# create a global container\n",
    "all_deals = []\n",
    "\n",
    "# we are going to loop as long as this variable is true\n",
    "crawl = True\n",
    "\n",
    "print(\"Starting crawl.\")\n",
    "\n",
    "while crawl:\n",
    "    \n",
    "    # fetch the page, parse, and get the deals listing\n",
    "    response = requests.get(url)\n",
    "    search_results_page = BeautifulSoup(response.content, 'html.parser')\n",
    "    raw_deals = search_results_page.findAll(\"li\", \"deal-tile\")\n",
    "    \n",
    "    # save the results to a global container\n",
    "    extracted_deals = [extract_deal_data(deal) for deal in raw_deals]\n",
    "    all_deals.extend(extracted_deals)\n",
    "    \n",
    "    # print periodic crawl updates\n",
    "    if len(all_deals) % 500 == 0:\n",
    "        print(\"Collected %d results so far\" % len(all_deals))\n",
    "    \n",
    "    # extract the Next button HTML element\n",
    "    next_button = search_results_page.find(\"a\", \"next_page\")\n",
    "    \n",
    "    # if the CSS class contains disabled, then we've readched the end.\n",
    "    if 'disabled' in next_button['class']:\n",
    "        print(\"Reached the end of the search results. Found %s deals.\" % len(all_deals))\n",
    "        \n",
    "        # setting the crawl variable to false to break the while loop\n",
    "        crawl = False\n",
    "        break\n",
    "    # set the next url to the contents of the next button\n",
    "    url = base + next_button['href']\n",
    "\n",
    "print(\"Crawl completed.\")"
   ]
  },
  {
   "cell_type": "code",
   "execution_count": 24,
   "metadata": {
    "collapsed": false,
    "deletable": true,
    "editable": true
   },
   "outputs": [
    {
     "data": {
      "text/plain": [
       "1988"
      ]
     },
     "execution_count": 24,
     "metadata": {},
     "output_type": "execute_result"
    }
   ],
   "source": [
    "len(all_deals)"
   ]
  },
  {
   "cell_type": "code",
   "execution_count": 25,
   "metadata": {
    "collapsed": false,
    "deletable": true,
    "editable": true
   },
   "outputs": [
    {
     "data": {
      "text/plain": [
       "{'description': 'Women’s Cross-Front Ruched Dress\\n\\n\\nSoft, stretchy dress with crossed front\\nSubtle ruching\\nThree-quarter-length sleeves\\nHemline hits around the knee...',\n",
       " 'id': '176176',\n",
       " 'location': '',\n",
       " 'name': \"Women's Cross-Front Ruched Dress\",\n",
       " 'price': '$18.99',\n",
       " 'seller': '',\n",
       " 'strikethrough-price': '$84',\n",
       " 'url': 'https://www.livingsocial.com/products/us/tag/fashion/176176-women-s-cross-front-ruched-dress?pos=1000'}"
      ]
     },
     "execution_count": 25,
     "metadata": {},
     "output_type": "execute_result"
    }
   ],
   "source": [
    "# inspect the contents of the first deal\n",
    "all_deals[1000]"
   ]
  },
  {
   "cell_type": "code",
   "execution_count": 26,
   "metadata": {
    "collapsed": true,
    "deletable": true,
    "editable": true
   },
   "outputs": [],
   "source": [
    "from pandas import DataFrame"
   ]
  },
  {
   "cell_type": "code",
   "execution_count": 27,
   "metadata": {
    "collapsed": false,
    "deletable": true,
    "editable": true
   },
   "outputs": [
    {
     "data": {
      "text/html": [
       "<div>\n",
       "<table border=\"1\" class=\"dataframe\">\n",
       "  <thead>\n",
       "    <tr style=\"text-align: right;\">\n",
       "      <th></th>\n",
       "      <th>description</th>\n",
       "      <th>id</th>\n",
       "      <th>location</th>\n",
       "      <th>name</th>\n",
       "      <th>price</th>\n",
       "      <th>seller</th>\n",
       "      <th>strikethrough-price</th>\n",
       "      <th>url</th>\n",
       "    </tr>\n",
       "  </thead>\n",
       "  <tbody>\n",
       "    <tr>\n",
       "      <th>0</th>\n",
       "      <td>The Deal\\n\\n  $10 for one general admission ti...</td>\n",
       "      <td>2006190</td>\n",
       "      <td>Pittsburgh</td>\n",
       "      <td>XEB plays \"Third Eye Blind\" on May 18 at 7:30 ...</td>\n",
       "      <td>$10</td>\n",
       "      <td>XEB</td>\n",
       "      <td>$20.66</td>\n",
       "      <td>https://www.livingsocial.com/events/2006190-gl...</td>\n",
       "    </tr>\n",
       "    <tr>\n",
       "      <th>1</th>\n",
       "      <td>The Deal\\n\\n\\n  $10 for one general-admission ...</td>\n",
       "      <td>2006176</td>\n",
       "      <td>Pittsburgh</td>\n",
       "      <td>Garry Tallent of The E Street Band on April 30...</td>\n",
       "      <td>$10</td>\n",
       "      <td>Garry Tallent of The E Street Band</td>\n",
       "      <td>$20.66</td>\n",
       "      <td>https://www.livingsocial.com/events/2006176-gl...</td>\n",
       "    </tr>\n",
       "    <tr>\n",
       "      <th>2</th>\n",
       "      <td>About This Service Provider\\r\\nAll About Mass...</td>\n",
       "      <td>1628360</td>\n",
       "      <td>Pittsburgh</td>\n",
       "      <td>Swedish or Therapeutic Massage</td>\n",
       "      <td>$44.99</td>\n",
       "      <td>All About Massage and Wellness</td>\n",
       "      <td>$75</td>\n",
       "      <td>https://www.livingsocial.com/deals/1628360-swe...</td>\n",
       "    </tr>\n",
       "    <tr>\n",
       "      <th>3</th>\n",
       "      <td>Why You'll Love It\\r\\nLearn more about the Pit...</td>\n",
       "      <td>1631636</td>\n",
       "      <td>Pittsburgh</td>\n",
       "      <td>Self-Guided Scavenger Hunt in Pittsburgh</td>\n",
       "      <td>$22</td>\n",
       "      <td>Big City Hunt</td>\n",
       "      <td>$40</td>\n",
       "      <td>https://www.livingsocial.com/deals/1631636-sel...</td>\n",
       "    </tr>\n",
       "    <tr>\n",
       "      <th>4</th>\n",
       "      <td>With multiple stages on this illuminated 5K co...</td>\n",
       "      <td>1636438</td>\n",
       "      <td>Pittsburgh</td>\n",
       "      <td>Race Entry Package to Night Nation Run</td>\n",
       "      <td>$29.99</td>\n",
       "      <td>Night Nation Run</td>\n",
       "      <td>$60</td>\n",
       "      <td>https://www.livingsocial.com/events/1636438-ra...</td>\n",
       "    </tr>\n",
       "  </tbody>\n",
       "</table>\n",
       "</div>"
      ],
      "text/plain": [
       "                                         description       id    location  \\\n",
       "0  The Deal\\n\\n  $10 for one general admission ti...  2006190  Pittsburgh   \n",
       "1  The Deal\\n\\n\\n  $10 for one general-admission ...  2006176  Pittsburgh   \n",
       "2   About This Service Provider\\r\\nAll About Mass...  1628360  Pittsburgh   \n",
       "3  Why You'll Love It\\r\\nLearn more about the Pit...  1631636  Pittsburgh   \n",
       "4  With multiple stages on this illuminated 5K co...  1636438  Pittsburgh   \n",
       "\n",
       "                                                name   price  \\\n",
       "0  XEB plays \"Third Eye Blind\" on May 18 at 7:30 ...     $10   \n",
       "1  Garry Tallent of The E Street Band on April 30...     $10   \n",
       "2                    Swedish or Therapeutic Massage   $44.99   \n",
       "3           Self-Guided Scavenger Hunt in Pittsburgh     $22   \n",
       "4             Race Entry Package to Night Nation Run  $29.99   \n",
       "\n",
       "                               seller strikethrough-price  \\\n",
       "0                                 XEB              $20.66   \n",
       "1  Garry Tallent of The E Street Band              $20.66   \n",
       "2     All About Massage and Wellness                  $75   \n",
       "3                       Big City Hunt                 $40   \n",
       "4                    Night Nation Run                 $60   \n",
       "\n",
       "                                                 url  \n",
       "0  https://www.livingsocial.com/events/2006190-gl...  \n",
       "1  https://www.livingsocial.com/events/2006176-gl...  \n",
       "2  https://www.livingsocial.com/deals/1628360-swe...  \n",
       "3  https://www.livingsocial.com/deals/1631636-sel...  \n",
       "4  https://www.livingsocial.com/events/1636438-ra...  "
      ]
     },
     "execution_count": 27,
     "metadata": {},
     "output_type": "execute_result"
    }
   ],
   "source": [
    "clean_data = DataFrame(all_deals)\n",
    "clean_data.head()"
   ]
  },
  {
   "cell_type": "code",
   "execution_count": 28,
   "metadata": {
    "collapsed": true,
    "deletable": true,
    "editable": true
   },
   "outputs": [],
   "source": [
    "clean_data.to_csv(\"scraped-data.csv\")"
   ]
  },
  {
   "cell_type": "code",
   "execution_count": null,
   "metadata": {
    "collapsed": true,
    "deletable": true,
    "editable": true
   },
   "outputs": [],
   "source": []
  }
 ],
 "metadata": {
  "kernelspec": {
   "display_name": "Python 3",
   "language": "python",
   "name": "python3"
  },
  "language_info": {
   "codemirror_mode": {
    "name": "ipython",
    "version": 3
   },
   "file_extension": ".py",
   "mimetype": "text/x-python",
   "name": "python",
   "nbconvert_exporter": "python",
   "pygments_lexer": "ipython3",
   "version": "3.4.2"
  }
 },
 "nbformat": 4,
 "nbformat_minor": 0
}
