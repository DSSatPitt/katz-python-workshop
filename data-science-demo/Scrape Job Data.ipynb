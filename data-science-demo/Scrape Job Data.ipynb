{
 "cells": [
  {
   "cell_type": "markdown",
   "metadata": {
    "deletable": true,
    "editable": true
   },
   "source": [
    "# Scraping Indeed Job listings for the term \"Data Scientist\"\n",
    "\n",
    "This little demo will scrape job listings and company information from Indeed.com\n",
    "\n",
    "This code has been taken from a post on the NYC Data Science Academy website titled [Project 3: Web Scraping Company Data from Indeed.com and Dice.com](http://blog.nycdatascience.com/student-works/project-3-web-scraping-company-data-from-indeed-com-and-dice-com/) by [Sung Pil Moon](http://blog.nycdatascience.com/author/monspo1/).\n",
    "\n",
    "I have modified the code to work properly with Indeed.com's new HTML structure."
   ]
  },
  {
   "cell_type": "markdown",
   "metadata": {
    "deletable": true,
    "editable": true
   },
   "source": [
    "## Scraping the listings\n",
    "\n",
    "First we need to get the job listings, if you click the link below you can see the page we are going to scrape:\n",
    "https://www.indeed.com/jobs?q=data+scientist&jt=fulltime&sort=date\n",
    "\n",
    "There are 21,209 listings! This is way too many to copy and past by hand, lets automate it!"
   ]
  },
  {
   "cell_type": "code",
   "execution_count": 25,
   "metadata": {
    "collapsed": true,
    "deletable": true,
    "editable": true
   },
   "outputs": [],
   "source": [
    "# \n",
    "from bs4 import BeautifulSoup as Soup\n",
    "import requests\n",
    "import pandas as pd\n",
    "\n",
    "%matplotlib inline\n",
    "# indeed.com url\n",
    "base_url = 'http://www.indeed.com/jobs?q=data+scientist&jt=fulltime&sort='\n",
    "sort_by = 'date'          # sort by data\n",
    "start_from = '&start='    # start page number\n",
    "home_url = \"http://www.indeed.com\"\n",
    "\n",
    "\n",
    "\n"
   ]
  },
  {
   "cell_type": "code",
   "execution_count": 2,
   "metadata": {
    "collapsed": false,
    "deletable": true,
    "editable": true
   },
   "outputs": [
    {
     "name": "stdout",
     "output_type": "stream",
     "text": [
      "Scraping page 10\n",
      "Scraping page 20\n",
      "Scraping page 30\n",
      "Scraping page 40\n",
      "Scraping page 50\n",
      "Scraping page 60\n",
      "Scraping page 70\n",
      "Scraping page 80\n",
      "Scraping page 90\n",
      "Bad data on search page\n",
      "http://www.indeed.com/jobs?q=data+scientist&jt=fulltime&sort=date&start=930\n",
      "Scraping page 100\n",
      "Scrapting Finish! Collected 1497 job postings!\n"
     ]
    }
   ],
   "source": [
    "# Create a list to contain all the job postings\n",
    "job_listings = []\n",
    "\n",
    "for page in range(1,101): # page from 1 to 100 (last page we can scrape is 100)\n",
    "    if page % 10 == 0:\n",
    "        print(\"Scraping page {}\".format(page))\n",
    "    page = (page-1) * 10  \n",
    "    url = \"%s%s%s%d\" % (base_url, sort_by, start_from, page) # get full url\n",
    "    target = Soup(requests.get(url).text, \"lxml\") \n",
    "\n",
    "    targetElements = target.findAll('div', attrs={'class' : 'result'}) # we're interested in each row (= each job)\n",
    "    \n",
    "    # trying to get each specific job information (such as company name, job title, urls, ...)\n",
    "    for elem in targetElements:\n",
    "        \n",
    "        try:\n",
    "            comp_name = elem.find('span', \"company\").text.strip()\n",
    "            job_title = elem.find('a', attrs={'class':'turnstileLink'}).attrs['title']\n",
    "            job_addr = elem.find('span',\"location\").text\n",
    "            job_link = \"%s%s\" % (home_url,elem.find('a').get('href'))\n",
    "            job_summary = elem.find('span',\"summary\").text.strip()\n",
    "\n",
    "            if elem.find('span', \"company\").find(\"a\"):\n",
    "\n",
    "                company_link = elem.find('span', \"company\").find(\"a\")\n",
    "                comp_link_overall = \"%s%s\" % (home_url, company_link['href'])\n",
    "            else:\n",
    "                comp_link_overall = None\n",
    "\n",
    "            # add a job info to our data frame\n",
    "            job_listings.append({'company_name': comp_name, \n",
    "                                 'job_title': job_title, \n",
    "                                 'job_link': job_link,\n",
    "                                 'job_summary': job_summary,\n",
    "                                 'company_link': comp_link_overall, \n",
    "                                 'job_location': job_addr})\n",
    "        \n",
    "        # Some ofthe listings are missing information, we are going to skip them\n",
    "        except:\n",
    "            print(\"Bad data on search page\")\n",
    "            print(url)\n",
    "            \n",
    "print(\"Scrapting Finish! Collected {} job postings!\".format(len(job_listings)))"
   ]
  },
  {
   "cell_type": "code",
   "execution_count": 3,
   "metadata": {
    "collapsed": false,
    "deletable": true,
    "editable": true
   },
   "outputs": [
    {
     "data": {
      "text/html": [
       "<div>\n",
       "<table border=\"1\" class=\"dataframe\">\n",
       "  <thead>\n",
       "    <tr style=\"text-align: right;\">\n",
       "      <th></th>\n",
       "      <th>company_link</th>\n",
       "      <th>company_name</th>\n",
       "      <th>job_link</th>\n",
       "      <th>job_location</th>\n",
       "      <th>job_summary</th>\n",
       "      <th>job_title</th>\n",
       "    </tr>\n",
       "  </thead>\n",
       "  <tbody>\n",
       "    <tr>\n",
       "      <th>0</th>\n",
       "      <td>http://www.indeed.com/cmp/David-Weekley-Homes</td>\n",
       "      <td>David Weekley Homes</td>\n",
       "      <td>http://www.indeed.com/rc/clk?jk=2bf384eab9c878...</td>\n",
       "      <td>Houston, TX</td>\n",
       "      <td>Develop the organization’s understanding of co...</td>\n",
       "      <td>Data Scientist</td>\n",
       "    </tr>\n",
       "    <tr>\n",
       "      <th>1</th>\n",
       "      <td>http://www.indeed.com/cmp/Monsanto</td>\n",
       "      <td>MONSANTO</td>\n",
       "      <td>http://www.indeed.com/rc/clk?jk=c37559ad66d4b3...</td>\n",
       "      <td>St. Louis, MO</td>\n",
       "      <td>This position is for a Data Scientist to work ...</td>\n",
       "      <td>Global Supply Chain Data Scientist</td>\n",
       "    </tr>\n",
       "    <tr>\n",
       "      <th>2</th>\n",
       "      <td>http://www.indeed.com/cmp/M&amp;T-Bank</td>\n",
       "      <td>M&amp;T Bank</td>\n",
       "      <td>http://www.indeed.com/rc/clk?jk=91b0c1f38ea7a5...</td>\n",
       "      <td>Buffalo, NY</td>\n",
       "      <td>Bachelor degree in Mathematics, Statistics, Qu...</td>\n",
       "      <td>Quantitative Risk Analyst I</td>\n",
       "    </tr>\n",
       "    <tr>\n",
       "      <th>3</th>\n",
       "      <td>http://www.indeed.com/cmp/Mylan</td>\n",
       "      <td>Mylan</td>\n",
       "      <td>http://www.indeed.com/rc/clk?jk=a7a674d907efbd...</td>\n",
       "      <td>Morgantown, WV</td>\n",
       "      <td>Support initiatives including programming in t...</td>\n",
       "      <td>Intern, Statistical Programmer</td>\n",
       "    </tr>\n",
       "    <tr>\n",
       "      <th>4</th>\n",
       "      <td>http://www.indeed.com/cmp/Pitney-Bowes</td>\n",
       "      <td>Pitney Bowes</td>\n",
       "      <td>http://www.indeed.com/rc/clk?jk=bc9575599017ea...</td>\n",
       "      <td>Danbury, CT 06810</td>\n",
       "      <td>We are a team of developers, architects, data ...</td>\n",
       "      <td>Big Data Engineer - Intern</td>\n",
       "    </tr>\n",
       "  </tbody>\n",
       "</table>\n",
       "</div>"
      ],
      "text/plain": [
       "                                    company_link         company_name  \\\n",
       "0  http://www.indeed.com/cmp/David-Weekley-Homes  David Weekley Homes   \n",
       "1             http://www.indeed.com/cmp/Monsanto             MONSANTO   \n",
       "2             http://www.indeed.com/cmp/M&T-Bank             M&T Bank   \n",
       "3                http://www.indeed.com/cmp/Mylan                Mylan   \n",
       "4         http://www.indeed.com/cmp/Pitney-Bowes         Pitney Bowes   \n",
       "\n",
       "                                            job_link       job_location  \\\n",
       "0  http://www.indeed.com/rc/clk?jk=2bf384eab9c878...        Houston, TX   \n",
       "1  http://www.indeed.com/rc/clk?jk=c37559ad66d4b3...      St. Louis, MO   \n",
       "2  http://www.indeed.com/rc/clk?jk=91b0c1f38ea7a5...        Buffalo, NY   \n",
       "3  http://www.indeed.com/rc/clk?jk=a7a674d907efbd...     Morgantown, WV   \n",
       "4  http://www.indeed.com/rc/clk?jk=bc9575599017ea...  Danbury, CT 06810   \n",
       "\n",
       "                                         job_summary  \\\n",
       "0  Develop the organization’s understanding of co...   \n",
       "1  This position is for a Data Scientist to work ...   \n",
       "2  Bachelor degree in Mathematics, Statistics, Qu...   \n",
       "3  Support initiatives including programming in t...   \n",
       "4  We are a team of developers, architects, data ...   \n",
       "\n",
       "                            job_title  \n",
       "0                      Data Scientist  \n",
       "1  Global Supply Chain Data Scientist  \n",
       "2         Quantitative Risk Analyst I  \n",
       "3      Intern, Statistical Programmer  \n",
       "4          Big Data Engineer - Intern  "
      ]
     },
     "execution_count": 3,
     "metadata": {},
     "output_type": "execute_result"
    }
   ],
   "source": [
    "jobs_dataframe = pd.DataFrame(job_listings)\n",
    "jobs_dataframe.to_csv(\"jobs-data.csv\")\n",
    "jobs_dataframe.head()"
   ]
  },
  {
   "cell_type": "markdown",
   "metadata": {
    "deletable": true,
    "editable": true
   },
   "source": [
    "## Getting Information about the company\n",
    "\n",
    "OK, now that I have information about all of the listings, why don't we try and get some information about the companies posting those jobs. Here is an example of a company page:\n",
    "https://www.indeed.com/cmp/Kpmg?from=SERP&fromjk=2cc9b68015bf617f&jcid=2dd390c3a48a7ed0&attributionid=serp-linkcompanyname"
   ]
  },
  {
   "cell_type": "code",
   "execution_count": 4,
   "metadata": {
    "collapsed": false
   },
   "outputs": [
    {
     "name": "stdout",
     "output_type": "stream",
     "text": [
      "1497\n",
      "395\n"
     ]
    }
   ],
   "source": [
    "# remove duplicate company URLs\n",
    "company_urls = set(listing['company_link'] for listing in job_listings)\n",
    "print(len(job_listings))\n",
    "print(len(company_urls))"
   ]
  },
  {
   "cell_type": "code",
   "execution_count": 21,
   "metadata": {
    "collapsed": false,
    "deletable": true,
    "editable": true
   },
   "outputs": [
    {
     "name": "stdout",
     "output_type": "stream",
     "text": [
      "Scraping company 0 of 395\n",
      "Scraping company 10 of 395\n",
      "Scraping company 20 of 395\n",
      "Scraping company 30 of 395\n",
      "Scraping company 40 of 395\n",
      "Scraping company 50 of 395\n",
      "Scraping company 60 of 395\n",
      "Scraping company 70 of 395\n",
      "Scraping company 80 of 395\n",
      "Scraping company 90 of 395\n",
      "Scraping company 100 of 395\n",
      "Scraping company 110 of 395\n",
      "Scraping company 120 of 395\n",
      "Scraping company 130 of 395\n",
      "Scraping company 140 of 395\n",
      "Scraping company 150 of 395\n",
      "Scraping company 160 of 395\n",
      "Scraping company 170 of 395\n",
      "Scraping company 180 of 395\n",
      "Scraping company 190 of 395\n",
      "Scraping company 200 of 395\n",
      "Scraping company 210 of 395\n",
      "Scraping company 220 of 395\n",
      "Scraping company 230 of 395\n",
      "Scraping company 240 of 395\n",
      "Scraping company 250 of 395\n",
      "Scraping company 260 of 395\n",
      "Scraping company 270 of 395\n",
      "Scraping company 280 of 395\n",
      "Scraping company 290 of 395\n",
      "Scraping company 300 of 395\n",
      "Scraping company 310 of 395\n",
      "Scraping company 320 of 395\n",
      "Scraping company 330 of 395\n",
      "Scraping company 340 of 395\n",
      "Scraping company 350 of 395\n",
      "Scraping company 360 of 395\n",
      "Scraping company 370 of 395\n",
      "Scraping company 380 of 395\n",
      "Scraping company 390 of 395\n"
     ]
    }
   ],
   "source": [
    "company_info = []\n",
    "\n",
    "for i,company_url in enumerate(company_urls):\n",
    "    if i % 50 == 0:\n",
    "        total_listings = len(company_urls)\n",
    "        print(\"Scraping company {} of {}\".format(i, total_listings))\n",
    "    \n",
    "    # skip the None \n",
    "    if not company_url:\n",
    "        continue\n",
    "\n",
    "    company_page = Soup(requests.get(company_url).text, \"lxml\")\n",
    "    \n",
    "    \n",
    "    # get the company ratings\n",
    "    ratings = company_page.find_all('span','cmp-star-rating')\n",
    "    \n",
    "    company_info.append({\n",
    "    'url'                          : company_url,\n",
    "    'overall_rating'               : float(company_page.find('span','cmp-average-rating').text),\n",
    "    'wl_balanace_rating'           : float(ratings[0].text),\n",
    "    'compensation_benefits_rating' : float(ratings[1].text),\n",
    "    'js_advancement_rating'        : float(ratings[2].text),\n",
    "    'management_rating'            : float(ratings[3].text),\n",
    "    'culture_rating'               : float(ratings[4].text)})\n",
    "    \n",
    "    \n",
    "    "
   ]
  },
  {
   "cell_type": "code",
   "execution_count": 22,
   "metadata": {
    "collapsed": false,
    "deletable": true,
    "editable": true
   },
   "outputs": [
    {
     "data": {
      "text/html": [
       "<div>\n",
       "<table border=\"1\" class=\"dataframe\">\n",
       "  <thead>\n",
       "    <tr style=\"text-align: right;\">\n",
       "      <th></th>\n",
       "      <th>compensation_benefits_rating</th>\n",
       "      <th>culture_rating</th>\n",
       "      <th>js_advancement_rating</th>\n",
       "      <th>management_rating</th>\n",
       "      <th>overall_rating</th>\n",
       "      <th>url</th>\n",
       "      <th>wl_balanace_rating</th>\n",
       "    </tr>\n",
       "  </thead>\n",
       "  <tbody>\n",
       "    <tr>\n",
       "      <th>0</th>\n",
       "      <td>3.9</td>\n",
       "      <td>3.5</td>\n",
       "      <td>3.3</td>\n",
       "      <td>3.4</td>\n",
       "      <td>3.9</td>\n",
       "      <td>http://www.indeed.com/cmp/Population-Council</td>\n",
       "      <td>3.8</td>\n",
       "    </tr>\n",
       "    <tr>\n",
       "      <th>1</th>\n",
       "      <td>3.6</td>\n",
       "      <td>3.8</td>\n",
       "      <td>3.2</td>\n",
       "      <td>3.9</td>\n",
       "      <td>4.0</td>\n",
       "      <td>http://www.indeed.com/cmp/Ensco,-Inc.</td>\n",
       "      <td>4.1</td>\n",
       "    </tr>\n",
       "    <tr>\n",
       "      <th>2</th>\n",
       "      <td>3.9</td>\n",
       "      <td>3.6</td>\n",
       "      <td>3.3</td>\n",
       "      <td>3.4</td>\n",
       "      <td>3.8</td>\n",
       "      <td>http://www.indeed.com/cmp/General-Dynamics-Inf...</td>\n",
       "      <td>3.7</td>\n",
       "    </tr>\n",
       "    <tr>\n",
       "      <th>3</th>\n",
       "      <td>3.2</td>\n",
       "      <td>3.8</td>\n",
       "      <td>2.9</td>\n",
       "      <td>3.4</td>\n",
       "      <td>3.5</td>\n",
       "      <td>http://www.indeed.com/cmp/Mintel</td>\n",
       "      <td>3.7</td>\n",
       "    </tr>\n",
       "    <tr>\n",
       "      <th>4</th>\n",
       "      <td>4.5</td>\n",
       "      <td>3.5</td>\n",
       "      <td>1.5</td>\n",
       "      <td>3.5</td>\n",
       "      <td>4.0</td>\n",
       "      <td>http://www.indeed.com/cmp/Spacecurve</td>\n",
       "      <td>4.5</td>\n",
       "    </tr>\n",
       "  </tbody>\n",
       "</table>\n",
       "</div>"
      ],
      "text/plain": [
       "   compensation_benefits_rating  culture_rating  js_advancement_rating  \\\n",
       "0                           3.9             3.5                    3.3   \n",
       "1                           3.6             3.8                    3.2   \n",
       "2                           3.9             3.6                    3.3   \n",
       "3                           3.2             3.8                    2.9   \n",
       "4                           4.5             3.5                    1.5   \n",
       "\n",
       "   management_rating  overall_rating  \\\n",
       "0                3.4             3.9   \n",
       "1                3.9             4.0   \n",
       "2                3.4             3.8   \n",
       "3                3.4             3.5   \n",
       "4                3.5             4.0   \n",
       "\n",
       "                                                 url  wl_balanace_rating  \n",
       "0       http://www.indeed.com/cmp/Population-Council                 3.8  \n",
       "1              http://www.indeed.com/cmp/Ensco,-Inc.                 4.1  \n",
       "2  http://www.indeed.com/cmp/General-Dynamics-Inf...                 3.7  \n",
       "3                   http://www.indeed.com/cmp/Mintel                 3.7  \n",
       "4               http://www.indeed.com/cmp/Spacecurve                 4.5  "
      ]
     },
     "execution_count": 22,
     "metadata": {},
     "output_type": "execute_result"
    }
   ],
   "source": [
    "company_dataframe = pd.DataFrame(company_info)\n",
    "company_dataframe.to_csv(\"company-data.csv\")\n",
    "company_dataframe.head()"
   ]
  },
  {
   "cell_type": "code",
   "execution_count": null,
   "metadata": {
    "collapsed": true,
    "deletable": true,
    "editable": true
   },
   "outputs": [],
   "source": []
  },
  {
   "cell_type": "markdown",
   "metadata": {
    "deletable": true,
    "editable": true
   },
   "source": [
    "## Data Analysis\n",
    "\n",
    "Now that we've downloaded the data, why don't we do some analysis."
   ]
  },
  {
   "cell_type": "code",
   "execution_count": 10,
   "metadata": {
    "collapsed": false,
    "deletable": true,
    "editable": true
   },
   "outputs": [
    {
     "data": {
      "text/plain": [
       "Data Scientist                                                                                                336\n",
       "Sr. Data Scientist for Product Marketing - Customer Analytics Engineering                                     100\n",
       "Sr Research Associate                                                                                          99\n",
       "Research Analyst                                                                                               15\n",
       "Senior Data Scientist                                                                                           8\n",
       "Data Engineer                                                                                                   6\n",
       "Market Research Analyst                                                                                         5\n",
       "Research Scientist                                                                                              5\n",
       "Machine Learning Engineer                                                                                       5\n",
       "Data Analyst                                                                                                    4\n",
       "Senior Research Analyst                                                                                         4\n",
       "Postdoctoral Research Scientist                                                                                 4\n",
       "Statistician                                                                                                    3\n",
       "Research Technician                                                                                             3\n",
       "Quantitative Analyst                                                                                            3\n",
       "Operations Associate                                                                                            3\n",
       "Statistical Analyst                                                                                             3\n",
       "Communications and Outreach Specialist                                                                          3\n",
       "Video Intern, Nifty                                                                                             3\n",
       "Software Engineer                                                                                               3\n",
       "Marketing Research Analyst                                                                                      3\n",
       "Data Scientist - Forecasting                                                                                    2\n",
       "Scientist - Medicinal Chemistry                                                                                 2\n",
       "Scientist                                                                                                       2\n",
       "Post-Doc Associate in Carcinogenesis and Cancer Prevention                                                      2\n",
       "SAS Statistician                                                                                                2\n",
       "Energy Projects Coordinator - Illinois State Geological Survey (A1700173)                                       2\n",
       "Business Solutions Manager: Go-to-Market                                                                        2\n",
       "Statistical Marketing Analyst                                                                                   2\n",
       "Medical Director, Drug Safety                                                                                   2\n",
       "                                                                                                             ... \n",
       "Scientist, Process Engineering (Drug Product)                                                                   1\n",
       "Statistical Analyst II                                                                                          1\n",
       "Quantitative Product Analyst – Retail Deposits & Lending Product Management                                     1\n",
       "Assistant / Application Specialist / Senior Application Specialist, High Performance Computing                  1\n",
       "Data Scientist / Analyst                                                                                        1\n",
       "Research Analyst (3 Positions)                                                                                  1\n",
       "Sr. Counter Intelligence(CI) Research Analyst                                                                   1\n",
       "Research Associate I                                                                                            1\n",
       "Research Technician I, HIV Vaccine Trials                                                                       1\n",
       "Senior Data Scientist (Natural Language Processing)                                                             1\n",
       "Technical Specialist Senior-Mechanical (660526)                                                                 1\n",
       "Principal Scientist - Cellular & MolecularToxicology                                                            1\n",
       "Statistical Consultant - Technical Support                                                                      1\n",
       "Exec Dir, Planning & Financial Analysis                                                                         1\n",
       "Watson Health - Senior Information Security Analyst - Truven                                                    1\n",
       "Data Analyst/Research Analyst II                                                                                1\n",
       "Process Development Engineer II                                                                                 1\n",
       "Chief Information Officer                                                                                       1\n",
       "SENIOR SCIENTIST                                                                                                1\n",
       "Secretary Supervisor #0034 with the Information Technology Division 2017                                        1\n",
       "Environmental Project Manager I / II                                                                            1\n",
       "Software Engineer II                                                                                            1\n",
       "Assistant Scientist                                                                                             1\n",
       "Head of Modeling                                                                                                1\n",
       "Data Analysis                                                                                                   1\n",
       "Field Geologist                                                                                                 1\n",
       "Inverse Modeling/Data Assimilation Project Scientist I                                                          1\n",
       "Executive Director, Clinical Development Sleep LCM                                                              1\n",
       "Motor Repair Technician *** Up To $20/Hour *** Great Learning Opportunity with High Activity Machine Shop!      1\n",
       "Cost Analyst (Lifecycle/Economic Analysis / Operations Research) – Active Secret Required                       1\n",
       "Name: job_title, dtype: int64"
      ]
     },
     "execution_count": 10,
     "metadata": {},
     "output_type": "execute_result"
    }
   ],
   "source": [
    "jobs_dataframe['job_title'].value_counts(ascending=False)"
   ]
  },
  {
   "cell_type": "code",
   "execution_count": 11,
   "metadata": {
    "collapsed": false,
    "deletable": true,
    "editable": true
   },
   "outputs": [
    {
     "data": {
      "text/plain": [
       "Walmart eCommerce                          104\n",
       "Apple                                      101\n",
       "Syntelli Solutions, Inc                    100\n",
       "Norwich Pharma Services                     99\n",
       "xometry                                     99\n",
       "IBM                                         34\n",
       "Amgen                                       29\n",
       "Amazon Corporate LLC                        15\n",
       "WSP | Parsons Brinckerhoff                  14\n",
       "Ball Aerospace                              13\n",
       "Weill Cornell Medical College               13\n",
       "General Electric                            11\n",
       "P&G                                         10\n",
       "The Aerospace Corporation                    9\n",
       "BOEING                                       7\n",
       "ICF                                          7\n",
       "Ochsner Health System                        7\n",
       "Columbia University                          7\n",
       "CDK Global                                   6\n",
       "Merck                                        5\n",
       "Reed Elsevier                                5\n",
       "BuzzFeed                                     5\n",
       "Pfizer Inc.                                  5\n",
       "Fred Hutchinson Cancer Research Center       5\n",
       "NYU School of Medicine                       5\n",
       "MedImmune, LLC                               5\n",
       "Booz Allen Hamilton                          5\n",
       "Bioverativ Therapeutics Inc                  5\n",
       "Microsoft                                    5\n",
       "BioMarin Pharmaceutical Inc.                 5\n",
       "                                          ... \n",
       "Cedars-Sinai                                 1\n",
       "Hart                                         1\n",
       "UT Southwestern Medical Center               1\n",
       "Citi                                         1\n",
       "PFV - MM                                     1\n",
       "Placed                                       1\n",
       "Fulcrum                                      1\n",
       "MemorialCare                                 1\n",
       "Cincinnati Children's Hospital               1\n",
       "PlaceIQ                                      1\n",
       "Zillow                                       1\n",
       "Turner                                       1\n",
       "Frontier Technology, Inc.                    1\n",
       "ASRC Federal                                 1\n",
       "MARC USA                                     1\n",
       "IDEXX Laboratories                           1\n",
       "Yahoo! Inc.                                  1\n",
       "DataVisor                                    1\n",
       "Scienaptic Systems Inc                       1\n",
       "Avery Dennison                               1\n",
       "Columbus Urban League                        1\n",
       "ICM Ventures Inc                             1\n",
       "University of California, Santa Cruz         1\n",
       "Frost & Sullivan                             1\n",
       "Northwestern University                      1\n",
       "University of California, Davis              1\n",
       "O'Brien & Gere                               1\n",
       "Lovelace Respiratory Research Institute      1\n",
       "Merkle Inc.                                  1\n",
       "ISO                                          1\n",
       "Name: company_name, dtype: int64"
      ]
     },
     "execution_count": 11,
     "metadata": {},
     "output_type": "execute_result"
    }
   ],
   "source": [
    "jobs_dataframe['company_name'].value_counts(ascending=False)"
   ]
  },
  {
   "cell_type": "code",
   "execution_count": 12,
   "metadata": {
    "collapsed": false,
    "deletable": true,
    "editable": true
   },
   "outputs": [
    {
     "data": {
      "text/plain": [
       "San Bruno, CA 94066                                         101\n",
       "Santa Clara Valley, CA                                      101\n",
       "Durham, NC                                                  101\n",
       "Charlotte, NC 28277                                         100\n",
       "Norwich, NY                                                  99\n",
       "New York, NY                                                 68\n",
       "Seattle, WA                                                  24\n",
       "San Francisco, CA                                            22\n",
       "Cambridge, MA 02142 (East Cambridge area)                    22\n",
       "Cambridge, MA                                                18\n",
       "Washington, DC                                               17\n",
       "South San Francisco, CA 94080                                17\n",
       "United States                                                16\n",
       "Boston, MA                                                   16\n",
       "Atlanta, GA                                                  15\n",
       "Cincinnati, OH                                               14\n",
       "Chicago, IL                                                  13\n",
       "Philadelphia, PA                                             12\n",
       "San Diego, CA                                                11\n",
       "El Segundo, CA 90245                                         10\n",
       "Los Angeles, CA                                              10\n",
       "Sunnyvale, CA                                                 9\n",
       "Boulder, CO                                                   9\n",
       "Houston, TX                                                   8\n",
       "Redmond, WA 98052                                             8\n",
       "Redwood City, CA                                              8\n",
       "Austin, TX                                                    8\n",
       "San Jose, CA                                                  7\n",
       "Reston, VA                                                    7\n",
       "Waltham, MA                                                   6\n",
       "                                                           ... \n",
       "New Haven, CT                                                 1\n",
       "Centennial, CO                                                1\n",
       "North Charleston, SC 29406                                    1\n",
       "Ephrata, PA                                                   1\n",
       "Pittsburgh, PA 15222 (Strip District area)                    1\n",
       "New York, NY 10012 (Little Italy area)                        1\n",
       "Syracuse, NY                                                  1\n",
       "Memphis, TN 38152 (East Memphis-Colonial-Yorkshire area)      1\n",
       "New Jersey                                                    1\n",
       "Oradell, NJ                                                   1\n",
       "King of Prussia, PA                                           1\n",
       "Burbank, CA                                                   1\n",
       "Maplewood, MN                                                 1\n",
       "Montpelier, VT                                                1\n",
       "Phoenix, AZ 85050 (Desert View area)                          1\n",
       "Texas                                                         1\n",
       "Radnor, PA                                                    1\n",
       "San Jose, CA 95129 (West San Jose area)                       1\n",
       "Great Lakes, IL                                               1\n",
       "Plymouth, MN                                                  1\n",
       "Soldotna, AK                                                  1\n",
       "Brooklyn, NY 11226                                            1\n",
       "Itasca, IL                                                    1\n",
       "Coral Springs, FL                                             1\n",
       "La Jolla, CA 92037                                            1\n",
       "Queens, NY                                                    1\n",
       "Hoffman Estates, IL 60179                                     1\n",
       "Trumbull, CT 06611                                            1\n",
       "Palo Alto, CA 94304                                           1\n",
       "Charlotte, NC                                                 1\n",
       "Name: job_location, dtype: int64"
      ]
     },
     "execution_count": 12,
     "metadata": {},
     "output_type": "execute_result"
    }
   ],
   "source": [
    "jobs_dataframe['job_location'].value_counts(ascending=False)"
   ]
  },
  {
   "cell_type": "code",
   "execution_count": 57,
   "metadata": {
    "collapsed": false
   },
   "outputs": [
    {
     "data": {
      "text/html": [
       "<div>\n",
       "<table border=\"1\" class=\"dataframe\">\n",
       "  <thead>\n",
       "    <tr style=\"text-align: right;\">\n",
       "      <th></th>\n",
       "      <th>company_link</th>\n",
       "      <th>company_name</th>\n",
       "      <th>job_link</th>\n",
       "      <th>job_location</th>\n",
       "      <th>job_summary</th>\n",
       "      <th>job_title</th>\n",
       "      <th>state</th>\n",
       "    </tr>\n",
       "  </thead>\n",
       "  <tbody>\n",
       "    <tr>\n",
       "      <th>0</th>\n",
       "      <td>http://www.indeed.com/cmp/David-Weekley-Homes</td>\n",
       "      <td>David Weekley Homes</td>\n",
       "      <td>http://www.indeed.com/rc/clk?jk=2bf384eab9c878...</td>\n",
       "      <td>Houston, TX</td>\n",
       "      <td>Develop the organization’s understanding of co...</td>\n",
       "      <td>Data Scientist</td>\n",
       "      <td>TX</td>\n",
       "    </tr>\n",
       "    <tr>\n",
       "      <th>1</th>\n",
       "      <td>http://www.indeed.com/cmp/Monsanto</td>\n",
       "      <td>MONSANTO</td>\n",
       "      <td>http://www.indeed.com/rc/clk?jk=c37559ad66d4b3...</td>\n",
       "      <td>St. Louis, MO</td>\n",
       "      <td>This position is for a Data Scientist to work ...</td>\n",
       "      <td>Global Supply Chain Data Scientist</td>\n",
       "      <td>MO</td>\n",
       "    </tr>\n",
       "    <tr>\n",
       "      <th>2</th>\n",
       "      <td>http://www.indeed.com/cmp/M&amp;T-Bank</td>\n",
       "      <td>M&amp;T Bank</td>\n",
       "      <td>http://www.indeed.com/rc/clk?jk=91b0c1f38ea7a5...</td>\n",
       "      <td>Buffalo, NY</td>\n",
       "      <td>Bachelor degree in Mathematics, Statistics, Qu...</td>\n",
       "      <td>Quantitative Risk Analyst I</td>\n",
       "      <td>NY</td>\n",
       "    </tr>\n",
       "    <tr>\n",
       "      <th>3</th>\n",
       "      <td>http://www.indeed.com/cmp/Mylan</td>\n",
       "      <td>Mylan</td>\n",
       "      <td>http://www.indeed.com/rc/clk?jk=a7a674d907efbd...</td>\n",
       "      <td>Morgantown, WV</td>\n",
       "      <td>Support initiatives including programming in t...</td>\n",
       "      <td>Intern, Statistical Programmer</td>\n",
       "      <td>WV</td>\n",
       "    </tr>\n",
       "    <tr>\n",
       "      <th>4</th>\n",
       "      <td>http://www.indeed.com/cmp/Pitney-Bowes</td>\n",
       "      <td>Pitney Bowes</td>\n",
       "      <td>http://www.indeed.com/rc/clk?jk=bc9575599017ea...</td>\n",
       "      <td>Danbury, CT 06810</td>\n",
       "      <td>We are a team of developers, architects, data ...</td>\n",
       "      <td>Big Data Engineer - Intern</td>\n",
       "      <td>CT</td>\n",
       "    </tr>\n",
       "  </tbody>\n",
       "</table>\n",
       "</div>"
      ],
      "text/plain": [
       "                                    company_link         company_name  \\\n",
       "0  http://www.indeed.com/cmp/David-Weekley-Homes  David Weekley Homes   \n",
       "1             http://www.indeed.com/cmp/Monsanto             MONSANTO   \n",
       "2             http://www.indeed.com/cmp/M&T-Bank             M&T Bank   \n",
       "3                http://www.indeed.com/cmp/Mylan                Mylan   \n",
       "4         http://www.indeed.com/cmp/Pitney-Bowes         Pitney Bowes   \n",
       "\n",
       "                                            job_link       job_location  \\\n",
       "0  http://www.indeed.com/rc/clk?jk=2bf384eab9c878...        Houston, TX   \n",
       "1  http://www.indeed.com/rc/clk?jk=c37559ad66d4b3...      St. Louis, MO   \n",
       "2  http://www.indeed.com/rc/clk?jk=91b0c1f38ea7a5...        Buffalo, NY   \n",
       "3  http://www.indeed.com/rc/clk?jk=a7a674d907efbd...     Morgantown, WV   \n",
       "4  http://www.indeed.com/rc/clk?jk=bc9575599017ea...  Danbury, CT 06810   \n",
       "\n",
       "                                         job_summary  \\\n",
       "0  Develop the organization’s understanding of co...   \n",
       "1  This position is for a Data Scientist to work ...   \n",
       "2  Bachelor degree in Mathematics, Statistics, Qu...   \n",
       "3  Support initiatives including programming in t...   \n",
       "4  We are a team of developers, architects, data ...   \n",
       "\n",
       "                            job_title state  \n",
       "0                      Data Scientist    TX  \n",
       "1  Global Supply Chain Data Scientist    MO  \n",
       "2         Quantitative Risk Analyst I    NY  \n",
       "3      Intern, Statistical Programmer    WV  \n",
       "4          Big Data Engineer - Intern    CT  "
      ]
     },
     "execution_count": 57,
     "metadata": {},
     "output_type": "execute_result"
    }
   ],
   "source": [
    "jobs_dataframe['state'] = jobs_dataframe['job_location'].str.extract(', (\\w{2})', expand=False)\n",
    "jobs_dataframe.head()"
   ]
  },
  {
   "cell_type": "code",
   "execution_count": 72,
   "metadata": {
    "collapsed": false
   },
   "outputs": [
    {
     "data": {
      "image/png": "[encoded data removed]",
      "text/plain": [
       "<matplotlib.figure.Figure at 0x119c9b7b8>"
      ]
     },
     "metadata": {},
     "output_type": "display_data"
    }
   ],
   "source": [
    "ax = jobs_dataframe['state'].value_counts(ascending=True).plot(kind=\"barh\", figsize=(10,10), xlim=(0,450))\n",
    "# add counts as annotations\n",
    "# http://stackoverflow.com/questions/23591254/python-pandas-matplotlib-annotating-labels-above-bar-chart-columns\n",
    "for p in ax.patches:\n",
    "    ax.annotate(\"%d\" % p.get_width(), (p.get_x() + p.get_width(), p.get_y()), xytext=(0, 0), textcoords='offset points')"
   ]
  },
  {
   "cell_type": "code",
   "execution_count": 13,
   "metadata": {
    "collapsed": false,
    "deletable": true,
    "editable": true
   },
   "outputs": [
    {
     "data": {
      "text/html": [
       "<div>\n",
       "<table border=\"1\" class=\"dataframe\">\n",
       "  <thead>\n",
       "    <tr style=\"text-align: right;\">\n",
       "      <th></th>\n",
       "      <th>company_link</th>\n",
       "      <th>company_name</th>\n",
       "      <th>job_link</th>\n",
       "      <th>job_location</th>\n",
       "      <th>job_summary</th>\n",
       "      <th>job_title</th>\n",
       "    </tr>\n",
       "  </thead>\n",
       "  <tbody>\n",
       "    <tr>\n",
       "      <th>7</th>\n",
       "      <td>http://www.indeed.com/cmp/Marc-USA</td>\n",
       "      <td>MARC USA</td>\n",
       "      <td>http://www.indeed.com/rc/clk?jk=d884d5e0347faf...</td>\n",
       "      <td>Pittsburgh, PA 15219 (Middle Hill area)</td>\n",
       "      <td>Providing a range of critical quantitative sup...</td>\n",
       "      <td>Market Research Analyst</td>\n",
       "    </tr>\n",
       "    <tr>\n",
       "      <th>278</th>\n",
       "      <td>None</td>\n",
       "      <td>kWantera</td>\n",
       "      <td>http://www.indeed.com/rc/clk?jk=7568b804290e9c...</td>\n",
       "      <td>Pittsburgh, PA 15222 (Strip District area)</td>\n",
       "      <td>Past experience collaborating with data scient...</td>\n",
       "      <td>Data Engineer</td>\n",
       "    </tr>\n",
       "    <tr>\n",
       "      <th>682</th>\n",
       "      <td>http://www.indeed.com/cmp/Pnc-Bank</td>\n",
       "      <td>PNC Bank</td>\n",
       "      <td>http://www.indeed.com/rc/clk?jk=9762b3594410c0...</td>\n",
       "      <td>Pittsburgh, PA</td>\n",
       "      <td>The preferred candidate will have experience w...</td>\n",
       "      <td>Quantitative Analytics &amp; Model Development Ana...</td>\n",
       "    </tr>\n",
       "    <tr>\n",
       "      <th>876</th>\n",
       "      <td>http://www.indeed.com/cmp/Thermo-Fisher-Scient...</td>\n",
       "      <td>Thermo Fisher Scientific</td>\n",
       "      <td>http://www.indeed.com/rc/clk?jk=c2a8c0d8324b71...</td>\n",
       "      <td>Pittsburgh, PA 15202</td>\n",
       "      <td>Recommend product categories where scientists ...</td>\n",
       "      <td>Product Conversion Specialist</td>\n",
       "    </tr>\n",
       "    <tr>\n",
       "      <th>921</th>\n",
       "      <td>None</td>\n",
       "      <td>DBD Staffing</td>\n",
       "      <td>http://www.indeed.com/company/DBD-Staffing/job...</td>\n",
       "      <td>Pittsburgh, PA</td>\n",
       "      <td>Manage data analysis support for segment targe...</td>\n",
       "      <td>Statistical Marketing Analyst</td>\n",
       "    </tr>\n",
       "    <tr>\n",
       "      <th>932</th>\n",
       "      <td>None</td>\n",
       "      <td>DBD Staffing</td>\n",
       "      <td>http://www.indeed.com/company/DBD-Staffing/job...</td>\n",
       "      <td>Pittsburgh, PA</td>\n",
       "      <td>Manage data analysis support for segment targe...</td>\n",
       "      <td>Statistical Marketing Analyst</td>\n",
       "    </tr>\n",
       "  </tbody>\n",
       "</table>\n",
       "</div>"
      ],
      "text/plain": [
       "                                          company_link  \\\n",
       "7                   http://www.indeed.com/cmp/Marc-USA   \n",
       "278                                               None   \n",
       "682                 http://www.indeed.com/cmp/Pnc-Bank   \n",
       "876  http://www.indeed.com/cmp/Thermo-Fisher-Scient...   \n",
       "921                                               None   \n",
       "932                                               None   \n",
       "\n",
       "                 company_name  \\\n",
       "7                    MARC USA   \n",
       "278                  kWantera   \n",
       "682                  PNC Bank   \n",
       "876  Thermo Fisher Scientific   \n",
       "921              DBD Staffing   \n",
       "932              DBD Staffing   \n",
       "\n",
       "                                              job_link  \\\n",
       "7    http://www.indeed.com/rc/clk?jk=d884d5e0347faf...   \n",
       "278  http://www.indeed.com/rc/clk?jk=7568b804290e9c...   \n",
       "682  http://www.indeed.com/rc/clk?jk=9762b3594410c0...   \n",
       "876  http://www.indeed.com/rc/clk?jk=c2a8c0d8324b71...   \n",
       "921  http://www.indeed.com/company/DBD-Staffing/job...   \n",
       "932  http://www.indeed.com/company/DBD-Staffing/job...   \n",
       "\n",
       "                                   job_location  \\\n",
       "7       Pittsburgh, PA 15219 (Middle Hill area)   \n",
       "278  Pittsburgh, PA 15222 (Strip District area)   \n",
       "682                              Pittsburgh, PA   \n",
       "876                        Pittsburgh, PA 15202   \n",
       "921                              Pittsburgh, PA   \n",
       "932                              Pittsburgh, PA   \n",
       "\n",
       "                                           job_summary  \\\n",
       "7    Providing a range of critical quantitative sup...   \n",
       "278  Past experience collaborating with data scient...   \n",
       "682  The preferred candidate will have experience w...   \n",
       "876  Recommend product categories where scientists ...   \n",
       "921  Manage data analysis support for segment targe...   \n",
       "932  Manage data analysis support for segment targe...   \n",
       "\n",
       "                                             job_title  \n",
       "7                              Market Research Analyst  \n",
       "278                                      Data Engineer  \n",
       "682  Quantitative Analytics & Model Development Ana...  \n",
       "876                      Product Conversion Specialist  \n",
       "921                      Statistical Marketing Analyst  \n",
       "932                      Statistical Marketing Analyst  "
      ]
     },
     "execution_count": 13,
     "metadata": {},
     "output_type": "execute_result"
    }
   ],
   "source": [
    "jobs_dataframe[jobs_dataframe['job_location'].str.contains(\"Pittsburgh\")]"
   ]
  },
  {
   "cell_type": "markdown",
   "metadata": {},
   "source": [
    "### Analyzing Company Information"
   ]
  },
  {
   "cell_type": "code",
   "execution_count": 29,
   "metadata": {
    "collapsed": false
   },
   "outputs": [
    {
     "data": {
      "text/html": [
       "<div>\n",
       "<table border=\"1\" class=\"dataframe\">\n",
       "  <thead>\n",
       "    <tr style=\"text-align: right;\">\n",
       "      <th></th>\n",
       "      <th>compensation_benefits_rating</th>\n",
       "      <th>culture_rating</th>\n",
       "      <th>js_advancement_rating</th>\n",
       "      <th>management_rating</th>\n",
       "      <th>overall_rating</th>\n",
       "      <th>url</th>\n",
       "      <th>wl_balanace_rating</th>\n",
       "    </tr>\n",
       "  </thead>\n",
       "  <tbody>\n",
       "    <tr>\n",
       "      <th>0</th>\n",
       "      <td>3.9</td>\n",
       "      <td>3.5</td>\n",
       "      <td>3.3</td>\n",
       "      <td>3.4</td>\n",
       "      <td>3.9</td>\n",
       "      <td>http://www.indeed.com/cmp/Population-Council</td>\n",
       "      <td>3.8</td>\n",
       "    </tr>\n",
       "    <tr>\n",
       "      <th>1</th>\n",
       "      <td>3.6</td>\n",
       "      <td>3.8</td>\n",
       "      <td>3.2</td>\n",
       "      <td>3.9</td>\n",
       "      <td>4.0</td>\n",
       "      <td>http://www.indeed.com/cmp/Ensco,-Inc.</td>\n",
       "      <td>4.1</td>\n",
       "    </tr>\n",
       "    <tr>\n",
       "      <th>2</th>\n",
       "      <td>3.9</td>\n",
       "      <td>3.6</td>\n",
       "      <td>3.3</td>\n",
       "      <td>3.4</td>\n",
       "      <td>3.8</td>\n",
       "      <td>http://www.indeed.com/cmp/General-Dynamics-Inf...</td>\n",
       "      <td>3.7</td>\n",
       "    </tr>\n",
       "    <tr>\n",
       "      <th>3</th>\n",
       "      <td>3.2</td>\n",
       "      <td>3.8</td>\n",
       "      <td>2.9</td>\n",
       "      <td>3.4</td>\n",
       "      <td>3.5</td>\n",
       "      <td>http://www.indeed.com/cmp/Mintel</td>\n",
       "      <td>3.7</td>\n",
       "    </tr>\n",
       "    <tr>\n",
       "      <th>4</th>\n",
       "      <td>4.5</td>\n",
       "      <td>3.5</td>\n",
       "      <td>1.5</td>\n",
       "      <td>3.5</td>\n",
       "      <td>4.0</td>\n",
       "      <td>http://www.indeed.com/cmp/Spacecurve</td>\n",
       "      <td>4.5</td>\n",
       "    </tr>\n",
       "  </tbody>\n",
       "</table>\n",
       "</div>"
      ],
      "text/plain": [
       "   compensation_benefits_rating  culture_rating  js_advancement_rating  \\\n",
       "0                           3.9             3.5                    3.3   \n",
       "1                           3.6             3.8                    3.2   \n",
       "2                           3.9             3.6                    3.3   \n",
       "3                           3.2             3.8                    2.9   \n",
       "4                           4.5             3.5                    1.5   \n",
       "\n",
       "   management_rating  overall_rating  \\\n",
       "0                3.4             3.9   \n",
       "1                3.9             4.0   \n",
       "2                3.4             3.8   \n",
       "3                3.4             3.5   \n",
       "4                3.5             4.0   \n",
       "\n",
       "                                                 url  wl_balanace_rating  \n",
       "0       http://www.indeed.com/cmp/Population-Council                 3.8  \n",
       "1              http://www.indeed.com/cmp/Ensco,-Inc.                 4.1  \n",
       "2  http://www.indeed.com/cmp/General-Dynamics-Inf...                 3.7  \n",
       "3                   http://www.indeed.com/cmp/Mintel                 3.7  \n",
       "4               http://www.indeed.com/cmp/Spacecurve                 4.5  "
      ]
     },
     "execution_count": 29,
     "metadata": {},
     "output_type": "execute_result"
    }
   ],
   "source": [
    "company_dataframe.head()"
   ]
  },
  {
   "cell_type": "code",
   "execution_count": 35,
   "metadata": {
    "collapsed": false
   },
   "outputs": [
    {
     "data": {
      "text/html": [
       "<div>\n",
       "<table border=\"1\" class=\"dataframe\">\n",
       "  <thead>\n",
       "    <tr style=\"text-align: right;\">\n",
       "      <th></th>\n",
       "      <th>compensation_benefits_rating</th>\n",
       "      <th>culture_rating</th>\n",
       "      <th>js_advancement_rating</th>\n",
       "      <th>management_rating</th>\n",
       "      <th>overall_rating</th>\n",
       "      <th>wl_balanace_rating</th>\n",
       "    </tr>\n",
       "  </thead>\n",
       "  <tbody>\n",
       "    <tr>\n",
       "      <th>count</th>\n",
       "      <td>394.000000</td>\n",
       "      <td>394.000000</td>\n",
       "      <td>394.000000</td>\n",
       "      <td>394.000000</td>\n",
       "      <td>394.000000</td>\n",
       "      <td>394.000000</td>\n",
       "    </tr>\n",
       "    <tr>\n",
       "      <th>mean</th>\n",
       "      <td>3.693147</td>\n",
       "      <td>3.657868</td>\n",
       "      <td>3.322081</td>\n",
       "      <td>3.406853</td>\n",
       "      <td>3.867005</td>\n",
       "      <td>3.757107</td>\n",
       "    </tr>\n",
       "    <tr>\n",
       "      <th>std</th>\n",
       "      <td>0.524687</td>\n",
       "      <td>0.531120</td>\n",
       "      <td>0.534313</td>\n",
       "      <td>0.542193</td>\n",
       "      <td>0.439729</td>\n",
       "      <td>0.529691</td>\n",
       "    </tr>\n",
       "    <tr>\n",
       "      <th>min</th>\n",
       "      <td>0.000000</td>\n",
       "      <td>0.000000</td>\n",
       "      <td>0.000000</td>\n",
       "      <td>0.000000</td>\n",
       "      <td>1.700000</td>\n",
       "      <td>0.000000</td>\n",
       "    </tr>\n",
       "    <tr>\n",
       "      <th>25%</th>\n",
       "      <td>3.400000</td>\n",
       "      <td>3.400000</td>\n",
       "      <td>3.000000</td>\n",
       "      <td>3.200000</td>\n",
       "      <td>3.700000</td>\n",
       "      <td>3.500000</td>\n",
       "    </tr>\n",
       "    <tr>\n",
       "      <th>50%</th>\n",
       "      <td>3.800000</td>\n",
       "      <td>3.700000</td>\n",
       "      <td>3.400000</td>\n",
       "      <td>3.400000</td>\n",
       "      <td>4.000000</td>\n",
       "      <td>3.800000</td>\n",
       "    </tr>\n",
       "    <tr>\n",
       "      <th>75%</th>\n",
       "      <td>4.000000</td>\n",
       "      <td>4.000000</td>\n",
       "      <td>3.600000</td>\n",
       "      <td>3.700000</td>\n",
       "      <td>4.200000</td>\n",
       "      <td>4.000000</td>\n",
       "    </tr>\n",
       "    <tr>\n",
       "      <th>max</th>\n",
       "      <td>5.000000</td>\n",
       "      <td>5.000000</td>\n",
       "      <td>5.000000</td>\n",
       "      <td>5.000000</td>\n",
       "      <td>5.000000</td>\n",
       "      <td>5.000000</td>\n",
       "    </tr>\n",
       "  </tbody>\n",
       "</table>\n",
       "</div>"
      ],
      "text/plain": [
       "       compensation_benefits_rating  culture_rating  js_advancement_rating  \\\n",
       "count                    394.000000      394.000000             394.000000   \n",
       "mean                       3.693147        3.657868               3.322081   \n",
       "std                        0.524687        0.531120               0.534313   \n",
       "min                        0.000000        0.000000               0.000000   \n",
       "25%                        3.400000        3.400000               3.000000   \n",
       "50%                        3.800000        3.700000               3.400000   \n",
       "75%                        4.000000        4.000000               3.600000   \n",
       "max                        5.000000        5.000000               5.000000   \n",
       "\n",
       "       management_rating  overall_rating  wl_balanace_rating  \n",
       "count         394.000000      394.000000          394.000000  \n",
       "mean            3.406853        3.867005            3.757107  \n",
       "std             0.542193        0.439729            0.529691  \n",
       "min             0.000000        1.700000            0.000000  \n",
       "25%             3.200000        3.700000            3.500000  \n",
       "50%             3.400000        4.000000            3.800000  \n",
       "75%             3.700000        4.200000            4.000000  \n",
       "max             5.000000        5.000000            5.000000  "
      ]
     },
     "execution_count": 35,
     "metadata": {},
     "output_type": "execute_result"
    }
   ],
   "source": [
    "company_dataframe.describe()"
   ]
  },
  {
   "cell_type": "code",
   "execution_count": 28,
   "metadata": {
    "collapsed": false,
    "deletable": true,
    "editable": true
   },
   "outputs": [
    {
     "data": {
      "text/plain": [
       "<matplotlib.axes._subplots.AxesSubplot at 0x11489b9b0>"
      ]
     },
     "execution_count": 28,
     "metadata": {},
     "output_type": "execute_result"
    },
    {
     "data": {
      "image/png": "[encoded data removed]",
      "text/plain": [
       "<matplotlib.figure.Figure at 0x1157498d0>"
      ]
     },
     "metadata": {},
     "output_type": "display_data"
    }
   ],
   "source": [
    "company_dataframe['overall_rating'].hist()"
   ]
  },
  {
   "cell_type": "code",
   "execution_count": 30,
   "metadata": {
    "collapsed": false
   },
   "outputs": [
    {
     "data": {
      "text/plain": [
       "<matplotlib.axes._subplots.AxesSubplot at 0x114aa61d0>"
      ]
     },
     "execution_count": 30,
     "metadata": {},
     "output_type": "execute_result"
    },
    {
     "data": {
      "image/png": "[encoded data removed]",
      "text/plain": [
       "<matplotlib.figure.Figure at 0x114ab1eb8>"
      ]
     },
     "metadata": {},
     "output_type": "display_data"
    }
   ],
   "source": [
    "company_dataframe['culture_rating'].hist()"
   ]
  },
  {
   "cell_type": "code",
   "execution_count": 31,
   "metadata": {
    "collapsed": false
   },
   "outputs": [
    {
     "data": {
      "text/plain": [
       "<matplotlib.axes._subplots.AxesSubplot at 0x114b49eb8>"
      ]
     },
     "execution_count": 31,
     "metadata": {},
     "output_type": "execute_result"
    },
    {
     "data": {
      "image/png": "[encoded data removed]",
      "text/plain": [
       "<matplotlib.figure.Figure at 0x1149a9f28>"
      ]
     },
     "metadata": {},
     "output_type": "display_data"
    }
   ],
   "source": [
    "company_dataframe['compensation_benefits_rating'].hist()"
   ]
  },
  {
   "cell_type": "code",
   "execution_count": 32,
   "metadata": {
    "collapsed": false
   },
   "outputs": [
    {
     "data": {
      "text/plain": [
       "<matplotlib.axes._subplots.AxesSubplot at 0x114b6d2e8>"
      ]
     },
     "execution_count": 32,
     "metadata": {},
     "output_type": "execute_result"
    },
    {
     "data": {
      "image/png": "[encoded data removed]",
      "text/plain": [
       "<matplotlib.figure.Figure at 0x1140f4e80>"
      ]
     },
     "metadata": {},
     "output_type": "display_data"
    }
   ],
   "source": [
    "company_dataframe['management_rating'].hist()"
   ]
  },
  {
   "cell_type": "code",
   "execution_count": 33,
   "metadata": {
    "collapsed": false
   },
   "outputs": [
    {
     "data": {
      "text/plain": [
       "<matplotlib.axes._subplots.AxesSubplot at 0x1146f5358>"
      ]
     },
     "execution_count": 33,
     "metadata": {},
     "output_type": "execute_result"
    },
    {
     "data": {
      "image/png": "[encoded data removed]",
      "text/plain": [
       "<matplotlib.figure.Figure at 0x113b4f438>"
      ]
     },
     "metadata": {},
     "output_type": "display_data"
    }
   ],
   "source": [
    "company_dataframe['js_advancement_rating'].hist()"
   ]
  },
  {
   "cell_type": "code",
   "execution_count": null,
   "metadata": {
    "collapsed": true
   },
   "outputs": [],
   "source": []
  }
 ],
 "metadata": {
  "kernelspec": {
   "display_name": "Python 3",
   "language": "python",
   "name": "python3"
  },
  "language_info": {
   "codemirror_mode": {
    "name": "ipython",
    "version": 3
   },
   "file_extension": ".py",
   "mimetype": "text/x-python",
   "name": "python",
   "nbconvert_exporter": "python",
   "pygments_lexer": "ipython3",
   "version": "3.6.0"
  }
 },
 "nbformat": 4,
 "nbformat_minor": 2
}
