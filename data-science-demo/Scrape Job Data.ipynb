{
 "cells": [
  {
   "cell_type": "markdown",
   "metadata": {
    "deletable": true,
    "editable": true
   },
   "source": [
    "# Scraping Indeed Job listings for the term \"Data Scientist\"\n",
    "\n",
    "This little demo will scrape job listings and company information from Indeed.com\n",
    "\n",
    "This code has been taken from a post on the NYC Data Science Academy website titled [Project 3: Web Scraping Company Data from Indeed.com and Dice.com](http://blog.nycdatascience.com/student-works/project-3-web-scraping-company-data-from-indeed-com-and-dice-com/) by [Sung Pil Moon](http://blog.nycdatascience.com/author/monspo1/).\n",
    "\n",
    "I have modified the code to work properly with Indeed.com's new HTML structure."
   ]
  },
  {
   "cell_type": "markdown",
   "metadata": {
    "deletable": true,
    "editable": true
   },
   "source": [
    "## Scraping the listings\n",
    "\n",
    "First we need to get the job listings, if you click the link below you can see the page we are going to scrape:\n",
    "https://www.indeed.com/jobs?q=data+scientist&jt=fulltime&sort=date\n",
    "\n",
    "There are 21,209 listings! This is way too many to copy and past by hand, lets automate it!"
   ]
  },
  {
   "cell_type": "code",
   "execution_count": 75,
   "metadata": {
    "collapsed": true,
    "deletable": true,
    "editable": true
   },
   "outputs": [],
   "source": [
    "# import libraries\n",
    "from bs4 import BeautifulSoup as Soup\n",
    "import requests\n",
    "import pandas as pd\n",
    "\n",
    "# indeed.com url\n",
    "base_url = 'http://www.indeed.com/jobs?q=data+scientist&jt=fulltime&sort='\n",
    "sort_by = 'date'          # sort by data\n",
    "start_from = '&start='    # start page number\n",
    "home_url = \"http://www.indeed.com\"\n"
   ]
  },
  {
   "cell_type": "code",
   "execution_count": 85,
   "metadata": {
    "collapsed": false,
    "deletable": true,
    "editable": true
   },
   "outputs": [
    {
     "name": "stdout",
     "output_type": "stream",
     "text": [
      "Scraping page 0\n",
      "Scraping page 100\n",
      "Scraping page 200\n",
      "Scraping page 300\n",
      "Scraping page 400\n",
      "Scrapting Finish! Collected 748 job postings!\n"
     ]
    }
   ],
   "source": [
    "# Create a list to contain all the job postings\n",
    "job_listings = []\n",
    "\n",
    "for page in range(0,500,10): # page from 1 to 100 (last page we can scrape is 100)\n",
    "    if page % 100 == 0:\n",
    "        print(\"Scraping page {}\".format(page/10))\n",
    "    url = \"%s%s%s%d\" % (base_url, sort_by, start_from, page) # get full url\n",
    "    target = Soup(requests.get(url).text, \"lxml\") \n",
    "\n",
    "    targetElements = target.findAll('div', attrs={'class' : 'result'}) # we're interested in each row (= each job)\n",
    "    \n",
    "    # trying to get each specific job information (such as company name, job title, urls, ...)\n",
    "    for elem in targetElements:\n",
    "        \n",
    "        try:\n",
    "            comp_name = elem.find('span', \"company\").text.strip()\n",
    "            job_title = elem.find('a', attrs={'class':'turnstileLink'}).attrs['title']\n",
    "            job_addr = elem.find('span',\"location\").text\n",
    "            job_link = \"%s%s\" % (home_url,elem.find('a').get('href'))\n",
    "            job_summary = elem.find('span',\"summary\").text.strip()\n",
    "\n",
    "            if elem.find('span', \"company\").find(\"a\"):\n",
    "\n",
    "                company_link = elem.find('span', \"company\").find(\"a\")\n",
    "                comp_link_overall = \"%s%s\" % (home_url, company_link['href'])\n",
    "            else:\n",
    "                comp_link_overall = None\n",
    "\n",
    "            # add a job info to our data frame\n",
    "            job_listings.append({'company_name': comp_name, \n",
    "                                 'job_title': job_title, \n",
    "                                 'job_link': job_link,\n",
    "                                 'job_summary': job_summary,\n",
    "                                 'company_link': comp_link_overall, \n",
    "                                 'job_location': job_addr})\n",
    "        \n",
    "        # Some ofthe listings are missing information, we are going to skip them\n",
    "        except:\n",
    "            print(\"Bad data on search page\")\n",
    "            print(url)\n",
    "            \n",
    "print(\"Scrapting Finish! Collected {} job postings!\".format(len(job_listings)))"
   ]
  },
  {
   "cell_type": "code",
   "execution_count": 77,
   "metadata": {
    "collapsed": false,
    "deletable": true,
    "editable": true
   },
   "outputs": [
    {
     "data": {
      "text/html": [
       "<div>\n",
       "<table border=\"1\" class=\"dataframe\">\n",
       "  <thead>\n",
       "    <tr style=\"text-align: right;\">\n",
       "      <th></th>\n",
       "      <th>company_link</th>\n",
       "      <th>company_name</th>\n",
       "      <th>job_link</th>\n",
       "      <th>job_location</th>\n",
       "      <th>job_summary</th>\n",
       "      <th>job_title</th>\n",
       "    </tr>\n",
       "  </thead>\n",
       "  <tbody>\n",
       "    <tr>\n",
       "      <th>0</th>\n",
       "      <td>None</td>\n",
       "      <td>TechStratium Inc.</td>\n",
       "      <td>http://www.indeed.com/company/TechStratium-Inc...</td>\n",
       "      <td>Baltimore, MD</td>\n",
       "      <td>Experience with data visualization of insights...</td>\n",
       "      <td>Data Scientist</td>\n",
       "    </tr>\n",
       "    <tr>\n",
       "      <th>1</th>\n",
       "      <td>http://www.indeed.com/cmp/Akamai-Technologies</td>\n",
       "      <td>Akamai</td>\n",
       "      <td>http://www.indeed.com/rc/clk?jk=af5d288afac40e...</td>\n",
       "      <td>Santa Clara, CA</td>\n",
       "      <td>Masters or higher degree in applied math, stat...</td>\n",
       "      <td>Data Scientist..</td>\n",
       "    </tr>\n",
       "    <tr>\n",
       "      <th>2</th>\n",
       "      <td>http://www.indeed.com/cmp/SAS-Institute</td>\n",
       "      <td>SAS Institute</td>\n",
       "      <td>http://www.indeed.com/rc/clk?jk=ea7f95b2729e4d...</td>\n",
       "      <td>Cary, NC</td>\n",
       "      <td>We work closely with deep learning scientists,...</td>\n",
       "      <td>Data Scientist - Speech-to-Text NLP</td>\n",
       "    </tr>\n",
       "    <tr>\n",
       "      <th>3</th>\n",
       "      <td>http://www.indeed.com/cmp/Blackrock-Inc.</td>\n",
       "      <td>BlackRock</td>\n",
       "      <td>http://www.indeed.com/rc/clk?jk=e4ae3d5a0b7c91...</td>\n",
       "      <td>New York, NY 10001 (Chelsea area)</td>\n",
       "      <td>We are looking for a data scientist with advan...</td>\n",
       "      <td>People Analytics &amp; Research Data Scientist</td>\n",
       "    </tr>\n",
       "    <tr>\n",
       "      <th>4</th>\n",
       "      <td>http://www.indeed.com/cmp/Mylan</td>\n",
       "      <td>Mylan</td>\n",
       "      <td>http://www.indeed.com/rc/clk?jk=a7a674d907efbd...</td>\n",
       "      <td>Morgantown, WV</td>\n",
       "      <td>Support initiatives including programming in t...</td>\n",
       "      <td>Intern, Statistical Programmer</td>\n",
       "    </tr>\n",
       "  </tbody>\n",
       "</table>\n",
       "</div>"
      ],
      "text/plain": [
       "                                    company_link       company_name  \\\n",
       "0                                           None  TechStratium Inc.   \n",
       "1  http://www.indeed.com/cmp/Akamai-Technologies             Akamai   \n",
       "2        http://www.indeed.com/cmp/SAS-Institute      SAS Institute   \n",
       "3       http://www.indeed.com/cmp/Blackrock-Inc.          BlackRock   \n",
       "4                http://www.indeed.com/cmp/Mylan              Mylan   \n",
       "\n",
       "                                            job_link  \\\n",
       "0  http://www.indeed.com/company/TechStratium-Inc...   \n",
       "1  http://www.indeed.com/rc/clk?jk=af5d288afac40e...   \n",
       "2  http://www.indeed.com/rc/clk?jk=ea7f95b2729e4d...   \n",
       "3  http://www.indeed.com/rc/clk?jk=e4ae3d5a0b7c91...   \n",
       "4  http://www.indeed.com/rc/clk?jk=a7a674d907efbd...   \n",
       "\n",
       "                        job_location  \\\n",
       "0                      Baltimore, MD   \n",
       "1                    Santa Clara, CA   \n",
       "2                           Cary, NC   \n",
       "3  New York, NY 10001 (Chelsea area)   \n",
       "4                     Morgantown, WV   \n",
       "\n",
       "                                         job_summary  \\\n",
       "0  Experience with data visualization of insights...   \n",
       "1  Masters or higher degree in applied math, stat...   \n",
       "2  We work closely with deep learning scientists,...   \n",
       "3  We are looking for a data scientist with advan...   \n",
       "4  Support initiatives including programming in t...   \n",
       "\n",
       "                                    job_title  \n",
       "0                              Data Scientist  \n",
       "1                            Data Scientist..  \n",
       "2         Data Scientist - Speech-to-Text NLP  \n",
       "3  People Analytics & Research Data Scientist  \n",
       "4              Intern, Statistical Programmer  "
      ]
     },
     "execution_count": 77,
     "metadata": {},
     "output_type": "execute_result"
    }
   ],
   "source": [
    "jobs_dataframe = pd.DataFrame(job_listings)\n",
    "jobs_dataframe.to_csv(\"jobs-data.csv\", index=False)\n",
    "jobs_dataframe.head()"
   ]
  },
  {
   "cell_type": "markdown",
   "metadata": {
    "deletable": true,
    "editable": true
   },
   "source": [
    "## Getting Information about the company\n",
    "\n",
    "OK, now that I have information about all of the listings, why don't we try and get some information about the companies posting those jobs. Here is an example of a company page:\n",
    "https://www.indeed.com/cmp/Kpmg?from=SERP&fromjk=2cc9b68015bf617f&jcid=2dd390c3a48a7ed0&attributionid=serp-linkcompanyname"
   ]
  },
  {
   "cell_type": "code",
   "execution_count": 78,
   "metadata": {
    "collapsed": false
   },
   "outputs": [
    {
     "name": "stdout",
     "output_type": "stream",
     "text": [
      "1497\n",
      "400\n"
     ]
    }
   ],
   "source": [
    "# remove duplicate company URLs\n",
    "company_urls = set(listing['company_link'] for listing in job_listings)\n",
    "print(len(job_listings))\n",
    "print(len(company_urls))"
   ]
  },
  {
   "cell_type": "code",
   "execution_count": 79,
   "metadata": {
    "collapsed": false,
    "deletable": true,
    "editable": true
   },
   "outputs": [
    {
     "name": "stdout",
     "output_type": "stream",
     "text": [
      "Scraping company 0 of 400\n",
      "Scraping company 50 of 400\n",
      "Scraping company 100 of 400\n",
      "Scraping company 150 of 400\n",
      "Scraping company 200 of 400\n",
      "Scraping company 250 of 400\n",
      "Scraping company 300 of 400\n",
      "Scraping company 350 of 400\n"
     ]
    }
   ],
   "source": [
    "company_info = []\n",
    "\n",
    "for i,company_url in enumerate(company_urls):\n",
    "    if i % 50 == 0:\n",
    "        total_listings = len(company_urls)\n",
    "        print(\"Scraping company {} of {}\".format(i, total_listings))\n",
    "    \n",
    "    # skip the None \n",
    "    if not company_url:\n",
    "        continue\n",
    "\n",
    "    company_page = Soup(requests.get(company_url).text, \"lxml\")\n",
    "    \n",
    "    \n",
    "    # get the company ratings\n",
    "    ratings = company_page.find_all('span','cmp-star-rating')\n",
    "    \n",
    "    company_info.append({\n",
    "    'url'                          : company_url,\n",
    "    'overall_rating'               : float(company_page.find('span','cmp-average-rating').text),\n",
    "    'wl_balanace_rating'           : float(ratings[0].text),\n",
    "    'compensation_benefits_rating' : float(ratings[1].text),\n",
    "    'js_advancement_rating'        : float(ratings[2].text),\n",
    "    'management_rating'            : float(ratings[3].text),\n",
    "    'culture_rating'               : float(ratings[4].text)})\n",
    "    \n",
    "    \n",
    "    "
   ]
  },
  {
   "cell_type": "code",
   "execution_count": 80,
   "metadata": {
    "collapsed": false,
    "deletable": true,
    "editable": true
   },
   "outputs": [
    {
     "data": {
      "text/html": [
       "<div>\n",
       "<table border=\"1\" class=\"dataframe\">\n",
       "  <thead>\n",
       "    <tr style=\"text-align: right;\">\n",
       "      <th></th>\n",
       "      <th>compensation_benefits_rating</th>\n",
       "      <th>culture_rating</th>\n",
       "      <th>js_advancement_rating</th>\n",
       "      <th>management_rating</th>\n",
       "      <th>overall_rating</th>\n",
       "      <th>url</th>\n",
       "      <th>wl_balanace_rating</th>\n",
       "    </tr>\n",
       "  </thead>\n",
       "  <tbody>\n",
       "    <tr>\n",
       "      <th>0</th>\n",
       "      <td>3.9</td>\n",
       "      <td>3.5</td>\n",
       "      <td>3.3</td>\n",
       "      <td>3.4</td>\n",
       "      <td>3.9</td>\n",
       "      <td>http://www.indeed.com/cmp/Population-Council</td>\n",
       "      <td>3.8</td>\n",
       "    </tr>\n",
       "    <tr>\n",
       "      <th>1</th>\n",
       "      <td>3.6</td>\n",
       "      <td>3.8</td>\n",
       "      <td>3.2</td>\n",
       "      <td>3.9</td>\n",
       "      <td>4.0</td>\n",
       "      <td>http://www.indeed.com/cmp/Ensco,-Inc.</td>\n",
       "      <td>4.1</td>\n",
       "    </tr>\n",
       "    <tr>\n",
       "      <th>2</th>\n",
       "      <td>3.9</td>\n",
       "      <td>3.6</td>\n",
       "      <td>3.3</td>\n",
       "      <td>3.4</td>\n",
       "      <td>3.8</td>\n",
       "      <td>http://www.indeed.com/cmp/General-Dynamics-Inf...</td>\n",
       "      <td>3.7</td>\n",
       "    </tr>\n",
       "    <tr>\n",
       "      <th>3</th>\n",
       "      <td>3.2</td>\n",
       "      <td>3.8</td>\n",
       "      <td>2.9</td>\n",
       "      <td>3.4</td>\n",
       "      <td>3.5</td>\n",
       "      <td>http://www.indeed.com/cmp/Mintel</td>\n",
       "      <td>3.7</td>\n",
       "    </tr>\n",
       "    <tr>\n",
       "      <th>4</th>\n",
       "      <td>3.8</td>\n",
       "      <td>3.8</td>\n",
       "      <td>3.6</td>\n",
       "      <td>3.5</td>\n",
       "      <td>4.0</td>\n",
       "      <td>http://www.indeed.com/cmp/ADP</td>\n",
       "      <td>3.8</td>\n",
       "    </tr>\n",
       "  </tbody>\n",
       "</table>\n",
       "</div>"
      ],
      "text/plain": [
       "   compensation_benefits_rating  culture_rating  js_advancement_rating  \\\n",
       "0                           3.9             3.5                    3.3   \n",
       "1                           3.6             3.8                    3.2   \n",
       "2                           3.9             3.6                    3.3   \n",
       "3                           3.2             3.8                    2.9   \n",
       "4                           3.8             3.8                    3.6   \n",
       "\n",
       "   management_rating  overall_rating  \\\n",
       "0                3.4             3.9   \n",
       "1                3.9             4.0   \n",
       "2                3.4             3.8   \n",
       "3                3.4             3.5   \n",
       "4                3.5             4.0   \n",
       "\n",
       "                                                 url  wl_balanace_rating  \n",
       "0       http://www.indeed.com/cmp/Population-Council                 3.8  \n",
       "1              http://www.indeed.com/cmp/Ensco,-Inc.                 4.1  \n",
       "2  http://www.indeed.com/cmp/General-Dynamics-Inf...                 3.7  \n",
       "3                   http://www.indeed.com/cmp/Mintel                 3.7  \n",
       "4                      http://www.indeed.com/cmp/ADP                 3.8  "
      ]
     },
     "execution_count": 80,
     "metadata": {},
     "output_type": "execute_result"
    }
   ],
   "source": [
    "company_dataframe = pd.DataFrame(company_info)\n",
    "company_dataframe.to_csv(\"company-data.csv\", index=False)\n",
    "company_dataframe.head()"
   ]
  },
  {
   "cell_type": "code",
   "execution_count": null,
   "metadata": {
    "collapsed": true,
    "deletable": true,
    "editable": true
   },
   "outputs": [],
   "source": []
  },
  {
   "cell_type": "code",
   "execution_count": null,
   "metadata": {
    "collapsed": true
   },
   "outputs": [],
   "source": []
  }
 ],
 "metadata": {
  "kernelspec": {
   "display_name": "Python 3",
   "language": "python",
   "name": "python3"
  },
  "language_info": {
   "codemirror_mode": {
    "name": "ipython",
    "version": 3
   },
   "file_extension": ".py",
   "mimetype": "text/x-python",
   "name": "python",
   "nbconvert_exporter": "python",
   "pygments_lexer": "ipython3",
   "version": "3.6.0"
  }
 },
 "nbformat": 4,
 "nbformat_minor": 2
}
