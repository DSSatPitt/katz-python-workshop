{
 "cells": [
  {
   "cell_type": "markdown",
   "metadata": {},
   "source": [
    "# Job Data Analysis\n",
    "\n"
   ]
  },
  {
   "cell_type": "code",
   "execution_count": 36,
   "metadata": {
    "collapsed": true
   },
   "outputs": [],
   "source": [
    "import pandas as pd\n",
    "%matplotlib inline"
   ]
  },
  {
   "cell_type": "code",
   "execution_count": 37,
   "metadata": {
    "collapsed": false
   },
   "outputs": [
    {
     "data": {
      "text/html": [
       "<div>\n",
       "<table border=\"1\" class=\"dataframe\">\n",
       "  <thead>\n",
       "    <tr style=\"text-align: right;\">\n",
       "      <th></th>\n",
       "      <th>company_link</th>\n",
       "      <th>company_name</th>\n",
       "      <th>job_link</th>\n",
       "      <th>job_location</th>\n",
       "      <th>job_summary</th>\n",
       "      <th>job_title</th>\n",
       "    </tr>\n",
       "  </thead>\n",
       "  <tbody>\n",
       "    <tr>\n",
       "      <th>0</th>\n",
       "      <td>NaN</td>\n",
       "      <td>TechStratium Inc.</td>\n",
       "      <td>http://www.indeed.com/company/TechStratium-Inc...</td>\n",
       "      <td>Baltimore, MD</td>\n",
       "      <td>Experience with data visualization of insights...</td>\n",
       "      <td>Data Scientist</td>\n",
       "    </tr>\n",
       "    <tr>\n",
       "      <th>1</th>\n",
       "      <td>http://www.indeed.com/cmp/Akamai-Technologies</td>\n",
       "      <td>Akamai</td>\n",
       "      <td>http://www.indeed.com/rc/clk?jk=af5d288afac40e...</td>\n",
       "      <td>Santa Clara, CA</td>\n",
       "      <td>Masters or higher degree in applied math, stat...</td>\n",
       "      <td>Data Scientist..</td>\n",
       "    </tr>\n",
       "    <tr>\n",
       "      <th>2</th>\n",
       "      <td>http://www.indeed.com/cmp/SAS-Institute</td>\n",
       "      <td>SAS Institute</td>\n",
       "      <td>http://www.indeed.com/rc/clk?jk=ea7f95b2729e4d...</td>\n",
       "      <td>Cary, NC</td>\n",
       "      <td>We work closely with deep learning scientists,...</td>\n",
       "      <td>Data Scientist - Speech-to-Text NLP</td>\n",
       "    </tr>\n",
       "    <tr>\n",
       "      <th>3</th>\n",
       "      <td>http://www.indeed.com/cmp/Blackrock-Inc.</td>\n",
       "      <td>BlackRock</td>\n",
       "      <td>http://www.indeed.com/rc/clk?jk=e4ae3d5a0b7c91...</td>\n",
       "      <td>New York, NY 10001 (Chelsea area)</td>\n",
       "      <td>We are looking for a data scientist with advan...</td>\n",
       "      <td>People Analytics &amp; Research Data Scientist</td>\n",
       "    </tr>\n",
       "    <tr>\n",
       "      <th>4</th>\n",
       "      <td>http://www.indeed.com/cmp/Mylan</td>\n",
       "      <td>Mylan</td>\n",
       "      <td>http://www.indeed.com/rc/clk?jk=a7a674d907efbd...</td>\n",
       "      <td>Morgantown, WV</td>\n",
       "      <td>Support initiatives including programming in t...</td>\n",
       "      <td>Intern, Statistical Programmer</td>\n",
       "    </tr>\n",
       "  </tbody>\n",
       "</table>\n",
       "</div>"
      ],
      "text/plain": [
       "                                    company_link       company_name  \\\n",
       "0                                            NaN  TechStratium Inc.   \n",
       "1  http://www.indeed.com/cmp/Akamai-Technologies             Akamai   \n",
       "2        http://www.indeed.com/cmp/SAS-Institute      SAS Institute   \n",
       "3       http://www.indeed.com/cmp/Blackrock-Inc.          BlackRock   \n",
       "4                http://www.indeed.com/cmp/Mylan              Mylan   \n",
       "\n",
       "                                            job_link  \\\n",
       "0  http://www.indeed.com/company/TechStratium-Inc...   \n",
       "1  http://www.indeed.com/rc/clk?jk=af5d288afac40e...   \n",
       "2  http://www.indeed.com/rc/clk?jk=ea7f95b2729e4d...   \n",
       "3  http://www.indeed.com/rc/clk?jk=e4ae3d5a0b7c91...   \n",
       "4  http://www.indeed.com/rc/clk?jk=a7a674d907efbd...   \n",
       "\n",
       "                        job_location  \\\n",
       "0                      Baltimore, MD   \n",
       "1                    Santa Clara, CA   \n",
       "2                           Cary, NC   \n",
       "3  New York, NY 10001 (Chelsea area)   \n",
       "4                     Morgantown, WV   \n",
       "\n",
       "                                         job_summary  \\\n",
       "0  Experience with data visualization of insights...   \n",
       "1  Masters or higher degree in applied math, stat...   \n",
       "2  We work closely with deep learning scientists,...   \n",
       "3  We are looking for a data scientist with advan...   \n",
       "4  Support initiatives including programming in t...   \n",
       "\n",
       "                                    job_title  \n",
       "0                              Data Scientist  \n",
       "1                            Data Scientist..  \n",
       "2         Data Scientist - Speech-to-Text NLP  \n",
       "3  People Analytics & Research Data Scientist  \n",
       "4              Intern, Statistical Programmer  "
      ]
     },
     "execution_count": 37,
     "metadata": {},
     "output_type": "execute_result"
    }
   ],
   "source": [
    "job_data = pd.read_csv(\"jobs-data.csv\")\n",
    "job_data.head()"
   ]
  },
  {
   "cell_type": "markdown",
   "metadata": {},
   "source": [
    "Now that the data is loaded, we can do analysis."
   ]
  },
  {
   "cell_type": "code",
   "execution_count": 38,
   "metadata": {
    "collapsed": false
   },
   "outputs": [
    {
     "data": {
      "text/plain": [
       "company_link    object\n",
       "company_name    object\n",
       "job_link        object\n",
       "job_location    object\n",
       "job_summary     object\n",
       "job_title       object\n",
       "dtype: object"
      ]
     },
     "execution_count": 38,
     "metadata": {},
     "output_type": "execute_result"
    }
   ],
   "source": [
    "job_data.dtypes"
   ]
  },
  {
   "cell_type": "code",
   "execution_count": 39,
   "metadata": {
    "collapsed": false
   },
   "outputs": [
    {
     "data": {
      "text/plain": [
       "(1497, 6)"
      ]
     },
     "execution_count": 39,
     "metadata": {},
     "output_type": "execute_result"
    }
   ],
   "source": [
    "job_data.shape\n"
   ]
  },
  {
   "cell_type": "code",
   "execution_count": 40,
   "metadata": {
    "collapsed": false
   },
   "outputs": [
    {
     "data": {
      "text/plain": [
       "Data Scientist                                                        440\n",
       "Data Engineer/Scientist                                               100\n",
       "Research Analyst                                                       19\n",
       "Machine Learning Engineer                                               9\n",
       "Senior Data Scientist                                                   9\n",
       "Data Engineer                                                           6\n",
       "Research Scientist                                                      6\n",
       "Statistical Analyst                                                     5\n",
       "Senior Software Engineer                                                4\n",
       "Senior Research Analyst                                                 4\n",
       "Scientist II – Global and Quantitative Proteomics                       3\n",
       "Statistician                                                            3\n",
       "Senior Associate Scientist                                              3\n",
       "Data Analyst                                                            3\n",
       "Market Research Analyst                                                 3\n",
       "Research Technician                                                     3\n",
       "LIMS Senior Scientist                                                   2\n",
       "Frontend Software Engineer - UX Development and Design                  2\n",
       "Senior Technical Program Manager                                        2\n",
       "Data Analysis                                                           2\n",
       "Research Analyst 2 (Research and Quality Management Analyst)            2\n",
       "Sr. Java Software Engineer                                              2\n",
       "Research Analyst I                                                      2\n",
       "Director of Principal Gifts                                             2\n",
       "Laboratory Technician                                                   2\n",
       "ANATOMIC PATHOLOGY TECHNOLOGIST                                         2\n",
       "RD Scientist (Immunology and Bio-Markers)                               2\n",
       "Principal Data Scientist                                                2\n",
       "Research Analyst II                                                     2\n",
       "Sr. Statistical Analyst                                                 2\n",
       "                                                                     ... \n",
       "Senior Product Manager - Technical                                      1\n",
       "Scientist, Process Engineering (Drug Product)                           1\n",
       "Sr. Analyst- Advanced Analytics                                         1\n",
       "Engineer - Software 1                                                   1\n",
       "Editorial Project Manager                                               1\n",
       "Data Scientist – Predictive/Statistical                                 1\n",
       "Global Statistical Programmer                                           1\n",
       "Property Accounting / Management Specialist                             1\n",
       "Jr. IT Professional - Early Career                                      1\n",
       "Engineering Scientist                                                   1\n",
       "Data Control Assistant                                                  1\n",
       "Senior Computational Scientist (Deep Learning)                          1\n",
       "Mechanical Ground Support Equipment (GSE) Project Engineer              1\n",
       "Sr. Utility Operator 1                                                  1\n",
       "R&D Software Engineer                                                   1\n",
       "Scientist- Pathology Specialty Analyses - South San Francisco           1\n",
       "UI Engineer                                                             1\n",
       "Research Nurse Practitioner                                             1\n",
       "Data Analysis Coordinator                                               1\n",
       "Associate Scientist II, Technical Development                           1\n",
       "Hadoop Middleware Engineer                                              1\n",
       "Business Intel Engineer                                                 1\n",
       "Project Manager                                                         1\n",
       "Data Scientist- Business Analytics                                      1\n",
       "TECHNICAL RESEARCH ASSISTANT II / 40 HOURS / DAY / BWH - NEUROLOGY      1\n",
       "Research Assistant I (ROS)                                              1\n",
       "Market Research Data Analyst                                            1\n",
       "RF Threat Analyst                                                       1\n",
       "Scientist – Immuno-Oncology Biomarkers                                  1\n",
       "Acute Care Nurse Practitioner, Surgery                                  1\n",
       "Name: job_title, dtype: int64"
      ]
     },
     "execution_count": 40,
     "metadata": {},
     "output_type": "execute_result"
    }
   ],
   "source": [
    "job_data['job_title'].value_counts(ascending=False)"
   ]
  },
  {
   "cell_type": "code",
   "execution_count": 41,
   "metadata": {
    "collapsed": false
   },
   "outputs": [
    {
     "data": {
      "text/plain": [
       "Walmart eCommerce                                        104\n",
       "Novetta                                                  101\n",
       "Syntelli Solutions, Inc                                  100\n",
       "Indeed                                                   100\n",
       "RS Energy Group                                           99\n",
       "IBM                                                       34\n",
       "Amgen                                                     18\n",
       "Amazon Corporate LLC                                      15\n",
       "P&G                                                       11\n",
       "Ball Aerospace                                            10\n",
       "Weill Cornell Medical College                              9\n",
       "The Aerospace Corporation                                  9\n",
       "Merck                                                      8\n",
       "ICF                                                        8\n",
       "BOEING                                                     8\n",
       "Ochsner Health System                                      7\n",
       "General Electric                                           7\n",
       "Microsoft                                                  6\n",
       "Lawrence Livermore National Laboratory                     6\n",
       "AstraZeneca                                                6\n",
       "Fred Hutchinson Cancer Research Center                     5\n",
       "Mount Sinai Health System                                  5\n",
       "AbbVie                                                     5\n",
       "Kaiser Permanente                                          5\n",
       "Oracle                                                     5\n",
       "Altair Engineering                                         5\n",
       "University of Chicago                                      4\n",
       "Booz Allen Hamilton                                        4\n",
       "Apple                                                      4\n",
       "Centers for Disease Control and Prevention                 4\n",
       "                                                        ... \n",
       "Adadyn                                                     1\n",
       "EFRO Staffing                                              1\n",
       "CSSI, Inc.                                                 1\n",
       "Orange County Fire Resue Department                        1\n",
       "University of Pennsylvania                                 1\n",
       "Eli Lilly                                                  1\n",
       "Mountain Limited                                           1\n",
       "Damco Solutions                                            1\n",
       "Columbus Urban League                                      1\n",
       "Intel                                                      1\n",
       "Hart                                                       1\n",
       "Weebly                                                     1\n",
       "The Sun Products Corporation                               1\n",
       "L-3 Communications                                         1\n",
       "Mayo Clinic                                                1\n",
       "Jazz Pharmaceuticals                                       1\n",
       "Weatherford                                                1\n",
       "University of California San Francisco Medical Cen...      1\n",
       "Kantar Millward Brown                                      1\n",
       "SLAC National Accelerator Laboratory                       1\n",
       "Parallel Partners                                          1\n",
       "FDH VELOCITEL                                              1\n",
       "Lonza                                                      1\n",
       "Integrated DNA Technologies, Inc                           1\n",
       "Cargill                                                    1\n",
       "LogMeIn, Inc.                                              1\n",
       "Hedge Trackers                                             1\n",
       "PNC Bank                                                   1\n",
       "Cabot Microelectronics                                     1\n",
       "Placed                                                     1\n",
       "Name: company_name, dtype: int64"
      ]
     },
     "execution_count": 41,
     "metadata": {},
     "output_type": "execute_result"
    }
   ],
   "source": [
    "job_data['company_name'].value_counts(ascending=False)"
   ]
  },
  {
   "cell_type": "code",
   "execution_count": 42,
   "metadata": {
    "collapsed": false
   },
   "outputs": [
    {
     "data": {
      "text/plain": [
       "Austin, TX 78731                                     102\n",
       "Plymouth Meeting, PA                                 101\n",
       "San Bruno, CA 94066                                  101\n",
       "Charlotte, NC 28277                                  100\n",
       "Crystal City, VA                                     100\n",
       "New York, NY                                          51\n",
       "Seattle, WA                                           26\n",
       "United States                                         21\n",
       "San Francisco, CA                                     21\n",
       "Chicago, IL                                           17\n",
       "Cambridge, MA                                         17\n",
       "Atlanta, GA                                           17\n",
       "Cambridge, MA 02142 (East Cambridge area)             16\n",
       "Boston, MA                                            14\n",
       "Cincinnati, OH                                        13\n",
       "Washington, DC                                        13\n",
       "Los Angeles, CA                                       12\n",
       "San Diego, CA                                         11\n",
       "Austin, TX                                            10\n",
       "South San Francisco, CA 94080                         10\n",
       "Redmond, WA 98052                                      9\n",
       "Redwood City, CA                                       9\n",
       "El Segundo, CA 90245                                   8\n",
       "San Jose, CA                                           8\n",
       "Houston, TX                                            8\n",
       "Sunnyvale, CA                                          8\n",
       "Reston, VA                                             8\n",
       "Philadelphia, PA                                       8\n",
       "Gaithersburg, MD                                       6\n",
       "New Orleans, LA                                        6\n",
       "                                                    ... \n",
       "Bellevue, WA 98004 (Downtown area)                     1\n",
       "Chantilly, VA 20151                                    1\n",
       "San Francisco, CA 94124 (Bayview area)                 1\n",
       "Phoenix, AZ 85013 (Alhambra area)                      1\n",
       "Santa Rosa, CA 95405                                   1\n",
       "New Hope, MN                                           1\n",
       "Lexington, KY 40507 (Central Downtown area)            1\n",
       "Charleroi, PA 15022                                    1\n",
       "Winter Park, FL                                        1\n",
       "Westford, MA 01886                                     1\n",
       "Philadelphia, PA 19103 (Belmont area)                  1\n",
       "Palo Alto, CA 94301 (Professorville area)              1\n",
       "San Francisco, CA 94105 (Financial District area)      1\n",
       "Fremont, CA 94537 (Cabrillo area)                      1\n",
       "Tucson, AZ 85756                                       1\n",
       "Blacksburg, VA                                         1\n",
       "Mountain View, CA 94039                                1\n",
       "West Chester, PA                                       1\n",
       "Boulder, CO 80301                                      1\n",
       "Upper Providence, PA                                   1\n",
       "Burbank, CA                                            1\n",
       "Charlotte, NC                                          1\n",
       "Ephrata, PA                                            1\n",
       "West Point, PA                                         1\n",
       "Newark, DE 19702                                       1\n",
       "Evanston, IL                                           1\n",
       "New York, NY 10285 (Battery Park area)                 1\n",
       "Centennial, CO                                         1\n",
       "Alexandria, VA 22304 (Seminary Hill area)              1\n",
       "Roanoke, VA                                            1\n",
       "Name: job_location, dtype: int64"
      ]
     },
     "execution_count": 42,
     "metadata": {},
     "output_type": "execute_result"
    }
   ],
   "source": [
    "job_data['job_location'].value_counts(ascending=False)"
   ]
  },
  {
   "cell_type": "code",
   "execution_count": 43,
   "metadata": {
    "collapsed": false
   },
   "outputs": [
    {
     "data": {
      "text/html": [
       "<div>\n",
       "<table border=\"1\" class=\"dataframe\">\n",
       "  <thead>\n",
       "    <tr style=\"text-align: right;\">\n",
       "      <th></th>\n",
       "      <th>company_link</th>\n",
       "      <th>company_name</th>\n",
       "      <th>job_link</th>\n",
       "      <th>job_location</th>\n",
       "      <th>job_summary</th>\n",
       "      <th>job_title</th>\n",
       "      <th>state</th>\n",
       "    </tr>\n",
       "  </thead>\n",
       "  <tbody>\n",
       "    <tr>\n",
       "      <th>0</th>\n",
       "      <td>NaN</td>\n",
       "      <td>TechStratium Inc.</td>\n",
       "      <td>http://www.indeed.com/company/TechStratium-Inc...</td>\n",
       "      <td>Baltimore, MD</td>\n",
       "      <td>Experience with data visualization of insights...</td>\n",
       "      <td>Data Scientist</td>\n",
       "      <td>MD</td>\n",
       "    </tr>\n",
       "    <tr>\n",
       "      <th>1</th>\n",
       "      <td>http://www.indeed.com/cmp/Akamai-Technologies</td>\n",
       "      <td>Akamai</td>\n",
       "      <td>http://www.indeed.com/rc/clk?jk=af5d288afac40e...</td>\n",
       "      <td>Santa Clara, CA</td>\n",
       "      <td>Masters or higher degree in applied math, stat...</td>\n",
       "      <td>Data Scientist..</td>\n",
       "      <td>CA</td>\n",
       "    </tr>\n",
       "    <tr>\n",
       "      <th>2</th>\n",
       "      <td>http://www.indeed.com/cmp/SAS-Institute</td>\n",
       "      <td>SAS Institute</td>\n",
       "      <td>http://www.indeed.com/rc/clk?jk=ea7f95b2729e4d...</td>\n",
       "      <td>Cary, NC</td>\n",
       "      <td>We work closely with deep learning scientists,...</td>\n",
       "      <td>Data Scientist - Speech-to-Text NLP</td>\n",
       "      <td>NC</td>\n",
       "    </tr>\n",
       "    <tr>\n",
       "      <th>3</th>\n",
       "      <td>http://www.indeed.com/cmp/Blackrock-Inc.</td>\n",
       "      <td>BlackRock</td>\n",
       "      <td>http://www.indeed.com/rc/clk?jk=e4ae3d5a0b7c91...</td>\n",
       "      <td>New York, NY 10001 (Chelsea area)</td>\n",
       "      <td>We are looking for a data scientist with advan...</td>\n",
       "      <td>People Analytics &amp; Research Data Scientist</td>\n",
       "      <td>NY</td>\n",
       "    </tr>\n",
       "    <tr>\n",
       "      <th>4</th>\n",
       "      <td>http://www.indeed.com/cmp/Mylan</td>\n",
       "      <td>Mylan</td>\n",
       "      <td>http://www.indeed.com/rc/clk?jk=a7a674d907efbd...</td>\n",
       "      <td>Morgantown, WV</td>\n",
       "      <td>Support initiatives including programming in t...</td>\n",
       "      <td>Intern, Statistical Programmer</td>\n",
       "      <td>WV</td>\n",
       "    </tr>\n",
       "  </tbody>\n",
       "</table>\n",
       "</div>"
      ],
      "text/plain": [
       "                                    company_link       company_name  \\\n",
       "0                                            NaN  TechStratium Inc.   \n",
       "1  http://www.indeed.com/cmp/Akamai-Technologies             Akamai   \n",
       "2        http://www.indeed.com/cmp/SAS-Institute      SAS Institute   \n",
       "3       http://www.indeed.com/cmp/Blackrock-Inc.          BlackRock   \n",
       "4                http://www.indeed.com/cmp/Mylan              Mylan   \n",
       "\n",
       "                                            job_link  \\\n",
       "0  http://www.indeed.com/company/TechStratium-Inc...   \n",
       "1  http://www.indeed.com/rc/clk?jk=af5d288afac40e...   \n",
       "2  http://www.indeed.com/rc/clk?jk=ea7f95b2729e4d...   \n",
       "3  http://www.indeed.com/rc/clk?jk=e4ae3d5a0b7c91...   \n",
       "4  http://www.indeed.com/rc/clk?jk=a7a674d907efbd...   \n",
       "\n",
       "                        job_location  \\\n",
       "0                      Baltimore, MD   \n",
       "1                    Santa Clara, CA   \n",
       "2                           Cary, NC   \n",
       "3  New York, NY 10001 (Chelsea area)   \n",
       "4                     Morgantown, WV   \n",
       "\n",
       "                                         job_summary  \\\n",
       "0  Experience with data visualization of insights...   \n",
       "1  Masters or higher degree in applied math, stat...   \n",
       "2  We work closely with deep learning scientists,...   \n",
       "3  We are looking for a data scientist with advan...   \n",
       "4  Support initiatives including programming in t...   \n",
       "\n",
       "                                    job_title state  \n",
       "0                              Data Scientist    MD  \n",
       "1                            Data Scientist..    CA  \n",
       "2         Data Scientist - Speech-to-Text NLP    NC  \n",
       "3  People Analytics & Research Data Scientist    NY  \n",
       "4              Intern, Statistical Programmer    WV  "
      ]
     },
     "execution_count": 43,
     "metadata": {},
     "output_type": "execute_result"
    }
   ],
   "source": [
    "job_data['state'] = job_data['job_location'].str.extract(', (\\w{2})', expand=False)\n",
    "job_data.head()"
   ]
  },
  {
   "cell_type": "code",
   "execution_count": 44,
   "metadata": {
    "collapsed": false
   },
   "outputs": [
    {
     "data": {
      "image/png": "[encoded data removed]",
      "text/plain": [
       "<matplotlib.figure.Figure at 0x108c1eba8>"
      ]
     },
     "metadata": {},
     "output_type": "display_data"
    }
   ],
   "source": [
    "ax = job_data['state'].value_counts(ascending=True).plot(kind=\"barh\", figsize=(10,10), xlim=(0,450))\n",
    "# add counts as annotations\n",
    "# http://stackoverflow.com/questions/23591254/python-pandas-matplotlib-annotating-labels-above-bar-chart-columns\n",
    "for p in ax.patches:\n",
    "    ax.annotate(\"%d\" % p.get_width(), (p.get_x() + p.get_width(), p.get_y()), xytext=(0, 0), textcoords='offset points')"
   ]
  },
  {
   "cell_type": "code",
   "execution_count": 45,
   "metadata": {
    "collapsed": false
   },
   "outputs": [
    {
     "data": {
      "text/html": [
       "<div>\n",
       "<table border=\"1\" class=\"dataframe\">\n",
       "  <thead>\n",
       "    <tr style=\"text-align: right;\">\n",
       "      <th></th>\n",
       "      <th>company_link</th>\n",
       "      <th>company_name</th>\n",
       "      <th>job_link</th>\n",
       "      <th>job_location</th>\n",
       "      <th>job_summary</th>\n",
       "      <th>job_title</th>\n",
       "      <th>state</th>\n",
       "    </tr>\n",
       "  </thead>\n",
       "  <tbody>\n",
       "    <tr>\n",
       "      <th>67</th>\n",
       "      <td>http://www.indeed.com/cmp/University-of-Pittsb...</td>\n",
       "      <td>The University of Pittsburgh</td>\n",
       "      <td>http://www.indeed.com/rc/clk?jk=a2864d8177a792...</td>\n",
       "      <td>Pittsburgh, PA</td>\n",
       "      <td>The CCR is comprised of a diverse team of Clin...</td>\n",
       "      <td>Research Technician</td>\n",
       "      <td>PA</td>\n",
       "    </tr>\n",
       "    <tr>\n",
       "      <th>255</th>\n",
       "      <td>NaN</td>\n",
       "      <td>kWantera</td>\n",
       "      <td>http://www.indeed.com/rc/clk?jk=7568b804290e9c...</td>\n",
       "      <td>Pittsburgh, PA 15222 (Strip District area)</td>\n",
       "      <td>Past experience collaborating with data scient...</td>\n",
       "      <td>Data Engineer</td>\n",
       "      <td>PA</td>\n",
       "    </tr>\n",
       "    <tr>\n",
       "      <th>638</th>\n",
       "      <td>http://www.indeed.com/cmp/Pnc-Bank</td>\n",
       "      <td>PNC Bank</td>\n",
       "      <td>http://www.indeed.com/rc/clk?jk=9762b3594410c0...</td>\n",
       "      <td>Pittsburgh, PA</td>\n",
       "      <td>The preferred candidate will have experience w...</td>\n",
       "      <td>Quantitative Analytics &amp; Model Development Ana...</td>\n",
       "      <td>PA</td>\n",
       "    </tr>\n",
       "    <tr>\n",
       "      <th>1464</th>\n",
       "      <td>NaN</td>\n",
       "      <td>DBD Staffing</td>\n",
       "      <td>http://www.indeed.com/company/DBD-Staffing/job...</td>\n",
       "      <td>Pittsburgh, PA</td>\n",
       "      <td>Manage data analysis support for segment targe...</td>\n",
       "      <td>Statistical Marketing Analyst</td>\n",
       "      <td>PA</td>\n",
       "    </tr>\n",
       "  </tbody>\n",
       "</table>\n",
       "</div>"
      ],
      "text/plain": [
       "                                           company_link  \\\n",
       "67    http://www.indeed.com/cmp/University-of-Pittsb...   \n",
       "255                                                 NaN   \n",
       "638                  http://www.indeed.com/cmp/Pnc-Bank   \n",
       "1464                                                NaN   \n",
       "\n",
       "                      company_name  \\\n",
       "67    The University of Pittsburgh   \n",
       "255                       kWantera   \n",
       "638                       PNC Bank   \n",
       "1464                  DBD Staffing   \n",
       "\n",
       "                                               job_link  \\\n",
       "67    http://www.indeed.com/rc/clk?jk=a2864d8177a792...   \n",
       "255   http://www.indeed.com/rc/clk?jk=7568b804290e9c...   \n",
       "638   http://www.indeed.com/rc/clk?jk=9762b3594410c0...   \n",
       "1464  http://www.indeed.com/company/DBD-Staffing/job...   \n",
       "\n",
       "                                    job_location  \\\n",
       "67                                Pittsburgh, PA   \n",
       "255   Pittsburgh, PA 15222 (Strip District area)   \n",
       "638                               Pittsburgh, PA   \n",
       "1464                              Pittsburgh, PA   \n",
       "\n",
       "                                            job_summary  \\\n",
       "67    The CCR is comprised of a diverse team of Clin...   \n",
       "255   Past experience collaborating with data scient...   \n",
       "638   The preferred candidate will have experience w...   \n",
       "1464  Manage data analysis support for segment targe...   \n",
       "\n",
       "                                              job_title state  \n",
       "67                                  Research Technician    PA  \n",
       "255                                       Data Engineer    PA  \n",
       "638   Quantitative Analytics & Model Development Ana...    PA  \n",
       "1464                      Statistical Marketing Analyst    PA  "
      ]
     },
     "execution_count": 45,
     "metadata": {},
     "output_type": "execute_result"
    }
   ],
   "source": [
    "job_data[job_data['job_location'].str.contains(\"Pittsburgh\")]"
   ]
  },
  {
   "cell_type": "markdown",
   "metadata": {},
   "source": [
    "## Analyzing Company Information"
   ]
  },
  {
   "cell_type": "code",
   "execution_count": 46,
   "metadata": {
    "collapsed": false
   },
   "outputs": [
    {
     "data": {
      "text/html": [
       "<div>\n",
       "<table border=\"1\" class=\"dataframe\">\n",
       "  <thead>\n",
       "    <tr style=\"text-align: right;\">\n",
       "      <th></th>\n",
       "      <th>compensation_benefits_rating</th>\n",
       "      <th>culture_rating</th>\n",
       "      <th>js_advancement_rating</th>\n",
       "      <th>management_rating</th>\n",
       "      <th>overall_rating</th>\n",
       "      <th>url</th>\n",
       "      <th>wl_balanace_rating</th>\n",
       "    </tr>\n",
       "  </thead>\n",
       "  <tbody>\n",
       "    <tr>\n",
       "      <th>0</th>\n",
       "      <td>3.9</td>\n",
       "      <td>3.5</td>\n",
       "      <td>3.3</td>\n",
       "      <td>3.4</td>\n",
       "      <td>3.9</td>\n",
       "      <td>http://www.indeed.com/cmp/Population-Council</td>\n",
       "      <td>3.8</td>\n",
       "    </tr>\n",
       "    <tr>\n",
       "      <th>1</th>\n",
       "      <td>3.6</td>\n",
       "      <td>3.8</td>\n",
       "      <td>3.2</td>\n",
       "      <td>3.9</td>\n",
       "      <td>4.0</td>\n",
       "      <td>http://www.indeed.com/cmp/Ensco,-Inc.</td>\n",
       "      <td>4.1</td>\n",
       "    </tr>\n",
       "    <tr>\n",
       "      <th>2</th>\n",
       "      <td>3.9</td>\n",
       "      <td>3.6</td>\n",
       "      <td>3.3</td>\n",
       "      <td>3.4</td>\n",
       "      <td>3.8</td>\n",
       "      <td>http://www.indeed.com/cmp/General-Dynamics-Inf...</td>\n",
       "      <td>3.7</td>\n",
       "    </tr>\n",
       "    <tr>\n",
       "      <th>3</th>\n",
       "      <td>3.2</td>\n",
       "      <td>3.8</td>\n",
       "      <td>2.9</td>\n",
       "      <td>3.4</td>\n",
       "      <td>3.5</td>\n",
       "      <td>http://www.indeed.com/cmp/Mintel</td>\n",
       "      <td>3.7</td>\n",
       "    </tr>\n",
       "    <tr>\n",
       "      <th>4</th>\n",
       "      <td>3.8</td>\n",
       "      <td>3.8</td>\n",
       "      <td>3.6</td>\n",
       "      <td>3.5</td>\n",
       "      <td>4.0</td>\n",
       "      <td>http://www.indeed.com/cmp/ADP</td>\n",
       "      <td>3.8</td>\n",
       "    </tr>\n",
       "  </tbody>\n",
       "</table>\n",
       "</div>"
      ],
      "text/plain": [
       "   compensation_benefits_rating  culture_rating  js_advancement_rating  \\\n",
       "0                           3.9             3.5                    3.3   \n",
       "1                           3.6             3.8                    3.2   \n",
       "2                           3.9             3.6                    3.3   \n",
       "3                           3.2             3.8                    2.9   \n",
       "4                           3.8             3.8                    3.6   \n",
       "\n",
       "   management_rating  overall_rating  \\\n",
       "0                3.4             3.9   \n",
       "1                3.9             4.0   \n",
       "2                3.4             3.8   \n",
       "3                3.4             3.5   \n",
       "4                3.5             4.0   \n",
       "\n",
       "                                                 url  wl_balanace_rating  \n",
       "0       http://www.indeed.com/cmp/Population-Council                 3.8  \n",
       "1              http://www.indeed.com/cmp/Ensco,-Inc.                 4.1  \n",
       "2  http://www.indeed.com/cmp/General-Dynamics-Inf...                 3.7  \n",
       "3                   http://www.indeed.com/cmp/Mintel                 3.7  \n",
       "4                      http://www.indeed.com/cmp/ADP                 3.8  "
      ]
     },
     "execution_count": 46,
     "metadata": {},
     "output_type": "execute_result"
    }
   ],
   "source": [
    "company_data = pd.read_csv(\"company-data.csv\")\n",
    "company_data.head()"
   ]
  },
  {
   "cell_type": "code",
   "execution_count": 47,
   "metadata": {
    "collapsed": false
   },
   "outputs": [
    {
     "data": {
      "text/plain": [
       "compensation_benefits_rating    float64\n",
       "culture_rating                  float64\n",
       "js_advancement_rating           float64\n",
       "management_rating               float64\n",
       "overall_rating                  float64\n",
       "url                              object\n",
       "wl_balanace_rating              float64\n",
       "dtype: object"
      ]
     },
     "execution_count": 47,
     "metadata": {},
     "output_type": "execute_result"
    }
   ],
   "source": [
    "company_data.dtypes"
   ]
  },
  {
   "cell_type": "code",
   "execution_count": 48,
   "metadata": {
    "collapsed": false
   },
   "outputs": [
    {
     "data": {
      "text/plain": [
       "(399, 7)"
      ]
     },
     "execution_count": 48,
     "metadata": {},
     "output_type": "execute_result"
    }
   ],
   "source": [
    "company_data.shape"
   ]
  },
  {
   "cell_type": "code",
   "execution_count": 49,
   "metadata": {
    "collapsed": false
   },
   "outputs": [
    {
     "data": {
      "text/html": [
       "<div>\n",
       "<table border=\"1\" class=\"dataframe\">\n",
       "  <thead>\n",
       "    <tr style=\"text-align: right;\">\n",
       "      <th></th>\n",
       "      <th>compensation_benefits_rating</th>\n",
       "      <th>culture_rating</th>\n",
       "      <th>js_advancement_rating</th>\n",
       "      <th>management_rating</th>\n",
       "      <th>overall_rating</th>\n",
       "      <th>wl_balanace_rating</th>\n",
       "    </tr>\n",
       "  </thead>\n",
       "  <tbody>\n",
       "    <tr>\n",
       "      <th>count</th>\n",
       "      <td>399.000000</td>\n",
       "      <td>399.000000</td>\n",
       "      <td>399.000000</td>\n",
       "      <td>399.000000</td>\n",
       "      <td>399.000000</td>\n",
       "      <td>399.000000</td>\n",
       "    </tr>\n",
       "    <tr>\n",
       "      <th>mean</th>\n",
       "      <td>3.701504</td>\n",
       "      <td>3.680201</td>\n",
       "      <td>3.342607</td>\n",
       "      <td>3.421805</td>\n",
       "      <td>3.883208</td>\n",
       "      <td>3.782206</td>\n",
       "    </tr>\n",
       "    <tr>\n",
       "      <th>std</th>\n",
       "      <td>0.480941</td>\n",
       "      <td>0.486898</td>\n",
       "      <td>0.510532</td>\n",
       "      <td>0.502807</td>\n",
       "      <td>0.438297</td>\n",
       "      <td>0.488315</td>\n",
       "    </tr>\n",
       "    <tr>\n",
       "      <th>min</th>\n",
       "      <td>2.000000</td>\n",
       "      <td>1.600000</td>\n",
       "      <td>1.500000</td>\n",
       "      <td>1.500000</td>\n",
       "      <td>1.700000</td>\n",
       "      <td>1.000000</td>\n",
       "    </tr>\n",
       "    <tr>\n",
       "      <th>25%</th>\n",
       "      <td>3.400000</td>\n",
       "      <td>3.400000</td>\n",
       "      <td>3.100000</td>\n",
       "      <td>3.200000</td>\n",
       "      <td>3.700000</td>\n",
       "      <td>3.550000</td>\n",
       "    </tr>\n",
       "    <tr>\n",
       "      <th>50%</th>\n",
       "      <td>3.800000</td>\n",
       "      <td>3.700000</td>\n",
       "      <td>3.400000</td>\n",
       "      <td>3.400000</td>\n",
       "      <td>4.000000</td>\n",
       "      <td>3.800000</td>\n",
       "    </tr>\n",
       "    <tr>\n",
       "      <th>75%</th>\n",
       "      <td>4.000000</td>\n",
       "      <td>4.000000</td>\n",
       "      <td>3.600000</td>\n",
       "      <td>3.700000</td>\n",
       "      <td>4.200000</td>\n",
       "      <td>4.100000</td>\n",
       "    </tr>\n",
       "    <tr>\n",
       "      <th>max</th>\n",
       "      <td>5.000000</td>\n",
       "      <td>5.000000</td>\n",
       "      <td>5.000000</td>\n",
       "      <td>5.000000</td>\n",
       "      <td>5.000000</td>\n",
       "      <td>5.000000</td>\n",
       "    </tr>\n",
       "  </tbody>\n",
       "</table>\n",
       "</div>"
      ],
      "text/plain": [
       "       compensation_benefits_rating  culture_rating  js_advancement_rating  \\\n",
       "count                    399.000000      399.000000             399.000000   \n",
       "mean                       3.701504        3.680201               3.342607   \n",
       "std                        0.480941        0.486898               0.510532   \n",
       "min                        2.000000        1.600000               1.500000   \n",
       "25%                        3.400000        3.400000               3.100000   \n",
       "50%                        3.800000        3.700000               3.400000   \n",
       "75%                        4.000000        4.000000               3.600000   \n",
       "max                        5.000000        5.000000               5.000000   \n",
       "\n",
       "       management_rating  overall_rating  wl_balanace_rating  \n",
       "count         399.000000      399.000000          399.000000  \n",
       "mean            3.421805        3.883208            3.782206  \n",
       "std             0.502807        0.438297            0.488315  \n",
       "min             1.500000        1.700000            1.000000  \n",
       "25%             3.200000        3.700000            3.550000  \n",
       "50%             3.400000        4.000000            3.800000  \n",
       "75%             3.700000        4.200000            4.100000  \n",
       "max             5.000000        5.000000            5.000000  "
      ]
     },
     "execution_count": 49,
     "metadata": {},
     "output_type": "execute_result"
    }
   ],
   "source": [
    "company_data.describe()"
   ]
  },
  {
   "cell_type": "code",
   "execution_count": 50,
   "metadata": {
    "collapsed": false
   },
   "outputs": [
    {
     "data": {
      "text/plain": [
       "<matplotlib.axes._subplots.AxesSubplot at 0x1068bc8d0>"
      ]
     },
     "execution_count": 50,
     "metadata": {},
     "output_type": "execute_result"
    },
    {
     "data": {
      "image/png": "[encoded data removed]",
      "text/plain": [
       "<matplotlib.figure.Figure at 0x10415f9b0>"
      ]
     },
     "metadata": {},
     "output_type": "display_data"
    }
   ],
   "source": [
    "company_data['overall_rating'].hist()"
   ]
  },
  {
   "cell_type": "code",
   "execution_count": 51,
   "metadata": {
    "collapsed": false
   },
   "outputs": [
    {
     "data": {
      "text/plain": [
       "<matplotlib.axes._subplots.AxesSubplot at 0x10863ccc0>"
      ]
     },
     "execution_count": 51,
     "metadata": {},
     "output_type": "execute_result"
    },
    {
     "data": {
      "image/png": "[encoded data removed]",
      "text/plain": [
       "<matplotlib.figure.Figure at 0x104154ef0>"
      ]
     },
     "metadata": {},
     "output_type": "display_data"
    }
   ],
   "source": [
    "company_data['culture_rating'].hist()"
   ]
  },
  {
   "cell_type": "code",
   "execution_count": 52,
   "metadata": {
    "collapsed": false
   },
   "outputs": [
    {
     "data": {
      "text/plain": [
       "<matplotlib.axes._subplots.AxesSubplot at 0x108661048>"
      ]
     },
     "execution_count": 52,
     "metadata": {},
     "output_type": "execute_result"
    },
    {
     "data": {
      "image/png": "[encoded data removed]",
      "text/plain": [
       "<matplotlib.figure.Figure at 0x1041aff98>"
      ]
     },
     "metadata": {},
     "output_type": "display_data"
    }
   ],
   "source": [
    "company_data['compensation_benefits_rating'].hist()"
   ]
  },
  {
   "cell_type": "code",
   "execution_count": 53,
   "metadata": {
    "collapsed": false
   },
   "outputs": [
    {
     "data": {
      "text/plain": [
       "<matplotlib.axes._subplots.AxesSubplot at 0x1068b9208>"
      ]
     },
     "execution_count": 53,
     "metadata": {},
     "output_type": "execute_result"
    },
    {
     "data": {
      "image/png": "[encoded data removed]",
      "text/plain": [
       "<matplotlib.figure.Figure at 0x108803eb8>"
      ]
     },
     "metadata": {},
     "output_type": "display_data"
    }
   ],
   "source": [
    "company_data['management_rating'].hist()"
   ]
  },
  {
   "cell_type": "code",
   "execution_count": 54,
   "metadata": {
    "collapsed": false
   },
   "outputs": [
    {
     "data": {
      "text/plain": [
       "<matplotlib.axes._subplots.AxesSubplot at 0x108835ba8>"
      ]
     },
     "execution_count": 54,
     "metadata": {},
     "output_type": "execute_result"
    },
    {
     "data": {
      "image/png": "[encoded data removed]",
      "text/plain": [
       "<matplotlib.figure.Figure at 0x10872c668>"
      ]
     },
     "metadata": {},
     "output_type": "display_data"
    }
   ],
   "source": [
    "company_data['js_advancement_rating'].hist()"
   ]
  },
  {
   "cell_type": "code",
   "execution_count": null,
   "metadata": {
    "collapsed": true
   },
   "outputs": [],
   "source": [
    " "
   ]
  }
 ],
 "metadata": {
  "kernelspec": {
   "display_name": "Jupyter Env",
   "language": "python",
   "name": "jupyter"
  },
  "language_info": {
   "codemirror_mode": {
    "name": "ipython",
    "version": 3
   },
   "file_extension": ".py",
   "mimetype": "text/x-python",
   "name": "python",
   "nbconvert_exporter": "python",
   "pygments_lexer": "ipython3",
   "version": "3.4.2"
  }
 },
 "nbformat": 4,
 "nbformat_minor": 2
}
